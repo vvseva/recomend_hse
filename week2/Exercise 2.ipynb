{
 "cells": [
  {
   "cell_type": "markdown",
   "metadata": {
    "collapsed": true
   },
   "source": [
    "Примеры составлены по мотивам главы 2 книги Т.Сегаран \"Программируем коллективный разум\" http://www.symbol.ru/alphabet/613828.html\n",
    "\n",
    "\n",
    "\n",
    "\n"
   ]
  },
  {
   "cell_type": "markdown",
   "metadata": {},
   "source": [
    "## Словарь с предпочтениями пользователи-фильмы"
   ]
  },
  {
   "cell_type": "code",
   "execution_count": 2,
   "outputs": [],
   "source": [
    "import numpy as np\n",
    "import pandas as pd\n",
    "from math import sqrt\n",
    "from numpy import exp\n",
    "from math import sqrt"
   ],
   "metadata": {
    "collapsed": false,
    "pycharm": {
     "name": "#%%\n"
    }
   }
  },
  {
   "cell_type": "code",
   "execution_count": 44,
   "metadata": {},
   "outputs": [],
   "source": [
    "# Словарь кинокритиков и выставленных ими оценок для небольшого набора\n",
    "# данных о фильмах\n",
    "critics={'Lisa Rose': {'Lady in the Water': 2.5, 'Snakes on a Plane': 3.5,\n",
    " 'Just My Luck': 3.0, 'Superman Returns': 3.5, 'You, Me and Dupree': 2.5, \n",
    " 'The Night Listener': 3.0},\n",
    "'Gene Seymour': {'Lady in the Water': 3.0, 'Snakes on a Plane': 3.5, \n",
    " 'Just My Luck': 1.5, 'Superman Returns': 5.0, 'The Night Listener': 3.0, \n",
    " 'You, Me and Dupree': 3.5}, \n",
    "'Michael Phillips': {'Lady in the Water': 2.5, 'Snakes on a Plane': 3.0,\n",
    " 'Superman Returns': 3.5, 'The Night Listener': 4.0},\n",
    "'Claudia Puig': {'Snakes on a Plane': 3.5, 'Just My Luck': 3.0,\n",
    " 'The Night Listener': 4.5, 'Superman Returns': 4.0, \n",
    " 'You, Me and Dupree': 2.5},\n",
    "'Mick LaSalle': {'Lady in the Water': 3.0, 'Snakes on a Plane': 4.0, \n",
    " 'Just My Luck': 2.0, 'Superman Returns': 3.0, 'The Night Listener': 3.0,\n",
    " 'You, Me and Dupree': 2.0}, \n",
    "'Jack Matthews': {'Lady in the Water': 3.0, 'Snakes on a Plane': 4.0,\n",
    " 'The Night Listener': 3.0, 'Superman Returns': 5.0, 'You, Me and Dupree': 3.5},\n",
    "'Toby': {'Snakes on a Plane':4.5,'You, Me and Dupree':1.0,'Superman Returns':4.0},\n",
    "'Monster':{'Snakes on a Plane':5,'You, Me and Dupree':5,'Superman Returns':5}}"
   ]
  },
  {
   "cell_type": "code",
   "execution_count": 4,
   "metadata": {},
   "outputs": [],
   "source": [
    "A=np.array(critics)"
   ]
  },
  {
   "cell_type": "code",
   "execution_count": 5,
   "metadata": {},
   "outputs": [
    {
     "data": {
      "text/plain": "                    Lisa Rose  Gene Seymour  Michael Phillips  Claudia Puig  \\\nLady in the Water         2.5           3.0               2.5           NaN   \nSnakes on a Plane         3.5           3.5               3.0           3.5   \nJust My Luck              3.0           1.5               NaN           3.0   \nSuperman Returns          3.5           5.0               3.5           4.0   \nYou, Me and Dupree        2.5           3.5               NaN           2.5   \nThe Night Listener        3.0           3.0               4.0           4.5   \n\n                    Mick LaSalle  Jack Matthews  Toby  \nLady in the Water            3.0            3.0   NaN  \nSnakes on a Plane            4.0            4.0   4.5  \nJust My Luck                 2.0            NaN   NaN  \nSuperman Returns             3.0            5.0   4.0  \nYou, Me and Dupree           2.0            3.5   1.0  \nThe Night Listener           3.0            3.0   NaN  ",
      "text/html": "<div>\n<style scoped>\n    .dataframe tbody tr th:only-of-type {\n        vertical-align: middle;\n    }\n\n    .dataframe tbody tr th {\n        vertical-align: top;\n    }\n\n    .dataframe thead th {\n        text-align: right;\n    }\n</style>\n<table border=\"1\" class=\"dataframe\">\n  <thead>\n    <tr style=\"text-align: right;\">\n      <th></th>\n      <th>Lisa Rose</th>\n      <th>Gene Seymour</th>\n      <th>Michael Phillips</th>\n      <th>Claudia Puig</th>\n      <th>Mick LaSalle</th>\n      <th>Jack Matthews</th>\n      <th>Toby</th>\n    </tr>\n  </thead>\n  <tbody>\n    <tr>\n      <th>Lady in the Water</th>\n      <td>2.5</td>\n      <td>3.0</td>\n      <td>2.5</td>\n      <td>NaN</td>\n      <td>3.0</td>\n      <td>3.0</td>\n      <td>NaN</td>\n    </tr>\n    <tr>\n      <th>Snakes on a Plane</th>\n      <td>3.5</td>\n      <td>3.5</td>\n      <td>3.0</td>\n      <td>3.5</td>\n      <td>4.0</td>\n      <td>4.0</td>\n      <td>4.5</td>\n    </tr>\n    <tr>\n      <th>Just My Luck</th>\n      <td>3.0</td>\n      <td>1.5</td>\n      <td>NaN</td>\n      <td>3.0</td>\n      <td>2.0</td>\n      <td>NaN</td>\n      <td>NaN</td>\n    </tr>\n    <tr>\n      <th>Superman Returns</th>\n      <td>3.5</td>\n      <td>5.0</td>\n      <td>3.5</td>\n      <td>4.0</td>\n      <td>3.0</td>\n      <td>5.0</td>\n      <td>4.0</td>\n    </tr>\n    <tr>\n      <th>You, Me and Dupree</th>\n      <td>2.5</td>\n      <td>3.5</td>\n      <td>NaN</td>\n      <td>2.5</td>\n      <td>2.0</td>\n      <td>3.5</td>\n      <td>1.0</td>\n    </tr>\n    <tr>\n      <th>The Night Listener</th>\n      <td>3.0</td>\n      <td>3.0</td>\n      <td>4.0</td>\n      <td>4.5</td>\n      <td>3.0</td>\n      <td>3.0</td>\n      <td>NaN</td>\n    </tr>\n  </tbody>\n</table>\n</div>"
     },
     "execution_count": 5,
     "metadata": {},
     "output_type": "execute_result"
    }
   ],
   "source": [
    "pd.DataFrame(critics)"
   ]
  },
  {
   "cell_type": "code",
   "execution_count": 20,
   "metadata": {},
   "outputs": [
    {
     "data": {
      "text/plain": "{'Snakes on a Plane': 4.5, 'You, Me and Dupree': 1.0, 'Superman Returns': 4.0}"
     },
     "execution_count": 20,
     "metadata": {},
     "output_type": "execute_result"
    }
   ],
   "source": [
    "critics['Toby']"
   ]
  },
  {
   "cell_type": "code",
   "execution_count": 21,
   "metadata": {},
   "outputs": [
    {
     "data": {
      "text/plain": "2.5"
     },
     "execution_count": 21,
     "metadata": {},
     "output_type": "execute_result"
    }
   ],
   "source": [
    "critics['Lisa Rose']['Lady in the Water']"
   ]
  },
  {
   "cell_type": "code",
   "execution_count": 23,
   "metadata": {},
   "outputs": [
    {
     "data": {
      "text/plain": "3.1622776601683795"
     },
     "execution_count": 23,
     "metadata": {},
     "output_type": "execute_result"
    }
   ],
   "source": [
    "#вычисление расстояния Евклида\n",
    "sqrt(pow(5-4,2)+pow(4-1,2))"
   ]
  },
  {
   "cell_type": "code",
   "execution_count": 24,
   "metadata": {},
   "outputs": [
    {
     "data": {
      "text/plain": "0.6666666666666666"
     },
     "execution_count": 24,
     "metadata": {},
     "output_type": "execute_result"
    }
   ],
   "source": [
    "#вычисление сходства\n",
    "1/(1+sqrt(pow(5-4.5,2)+pow(5-5,2)))"
   ]
  },
  {
   "cell_type": "code",
   "execution_count": 25,
   "metadata": {},
   "outputs": [
    {
     "data": {
      "text/plain": "0.8607079764250578"
     },
     "execution_count": 25,
     "metadata": {},
     "output_type": "execute_result"
    }
   ],
   "source": [
    "exp(-0.3*sqrt(pow(5-4.5,2)+pow(5-5,2)))"
   ]
  },
  {
   "cell_type": "code",
   "execution_count": 6,
   "metadata": {},
   "outputs": [],
   "source": [
    "from math import sqrt\n",
    "# Возвращает сходство person1 и person2 на основе расстояния\n",
    "def sim_distance(prefs,person1,person2):\n",
    "# Получить список предметов, оцененных обоими\n",
    "    si={}\n",
    "    for item in prefs[person1]:\n",
    "        if item in prefs[person2]:\n",
    "            si[item]=1\n",
    "# Если нет ни одной общей оценки, вернуть 0\n",
    "    if len(si)==0: return 0\n",
    "# Сложить квадраты разностей/\n",
    "    sum_of_squares=sum([pow(prefs[person1][item]-prefs[person2][item],2)\n",
    "    for item in prefs[person1] if item in prefs[person2]])\n",
    "    return 1/(1+sum_of_squares)"
   ]
  },
  {
   "cell_type": "code",
   "execution_count": 7,
   "metadata": {},
   "outputs": [],
   "source": [
    "# Возвращает сходство person1 и person2 на основе расстояния\n",
    "def sim_kernel(prefs,person1,person2,alpha=0.3):\n",
    "# Получить список предметов, оцененных обоими\n",
    "    si={}\n",
    "    for item in prefs[person1]:\n",
    "        if item in prefs[person2]:\n",
    "            si[item]=1\n",
    "# Если нет ни одной общей оценки, вернуть 0\n",
    "    if len(si)==0: return 0\n",
    "# Сложить квадраты разностей\n",
    "    sum_of_squares=sum([pow(prefs[person1][item]-prefs[person2][item],2)\n",
    "    for item in prefs[person1] if item in prefs[person2]])\n",
    "    return exp(-alpha*sum_of_squares)"
   ]
  },
  {
   "cell_type": "code",
   "execution_count": 8,
   "metadata": {},
   "outputs": [
    {
     "data": {
      "text/plain": "0.3499377491111553"
     },
     "execution_count": 8,
     "metadata": {},
     "output_type": "execute_result"
    }
   ],
   "source": [
    "sim_kernel(critics, 'Lisa Rose','Toby')"
   ]
  },
  {
   "cell_type": "code",
   "execution_count": 28,
   "metadata": {},
   "outputs": [
    {
     "data": {
      "text/plain": "0.2222222222222222"
     },
     "execution_count": 28,
     "metadata": {},
     "output_type": "execute_result"
    }
   ],
   "source": [
    "sim_distance(critics, 'Lisa Rose','Toby')"
   ]
  },
  {
   "cell_type": "code",
   "execution_count": 9,
   "metadata": {},
   "outputs": [],
   "source": [
    "# Возвращает коэффициент корреляции Пирсона между p1 и p2\n",
    "def sim_pearson(prefs,p1,p2):\n",
    "# Получить список предметов, оцененных обоими\n",
    "    si={}\n",
    "    for item in prefs[p1]: \n",
    "        if item in prefs[p2]: si[item]=1\n",
    "\n",
    "    # Если нет ни одной общей оценки, вернуть 0\n",
    "    if len(si)==0: return 0\n",
    "\n",
    "    # Количество соместно оцененных фильм\n",
    "    n=len(si)\n",
    "  \n",
    "    # Вычислить сумму всех предпочтений\n",
    "    sum1=sum([prefs[p1][it] for it in si])\n",
    "    sum2=sum([prefs[p2][it] for it in si])\n",
    "  \n",
    "    # Вычислить сумму квадратов\n",
    "    sum1Sq=sum([pow(prefs[p1][it],2) for it in si])\n",
    "    sum2Sq=sum([pow(prefs[p2][it],2) for it in si])\t\n",
    "  \n",
    "    # Вычислить сумму произведений\n",
    "    pSum=sum([prefs[p1][it]*prefs[p2][it] for it in si])\n",
    "  \n",
    "    # Вычислить коэффициент Пирсона\n",
    "    num=pSum-(sum1*sum2/n)\n",
    "    den=sqrt((sum1Sq-pow(sum1,2)/n)*(sum2Sq-pow(sum2,2)/n))\n",
    "    if den==0: return 0\n",
    "\n",
    "    r=num/den\n",
    "\n",
    "    return r"
   ]
  },
  {
   "cell_type": "code",
   "execution_count": 31,
   "metadata": {},
   "outputs": [
    {
     "data": {
      "text/plain": "(0.39605901719066977, 0.14814814814814814)"
     },
     "execution_count": 31,
     "metadata": {},
     "output_type": "execute_result"
    }
   ],
   "source": [
    "sim_pearson(critics,'Lisa Rose','Gene Seymour'), \\\n",
    "sim_distance(critics, 'Lisa Rose','Gene Seymour')\n",
    "\n"
   ]
  },
  {
   "cell_type": "markdown",
   "metadata": {},
   "source": [
    "Кроме приведенных выше мер сходства, часто используют косинусную схожесть, которая определяется как $$\\frac{(x,y)}{|x||y|},$$\n",
    "где $(x,y)$ -- скалярное произведение, а $|x|$ -- длина вектора $x$.\n",
    "Реализуйте функцию вычисляющую косинусную схожесть."
   ]
  },
  {
   "cell_type": "code",
   "execution_count": 10,
   "metadata": {},
   "outputs": [
    {
     "name": "stdout",
     "output_type": "stream",
     "text": [
      "0.9720951480078084\n"
     ]
    }
   ],
   "source": [
    "from numpy import dot\n",
    "from numpy.linalg import norm\n",
    "List1 = [4, 47, 8, 3]\n",
    "List2 = [3, 52, 12, 16]\n",
    "result = dot(List1, List2)/(norm(List1)*norm(List2))\n",
    "print(result)"
   ]
  },
  {
   "cell_type": "code",
   "execution_count": 40,
   "outputs": [
    {
     "data": {
      "text/plain": "                    Lisa Rose  Gene Seymour  Michael Phillips  Claudia Puig  \\\nLady in the Water         2.5           3.0               2.5           NaN   \nSnakes on a Plane         3.5           3.5               3.0           3.5   \nJust My Luck              3.0           1.5               NaN           3.0   \nSuperman Returns          3.5           5.0               3.5           4.0   \nYou, Me and Dupree        2.5           3.5               NaN           2.5   \nThe Night Listener        3.0           3.0               4.0           4.5   \n\n                    Mick LaSalle  Jack Matthews  Toby  \nLady in the Water            3.0            3.0   NaN  \nSnakes on a Plane            4.0            4.0   4.5  \nJust My Luck                 2.0            NaN   NaN  \nSuperman Returns             3.0            5.0   4.0  \nYou, Me and Dupree           2.0            3.5   1.0  \nThe Night Listener           3.0            3.0   NaN  ",
      "text/html": "<div>\n<style scoped>\n    .dataframe tbody tr th:only-of-type {\n        vertical-align: middle;\n    }\n\n    .dataframe tbody tr th {\n        vertical-align: top;\n    }\n\n    .dataframe thead th {\n        text-align: right;\n    }\n</style>\n<table border=\"1\" class=\"dataframe\">\n  <thead>\n    <tr style=\"text-align: right;\">\n      <th></th>\n      <th>Lisa Rose</th>\n      <th>Gene Seymour</th>\n      <th>Michael Phillips</th>\n      <th>Claudia Puig</th>\n      <th>Mick LaSalle</th>\n      <th>Jack Matthews</th>\n      <th>Toby</th>\n    </tr>\n  </thead>\n  <tbody>\n    <tr>\n      <th>Lady in the Water</th>\n      <td>2.5</td>\n      <td>3.0</td>\n      <td>2.5</td>\n      <td>NaN</td>\n      <td>3.0</td>\n      <td>3.0</td>\n      <td>NaN</td>\n    </tr>\n    <tr>\n      <th>Snakes on a Plane</th>\n      <td>3.5</td>\n      <td>3.5</td>\n      <td>3.0</td>\n      <td>3.5</td>\n      <td>4.0</td>\n      <td>4.0</td>\n      <td>4.5</td>\n    </tr>\n    <tr>\n      <th>Just My Luck</th>\n      <td>3.0</td>\n      <td>1.5</td>\n      <td>NaN</td>\n      <td>3.0</td>\n      <td>2.0</td>\n      <td>NaN</td>\n      <td>NaN</td>\n    </tr>\n    <tr>\n      <th>Superman Returns</th>\n      <td>3.5</td>\n      <td>5.0</td>\n      <td>3.5</td>\n      <td>4.0</td>\n      <td>3.0</td>\n      <td>5.0</td>\n      <td>4.0</td>\n    </tr>\n    <tr>\n      <th>You, Me and Dupree</th>\n      <td>2.5</td>\n      <td>3.5</td>\n      <td>NaN</td>\n      <td>2.5</td>\n      <td>2.0</td>\n      <td>3.5</td>\n      <td>1.0</td>\n    </tr>\n    <tr>\n      <th>The Night Listener</th>\n      <td>3.0</td>\n      <td>3.0</td>\n      <td>4.0</td>\n      <td>4.5</td>\n      <td>3.0</td>\n      <td>3.0</td>\n      <td>NaN</td>\n    </tr>\n  </tbody>\n</table>\n</div>"
     },
     "execution_count": 40,
     "metadata": {},
     "output_type": "execute_result"
    }
   ],
   "source": [
    "df_critics = pd.DataFrame(critics)\n",
    "df_critics"
   ],
   "metadata": {
    "collapsed": false,
    "pycharm": {
     "name": "#%%\n"
    }
   }
  },
  {
   "cell_type": "code",
   "execution_count": 11,
   "outputs": [
    {
     "data": {
      "text/plain": "0.9606463013980241"
     },
     "execution_count": 11,
     "metadata": {},
     "output_type": "execute_result"
    }
   ],
   "source": [
    "def cosine_sim(dict, user_1, user_2):\n",
    "    df = pd.DataFrame(dict)\n",
    "    List1 = df[user_1]\n",
    "    List2 = df[user_2]\n",
    "    result = dot(List1, List2)/(norm(List1)*norm(List2))\n",
    "    return(result)\n",
    "cosine_sim(critics, 'Lisa Rose','Gene Seymour')"
   ],
   "metadata": {
    "collapsed": false,
    "pycharm": {
     "name": "#%%\n"
    }
   }
  },
  {
   "cell_type": "markdown",
   "metadata": {},
   "source": [
    "## Ранжирование критиков"
   ]
  },
  {
   "cell_type": "code",
   "execution_count": 12,
   "metadata": {},
   "outputs": [],
   "source": [
    "# Возвращает список наилучших соответствий для человека из словаря prefs.\n",
    "# Количество результатов в списке и функция подобия – необязательные\n",
    "# параметры.\n",
    "def topMatches(prefs,person,n=5,similarity=sim_pearson):\n",
    "    df = pd.DataFrame(prefs)\n",
    "    df = df.drop(columns=[person])\n",
    "    best_match = {}\n",
    "    for other in df.columns:\n",
    "        best_match[other] = similarity(prefs, person, other)\n",
    "        best_match = pd.DataFrame(best_match, index=[\"sim\"])\n",
    "    return(best_match.transpose().head(n))\n",
    "\n"
   ]
  },
  {
   "cell_type": "code",
   "execution_count": 75,
   "metadata": {},
   "outputs": [
    {
     "data": {
      "text/plain": "                       sim\nLisa Rose         0.222222\nGene Seymour      0.108108\nMichael Phillips  0.285714",
      "text/html": "<div>\n<style scoped>\n    .dataframe tbody tr th:only-of-type {\n        vertical-align: middle;\n    }\n\n    .dataframe tbody tr th {\n        vertical-align: top;\n    }\n\n    .dataframe thead th {\n        text-align: right;\n    }\n</style>\n<table border=\"1\" class=\"dataframe\">\n  <thead>\n    <tr style=\"text-align: right;\">\n      <th></th>\n      <th>sim</th>\n    </tr>\n  </thead>\n  <tbody>\n    <tr>\n      <th>Lisa Rose</th>\n      <td>0.222222</td>\n    </tr>\n    <tr>\n      <th>Gene Seymour</th>\n      <td>0.108108</td>\n    </tr>\n    <tr>\n      <th>Michael Phillips</th>\n      <td>0.285714</td>\n    </tr>\n  </tbody>\n</table>\n</div>"
     },
     "execution_count": 75,
     "metadata": {},
     "output_type": "execute_result"
    }
   ],
   "source": [
    "topMatches(critics,'Toby',n=3, similarity=sim_distance)"
   ]
  },
  {
   "cell_type": "code",
   "execution_count": 76,
   "metadata": {},
   "outputs": [
    {
     "data": {
      "text/plain": "                       sim\nLisa Rose         0.349938\nGene Seymour      0.084163\nMichael Phillips  0.472367",
      "text/html": "<div>\n<style scoped>\n    .dataframe tbody tr th:only-of-type {\n        vertical-align: middle;\n    }\n\n    .dataframe tbody tr th {\n        vertical-align: top;\n    }\n\n    .dataframe thead th {\n        text-align: right;\n    }\n</style>\n<table border=\"1\" class=\"dataframe\">\n  <thead>\n    <tr style=\"text-align: right;\">\n      <th></th>\n      <th>sim</th>\n    </tr>\n  </thead>\n  <tbody>\n    <tr>\n      <th>Lisa Rose</th>\n      <td>0.349938</td>\n    </tr>\n    <tr>\n      <th>Gene Seymour</th>\n      <td>0.084163</td>\n    </tr>\n    <tr>\n      <th>Michael Phillips</th>\n      <td>0.472367</td>\n    </tr>\n  </tbody>\n</table>\n</div>"
     },
     "execution_count": 76,
     "metadata": {},
     "output_type": "execute_result"
    }
   ],
   "source": [
    "topMatches(critics,'Toby',n=3, similarity=sim_kernel)"
   ]
  },
  {
   "cell_type": "markdown",
   "metadata": {},
   "source": [
    "## Рекомендация фильмов (User-based подход)\n",
    "Базовая идея:\n",
    "Мы уже научились сравнивать пользователей и находить наиболее похожих. Давайте выберем самых похожих пользователей и усредним их оценки с весами равными этой похожести."
   ]
  },
  {
   "cell_type": "code",
   "execution_count": 13,
   "outputs": [],
   "source": [
    "prefs = critics\n",
    "person = \"Toby\"\n",
    "similarity = sim_pearson\n",
    "df = pd.DataFrame(prefs)\n",
    "person_df = df[person]\n",
    "df = df.drop(columns=[person])\n",
    "others = df.columns\n",
    "df = df.transpose()\n",
    "for index, row in df.iterrows():\n",
    "    df.at[index, 'sim'] = similarity(prefs, person, index)\n",
    "weighted_avg = {}\n",
    "for column in df.columns:\n",
    "    ranking = weighted_avg[column] = (df[column] * df.sim).mean()\n"
   ],
   "metadata": {
    "collapsed": false,
    "pycharm": {
     "name": "#%%\n"
    }
   }
  },
  {
   "cell_type": "code",
   "execution_count": 14,
   "outputs": [
    {
     "data": {
      "text/plain": "1.1767616682809368"
     },
     "execution_count": 14,
     "metadata": {},
     "output_type": "execute_result"
    }
   ],
   "source": [
    "(df['Lady in the Water'] * df.sim).mean()"
   ],
   "metadata": {
    "collapsed": false,
    "pycharm": {
     "name": "#%%\n"
    }
   }
  },
  {
   "cell_type": "code",
   "execution_count": 57,
   "metadata": {},
   "outputs": [],
   "source": [
    "# Получить рекомендации для заданного человека, пользуясь взвешенным средним\n",
    "# оценок, данных всеми остальными пользователями\n",
    "def getRecommendations(prefs,person,similarity=sim_pearson):\n",
    "#Ваш код здесь\n",
    "    df = pd.DataFrame(prefs)\n",
    "    person_df = df[person]\n",
    "    df = df.drop(columns=[person])\n",
    "    others = df.columns\n",
    "    df = df.transpose()\n",
    "    for index, row in df.iterrows():\n",
    "        df.at[index, 'sim'] = similarity(prefs, person, index)\n",
    "    weighted_avg = {}\n",
    "    for column in df.columns:\n",
    "        weighted_avg[column] = ((df[column] * df.sim)/df.sim).mean()\n",
    "    rankings = weighted_avg\n",
    "    return (rankings)\n",
    "\n",
    "def getRecommendations_2(prefs,person,similarity=sim_pearson):\n",
    "    #Ваш код здесь\n",
    "    df = pd.DataFrame(prefs)\n",
    "    person_df = df[person]\n",
    "    df = df.drop(columns=[person])\n",
    "    others = df.columns\n",
    "    df = df.transpose()\n",
    "    for index, row in df.iterrows():\n",
    "        df.at[index, 'sim'] = similarity(prefs, person, index)\n",
    "    weighted_avg = {}\n",
    "    for column in df.columns:\n",
    "        # normalize on critics level\n",
    "        weighted_avg[column] = (((df[column]/max(df[column])*5) * df.sim)/df.sim).mean()\n",
    "    rankings = weighted_avg\n",
    "    return (rankings)\n",
    "\n",
    "def getRecommendations_3(prefs,person,similarity=sim_pearson):\n",
    "    #Ваш код здесь\n",
    "    df = pd.DataFrame(prefs)\n",
    "    # print(df)\n",
    "    min_exp = 0\n",
    "    max_exp = 5\n",
    "    diff_exp = max_exp - min_exp\n",
    "    for column in df.columns:\n",
    "        min_real = np.nanmin(df[column])\n",
    "        max_real = np.nanmax(df[column])\n",
    "        diff_real = max_real - min_real\n",
    "        if diff_real != 0:\n",
    "            df[column] = (diff_exp)*((df[column]-min_real)/(diff_real))\n",
    "\n",
    "    print(df)\n",
    "\n",
    "    person_df = df[person]\n",
    "    df = df.drop(columns=[person])\n",
    "    others = df.columns\n",
    "    df = df.transpose()\n",
    "    for index, row in df.iterrows():\n",
    "        df.at[index, 'sim'] = similarity(prefs, person, index)\n",
    "    weighted_avg = {}\n",
    "    for column in df.columns:\n",
    "        # normalize on critics level\n",
    "        ### wrong because normilizes to films\n",
    "        weighted_avg[column] = ((df[column] * df.sim)/df.sim).mean()\n",
    "    rankings = weighted_avg\n",
    "    return (rankings)\n"
   ]
  },
  {
   "cell_type": "code",
   "execution_count": 80,
   "outputs": [],
   "source": [
    "from sklearn.preprocessing import MinMaxScaler\n",
    "from sklearn.preprocessing import StandardScaler\n",
    "# scaler = MinMaxScaler()\n",
    "scaler = StandardScaler()\n",
    "def getRecommendations_scaled(prefs,person,similarity=sim_pearson):\n",
    "    #Ваш код здесь\n",
    "    df = pd.DataFrame(prefs)\n",
    "    # print(df)\n",
    "    df = pd.DataFrame(scaler.fit_transform(df.values), columns=df.columns, index=df.index)\n",
    "    df = df * (5)\n",
    "    print(df)\n",
    "\n",
    "    person_df = df[person]\n",
    "    df = df.drop(columns=[person])\n",
    "    others = df.columns\n",
    "    df = df.transpose()\n",
    "    for index, row in df.iterrows():\n",
    "        df.at[index, 'sim'] = similarity(prefs, person, index)\n",
    "    weighted_avg = {}\n",
    "    for column in df.columns:\n",
    "        # normalize on critics level\n",
    "        ### wrong because normilizes to films\n",
    "        weighted_avg[column] = ((df[column] * df.sim)/df.sim).mean()\n",
    "    rankings = weighted_avg\n",
    "    return (rankings)"
   ],
   "metadata": {
    "collapsed": false,
    "pycharm": {
     "name": "#%%\n"
    }
   }
  },
  {
   "cell_type": "code",
   "execution_count": 52,
   "outputs": [
    {
     "data": {
      "text/plain": "{'Lady in the Water': 2.8,\n 'Snakes on a Plane': 3.5833333333333335,\n 'Just My Luck': 2.375,\n 'Superman Returns': 4.0,\n 'You, Me and Dupree': 2.8,\n 'The Night Listener': 3.4166666666666665,\n 'sim': 0.4755357854061302}"
     },
     "execution_count": 52,
     "metadata": {},
     "output_type": "execute_result"
    }
   ],
   "source": [
    "getRecommendations(critics,'Toby')"
   ],
   "metadata": {
    "collapsed": false,
    "pycharm": {
     "name": "#%%\n"
    }
   }
  },
  {
   "cell_type": "code",
   "execution_count": 53,
   "outputs": [
    {
     "data": {
      "text/plain": "{'Lady in the Water': 4.666666666666667,\n 'Snakes on a Plane': 3.5833333333333335,\n 'Just My Luck': 3.958333333333333,\n 'Superman Returns': 4.0,\n 'You, Me and Dupree': 2.8,\n 'The Night Listener': 3.796296296296296,\n 'sim': 2.398689753004899}"
     },
     "execution_count": 53,
     "metadata": {},
     "output_type": "execute_result"
    }
   ],
   "source": [
    "getRecommendations_2(critics,'Toby')"
   ],
   "metadata": {
    "collapsed": false,
    "pycharm": {
     "name": "#%%\n"
    }
   }
  },
  {
   "cell_type": "code",
   "execution_count": 66,
   "outputs": [
    {
     "data": {
      "text/plain": "{'Snakes on a Plane': 5, 'You, Me and Dupree': 5, 'Superman Returns': 5}"
     },
     "execution_count": 66,
     "metadata": {},
     "output_type": "execute_result"
    }
   ],
   "source": [
    "critics['Monster']"
   ],
   "metadata": {
    "collapsed": false,
    "pycharm": {
     "name": "#%%\n"
    }
   }
  },
  {
   "cell_type": "code",
   "execution_count": 67,
   "outputs": [
    {
     "name": "stdout",
     "output_type": "stream",
     "text": [
      "                    Lisa Rose  Gene Seymour  Michael Phillips  Claudia Puig  \\\n",
      "Lady in the Water         0.0      2.142857          0.000000           NaN   \n",
      "Snakes on a Plane         5.0      2.857143          1.666667          2.50   \n",
      "Just My Luck              2.5      0.000000               NaN          1.25   \n",
      "Superman Returns          5.0      5.000000          3.333333          3.75   \n",
      "You, Me and Dupree        0.0      2.857143               NaN          0.00   \n",
      "The Night Listener        2.5      2.142857          5.000000          5.00   \n",
      "\n",
      "                    Mick LaSalle  Jack Matthews      Toby  Monster  \n",
      "Lady in the Water            2.5           0.00       NaN      NaN  \n",
      "Snakes on a Plane            5.0           2.50  5.000000      5.0  \n",
      "Just My Luck                 0.0            NaN       NaN      NaN  \n",
      "Superman Returns             2.5           5.00  4.285714      5.0  \n",
      "You, Me and Dupree           0.0           1.25  0.000000      5.0  \n",
      "The Night Listener           2.5           0.00       NaN      NaN  \n"
     ]
    },
    {
     "data": {
      "text/plain": "{'Lady in the Water': 0.9285714285714285,\n 'Snakes on a Plane': 3.5034013605442174,\n 'Just My Luck': 0.9375,\n 'Superman Returns': 4.124149659863945,\n 'You, Me and Dupree': 0.6845238095238094,\n 'The Night Listener': 2.857142857142857,\n 'sim': 0.12971992531992393}"
     },
     "execution_count": 67,
     "metadata": {},
     "output_type": "execute_result"
    }
   ],
   "source": [
    "getRecommendations_3(critics,'Monster', sim_kernel)"
   ],
   "metadata": {
    "collapsed": false,
    "pycharm": {
     "name": "#%%\n"
    }
   }
  },
  {
   "cell_type": "code",
   "execution_count": 81,
   "outputs": [
    {
     "name": "stdout",
     "output_type": "stream",
     "text": [
      "                    Lisa Rose  Gene Seymour  Michael Phillips  Claudia Puig  \\\n",
      "Lady in the Water   -6.123724     -1.212678         -6.708204           NaN   \n",
      "Snakes on a Plane    6.123724      1.212678         -2.236068      0.000000   \n",
      "Just My Luck         0.000000     -8.488747               NaN     -3.535534   \n",
      "Superman Returns     6.123724      8.488747          2.236068      3.535534   \n",
      "You, Me and Dupree  -6.123724      1.212678               NaN     -7.071068   \n",
      "The Night Listener   0.000000     -1.212678          6.708204      7.071068   \n",
      "\n",
      "                    Mick LaSalle  Jack Matthews      Toby  Monster  \n",
      "Lady in the Water       1.212678      -4.677072       NaN      NaN  \n",
      "Snakes on a Plane       8.488747       2.004459  4.313311      0.0  \n",
      "Just My Luck           -6.063391            NaN       NaN      NaN  \n",
      "Superman Returns        1.212678       8.685990  2.695819      0.0  \n",
      "You, Me and Dupree     -6.063391      -1.336306 -7.009130      0.0  \n",
      "The Night Listener      1.212678      -4.677072       NaN      NaN  \n"
     ]
    },
    {
     "data": {
      "text/plain": "{'Lady in the Water': -3.501800004584949,\n 'Snakes on a Plane': 2.8438359461988845,\n 'Just My Luck': -4.52191785202818,\n 'Superman Returns': 4.711222990583364,\n 'You, Me and Dupree': -4.39849018955595,\n 'The Night Listener': 1.5170333351495693,\n 'sim': 0.12971992531992393}"
     },
     "execution_count": 81,
     "metadata": {},
     "output_type": "execute_result"
    }
   ],
   "source": [
    "getRecommendations_scaled(critics,'Monster', sim_kernel)"
   ],
   "metadata": {
    "collapsed": false,
    "pycharm": {
     "name": "#%%\n"
    }
   }
  },
  {
   "cell_type": "code",
   "execution_count": 59,
   "metadata": {},
   "outputs": [
    {
     "data": {
      "text/plain": "{'Lady in the Water': 2.8,\n 'Snakes on a Plane': 3.5833333333333335,\n 'Just My Luck': 2.375,\n 'Superman Returns': 4.0,\n 'You, Me and Dupree': 2.8,\n 'The Night Listener': 3.4166666666666665,\n 'sim': 0.4755357854061302}"
     },
     "execution_count": 59,
     "metadata": {},
     "output_type": "execute_result"
    }
   ],
   "source": [
    "getRecommendations(critics,'Toby')\n"
   ]
  },
  {
   "cell_type": "code",
   "execution_count": 127,
   "metadata": {},
   "outputs": [
    {
     "data": {
      "text/plain": "{'Lady in the Water': 0.8303833321821192,\n 'Snakes on a Plane': 1.119141344026896,\n 'Just My Luck': 0.8314869086560002,\n 'Superman Returns': 1.1436858011089572,\n 'You, Me and Dupree': 0.6999211699535981,\n 'The Night Listener': 1.122133492601984,\n 'sim': 0.12754888768351855}"
     },
     "execution_count": 127,
     "metadata": {},
     "output_type": "execute_result"
    }
   ],
   "source": [
    "getRecommendations(critics,'Toby', sim_kernel)"
   ]
  }
 ],
 "metadata": {
  "kernelspec": {
   "display_name": "Python 3",
   "language": "python",
   "name": "python3"
  },
  "language_info": {
   "codemirror_mode": {
    "name": "ipython",
    "version": 3
   },
   "file_extension": ".py",
   "mimetype": "text/x-python",
   "name": "python",
   "nbconvert_exporter": "python",
   "pygments_lexer": "ipython3",
   "version": "3.7.4"
  },
  "name": "lesson11_recsys.ipynb"
 },
 "nbformat": 4,
 "nbformat_minor": 1
}