{
 "cells": [
  {
   "cell_type": "markdown",
   "metadata": {
    "collapsed": true
   },
   "source": [
    "Примеры составлены по мотивам главы 2 книги Т.Сегаран \"Программируем коллективный разум\" http://www.symbol.ru/alphabet/613828.html\n",
    "\n",
    "\n",
    "\n",
    "\n"
   ]
  },
  {
   "cell_type": "markdown",
   "metadata": {},
   "source": [
    "## Словарь с предпочтениями пользователи-фильмы"
   ]
  },
  {
   "cell_type": "code",
   "execution_count": 20,
   "metadata": {},
   "outputs": [],
   "source": [
    "# Словарь кинокритиков и выставленных ими оценок для небольшого набора\n",
    "# данных о фильмах\n",
    "critics={'Lisa Rose': {'Lady in the Water': 2.5, 'Snakes on a Plane': 3.5,\n",
    " 'Just My Luck': 3.0, 'Superman Returns': 3.5, 'You, Me and Dupree': 2.5, \n",
    " 'The Night Listener': 3.0},\n",
    "'Gene Seymour': {'Lady in the Water': 3.0, 'Snakes on a Plane': 3.5, \n",
    " 'Just My Luck': 1.5, 'Superman Returns': 5.0, 'The Night Listener': 3.0, \n",
    " 'You, Me and Dupree': 3.5}, \n",
    "'Michael Phillips': {'Lady in the Water': 2.5, 'Snakes on a Plane': 3.0,\n",
    " 'Superman Returns': 3.5, 'The Night Listener': 4.0},\n",
    "'Claudia Puig': {'Snakes on a Plane': 3.5, 'Just My Luck': 3.0,\n",
    " 'The Night Listener': 4.5, 'Superman Returns': 4.0, \n",
    " 'You, Me and Dupree': 2.5},\n",
    "'Mick LaSalle': {'Lady in the Water': 3.0, 'Snakes on a Plane': 4.0, \n",
    " 'Just My Luck': 2.0, 'Superman Returns': 3.0, 'The Night Listener': 3.0,\n",
    " 'You, Me and Dupree': 2.0}, \n",
    "'Jack Matthews': {'Lady in the Water': 3.0, 'Snakes on a Plane': 4.0,\n",
    " 'The Night Listener': 3.0, 'Superman Returns': 5.0, 'You, Me and Dupree': 3.5},\n",
    "'Toby': {'Snakes on a Plane':4.5,'You, Me and Dupree':1.0,'Superman Returns':4.0}}"
   ]
  },
  {
   "cell_type": "code",
   "execution_count": 21,
   "metadata": {},
   "outputs": [],
   "source": [
    "import numpy as np"
   ]
  },
  {
   "cell_type": "code",
   "execution_count": 22,
   "metadata": {},
   "outputs": [],
   "source": [
    "A=np.array(critics)"
   ]
  },
  {
   "cell_type": "code",
   "execution_count": 23,
   "metadata": {},
   "outputs": [],
   "source": [
    "import pandas as pd"
   ]
  },
  {
   "cell_type": "code",
   "execution_count": 24,
   "metadata": {},
   "outputs": [
    {
     "data": {
      "text/html": [
       "<div>\n",
       "<style scoped>\n",
       "    .dataframe tbody tr th:only-of-type {\n",
       "        vertical-align: middle;\n",
       "    }\n",
       "\n",
       "    .dataframe tbody tr th {\n",
       "        vertical-align: top;\n",
       "    }\n",
       "\n",
       "    .dataframe thead th {\n",
       "        text-align: right;\n",
       "    }\n",
       "</style>\n",
       "<table border=\"1\" class=\"dataframe\">\n",
       "  <thead>\n",
       "    <tr style=\"text-align: right;\">\n",
       "      <th></th>\n",
       "      <th>Lisa Rose</th>\n",
       "      <th>Gene Seymour</th>\n",
       "      <th>Michael Phillips</th>\n",
       "      <th>Claudia Puig</th>\n",
       "      <th>Mick LaSalle</th>\n",
       "      <th>Jack Matthews</th>\n",
       "      <th>Toby</th>\n",
       "    </tr>\n",
       "  </thead>\n",
       "  <tbody>\n",
       "    <tr>\n",
       "      <td>Lady in the Water</td>\n",
       "      <td>2.5</td>\n",
       "      <td>3.0</td>\n",
       "      <td>2.5</td>\n",
       "      <td>NaN</td>\n",
       "      <td>3.0</td>\n",
       "      <td>3.0</td>\n",
       "      <td>NaN</td>\n",
       "    </tr>\n",
       "    <tr>\n",
       "      <td>Snakes on a Plane</td>\n",
       "      <td>3.5</td>\n",
       "      <td>3.5</td>\n",
       "      <td>3.0</td>\n",
       "      <td>3.5</td>\n",
       "      <td>4.0</td>\n",
       "      <td>4.0</td>\n",
       "      <td>4.5</td>\n",
       "    </tr>\n",
       "    <tr>\n",
       "      <td>Just My Luck</td>\n",
       "      <td>3.0</td>\n",
       "      <td>1.5</td>\n",
       "      <td>NaN</td>\n",
       "      <td>3.0</td>\n",
       "      <td>2.0</td>\n",
       "      <td>NaN</td>\n",
       "      <td>NaN</td>\n",
       "    </tr>\n",
       "    <tr>\n",
       "      <td>Superman Returns</td>\n",
       "      <td>3.5</td>\n",
       "      <td>5.0</td>\n",
       "      <td>3.5</td>\n",
       "      <td>4.0</td>\n",
       "      <td>3.0</td>\n",
       "      <td>5.0</td>\n",
       "      <td>4.0</td>\n",
       "    </tr>\n",
       "    <tr>\n",
       "      <td>You, Me and Dupree</td>\n",
       "      <td>2.5</td>\n",
       "      <td>3.5</td>\n",
       "      <td>NaN</td>\n",
       "      <td>2.5</td>\n",
       "      <td>2.0</td>\n",
       "      <td>3.5</td>\n",
       "      <td>1.0</td>\n",
       "    </tr>\n",
       "    <tr>\n",
       "      <td>The Night Listener</td>\n",
       "      <td>3.0</td>\n",
       "      <td>3.0</td>\n",
       "      <td>4.0</td>\n",
       "      <td>4.5</td>\n",
       "      <td>3.0</td>\n",
       "      <td>3.0</td>\n",
       "      <td>NaN</td>\n",
       "    </tr>\n",
       "  </tbody>\n",
       "</table>\n",
       "</div>"
      ],
      "text/plain": [
       "                    Lisa Rose  Gene Seymour  Michael Phillips  Claudia Puig  \\\n",
       "Lady in the Water         2.5           3.0               2.5           NaN   \n",
       "Snakes on a Plane         3.5           3.5               3.0           3.5   \n",
       "Just My Luck              3.0           1.5               NaN           3.0   \n",
       "Superman Returns          3.5           5.0               3.5           4.0   \n",
       "You, Me and Dupree        2.5           3.5               NaN           2.5   \n",
       "The Night Listener        3.0           3.0               4.0           4.5   \n",
       "\n",
       "                    Mick LaSalle  Jack Matthews  Toby  \n",
       "Lady in the Water            3.0            3.0   NaN  \n",
       "Snakes on a Plane            4.0            4.0   4.5  \n",
       "Just My Luck                 2.0            NaN   NaN  \n",
       "Superman Returns             3.0            5.0   4.0  \n",
       "You, Me and Dupree           2.0            3.5   1.0  \n",
       "The Night Listener           3.0            3.0   NaN  "
      ]
     },
     "execution_count": 24,
     "metadata": {},
     "output_type": "execute_result"
    }
   ],
   "source": [
    "pd.DataFrame(critics)"
   ]
  },
  {
   "cell_type": "code",
   "execution_count": 25,
   "metadata": {},
   "outputs": [
    {
     "data": {
      "text/plain": [
       "{'Snakes on a Plane': 4.5, 'You, Me and Dupree': 1.0, 'Superman Returns': 4.0}"
      ]
     },
     "execution_count": 25,
     "metadata": {},
     "output_type": "execute_result"
    }
   ],
   "source": [
    "critics['Toby']"
   ]
  },
  {
   "cell_type": "code",
   "execution_count": 26,
   "metadata": {},
   "outputs": [
    {
     "data": {
      "text/plain": [
       "2.5"
      ]
     },
     "execution_count": 26,
     "metadata": {},
     "output_type": "execute_result"
    }
   ],
   "source": [
    "critics['Lisa Rose']['Lady in the Water']\n"
   ]
  },
  {
   "cell_type": "code",
   "execution_count": 27,
   "metadata": {},
   "outputs": [
    {
     "data": {
      "text/plain": [
       "3.1622776601683795"
      ]
     },
     "execution_count": 27,
     "metadata": {},
     "output_type": "execute_result"
    }
   ],
   "source": [
    "#вычисление расстояния Евклида\n",
    "from math import sqrt\n",
    "sqrt(pow(5-4,2)+pow(4-1,2))\n"
   ]
  },
  {
   "cell_type": "markdown",
   "metadata": {},
   "source": [
    "расстояние между (5,4) и (4, 1)"
   ]
  },
  {
   "cell_type": "code",
   "execution_count": 29,
   "metadata": {},
   "outputs": [
    {
     "data": {
      "text/plain": [
       "0.2402530733520421"
      ]
     },
     "execution_count": 29,
     "metadata": {},
     "output_type": "execute_result"
    }
   ],
   "source": [
    "#вычисление сходства\n",
    "1/(1+sqrt(pow(5-4,2)+pow(4-1,2)))\n"
   ]
  },
  {
   "cell_type": "markdown",
   "metadata": {},
   "source": [
    "$sim(x,y) = \\frac{1}{1+d(x,y)}$"
   ]
  },
  {
   "cell_type": "code",
   "execution_count": null,
   "metadata": {},
   "outputs": [],
   "source": [
    "from numpy import exp"
   ]
  },
  {
   "cell_type": "code",
   "execution_count": 31,
   "metadata": {},
   "outputs": [
    {
     "data": {
      "text/plain": [
       "0.387250581508453"
      ]
     },
     "execution_count": 31,
     "metadata": {},
     "output_type": "execute_result"
    }
   ],
   "source": [
    "exp(-0.3*sqrt(pow(5-4,2)+pow(4-1,2)))\n"
   ]
  },
  {
   "cell_type": "markdown",
   "metadata": {},
   "source": [
    "$sim(x,y) = e^{-d(x,y)*\\alpha}$"
   ]
  },
  {
   "cell_type": "code",
   "execution_count": 33,
   "metadata": {},
   "outputs": [],
   "source": [
    "from math import sqrt\n",
    "# Возвращает сходство person1 и person2 на основе расстояния\n",
    "def sim_distance(prefs,person1,person2):\n",
    "# Получить список предметов, оцененных обоими\n",
    "    si={}\n",
    "    for item in prefs[person1]:\n",
    "        if item in prefs[person2]:\n",
    "            si[item]=1\n",
    "# Если нет ни одной общей оценки, вернуть 0\n",
    "    if len(si)==0: return 0\n",
    "# Сложить квадраты разностей/\n",
    "    sum_of_squares=sum([pow(prefs[person1][item]-prefs[person2][item],2)\n",
    "    for item in prefs[person1] if item in prefs[person2]])\n",
    "    return 1/(1+sum_of_squares)\n"
   ]
  },
  {
   "cell_type": "code",
   "execution_count": 35,
   "metadata": {},
   "outputs": [],
   "source": [
    "from math import sqrt\n",
    "# Возвращает сходство person1 и person2 на основе расстояния\n",
    "def sim_kernel(prefs,person1,person2,alpha=0.3):\n",
    "# Получить список предметов, оцененных обоими\n",
    "    si={}\n",
    "    for item in prefs[person1]:\n",
    "        if item in prefs[person2]:\n",
    "            si[item]=1\n",
    "# Если нет ни одной общей оценки, вернуть 0\n",
    "    if len(si)==0: return 0\n",
    "# Сложить квадраты разностей\n",
    "    sum_of_squares=sum([pow(prefs[person1][item]-prefs[person2][item],2)\n",
    "    for item in prefs[person1] if item in prefs[person2]])\n",
    "    return exp(-alpha*sum_of_squares)"
   ]
  },
  {
   "cell_type": "code",
   "execution_count": 36,
   "metadata": {},
   "outputs": [
    {
     "data": {
      "text/plain": [
       "0.3499377491111553"
      ]
     },
     "execution_count": 36,
     "metadata": {},
     "output_type": "execute_result"
    }
   ],
   "source": [
    "sim_kernel(critics, 'Lisa Rose','Toby')"
   ]
  },
  {
   "cell_type": "code",
   "execution_count": 38,
   "metadata": {},
   "outputs": [
    {
     "data": {
      "text/plain": [
       "0.17817305177289844"
      ]
     },
     "execution_count": 38,
     "metadata": {},
     "output_type": "execute_result"
    }
   ],
   "source": [
    "sim_kernel(critics, 'Lisa Rose','Gene Seymour')"
   ]
  },
  {
   "cell_type": "code",
   "execution_count": 37,
   "metadata": {},
   "outputs": [
    {
     "data": {
      "text/plain": [
       "0.2222222222222222"
      ]
     },
     "execution_count": 37,
     "metadata": {},
     "output_type": "execute_result"
    }
   ],
   "source": [
    "sim_distance(critics, 'Lisa Rose','Toby')"
   ]
  },
  {
   "cell_type": "code",
   "execution_count": 39,
   "metadata": {},
   "outputs": [],
   "source": [
    "# Возвращает коэффициент корреляции Пирсона между p1 и p2\n",
    "def sim_pearson(prefs,p1,p2):\n",
    "# Получить список предметов, оцененных обоими\n",
    "    si={}\n",
    "    for item in prefs[p1]: \n",
    "        if item in prefs[p2]: si[item]=1\n",
    "\n",
    "    # Если нет ни одной общей оценки, вернуть 0\n",
    "    if len(si)==0: return 0\n",
    "\n",
    "    # Количество соместно оцененных фильм\n",
    "    n=len(si)\n",
    "  \n",
    "    # Вычислить сумму всех предпочтений\n",
    "    sum1=sum([prefs[p1][it] for it in si])\n",
    "    sum2=sum([prefs[p2][it] for it in si])\n",
    "  \n",
    "    # Вычислить сумму квадратов\n",
    "    sum1Sq=sum([pow(prefs[p1][it],2) for it in si])\n",
    "    sum2Sq=sum([pow(prefs[p2][it],2) for it in si])\t\n",
    "  \n",
    "    # Вычислить сумму произведений\n",
    "    pSum=sum([prefs[p1][it]*prefs[p2][it] for it in si])\n",
    "  \n",
    "    # Вычислить коэффициент Пирсона\n",
    "    num=pSum-(sum1*sum2/n)\n",
    "    den=sqrt((sum1Sq-pow(sum1,2)/n)*(sum2Sq-pow(sum2,2)/n))\n",
    "    if den==0: return 0\n",
    "\n",
    "    r=num/den\n",
    "\n",
    "    return r"
   ]
  },
  {
   "cell_type": "code",
   "execution_count": 41,
   "metadata": {},
   "outputs": [
    {
     "data": {
      "text/plain": [
       "(0.39605901719066977, 0.9912407071619299)"
      ]
     },
     "execution_count": 41,
     "metadata": {},
     "output_type": "execute_result"
    }
   ],
   "source": [
    "sim_pearson(critics,'Lisa Rose','Gene Seymour'), sim_pearson(critics, 'Lisa Rose','Toby')\n",
    "\n"
   ]
  },
  {
   "cell_type": "markdown",
   "metadata": {},
   "source": [
    "Кроме приведенных выше мер сходства, часто используют косинусную схожесть, которая определяется как $$\\frac{(x,y)}{|x||y|},$$\n",
    "где $(x,y)$ -- скалярное произведение, а $|x|$ -- длина вектора $x$.\n",
    "Реализуйте функцию вычисляющую косинусную схожесть."
   ]
  },
  {
   "cell_type": "code",
   "execution_count": null,
   "metadata": {},
   "outputs": [],
   "source": [
    "def sim_cosine(prefs,person1,person2):\n",
    "# Получить список предметов, оцененных обоими\n",
    "    si={}\n",
    "    for item in prefs[person1]:\n",
    "        if item in prefs[person2]:\n",
    "            si[item]=1\n",
    "# Если нет ни одной общей оценки, вернуть 0\n",
    "    if len(si)==0: return 0\n",
    "\n",
    "    sum_of_prod=sum([prefs[person1][item]*prefs[person2][item] for item in si])\n",
    "    len1 = sum([prefs[person1][item]*prefs[person1][item] for item in si])\n",
    "    len2 = sum([prefs[person2][item]*prefs[person2][item] for item in si])\n",
    "    return sum_of_prod/sqrt(len1*len2)"
   ]
  },
  {
   "cell_type": "markdown",
   "metadata": {},
   "source": [
    "## Ранжирование критиков"
   ]
  },
  {
   "cell_type": "code",
   "execution_count": 53,
   "metadata": {},
   "outputs": [],
   "source": [
    "# Возвращает список наилучших соответствий для человека из словаря prefs.\n",
    "# Количество результатов в списке и функция подобия – необязательные\n",
    "# параметры.\n",
    "def topMatches(prefs,person,n=5,similarity=sim_pearson):\n",
    "    sim_list = sorted([(similarity(prefs, person, p), p) for p in prefs if p != person], reverse = True)\n",
    "    return sim_list[:n]\n",
    "    \n",
    "            \n",
    "        \n",
    "    \n"
   ]
  },
  {
   "cell_type": "code",
   "execution_count": 54,
   "metadata": {},
   "outputs": [
    {
     "data": {
      "text/plain": [
       "[(0.3076923076923077, 'Mick LaSalle'),\n",
       " (0.2857142857142857, 'Michael Phillips'),\n",
       " (0.23529411764705882, 'Claudia Puig')]"
      ]
     },
     "execution_count": 54,
     "metadata": {},
     "output_type": "execute_result"
    }
   ],
   "source": [
    "topMatches(critics,'Toby',n=3, similarity=sim_distance)"
   ]
  },
  {
   "cell_type": "code",
   "execution_count": null,
   "metadata": {},
   "outputs": [],
   "source": [
    "topMatches(critics,'Toby',n=3, similarity=sim_kernel)"
   ]
  },
  {
   "cell_type": "markdown",
   "metadata": {},
   "source": [
    "## Рекомендация фильмов (User-based подход)\n",
    "Базовая идея:\n",
    "Мы уже научились сравнивать пользователей и находить наиболее похожих. Давайте выберем самых похожих пользователей и усредним их оценки с весами равными этой похожести."
   ]
  },
  {
   "cell_type": "markdown",
   "metadata": {},
   "source": [
    "$R_{i} = \\sum\\limits_{k} sim(i,k)*R_{k}/\\sum\\limits_{k} sim(i,k),$ где $R_i$ -- оценка поставленная пользователем $i$ "
   ]
  },
  {
   "cell_type": "code",
   "execution_count": 42,
   "metadata": {},
   "outputs": [
    {
     "ename": "SyntaxError",
     "evalue": "invalid syntax (<ipython-input-42-157d8d90301d>, line 1)",
     "output_type": "error",
     "traceback": [
      "\u001b[1;36m  File \u001b[1;32m\"<ipython-input-42-157d8d90301d>\"\u001b[1;36m, line \u001b[1;32m1\u001b[0m\n\u001b[1;33m    0.5 0.3 0.2 -0.1\u001b[0m\n\u001b[1;37m          ^\u001b[0m\n\u001b[1;31mSyntaxError\u001b[0m\u001b[1;31m:\u001b[0m invalid syntax\n"
     ]
    }
   ],
   "source": [
    "0.5 0.3 0.3 -0.1\n",
    "\n",
    "\n",
    "5 4 5 3\n",
    "\n",
    "\n",
    "(0.5*5 + 0.3*4 + 0.3*5 + 0*3)/(0.5+0.3+0.3 + 0)"
   ]
  },
  {
   "cell_type": "code",
   "execution_count": 55,
   "metadata": {},
   "outputs": [],
   "source": [
    "# Получить рекомендации для заданного человека, пользуясь взвешенным средним\n",
    "# оценок, данных всеми остальными пользователями\n",
    "def getRecommendations(prefs,person,similarity=sim_pearson, only_NA = True):\n",
    "    top_persons = topMatches(prefs,person, 100, similarity)\n",
    "    film_sum = {}\n",
    "    film_multiplyer = {}\n",
    "    for p in top_persons:\n",
    "        if p[0] <=0: break\n",
    "        for item in prefs[p[1]]:\n",
    "            if not item in film_sum:\n",
    "                film_sum[item] = 0\n",
    "                film_multiplyer[item] = 0\n",
    "            \n",
    "            film_sum[item] += prefs[p[1]][item]*p[0]\n",
    "            film_multiplyer[item] += p[0] \n",
    "    if only_NA:\n",
    "        recomend = sorted([(film_sum[item]/film_multiplyer[item], item) for item in film_sum if item not in prefs[person]], reverse = True)\n",
    "    else:\n",
    "        recomend = sorted([(film_sum[item]/film_multiplyer[item], item) for item in film_sum], reverse = True)\n",
    "        \n",
    "    return recomend"
   ]
  },
  {
   "cell_type": "code",
   "execution_count": 56,
   "metadata": {},
   "outputs": [
    {
     "data": {
      "text/plain": [
       "[(3.3477895267131013, 'The Night Listener'),\n",
       " (2.8325499182641614, 'Lady in the Water'),\n",
       " (2.5309807037655645, 'Just My Luck')]"
      ]
     },
     "execution_count": 56,
     "metadata": {},
     "output_type": "execute_result"
    }
   ],
   "source": [
    "getRecommendations(critics,'Toby')\n"
   ]
  },
  {
   "cell_type": "code",
   "execution_count": 57,
   "metadata": {},
   "outputs": [
    {
     "data": {
      "text/plain": [
       "[(3.5469111370529647, 'The Night Listener'),\n",
       " (2.7296870804186324, 'Lady in the Water'),\n",
       " (2.518799545549861, 'Just My Luck')]"
      ]
     },
     "execution_count": 57,
     "metadata": {},
     "output_type": "execute_result"
    }
   ],
   "source": [
    "getRecommendations(critics,'Toby', sim_kernel)"
   ]
  },
  {
   "cell_type": "code",
   "execution_count": 58,
   "metadata": {},
   "outputs": [
    {
     "data": {
      "text/plain": [
       "[(3.9024195568915734, 'Superman Returns'),\n",
       " (3.705973784289579, 'Snakes on a Plane'),\n",
       " (3.3477895267131013, 'The Night Listener'),\n",
       " (2.8325499182641614, 'Lady in the Water'),\n",
       " (2.6510060362046266, 'You, Me and Dupree'),\n",
       " (2.5309807037655645, 'Just My Luck')]"
      ]
     },
     "execution_count": 58,
     "metadata": {},
     "output_type": "execute_result"
    }
   ],
   "source": [
    "getRecommendations(critics,'Toby', only_NA = False)"
   ]
  },
  {
   "cell_type": "code",
   "execution_count": null,
   "metadata": {},
   "outputs": [],
   "source": []
  }
 ],
 "metadata": {
  "kernelspec": {
   "display_name": "Python 3",
   "language": "python",
   "name": "python3"
  },
  "language_info": {
   "codemirror_mode": {
    "name": "ipython",
    "version": 3
   },
   "file_extension": ".py",
   "mimetype": "text/x-python",
   "name": "python",
   "nbconvert_exporter": "python",
   "pygments_lexer": "ipython3",
   "version": "3.7.4"
  },
  "name": "lesson11_recsys.ipynb"
 },
 "nbformat": 4,
 "nbformat_minor": 1
}
