{
 "cells": [
  {
   "cell_type": "markdown",
   "metadata": {},
   "source": [
    "# Домашнее задание 1. Сравнение методов коллаборативной фильтрации по сходству пользователей и по сходству объектов\n",
    "\n",
    "\n",
    "Полезная ссылка на довольно подробный обзор по теме: http://files.grouplens.org/papers/FnT%20CF%20Recsys%20Survey.pdf\n",
    "\n",
    "\n",
    "1. Загрузите данные [Movie Lens](http://grouplens.org/datasets/movielens/), датасет на 1М рейтингов. Дополнительный бонус, если ваш код сможет обработать датасет на 10М. Я рекомендую сначала пробовать ваши методы на датасете из 100к рейтингов.  \n",
    "\n",
    "2. Разбейте датасет на обучающую и тестовую выборку. \n",
    "\n",
    "Вариант 1: Тестовые пользователи -- это те, у кого ID делется на 5 без остатка.\n",
    "Для каждого тестового пользователя скройте каждый десятый фильм по возрастанию ID.\n",
    "\n",
    "Вариант 2: Тестовые пользователи -- это случайно выбранные 20% сохраните их список для воспроизводимости.\n",
    "Для каждого тестового пользователя скройте каждый фильм с вероятностью 1/10, сохраните список скрытых фильмов.\n",
    "\n",
    "Все пользователи и не скрытые фильмы это данные, на которых вы будете оценивать похожесть.\n",
    "\n",
    "3. Выберите любые две меры похожести и реализуйте на их основе две модели рекомендаций на основе пользователей.\n",
    "Для этих моделей посчитайте MAE и RMSE на всех скрытых оценках варианта 1. Какая модель оказалась лучше?\n",
    "\n",
    "4. Повторите пункт 3 для варианта 2. Изменилось ли что-нибудь?\n",
    "\n",
    "5. Для каждого тестового пользователя сгенерируйте рекомендации топ 10, 15, 20, 50, 100 фильмов у которых нет оценок. Посчитайте NDCG считая хорошими фильмы с оценкой 4 и выше.\n",
    "\n",
    "6. Реализуте модель основанную на похожести предметов.\n",
    "\n",
    "7. Повторите пункты 3-5 для этой модели. \n",
    "\n",
    "8. Насколько различны списки из top-n рекомендаций. Попробуйте улучшить результаты подбором $\\beta$ для минимизации MAE (RMSE) в гибридных рекомендациях:\n",
    "$$\\beta\\cdot r^{user-based}_{ui} + (1-\\beta)\\cdot r^{item-based}_{ui}, \\mbox{ где } 0 \\leq \\beta \\leq 1.$$ \n",
    "\n",
    "deadline 24.10.2021 23:59"
   ]
  },
  {
   "cell_type": "code",
   "execution_count": 367,
   "metadata": {},
   "outputs": [],
   "source": [
    "from math import sqrt\n",
    "from math import log2\n",
    "from math import isnan\n",
    "\n",
    "from random import random, seed\n",
    "\n",
    "import numpy as np\n",
    "import pandas as pd\n",
    "\n",
    "import matplotlib.pyplot as plt\n",
    "import seaborn as sns\n",
    "\n",
    "from sklearn.metrics import ndcg_score"
   ]
  },
  {
   "cell_type": "markdown",
   "source": [
    "# Load date"
   ],
   "metadata": {
    "collapsed": false,
    "pycharm": {
     "name": "#%% md\n"
    }
   }
  },
  {
   "cell_type": "code",
   "execution_count": 9,
   "outputs": [],
   "source": [
    "#Чтение данных\n",
    "def loadMovieLens1M(path='./ml-1m'):\n",
    "    # Получить названия фильмов\n",
    "    movies={}\n",
    "    for line in open(path+'/movies.dat'):\n",
    "        (id,title)=line.split('::')[0:2] #при желании тут можно добавить чтение жанров.\n",
    "        movies[id]=title\n",
    "    # Загрузить данные\n",
    "    prefs={}\n",
    "    for line in open(path+'/ratings.dat'):\n",
    "        (user,movieid,rating,ts)=line.split('::')\n",
    "        prefs.setdefault(user,{})\n",
    "        prefs[user][movies[movieid]]=float(rating)\n",
    "    return prefs"
   ],
   "metadata": {
    "collapsed": false,
    "pycharm": {
     "name": "#%%\n"
    }
   }
  },
  {
   "cell_type": "code",
   "execution_count": 10,
   "outputs": [
    {
     "data": {
      "text/plain": "                                          1    2    3   4    5    6   7   8  \\\nOne Flew Over the Cuckoo's Nest (1975)  5.0  5.0  NaN NaN  NaN  NaN NaN NaN   \nJames and the Giant Peach (1996)        3.0  NaN  NaN NaN  NaN  NaN NaN NaN   \nMy Fair Lady (1964)                     3.0  NaN  NaN NaN  NaN  5.0 NaN NaN   \nErin Brockovich (2000)                  4.0  NaN  NaN NaN  3.0  5.0 NaN NaN   \nBug's Life, A (1998)                    5.0  NaN  5.0 NaN  5.0  NaN NaN NaN   \n\n                                          9   10  ...  6031  6032  6033  6034  \\\nOne Flew Over the Cuckoo's Nest (1975)  NaN  NaN  ...   NaN   5.0   5.0   NaN   \nJames and the Giant Peach (1996)        NaN  NaN  ...   NaN   NaN   NaN   NaN   \nMy Fair Lady (1964)                     NaN  5.0  ...   NaN   NaN   NaN   NaN   \nErin Brockovich (2000)                  4.0  4.0  ...   NaN   NaN   NaN   NaN   \nBug's Life, A (1998)                    4.0  4.0  ...   NaN   NaN   NaN   NaN   \n\n                                        6035  6036  6037  6038  6039  6040  \nOne Flew Over the Cuckoo's Nest (1975)   5.0   5.0   4.0   NaN   NaN   4.0  \nJames and the Giant Peach (1996)         NaN   NaN   NaN   NaN   3.0   NaN  \nMy Fair Lady (1964)                      NaN   3.0   NaN   NaN   4.0   NaN  \nErin Brockovich (2000)                   NaN   4.0   NaN   NaN   NaN   NaN  \nBug's Life, A (1998)                     5.0   4.0   NaN   NaN   NaN   NaN  \n\n[5 rows x 6040 columns]",
      "text/html": "<div>\n<style scoped>\n    .dataframe tbody tr th:only-of-type {\n        vertical-align: middle;\n    }\n\n    .dataframe tbody tr th {\n        vertical-align: top;\n    }\n\n    .dataframe thead th {\n        text-align: right;\n    }\n</style>\n<table border=\"1\" class=\"dataframe\">\n  <thead>\n    <tr style=\"text-align: right;\">\n      <th></th>\n      <th>1</th>\n      <th>2</th>\n      <th>3</th>\n      <th>4</th>\n      <th>5</th>\n      <th>6</th>\n      <th>7</th>\n      <th>8</th>\n      <th>9</th>\n      <th>10</th>\n      <th>...</th>\n      <th>6031</th>\n      <th>6032</th>\n      <th>6033</th>\n      <th>6034</th>\n      <th>6035</th>\n      <th>6036</th>\n      <th>6037</th>\n      <th>6038</th>\n      <th>6039</th>\n      <th>6040</th>\n    </tr>\n  </thead>\n  <tbody>\n    <tr>\n      <th>One Flew Over the Cuckoo's Nest (1975)</th>\n      <td>5.0</td>\n      <td>5.0</td>\n      <td>NaN</td>\n      <td>NaN</td>\n      <td>NaN</td>\n      <td>NaN</td>\n      <td>NaN</td>\n      <td>NaN</td>\n      <td>NaN</td>\n      <td>NaN</td>\n      <td>...</td>\n      <td>NaN</td>\n      <td>5.0</td>\n      <td>5.0</td>\n      <td>NaN</td>\n      <td>5.0</td>\n      <td>5.0</td>\n      <td>4.0</td>\n      <td>NaN</td>\n      <td>NaN</td>\n      <td>4.0</td>\n    </tr>\n    <tr>\n      <th>James and the Giant Peach (1996)</th>\n      <td>3.0</td>\n      <td>NaN</td>\n      <td>NaN</td>\n      <td>NaN</td>\n      <td>NaN</td>\n      <td>NaN</td>\n      <td>NaN</td>\n      <td>NaN</td>\n      <td>NaN</td>\n      <td>NaN</td>\n      <td>...</td>\n      <td>NaN</td>\n      <td>NaN</td>\n      <td>NaN</td>\n      <td>NaN</td>\n      <td>NaN</td>\n      <td>NaN</td>\n      <td>NaN</td>\n      <td>NaN</td>\n      <td>3.0</td>\n      <td>NaN</td>\n    </tr>\n    <tr>\n      <th>My Fair Lady (1964)</th>\n      <td>3.0</td>\n      <td>NaN</td>\n      <td>NaN</td>\n      <td>NaN</td>\n      <td>NaN</td>\n      <td>5.0</td>\n      <td>NaN</td>\n      <td>NaN</td>\n      <td>NaN</td>\n      <td>5.0</td>\n      <td>...</td>\n      <td>NaN</td>\n      <td>NaN</td>\n      <td>NaN</td>\n      <td>NaN</td>\n      <td>NaN</td>\n      <td>3.0</td>\n      <td>NaN</td>\n      <td>NaN</td>\n      <td>4.0</td>\n      <td>NaN</td>\n    </tr>\n    <tr>\n      <th>Erin Brockovich (2000)</th>\n      <td>4.0</td>\n      <td>NaN</td>\n      <td>NaN</td>\n      <td>NaN</td>\n      <td>3.0</td>\n      <td>5.0</td>\n      <td>NaN</td>\n      <td>NaN</td>\n      <td>4.0</td>\n      <td>4.0</td>\n      <td>...</td>\n      <td>NaN</td>\n      <td>NaN</td>\n      <td>NaN</td>\n      <td>NaN</td>\n      <td>NaN</td>\n      <td>4.0</td>\n      <td>NaN</td>\n      <td>NaN</td>\n      <td>NaN</td>\n      <td>NaN</td>\n    </tr>\n    <tr>\n      <th>Bug's Life, A (1998)</th>\n      <td>5.0</td>\n      <td>NaN</td>\n      <td>5.0</td>\n      <td>NaN</td>\n      <td>5.0</td>\n      <td>NaN</td>\n      <td>NaN</td>\n      <td>NaN</td>\n      <td>4.0</td>\n      <td>4.0</td>\n      <td>...</td>\n      <td>NaN</td>\n      <td>NaN</td>\n      <td>NaN</td>\n      <td>NaN</td>\n      <td>5.0</td>\n      <td>4.0</td>\n      <td>NaN</td>\n      <td>NaN</td>\n      <td>NaN</td>\n      <td>NaN</td>\n    </tr>\n  </tbody>\n</table>\n<p>5 rows × 6040 columns</p>\n</div>"
     },
     "execution_count": 10,
     "metadata": {},
     "output_type": "execute_result"
    }
   ],
   "source": [
    "critics = loadMovieLens1M()\n",
    "pd.DataFrame.from_dict(critics).head()"
   ],
   "metadata": {
    "collapsed": false,
    "pycharm": {
     "name": "#%%\n"
    }
   }
  },
  {
   "cell_type": "markdown",
   "source": [
    "## test train split\n",
    "\n",
    "### Вариант 1:\n",
    "Тестовые пользователи – это те, у кого ID делется на 5 без остатка. Для каждого тестового пользователя скройте каждый десятый фильм по возрастанию ID"
   ],
   "metadata": {
    "collapsed": false,
    "pycharm": {
     "name": "#%% md\n"
    }
   }
  },
  {
   "cell_type": "code",
   "execution_count": 11,
   "outputs": [
    {
     "data": {
      "text/plain": "6040"
     },
     "execution_count": 11,
     "metadata": {},
     "output_type": "execute_result"
    }
   ],
   "source": [
    "all_users = [u for u in critics]\n",
    "len(all_users)"
   ],
   "metadata": {
    "collapsed": false,
    "pycharm": {
     "name": "#%%\n"
    }
   }
  },
  {
   "cell_type": "code",
   "execution_count": 12,
   "outputs": [
    {
     "data": {
      "text/plain": "1208"
     },
     "execution_count": 12,
     "metadata": {},
     "output_type": "execute_result"
    }
   ],
   "source": [
    "users_test_list = [u for u in critics if int(u) % 5 == 0]\n",
    "len(users_test_list)"
   ],
   "metadata": {
    "collapsed": false,
    "pycharm": {
     "name": "#%%\n"
    }
   }
  },
  {
   "cell_type": "code",
   "execution_count": 13,
   "outputs": [
    {
     "data": {
      "text/plain": "                              5  10   15  20  25   30  35  40  45  50  ...  \\\nDonnie Brasco (1997)        3.0 NaN  4.0 NaN NaN  NaN NaN NaN NaN NaN  ...   \nGladiator (2000)            2.0 NaN  NaN NaN NaN  NaN NaN NaN NaN NaN  ...   \nSeven (Se7en) (1995)        3.0 NaN  NaN NaN NaN  NaN NaN NaN NaN NaN  ...   \nApollo 13 (1995)            2.0 NaN  NaN NaN NaN  NaN NaN NaN NaN NaN  ...   \nUsual Suspects, The (1995)  5.0 NaN  4.0 NaN NaN  5.0 NaN NaN NaN NaN  ...   \n\n                            5995  6000  6005  6010  6015  6020  6025  6030  \\\nDonnie Brasco (1997)         NaN   NaN   NaN   NaN   NaN   NaN   NaN   NaN   \nGladiator (2000)             NaN   NaN   NaN   NaN   NaN   NaN   NaN   NaN   \nSeven (Se7en) (1995)         NaN   NaN   NaN   NaN   NaN   NaN   NaN   NaN   \nApollo 13 (1995)             NaN   NaN   NaN   NaN   NaN   NaN   NaN   NaN   \nUsual Suspects, The (1995)   4.0   NaN   NaN   NaN   NaN   NaN   NaN   NaN   \n\n                            6035  6040  \nDonnie Brasco (1997)         NaN   NaN  \nGladiator (2000)             NaN   NaN  \nSeven (Se7en) (1995)         NaN   NaN  \nApollo 13 (1995)             NaN   NaN  \nUsual Suspects, The (1995)   NaN   NaN  \n\n[5 rows x 1208 columns]",
      "text/html": "<div>\n<style scoped>\n    .dataframe tbody tr th:only-of-type {\n        vertical-align: middle;\n    }\n\n    .dataframe tbody tr th {\n        vertical-align: top;\n    }\n\n    .dataframe thead th {\n        text-align: right;\n    }\n</style>\n<table border=\"1\" class=\"dataframe\">\n  <thead>\n    <tr style=\"text-align: right;\">\n      <th></th>\n      <th>5</th>\n      <th>10</th>\n      <th>15</th>\n      <th>20</th>\n      <th>25</th>\n      <th>30</th>\n      <th>35</th>\n      <th>40</th>\n      <th>45</th>\n      <th>50</th>\n      <th>...</th>\n      <th>5995</th>\n      <th>6000</th>\n      <th>6005</th>\n      <th>6010</th>\n      <th>6015</th>\n      <th>6020</th>\n      <th>6025</th>\n      <th>6030</th>\n      <th>6035</th>\n      <th>6040</th>\n    </tr>\n  </thead>\n  <tbody>\n    <tr>\n      <th>Donnie Brasco (1997)</th>\n      <td>3.0</td>\n      <td>NaN</td>\n      <td>4.0</td>\n      <td>NaN</td>\n      <td>NaN</td>\n      <td>NaN</td>\n      <td>NaN</td>\n      <td>NaN</td>\n      <td>NaN</td>\n      <td>NaN</td>\n      <td>...</td>\n      <td>NaN</td>\n      <td>NaN</td>\n      <td>NaN</td>\n      <td>NaN</td>\n      <td>NaN</td>\n      <td>NaN</td>\n      <td>NaN</td>\n      <td>NaN</td>\n      <td>NaN</td>\n      <td>NaN</td>\n    </tr>\n    <tr>\n      <th>Gladiator (2000)</th>\n      <td>2.0</td>\n      <td>NaN</td>\n      <td>NaN</td>\n      <td>NaN</td>\n      <td>NaN</td>\n      <td>NaN</td>\n      <td>NaN</td>\n      <td>NaN</td>\n      <td>NaN</td>\n      <td>NaN</td>\n      <td>...</td>\n      <td>NaN</td>\n      <td>NaN</td>\n      <td>NaN</td>\n      <td>NaN</td>\n      <td>NaN</td>\n      <td>NaN</td>\n      <td>NaN</td>\n      <td>NaN</td>\n      <td>NaN</td>\n      <td>NaN</td>\n    </tr>\n    <tr>\n      <th>Seven (Se7en) (1995)</th>\n      <td>3.0</td>\n      <td>NaN</td>\n      <td>NaN</td>\n      <td>NaN</td>\n      <td>NaN</td>\n      <td>NaN</td>\n      <td>NaN</td>\n      <td>NaN</td>\n      <td>NaN</td>\n      <td>NaN</td>\n      <td>...</td>\n      <td>NaN</td>\n      <td>NaN</td>\n      <td>NaN</td>\n      <td>NaN</td>\n      <td>NaN</td>\n      <td>NaN</td>\n      <td>NaN</td>\n      <td>NaN</td>\n      <td>NaN</td>\n      <td>NaN</td>\n    </tr>\n    <tr>\n      <th>Apollo 13 (1995)</th>\n      <td>2.0</td>\n      <td>NaN</td>\n      <td>NaN</td>\n      <td>NaN</td>\n      <td>NaN</td>\n      <td>NaN</td>\n      <td>NaN</td>\n      <td>NaN</td>\n      <td>NaN</td>\n      <td>NaN</td>\n      <td>...</td>\n      <td>NaN</td>\n      <td>NaN</td>\n      <td>NaN</td>\n      <td>NaN</td>\n      <td>NaN</td>\n      <td>NaN</td>\n      <td>NaN</td>\n      <td>NaN</td>\n      <td>NaN</td>\n      <td>NaN</td>\n    </tr>\n    <tr>\n      <th>Usual Suspects, The (1995)</th>\n      <td>5.0</td>\n      <td>NaN</td>\n      <td>4.0</td>\n      <td>NaN</td>\n      <td>NaN</td>\n      <td>5.0</td>\n      <td>NaN</td>\n      <td>NaN</td>\n      <td>NaN</td>\n      <td>NaN</td>\n      <td>...</td>\n      <td>4.0</td>\n      <td>NaN</td>\n      <td>NaN</td>\n      <td>NaN</td>\n      <td>NaN</td>\n      <td>NaN</td>\n      <td>NaN</td>\n      <td>NaN</td>\n      <td>NaN</td>\n      <td>NaN</td>\n    </tr>\n  </tbody>\n</table>\n<p>5 rows × 1208 columns</p>\n</div>"
     },
     "execution_count": 13,
     "metadata": {},
     "output_type": "execute_result"
    }
   ],
   "source": [
    "critics_test = {}\n",
    "# critics_train = {}\n",
    "for u in users_test_list:\n",
    "    critics_test[u] = {}\n",
    "    # critics_train[u] = {}\n",
    "    m_id = 0\n",
    "    for m in critics[u]:\n",
    "        m_id += 1\n",
    "        if m_id % 10 == 0:\n",
    "            critics_test[u][m] = critics[u][m]\n",
    "        # else:\n",
    "        #     critics_train[u][m] = critics[u][m]\n",
    "pd.DataFrame.from_dict(critics_test).head()"
   ],
   "metadata": {
    "collapsed": false,
    "pycharm": {
     "name": "#%%\n"
    }
   }
  },
  {
   "cell_type": "code",
   "execution_count": 14,
   "outputs": [
    {
     "data": {
      "text/plain": "                                          1    2    3   4   5    6   7   8  \\\nOne Flew Over the Cuckoo's Nest (1975)  5.0  5.0  NaN NaN NaN  NaN NaN NaN   \nJames and the Giant Peach (1996)        3.0  NaN  NaN NaN NaN  NaN NaN NaN   \nMy Fair Lady (1964)                     3.0  NaN  NaN NaN NaN  5.0 NaN NaN   \nErin Brockovich (2000)                  4.0  NaN  NaN NaN NaN  5.0 NaN NaN   \nBug's Life, A (1998)                    5.0  NaN  5.0 NaN NaN  NaN NaN NaN   \n\n                                          9  10  ...  6031  6032  6033  6034  \\\nOne Flew Over the Cuckoo's Nest (1975)  NaN NaN  ...   NaN   5.0   5.0   NaN   \nJames and the Giant Peach (1996)        NaN NaN  ...   NaN   NaN   NaN   NaN   \nMy Fair Lady (1964)                     NaN NaN  ...   NaN   NaN   NaN   NaN   \nErin Brockovich (2000)                  4.0 NaN  ...   NaN   NaN   NaN   NaN   \nBug's Life, A (1998)                    4.0 NaN  ...   NaN   NaN   NaN   NaN   \n\n                                        6035  6036  6037  6038  6039  6040  \nOne Flew Over the Cuckoo's Nest (1975)   NaN   5.0   4.0   NaN   NaN   NaN  \nJames and the Giant Peach (1996)         NaN   NaN   NaN   NaN   3.0   NaN  \nMy Fair Lady (1964)                      NaN   3.0   NaN   NaN   4.0   NaN  \nErin Brockovich (2000)                   NaN   4.0   NaN   NaN   NaN   NaN  \nBug's Life, A (1998)                     NaN   4.0   NaN   NaN   NaN   NaN  \n\n[5 rows x 6040 columns]",
      "text/html": "<div>\n<style scoped>\n    .dataframe tbody tr th:only-of-type {\n        vertical-align: middle;\n    }\n\n    .dataframe tbody tr th {\n        vertical-align: top;\n    }\n\n    .dataframe thead th {\n        text-align: right;\n    }\n</style>\n<table border=\"1\" class=\"dataframe\">\n  <thead>\n    <tr style=\"text-align: right;\">\n      <th></th>\n      <th>1</th>\n      <th>2</th>\n      <th>3</th>\n      <th>4</th>\n      <th>5</th>\n      <th>6</th>\n      <th>7</th>\n      <th>8</th>\n      <th>9</th>\n      <th>10</th>\n      <th>...</th>\n      <th>6031</th>\n      <th>6032</th>\n      <th>6033</th>\n      <th>6034</th>\n      <th>6035</th>\n      <th>6036</th>\n      <th>6037</th>\n      <th>6038</th>\n      <th>6039</th>\n      <th>6040</th>\n    </tr>\n  </thead>\n  <tbody>\n    <tr>\n      <th>One Flew Over the Cuckoo's Nest (1975)</th>\n      <td>5.0</td>\n      <td>5.0</td>\n      <td>NaN</td>\n      <td>NaN</td>\n      <td>NaN</td>\n      <td>NaN</td>\n      <td>NaN</td>\n      <td>NaN</td>\n      <td>NaN</td>\n      <td>NaN</td>\n      <td>...</td>\n      <td>NaN</td>\n      <td>5.0</td>\n      <td>5.0</td>\n      <td>NaN</td>\n      <td>NaN</td>\n      <td>5.0</td>\n      <td>4.0</td>\n      <td>NaN</td>\n      <td>NaN</td>\n      <td>NaN</td>\n    </tr>\n    <tr>\n      <th>James and the Giant Peach (1996)</th>\n      <td>3.0</td>\n      <td>NaN</td>\n      <td>NaN</td>\n      <td>NaN</td>\n      <td>NaN</td>\n      <td>NaN</td>\n      <td>NaN</td>\n      <td>NaN</td>\n      <td>NaN</td>\n      <td>NaN</td>\n      <td>...</td>\n      <td>NaN</td>\n      <td>NaN</td>\n      <td>NaN</td>\n      <td>NaN</td>\n      <td>NaN</td>\n      <td>NaN</td>\n      <td>NaN</td>\n      <td>NaN</td>\n      <td>3.0</td>\n      <td>NaN</td>\n    </tr>\n    <tr>\n      <th>My Fair Lady (1964)</th>\n      <td>3.0</td>\n      <td>NaN</td>\n      <td>NaN</td>\n      <td>NaN</td>\n      <td>NaN</td>\n      <td>5.0</td>\n      <td>NaN</td>\n      <td>NaN</td>\n      <td>NaN</td>\n      <td>NaN</td>\n      <td>...</td>\n      <td>NaN</td>\n      <td>NaN</td>\n      <td>NaN</td>\n      <td>NaN</td>\n      <td>NaN</td>\n      <td>3.0</td>\n      <td>NaN</td>\n      <td>NaN</td>\n      <td>4.0</td>\n      <td>NaN</td>\n    </tr>\n    <tr>\n      <th>Erin Brockovich (2000)</th>\n      <td>4.0</td>\n      <td>NaN</td>\n      <td>NaN</td>\n      <td>NaN</td>\n      <td>NaN</td>\n      <td>5.0</td>\n      <td>NaN</td>\n      <td>NaN</td>\n      <td>4.0</td>\n      <td>NaN</td>\n      <td>...</td>\n      <td>NaN</td>\n      <td>NaN</td>\n      <td>NaN</td>\n      <td>NaN</td>\n      <td>NaN</td>\n      <td>4.0</td>\n      <td>NaN</td>\n      <td>NaN</td>\n      <td>NaN</td>\n      <td>NaN</td>\n    </tr>\n    <tr>\n      <th>Bug's Life, A (1998)</th>\n      <td>5.0</td>\n      <td>NaN</td>\n      <td>5.0</td>\n      <td>NaN</td>\n      <td>NaN</td>\n      <td>NaN</td>\n      <td>NaN</td>\n      <td>NaN</td>\n      <td>4.0</td>\n      <td>NaN</td>\n      <td>...</td>\n      <td>NaN</td>\n      <td>NaN</td>\n      <td>NaN</td>\n      <td>NaN</td>\n      <td>NaN</td>\n      <td>4.0</td>\n      <td>NaN</td>\n      <td>NaN</td>\n      <td>NaN</td>\n      <td>NaN</td>\n    </tr>\n  </tbody>\n</table>\n<p>5 rows × 6040 columns</p>\n</div>"
     },
     "execution_count": 14,
     "metadata": {},
     "output_type": "execute_result"
    }
   ],
   "source": [
    "critics_train = {}\n",
    "for u in all_users:\n",
    "    if u not in users_test_list:\n",
    "        critics_train[u] = {}\n",
    "        for m in critics[u]:\n",
    "            critics_train[u][m] = critics[u][m]\n",
    "    else:\n",
    "        critics_train[u] = {}\n",
    "        m_id = 0\n",
    "        for m in critics[u]:\n",
    "            m_id += 1\n",
    "            if m_id % 10 == 0:\n",
    "                critics_train[u][m] = critics[u][m]\n",
    "\n",
    "pd.DataFrame.from_dict(critics_train).head()"
   ],
   "metadata": {
    "collapsed": false,
    "pycharm": {
     "name": "#%%\n"
    }
   }
  },
  {
   "cell_type": "markdown",
   "source": [
    "### Вариант 2:\n",
    "Тестовые пользователи – это случайно выбранные 20% сохраните их список для воспроизводимости. Для каждого тестового пользователя скройте каждый фильм с вероятностью 1/10, сохраните список скрытых фильмов."
   ],
   "metadata": {
    "collapsed": false,
    "pycharm": {
     "name": "#%% md\n"
    }
   }
  },
  {
   "cell_type": "code",
   "execution_count": 15,
   "outputs": [
    {
     "data": {
      "text/plain": "1175"
     },
     "execution_count": 15,
     "metadata": {},
     "output_type": "execute_result"
    }
   ],
   "source": [
    "seed(2)\n",
    "users_test_list_2 = [u for u in critics if random()<=0.2]\n",
    "len(users_test_list_2)"
   ],
   "metadata": {
    "collapsed": false,
    "pycharm": {
     "name": "#%%\n"
    }
   }
  },
  {
   "cell_type": "code",
   "execution_count": 16,
   "outputs": [
    {
     "data": {
      "text/plain": "                               3   4  12  21   22  30   32   36  46  66  ...  \\\nMission: Impossible (1996)   3.0 NaN NaN NaN  2.0 NaN  NaN  NaN NaN NaN  ...   \nRaising Arizona (1987)       4.0 NaN NaN NaN  5.0 NaN  NaN  NaN NaN NaN  ...   \nBeing John Malkovich (1999)  3.0 NaN NaN NaN  NaN NaN  NaN  NaN NaN NaN  ...   \nAmerican Beauty (1999)       4.0 NaN NaN NaN  NaN NaN  4.0  4.0 NaN NaN  ...   \nToy Story 2 (1999)           3.0 NaN NaN NaN  NaN NaN  NaN  NaN NaN NaN  ...   \n\n                             6000  6006  6008  6018  6021  6025  6028  6031  \\\nMission: Impossible (1996)    NaN   NaN   NaN   NaN   NaN   NaN   NaN   NaN   \nRaising Arizona (1987)        NaN   NaN   NaN   NaN   NaN   NaN   NaN   2.0   \nBeing John Malkovich (1999)   NaN   NaN   NaN   NaN   NaN   5.0   NaN   NaN   \nAmerican Beauty (1999)        NaN   NaN   NaN   NaN   NaN   NaN   NaN   NaN   \nToy Story 2 (1999)            NaN   NaN   NaN   NaN   NaN   NaN   NaN   NaN   \n\n                             6032  6037  \nMission: Impossible (1996)    NaN   NaN  \nRaising Arizona (1987)        NaN   NaN  \nBeing John Malkovich (1999)   NaN   4.0  \nAmerican Beauty (1999)        NaN   NaN  \nToy Story 2 (1999)            NaN   NaN  \n\n[5 rows x 1175 columns]",
      "text/html": "<div>\n<style scoped>\n    .dataframe tbody tr th:only-of-type {\n        vertical-align: middle;\n    }\n\n    .dataframe tbody tr th {\n        vertical-align: top;\n    }\n\n    .dataframe thead th {\n        text-align: right;\n    }\n</style>\n<table border=\"1\" class=\"dataframe\">\n  <thead>\n    <tr style=\"text-align: right;\">\n      <th></th>\n      <th>3</th>\n      <th>4</th>\n      <th>12</th>\n      <th>21</th>\n      <th>22</th>\n      <th>30</th>\n      <th>32</th>\n      <th>36</th>\n      <th>46</th>\n      <th>66</th>\n      <th>...</th>\n      <th>6000</th>\n      <th>6006</th>\n      <th>6008</th>\n      <th>6018</th>\n      <th>6021</th>\n      <th>6025</th>\n      <th>6028</th>\n      <th>6031</th>\n      <th>6032</th>\n      <th>6037</th>\n    </tr>\n  </thead>\n  <tbody>\n    <tr>\n      <th>Mission: Impossible (1996)</th>\n      <td>3.0</td>\n      <td>NaN</td>\n      <td>NaN</td>\n      <td>NaN</td>\n      <td>2.0</td>\n      <td>NaN</td>\n      <td>NaN</td>\n      <td>NaN</td>\n      <td>NaN</td>\n      <td>NaN</td>\n      <td>...</td>\n      <td>NaN</td>\n      <td>NaN</td>\n      <td>NaN</td>\n      <td>NaN</td>\n      <td>NaN</td>\n      <td>NaN</td>\n      <td>NaN</td>\n      <td>NaN</td>\n      <td>NaN</td>\n      <td>NaN</td>\n    </tr>\n    <tr>\n      <th>Raising Arizona (1987)</th>\n      <td>4.0</td>\n      <td>NaN</td>\n      <td>NaN</td>\n      <td>NaN</td>\n      <td>5.0</td>\n      <td>NaN</td>\n      <td>NaN</td>\n      <td>NaN</td>\n      <td>NaN</td>\n      <td>NaN</td>\n      <td>...</td>\n      <td>NaN</td>\n      <td>NaN</td>\n      <td>NaN</td>\n      <td>NaN</td>\n      <td>NaN</td>\n      <td>NaN</td>\n      <td>NaN</td>\n      <td>2.0</td>\n      <td>NaN</td>\n      <td>NaN</td>\n    </tr>\n    <tr>\n      <th>Being John Malkovich (1999)</th>\n      <td>3.0</td>\n      <td>NaN</td>\n      <td>NaN</td>\n      <td>NaN</td>\n      <td>NaN</td>\n      <td>NaN</td>\n      <td>NaN</td>\n      <td>NaN</td>\n      <td>NaN</td>\n      <td>NaN</td>\n      <td>...</td>\n      <td>NaN</td>\n      <td>NaN</td>\n      <td>NaN</td>\n      <td>NaN</td>\n      <td>NaN</td>\n      <td>5.0</td>\n      <td>NaN</td>\n      <td>NaN</td>\n      <td>NaN</td>\n      <td>4.0</td>\n    </tr>\n    <tr>\n      <th>American Beauty (1999)</th>\n      <td>4.0</td>\n      <td>NaN</td>\n      <td>NaN</td>\n      <td>NaN</td>\n      <td>NaN</td>\n      <td>NaN</td>\n      <td>4.0</td>\n      <td>4.0</td>\n      <td>NaN</td>\n      <td>NaN</td>\n      <td>...</td>\n      <td>NaN</td>\n      <td>NaN</td>\n      <td>NaN</td>\n      <td>NaN</td>\n      <td>NaN</td>\n      <td>NaN</td>\n      <td>NaN</td>\n      <td>NaN</td>\n      <td>NaN</td>\n      <td>NaN</td>\n    </tr>\n    <tr>\n      <th>Toy Story 2 (1999)</th>\n      <td>3.0</td>\n      <td>NaN</td>\n      <td>NaN</td>\n      <td>NaN</td>\n      <td>NaN</td>\n      <td>NaN</td>\n      <td>NaN</td>\n      <td>NaN</td>\n      <td>NaN</td>\n      <td>NaN</td>\n      <td>...</td>\n      <td>NaN</td>\n      <td>NaN</td>\n      <td>NaN</td>\n      <td>NaN</td>\n      <td>NaN</td>\n      <td>NaN</td>\n      <td>NaN</td>\n      <td>NaN</td>\n      <td>NaN</td>\n      <td>NaN</td>\n    </tr>\n  </tbody>\n</table>\n<p>5 rows × 1175 columns</p>\n</div>"
     },
     "execution_count": 16,
     "metadata": {},
     "output_type": "execute_result"
    }
   ],
   "source": [
    "seed(2)\n",
    "critics_test_2 = {}\n",
    "critics_train_2_ = {}\n",
    "for u in users_test_list_2:\n",
    "    critics_test_2[u] = {}\n",
    "    critics_train_2_[u] = {}\n",
    "    for m in critics[u]:\n",
    "        if random()<=0.2:\n",
    "            critics_test_2[u][m] = critics[u][m]\n",
    "        else:\n",
    "            critics_train_2_[u][m] = critics[u][m]\n",
    "pd.DataFrame.from_dict(critics_test_2).head()"
   ],
   "metadata": {
    "collapsed": false,
    "pycharm": {
     "name": "#%%\n"
    }
   }
  },
  {
   "cell_type": "code",
   "execution_count": 17,
   "outputs": [
    {
     "data": {
      "text/plain": "                            3   4  12  21   22  30  32  36  46  66  ...  6000  \\\nAnimal House (1978)       4.0 NaN NaN NaN  NaN NaN NaN NaN NaN NaN  ...   4.0   \nFull Monty, The (1997)    2.0 NaN NaN NaN  NaN NaN NaN NaN NaN NaN  ...   3.0   \n28 Days (2000)            3.0 NaN NaN NaN  NaN NaN NaN NaN NaN NaN  ...   NaN   \nHappy Gilmore (1996)      4.0 NaN NaN NaN  3.0 NaN NaN NaN NaN NaN  ...   NaN   \nGolden Child, The (1986)  4.0 NaN NaN NaN  NaN NaN NaN NaN NaN NaN  ...   NaN   \n\n                          6006  6008  6018  6021  6025  6028  6031  6032  6037  \nAnimal House (1978)        NaN   NaN   NaN   NaN   NaN   NaN   NaN   4.0   NaN  \nFull Monty, The (1997)     NaN   NaN   NaN   NaN   NaN   NaN   NaN   NaN   NaN  \n28 Days (2000)             NaN   NaN   NaN   NaN   NaN   NaN   NaN   NaN   NaN  \nHappy Gilmore (1996)       NaN   NaN   NaN   NaN   1.0   NaN   NaN   NaN   NaN  \nGolden Child, The (1986)   NaN   NaN   NaN   NaN   NaN   NaN   NaN   NaN   NaN  \n\n[5 rows x 1175 columns]",
      "text/html": "<div>\n<style scoped>\n    .dataframe tbody tr th:only-of-type {\n        vertical-align: middle;\n    }\n\n    .dataframe tbody tr th {\n        vertical-align: top;\n    }\n\n    .dataframe thead th {\n        text-align: right;\n    }\n</style>\n<table border=\"1\" class=\"dataframe\">\n  <thead>\n    <tr style=\"text-align: right;\">\n      <th></th>\n      <th>3</th>\n      <th>4</th>\n      <th>12</th>\n      <th>21</th>\n      <th>22</th>\n      <th>30</th>\n      <th>32</th>\n      <th>36</th>\n      <th>46</th>\n      <th>66</th>\n      <th>...</th>\n      <th>6000</th>\n      <th>6006</th>\n      <th>6008</th>\n      <th>6018</th>\n      <th>6021</th>\n      <th>6025</th>\n      <th>6028</th>\n      <th>6031</th>\n      <th>6032</th>\n      <th>6037</th>\n    </tr>\n  </thead>\n  <tbody>\n    <tr>\n      <th>Animal House (1978)</th>\n      <td>4.0</td>\n      <td>NaN</td>\n      <td>NaN</td>\n      <td>NaN</td>\n      <td>NaN</td>\n      <td>NaN</td>\n      <td>NaN</td>\n      <td>NaN</td>\n      <td>NaN</td>\n      <td>NaN</td>\n      <td>...</td>\n      <td>4.0</td>\n      <td>NaN</td>\n      <td>NaN</td>\n      <td>NaN</td>\n      <td>NaN</td>\n      <td>NaN</td>\n      <td>NaN</td>\n      <td>NaN</td>\n      <td>4.0</td>\n      <td>NaN</td>\n    </tr>\n    <tr>\n      <th>Full Monty, The (1997)</th>\n      <td>2.0</td>\n      <td>NaN</td>\n      <td>NaN</td>\n      <td>NaN</td>\n      <td>NaN</td>\n      <td>NaN</td>\n      <td>NaN</td>\n      <td>NaN</td>\n      <td>NaN</td>\n      <td>NaN</td>\n      <td>...</td>\n      <td>3.0</td>\n      <td>NaN</td>\n      <td>NaN</td>\n      <td>NaN</td>\n      <td>NaN</td>\n      <td>NaN</td>\n      <td>NaN</td>\n      <td>NaN</td>\n      <td>NaN</td>\n      <td>NaN</td>\n    </tr>\n    <tr>\n      <th>28 Days (2000)</th>\n      <td>3.0</td>\n      <td>NaN</td>\n      <td>NaN</td>\n      <td>NaN</td>\n      <td>NaN</td>\n      <td>NaN</td>\n      <td>NaN</td>\n      <td>NaN</td>\n      <td>NaN</td>\n      <td>NaN</td>\n      <td>...</td>\n      <td>NaN</td>\n      <td>NaN</td>\n      <td>NaN</td>\n      <td>NaN</td>\n      <td>NaN</td>\n      <td>NaN</td>\n      <td>NaN</td>\n      <td>NaN</td>\n      <td>NaN</td>\n      <td>NaN</td>\n    </tr>\n    <tr>\n      <th>Happy Gilmore (1996)</th>\n      <td>4.0</td>\n      <td>NaN</td>\n      <td>NaN</td>\n      <td>NaN</td>\n      <td>3.0</td>\n      <td>NaN</td>\n      <td>NaN</td>\n      <td>NaN</td>\n      <td>NaN</td>\n      <td>NaN</td>\n      <td>...</td>\n      <td>NaN</td>\n      <td>NaN</td>\n      <td>NaN</td>\n      <td>NaN</td>\n      <td>NaN</td>\n      <td>1.0</td>\n      <td>NaN</td>\n      <td>NaN</td>\n      <td>NaN</td>\n      <td>NaN</td>\n    </tr>\n    <tr>\n      <th>Golden Child, The (1986)</th>\n      <td>4.0</td>\n      <td>NaN</td>\n      <td>NaN</td>\n      <td>NaN</td>\n      <td>NaN</td>\n      <td>NaN</td>\n      <td>NaN</td>\n      <td>NaN</td>\n      <td>NaN</td>\n      <td>NaN</td>\n      <td>...</td>\n      <td>NaN</td>\n      <td>NaN</td>\n      <td>NaN</td>\n      <td>NaN</td>\n      <td>NaN</td>\n      <td>NaN</td>\n      <td>NaN</td>\n      <td>NaN</td>\n      <td>NaN</td>\n      <td>NaN</td>\n    </tr>\n  </tbody>\n</table>\n<p>5 rows × 1175 columns</p>\n</div>"
     },
     "execution_count": 17,
     "metadata": {},
     "output_type": "execute_result"
    }
   ],
   "source": [
    "pd.DataFrame.from_dict(critics_train_2_).head()"
   ],
   "metadata": {
    "collapsed": false,
    "pycharm": {
     "name": "#%%\n"
    }
   }
  },
  {
   "cell_type": "code",
   "execution_count": 18,
   "outputs": [
    {
     "data": {
      "text/plain": "                                          1    2    3   4    5    6   7   8  \\\nOne Flew Over the Cuckoo's Nest (1975)  5.0  5.0  NaN NaN  NaN  NaN NaN NaN   \nJames and the Giant Peach (1996)        3.0  NaN  NaN NaN  NaN  NaN NaN NaN   \nMy Fair Lady (1964)                     3.0  NaN  NaN NaN  NaN  5.0 NaN NaN   \nErin Brockovich (2000)                  4.0  NaN  NaN NaN  3.0  5.0 NaN NaN   \nBug's Life, A (1998)                    5.0  NaN  5.0 NaN  5.0  NaN NaN NaN   \n\n                                          9   10  ...  6031  6032  6033  6034  \\\nOne Flew Over the Cuckoo's Nest (1975)  NaN  NaN  ...   NaN   NaN   5.0   NaN   \nJames and the Giant Peach (1996)        NaN  NaN  ...   NaN   NaN   NaN   NaN   \nMy Fair Lady (1964)                     NaN  5.0  ...   NaN   NaN   NaN   NaN   \nErin Brockovich (2000)                  4.0  4.0  ...   NaN   NaN   NaN   NaN   \nBug's Life, A (1998)                    4.0  4.0  ...   NaN   NaN   NaN   NaN   \n\n                                        6035  6036  6037  6038  6039  6040  \nOne Flew Over the Cuckoo's Nest (1975)   5.0   5.0   NaN   NaN   NaN   4.0  \nJames and the Giant Peach (1996)         NaN   NaN   NaN   NaN   3.0   NaN  \nMy Fair Lady (1964)                      NaN   3.0   NaN   NaN   4.0   NaN  \nErin Brockovich (2000)                   NaN   4.0   NaN   NaN   NaN   NaN  \nBug's Life, A (1998)                     5.0   4.0   NaN   NaN   NaN   NaN  \n\n[5 rows x 6040 columns]",
      "text/html": "<div>\n<style scoped>\n    .dataframe tbody tr th:only-of-type {\n        vertical-align: middle;\n    }\n\n    .dataframe tbody tr th {\n        vertical-align: top;\n    }\n\n    .dataframe thead th {\n        text-align: right;\n    }\n</style>\n<table border=\"1\" class=\"dataframe\">\n  <thead>\n    <tr style=\"text-align: right;\">\n      <th></th>\n      <th>1</th>\n      <th>2</th>\n      <th>3</th>\n      <th>4</th>\n      <th>5</th>\n      <th>6</th>\n      <th>7</th>\n      <th>8</th>\n      <th>9</th>\n      <th>10</th>\n      <th>...</th>\n      <th>6031</th>\n      <th>6032</th>\n      <th>6033</th>\n      <th>6034</th>\n      <th>6035</th>\n      <th>6036</th>\n      <th>6037</th>\n      <th>6038</th>\n      <th>6039</th>\n      <th>6040</th>\n    </tr>\n  </thead>\n  <tbody>\n    <tr>\n      <th>One Flew Over the Cuckoo's Nest (1975)</th>\n      <td>5.0</td>\n      <td>5.0</td>\n      <td>NaN</td>\n      <td>NaN</td>\n      <td>NaN</td>\n      <td>NaN</td>\n      <td>NaN</td>\n      <td>NaN</td>\n      <td>NaN</td>\n      <td>NaN</td>\n      <td>...</td>\n      <td>NaN</td>\n      <td>NaN</td>\n      <td>5.0</td>\n      <td>NaN</td>\n      <td>5.0</td>\n      <td>5.0</td>\n      <td>NaN</td>\n      <td>NaN</td>\n      <td>NaN</td>\n      <td>4.0</td>\n    </tr>\n    <tr>\n      <th>James and the Giant Peach (1996)</th>\n      <td>3.0</td>\n      <td>NaN</td>\n      <td>NaN</td>\n      <td>NaN</td>\n      <td>NaN</td>\n      <td>NaN</td>\n      <td>NaN</td>\n      <td>NaN</td>\n      <td>NaN</td>\n      <td>NaN</td>\n      <td>...</td>\n      <td>NaN</td>\n      <td>NaN</td>\n      <td>NaN</td>\n      <td>NaN</td>\n      <td>NaN</td>\n      <td>NaN</td>\n      <td>NaN</td>\n      <td>NaN</td>\n      <td>3.0</td>\n      <td>NaN</td>\n    </tr>\n    <tr>\n      <th>My Fair Lady (1964)</th>\n      <td>3.0</td>\n      <td>NaN</td>\n      <td>NaN</td>\n      <td>NaN</td>\n      <td>NaN</td>\n      <td>5.0</td>\n      <td>NaN</td>\n      <td>NaN</td>\n      <td>NaN</td>\n      <td>5.0</td>\n      <td>...</td>\n      <td>NaN</td>\n      <td>NaN</td>\n      <td>NaN</td>\n      <td>NaN</td>\n      <td>NaN</td>\n      <td>3.0</td>\n      <td>NaN</td>\n      <td>NaN</td>\n      <td>4.0</td>\n      <td>NaN</td>\n    </tr>\n    <tr>\n      <th>Erin Brockovich (2000)</th>\n      <td>4.0</td>\n      <td>NaN</td>\n      <td>NaN</td>\n      <td>NaN</td>\n      <td>3.0</td>\n      <td>5.0</td>\n      <td>NaN</td>\n      <td>NaN</td>\n      <td>4.0</td>\n      <td>4.0</td>\n      <td>...</td>\n      <td>NaN</td>\n      <td>NaN</td>\n      <td>NaN</td>\n      <td>NaN</td>\n      <td>NaN</td>\n      <td>4.0</td>\n      <td>NaN</td>\n      <td>NaN</td>\n      <td>NaN</td>\n      <td>NaN</td>\n    </tr>\n    <tr>\n      <th>Bug's Life, A (1998)</th>\n      <td>5.0</td>\n      <td>NaN</td>\n      <td>5.0</td>\n      <td>NaN</td>\n      <td>5.0</td>\n      <td>NaN</td>\n      <td>NaN</td>\n      <td>NaN</td>\n      <td>4.0</td>\n      <td>4.0</td>\n      <td>...</td>\n      <td>NaN</td>\n      <td>NaN</td>\n      <td>NaN</td>\n      <td>NaN</td>\n      <td>5.0</td>\n      <td>4.0</td>\n      <td>NaN</td>\n      <td>NaN</td>\n      <td>NaN</td>\n      <td>NaN</td>\n    </tr>\n  </tbody>\n</table>\n<p>5 rows × 6040 columns</p>\n</div>"
     },
     "execution_count": 18,
     "metadata": {},
     "output_type": "execute_result"
    }
   ],
   "source": [
    "critics_train_2 = {}\n",
    "for u in all_users:\n",
    "    if u not in users_test_list_2:\n",
    "        critics_train_2[u] = {}\n",
    "        for m in critics[u]:\n",
    "            critics_train_2[u][m] = critics[u][m]\n",
    "    else:\n",
    "        critics_train_2[u] = {}\n",
    "        for m in critics[u]:\n",
    "            if m not in [m for m in critics_train_2_[u]]:\n",
    "                critics_train_2[u][m] = critics[u][m]\n",
    "pd.DataFrame.from_dict(critics_train_2).head()"
   ],
   "metadata": {
    "collapsed": false,
    "pycharm": {
     "name": "#%%\n"
    }
   }
  },
  {
   "cell_type": "markdown",
   "source": [
    "### Выберите любые две меры похожести и реализуйте на их основе две модели рекомендаций на основе пользователей."
   ],
   "metadata": {
    "collapsed": false,
    "pycharm": {
     "name": "#%% md\n"
    }
   }
  },
  {
   "cell_type": "code",
   "execution_count": 47,
   "outputs": [],
   "source": [
    "# Возвращает сходство person1 и person2 на основе расстояния\n",
    "def sim_kernel(prefs,person1,person2,alpha=0.3):\n",
    "    # Получить список предметов, оцененных обоими\n",
    "    si={}\n",
    "    for item in prefs[person1]:\n",
    "        if item in prefs[person2]:\n",
    "            si[item]=1\n",
    "    # Если нет ни одной общей оценки, вернуть 0\n",
    "    if len(si)==0: return 0\n",
    "    # Сложить квадраты разностей\n",
    "    sum_of_squares=sum([pow(prefs[person1][item]-prefs[person2][item],2)\n",
    "                        for item in prefs[person1] if item in prefs[person2]])\n",
    "    return np.exp(-alpha*sum_of_squares)\n",
    "\n",
    "\n",
    "# Возвращает коэффициент корреляции Пирсона между p1 и p2\n",
    "def sim_pearson(prefs,p1,p2):\n",
    "    # Получить список предметов, оцененных обоими\n",
    "    si={}\n",
    "    for item in prefs[p1]:\n",
    "        if item in prefs[p2]: si[item]=1\n",
    "\n",
    "    # Если нет ни одной общей оценки, вернуть 0\n",
    "    if len(si)==0: return 0\n",
    "\n",
    "    # Количество соместно оцененных фильм\n",
    "    n=len(si)\n",
    "\n",
    "    # Вычислить сумму всех предпочтений\n",
    "    sum1=sum([prefs[p1][it] for it in si])\n",
    "    sum2=sum([prefs[p2][it] for it in si])\n",
    "\n",
    "    # Вычислить сумму квадратов\n",
    "    sum1Sq=sum([pow(prefs[p1][it],2) for it in si])\n",
    "    sum2Sq=sum([pow(prefs[p2][it],2) for it in si])\n",
    "\n",
    "    # Вычислить сумму произведений\n",
    "    pSum=sum([prefs[p1][it]*prefs[p2][it] for it in si])\n",
    "\n",
    "    # Вычислить коэффициент Пирсона\n",
    "    num=pSum-(sum1*sum2/n)\n",
    "    den=sqrt((sum1Sq-pow(sum1,2)/n)*(sum2Sq-pow(sum2,2)/n))\n",
    "    if den==0: return 0\n",
    "\n",
    "    r=round(num/den, 2)\n",
    "\n",
    "    return r"
   ],
   "metadata": {
    "collapsed": false,
    "pycharm": {
     "name": "#%%\n"
    }
   }
  },
  {
   "cell_type": "code",
   "execution_count": null,
   "outputs": [],
   "source": [],
   "metadata": {
    "collapsed": false,
    "pycharm": {
     "name": "#%%\n"
    }
   }
  },
  {
   "cell_type": "code",
   "execution_count": 22,
   "outputs": [],
   "source": [
    "from itertools import islice"
   ],
   "metadata": {
    "collapsed": false,
    "pycharm": {
     "name": "#%%\n"
    }
   }
  },
  {
   "cell_type": "code",
   "execution_count": 37,
   "outputs": [
    {
     "data": {
      "text/plain": "[('5',\n  {'Donnie Brasco (1997)': 3.0,\n   'Gladiator (2000)': 2.0,\n   'Seven (Se7en) (1995)': 3.0,\n   'Apollo 13 (1995)': 2.0,\n   'Usual Suspects, The (1995)': 5.0,\n   'Thin Red Line, The (1998)': 5.0,\n   'Ghostbusters (1984)': 3.0,\n   'Topsy-Turvy (1999)': 5.0,\n   'Go (1999)': 4.0,\n   'Fargo (1996)': 4.0,\n   'Fast, Cheap & Out of Control (1997)': 4.0,\n   'Fight Club (1999)': 4.0,\n   \"Jacob's Ladder (1990)\": 3.0,\n   'Incredibly True Adventure of Two Girls in Love, The (1995)': 3.0,\n   'Waiting for Guffman (1996)': 4.0,\n   'In the Company of Men (1997)': 1.0,\n   'Bullets Over Broadway (1994)': 4.0,\n   'Much Ado About Nothing (1993)': 3.0,\n   'Rosencrantz and Guildenstern Are Dead (1990)': 3.0})]"
     },
     "execution_count": 37,
     "metadata": {},
     "output_type": "execute_result"
    }
   ],
   "source": [
    "list(islice(critics_test.items(), 1))"
   ],
   "metadata": {
    "collapsed": false,
    "pycharm": {
     "name": "#%%\n"
    }
   }
  },
  {
   "cell_type": "code",
   "execution_count": 49,
   "outputs": [
    {
     "data": {
      "text/plain": "[(1.0, '993'),\n (1.0, '97'),\n (1.0, '964'),\n (1.0, '893'),\n (1.0, '887'),\n (1.0, '88'),\n (1.0, '838'),\n (1.0, '811'),\n (1.0, '78'),\n (1.0, '773'),\n (1.0, '764'),\n (1.0, '753'),\n (1.0, '734'),\n (1.0, '723'),\n (1.0, '717'),\n (1.0, '710'),\n (1.0, '68'),\n (1.0, '657'),\n (1.0, '628'),\n (1.0, '613'),\n (1.0, '6022'),\n (1.0, '5992'),\n (1.0, '5988'),\n (1.0, '5981'),\n (1.0, '5919')]"
     },
     "execution_count": 49,
     "metadata": {},
     "output_type": "execute_result"
    }
   ],
   "source": [
    "def topMatches(prefs,person,n=25,similarity=sim_pearson):\n",
    "    sim_list = sorted([(similarity(prefs, person, p), p) for p in prefs if p != person],\n",
    "                      reverse = True)\n",
    "    return sim_list[:n]\n",
    "\n",
    "topMatches(critics_train, list(critics_test.keys())[0])"
   ],
   "metadata": {
    "collapsed": false,
    "pycharm": {
     "name": "#%%\n"
    }
   }
  },
  {
   "cell_type": "code",
   "execution_count": 348,
   "outputs": [],
   "source": [
    "# Получить рекомендации для заданного человека, пользуясь взвешенным средним\n",
    "# оценок, данных всеми остальными пользователями\n",
    "def getRecommendations(prefs, test,person,similarity=sim_pearson,\n",
    "                       mode = \"exact\"):\n",
    "    top_persons = topMatches(prefs,person, 100, similarity)\n",
    "    film_sum = {}\n",
    "    film_multiplyer = {}\n",
    "    for p in top_persons:\n",
    "        if p[0] <= 0:\n",
    "            break\n",
    "        if mode != \"exact\":\n",
    "            for movie in prefs[p[1]]:\n",
    "                if not movie in film_sum:\n",
    "                    film_sum[movie] = 0\n",
    "                    film_multiplyer[movie] = 0\n",
    "\n",
    "                film_sum[movie] += prefs[p[1]][movie]*p[0]\n",
    "                film_multiplyer[movie] += p[0]\n",
    "        if mode == \"exact\":\n",
    "            test_list = test[person]\n",
    "            for movie in prefs[p[1]]:\n",
    "                if movie in test_list:\n",
    "                    if not movie in film_sum:\n",
    "                        film_sum[movie] = 0\n",
    "                        film_multiplyer[movie] = 0\n",
    "\n",
    "                    film_sum[movie] += prefs[p[1]][movie]*p[0]\n",
    "                    film_multiplyer[movie] += p[0]\n",
    "\n",
    "    if mode == \"only_NA\":\n",
    "        recomend = sorted([(movie, film_sum[movie]/film_multiplyer[movie]) for movie in film_sum if movie not in prefs[person]], reverse = True)\n",
    "    elif mode == \"all\":\n",
    "        recomend = sorted([(movie, film_sum[movie]/film_multiplyer[movie]) for movie in film_sum], reverse = True)\n",
    "    elif mode == \"exact\":\n",
    "        recomend = sorted([(movie, film_sum[movie]/film_multiplyer[movie]) for movie in film_sum if movie in test_list], reverse = True)\n",
    "\n",
    "    return dict(recomend)"
   ],
   "metadata": {
    "collapsed": false,
    "pycharm": {
     "name": "#%%\n"
    }
   }
  },
  {
   "cell_type": "code",
   "execution_count": 347,
   "outputs": [
    {
     "ename": "SyntaxError",
     "evalue": "invalid syntax (Temp/ipykernel_8864/1215301803.py, line 47)",
     "output_type": "error",
     "traceback": [
      "\u001B[1;36m  File \u001B[1;32m\"C:\\Users\\wirze\\AppData\\Local\\Temp/ipykernel_8864/1215301803.py\"\u001B[1;36m, line \u001B[1;32m47\u001B[0m\n\u001B[1;33m    recomend = sorted([(movie, person_mean + film_sum[movie]/film_multiplyer[movie]) for movie not in prefs[person]]], reverse = True)\u001B[0m\n\u001B[1;37m                                                                                               ^\u001B[0m\n\u001B[1;31mSyntaxError\u001B[0m\u001B[1;31m:\u001B[0m invalid syntax\n"
     ]
    }
   ],
   "source": [
    "# Как же я доволен собой, господь\n",
    "def getRecommendations_weighted(prefs, test, person,similarity=sim_pearson,\n",
    "                               mode = \"exact\"):\n",
    "    '''\n",
    "    :param prefs: train df\n",
    "    :param person: test df\n",
    "    :param similarity: method for user user sim\n",
    "    :param test_list: list of items to predict\n",
    "    :return: dict with movies and ratings\n",
    "    '''\n",
    "    top_persons = topMatches(prefs,person, 100, similarity)\n",
    "    test_list = test[person]\n",
    "    film_sum = {}\n",
    "    film_multiplyer = {}\n",
    "    # user 1 average\n",
    "    person_mean = np.mean(list(prefs[person].values()))\n",
    "    for p in top_persons:\n",
    "        # user_ratings = []\n",
    "        user_ratings_2 = {}\n",
    "        # берём только от похожих\n",
    "        if p[0] <= 0.5:\n",
    "            break\n",
    "        for movie in prefs[p[1]]:\n",
    "            ## считаем среднюю оценку и стандартное отклонение других пользователей\n",
    "            # user_ratings.append(prefs[p[1]][movie])\n",
    "            user_ratings_2[movie] = prefs[p[1]][movie]\n",
    "            if mode == \"exact\":\n",
    "                if movie in test_list:\n",
    "                    if not movie in film_sum:\n",
    "                        film_sum[movie] = 0\n",
    "                        film_multiplyer[movie] = 0\n",
    "\n",
    "                    ### типа з скор что-ли\n",
    "                    film_sum[movie] += p[0] * (prefs[p[1]][movie] - np.array(list(user_ratings_2.values())).mean()) / (np.array(list(user_ratings_2.values())).std() + 0.000000000001)\n",
    "                    film_multiplyer[movie] += p[0]\n",
    "            if mode == \"only_NA\":\n",
    "                if not movie in film_sum:\n",
    "                    film_sum[movie] = 0\n",
    "                    film_multiplyer[movie] = 0\n",
    "                    ### типа з скор что-ли\n",
    "                film_sum[movie] += p[0] * (prefs[p[1]][movie] - np.array(list(user_ratings_2.values())).mean()) / (np.array(list(user_ratings_2.values())).std() + 0.000000000001)\n",
    "                film_multiplyer[movie] += p[0]\n",
    "    ## добавляем среднюю оценку изначального пользователя\n",
    "    if mode == \"exact\":\n",
    "        recomend = sorted([(movie, person_mean + film_sum[movie]/film_multiplyer[movie]) for movie in film_sum], reverse = True)\n",
    "    if mode == \"only_NA\":\n",
    "        recomend = sorted([(movie, person_mean + film_sum[movie]/film_multiplyer[movie]) for movie not in prefs[person]]], reverse = True)\n",
    "\n",
    "    return dict(recomend)"
   ],
   "metadata": {
    "collapsed": false,
    "pycharm": {
     "name": "#%%\n"
    }
   }
  },
  {
   "cell_type": "code",
   "execution_count": 321,
   "outputs": [
    {
     "name": "stdout",
     "output_type": "stream",
     "text": [
      "Wall time: 43.8 ms\n"
     ]
    },
    {
     "data": {
      "text/plain": "{'Waiting for Guffman (1996)': 4.666666666666667,\n 'Usual Suspects, The (1995)': 4.916666666666667,\n 'Topsy-Turvy (1999)': 4.5,\n 'Thin Red Line, The (1998)': 4.75,\n 'Seven (Se7en) (1995)': 3.0,\n 'Rosencrantz and Guildenstern Are Dead (1990)': 4.0,\n 'Much Ado About Nothing (1993)': 4.0,\n \"Jacob's Ladder (1990)\": 3.4,\n 'Incredibly True Adventure of Two Girls in Love, The (1995)': 3.5,\n 'In the Company of Men (1997)': 2.0,\n 'Go (1999)': 4.555555555555555,\n 'Gladiator (2000)': 3.515151515151515,\n 'Ghostbusters (1984)': 3.5357142857142856,\n 'Fight Club (1999)': 4.739130434782608,\n 'Fast, Cheap & Out of Control (1997)': 4.333333333333333,\n 'Fargo (1996)': 4.4324324324324325,\n 'Donnie Brasco (1997)': 3.6,\n 'Bullets Over Broadway (1994)': 4.428571428571429,\n 'Apollo 13 (1995)': 3.5833333333333335}"
     },
     "execution_count": 321,
     "metadata": {},
     "output_type": "execute_result"
    }
   ],
   "source": [
    "%%time\n",
    "rec1 = getRecommendations(critics_train, critics_test, list(critics_test.keys())[0],\n",
    "                   mode = \"exact\",)\n",
    "rec1"
   ],
   "metadata": {
    "collapsed": false,
    "pycharm": {
     "name": "#%%\n"
    }
   }
  },
  {
   "cell_type": "code",
   "execution_count": 324,
   "outputs": [
    {
     "name": "stdout",
     "output_type": "stream",
     "text": [
      "Wall time: 62.5 ms\n"
     ]
    },
    {
     "data": {
      "text/plain": "{'While You Were Sleeping (1995)': 4.60855995962684,\n 'Twelve Monkeys (1995)': 4.8780035984657655,\n 'Teenage Mutant Ninja Turtles (1990)': 2.7131571989514667,\n 'Star Trek: The Wrath of Khan (1982)': 3.030221698714085,\n 'Star Trek: Generations (1994)': 4.44897403710044,\n 'Soylent Green (1973)': 3.6558047010178383,\n 'So I Married an Axe Murderer (1993)': 3.5399004647394356,\n 'Santa Claus: The Movie (1985)': 3.610109684254234,\n 'Raising Arizona (1987)': 3.577824431252283,\n 'Princess Bride, The (1987)': 5.07565336610537,\n 'Planet of the Apes (1968)': 3.960343690065309,\n \"Mr. Holland's Opus (1995)\": 4.765987153500352,\n 'Message in a Bottle (1999)': 3.5120003999572837,\n 'Little Mermaid, The (1989)': 4.8284206774447975,\n 'Last of the Mohicans, The (1992)': 3.962614067047637,\n 'Jungle Book, The (1967)': 3.2192864210647736,\n 'Jerk, The (1979)': 3.5895746124277053,\n 'Jack (1996)': 4.430386077045802,\n 'High Fidelity (2000)': 3.4860546666174086,\n 'Hamlet (1990)': 4.01273532476396,\n 'Graduate, The (1967)': 3.879378554846953,\n 'Godfather: Part II, The (1974)': 3.2722628125026225,\n 'Godfather, The (1972)': 3.5204541968744527,\n 'Galaxy Quest (1999)': 4.8768948012842745,\n 'Ever After: A Cinderella Story (1998)': 4.660541711384182,\n 'Dirty Dancing (1987)': 5.323575314053324,\n 'Coneheads (1993)': 4.172316092133853,\n 'Christmas Story, A (1983)': 4.701028107436722,\n 'Chasing Amy (1997)': 3.665066387397559,\n \"Breakfast at Tiffany's (1961)\": 4.679261209376382,\n 'Blazing Saddles (1974)': 3.8767258728966354,\n 'All Quiet on the Western Front (1930)': 3.6090830334484076,\n 'Ace Ventura: Pet Detective (1994)': 2.9592729217531097,\n 'Absent Minded Professor, The (1961)': 4.231477310377025,\n '2001: A Space Odyssey (1968)': 3.777180476761829}"
     },
     "execution_count": 324,
     "metadata": {},
     "output_type": "execute_result"
    }
   ],
   "source": [
    "%%time\n",
    "rec2 = getRecommendations_weighted(critics_train, critics_test,\n",
    "                            person=list(critics_test.keys())[1])\n",
    "rec2"
   ],
   "metadata": {
    "collapsed": false,
    "pycharm": {
     "name": "#%%\n"
    }
   }
  },
  {
   "cell_type": "markdown",
   "source": [
    "### Для этих моделей посчитайте MAE и RMSE на всех скрытых оценках варианта 1. Какая модель оказалась лучше?"
   ],
   "metadata": {
    "collapsed": false,
    "pycharm": {
     "name": "#%% md\n"
    }
   }
  },
  {
   "cell_type": "code",
   "execution_count": 291,
   "outputs": [],
   "source": [
    "def my_score(real, predicted, score = \"MAE\"):\n",
    "    results = {}\n",
    "    if score == \"MAE\":\n",
    "        for movie in predicted:\n",
    "            results[movie] = abs(real[movie] - predicted[movie])\n",
    "        result_score = np.average(list(results.values()))\n",
    "    elif score == \"RMSE\":\n",
    "        for movie in predicted:\n",
    "            results[movie] = (real[movie] - predicted[movie])**2\n",
    "        result_score = sqrt(np.average(list(results.values())))\n",
    "\n",
    "    return result_score"
   ],
   "metadata": {
    "collapsed": false,
    "pycharm": {
     "name": "#%%\n"
    }
   }
  },
  {
   "cell_type": "code",
   "execution_count": 292,
   "outputs": [
    {
     "data": {
      "text/plain": "0.4397949232358228"
     },
     "execution_count": 292,
     "metadata": {},
     "output_type": "execute_result"
    }
   ],
   "source": [
    "my_score(critics_test[list(critics_test.keys())[0]],\n",
    "         getRecommendations_weighted(critics_train,critics_test,\n",
    "                                     person=list(critics_test.keys())[0],\n",
    "                                        mode = \"exact\")\n",
    "         )"
   ],
   "metadata": {
    "collapsed": false,
    "pycharm": {
     "name": "#%%\n"
    }
   }
  },
  {
   "cell_type": "code",
   "execution_count": 293,
   "outputs": [
    {
     "data": {
      "text/plain": "0.5801772699751014"
     },
     "execution_count": 293,
     "metadata": {},
     "output_type": "execute_result"
    }
   ],
   "source": [
    "my_score(critics_test[list(critics_test.keys())[0]],\n",
    "         getRecommendations_weighted(critics_train,critics_test,\n",
    "                                     person = list(critics_test.keys())[0],\n",
    "                                     mode = \"exact\"),\n",
    "         score = \"RMSE\")"
   ],
   "metadata": {
    "collapsed": false,
    "pycharm": {
     "name": "#%%\n"
    }
   }
  },
  {
   "cell_type": "markdown",
   "source": [
    "## MAE"
   ],
   "metadata": {
    "collapsed": false,
    "pycharm": {
     "name": "#%% md\n"
    }
   }
  },
  {
   "cell_type": "markdown",
   "source": [],
   "metadata": {
    "collapsed": false
   }
  },
  {
   "cell_type": "code",
   "execution_count": 327,
   "outputs": [],
   "source": [
    "def evaluate_model(train, test,\n",
    "                   rec_func = getRecommendations_weighted,\n",
    "                   score_func = my_score):\n",
    "\n",
    "    errors_mae = {}\n",
    "    errors_rmse = {}\n",
    "    for u in test:\n",
    "        user_predicted = rec_func(prefs=train, test=test,\n",
    "                                            person = u,\n",
    "                                            mode = \"exact\")\n",
    "        errors_mae[u] = score_func(test[u], user_predicted, score=\"MAE\")\n",
    "        errors_rmse[u] = score_func(test[u], user_predicted, score=\"RMSE\")\n",
    "    return errors_mae, errors_rmse"
   ],
   "metadata": {
    "collapsed": false,
    "pycharm": {
     "name": "#%%\n"
    }
   }
  },
  {
   "cell_type": "code",
   "execution_count": 335,
   "outputs": [
    {
     "name": "stderr",
     "output_type": "stream",
     "text": [
      "C:\\Users\\wirze\\anaconda3\\lib\\site-packages\\numpy\\lib\\function_base.py:380: RuntimeWarning: Mean of empty slice.\n",
      "  avg = a.mean(axis)\n",
      "C:\\Users\\wirze\\anaconda3\\lib\\site-packages\\numpy\\core\\_methods.py:189: RuntimeWarning: invalid value encountered in double_scalars\n",
      "  ret = ret.dtype.type(ret / rcount)\n"
     ]
    },
    {
     "name": "stdout",
     "output_type": "stream",
     "text": [
      "mean error for base-level model:\n",
      "0.5870481473043274\n",
      "mean error for base-level model:\n",
      "0.7098542979801116\n",
      "Wall time: 40.5 s\n"
     ]
    }
   ],
   "source": [
    "%%time\n",
    "errors_base_MAE,errors_base_RMSE =  evaluate_model(critics_train, critics_test,\n",
    "                                                   rec_func = getRecommendations)\n",
    "\n",
    "errors_clear_MAE = {k: errors_base_MAE[k] for k in errors_base_MAE if not isnan(errors_base_MAE[k])}\n",
    "errors_clear_RMSE = {k: errors_base_RMSE[k] for k in errors_base_RMSE if not isnan(errors_base_RMSE[k])}\n",
    "\n",
    "print(\"mean error for base-level model:\")\n",
    "print(np.mean(list(errors_clear_MAE.values())))\n",
    "print(\"mean error for base-level model:\")\n",
    "print(np.mean(list(errors_clear_RMSE.values())))"
   ],
   "metadata": {
    "collapsed": false,
    "pycharm": {
     "name": "#%%\n"
    }
   }
  },
  {
   "cell_type": "code",
   "execution_count": 336,
   "outputs": [
    {
     "name": "stdout",
     "output_type": "stream",
     "text": [
      "mean error for z-score model:\n",
      "0.5056662452818075\n",
      "RMSE for z-score model:\n",
      "0.6170639663852051\n",
      "Wall time: 50.2 s\n"
     ]
    }
   ],
   "source": [
    "%%time\n",
    "errors_weighted_MAE,errors_weighted_RMSE = evaluate_model(critics_train, critics_test,\n",
    "                                                   rec_func = getRecommendations_weighted)\n",
    "\n",
    "errors_clear_MAE = {k: errors_weighted_MAE[k] for k in errors_weighted_MAE \\\n",
    "                    if not isnan(errors_weighted_MAE[k])}\n",
    "errors_clear_RMSE = {k: errors_weighted_RMSE[k] for k in errors_weighted_RMSE \\\n",
    "                     if not isnan(errors_weighted_RMSE[k])}\n",
    "\n",
    "print(\"mean error for z-score model:\")\n",
    "print(np.mean(list(errors_clear_MAE.values())))\n",
    "print(\"RMSE for z-score model:\")\n",
    "print(np.mean(list(errors_clear_RMSE.values())))"
   ],
   "metadata": {
    "collapsed": false,
    "pycharm": {
     "name": "#%%\n"
    }
   }
  },
  {
   "cell_type": "code",
   "execution_count": 337,
   "outputs": [
    {
     "data": {
      "text/plain": "         value metric     Model\n4827  0.528545   RMSE  weighted\n4828  0.983850   RMSE  weighted\n4829  0.752316   RMSE  weighted\n4830  1.270042   RMSE  weighted\n4831  1.002084   RMSE  weighted",
      "text/html": "<div>\n<style scoped>\n    .dataframe tbody tr th:only-of-type {\n        vertical-align: middle;\n    }\n\n    .dataframe tbody tr th {\n        vertical-align: top;\n    }\n\n    .dataframe thead th {\n        text-align: right;\n    }\n</style>\n<table border=\"1\" class=\"dataframe\">\n  <thead>\n    <tr style=\"text-align: right;\">\n      <th></th>\n      <th>value</th>\n      <th>metric</th>\n      <th>Model</th>\n    </tr>\n  </thead>\n  <tbody>\n    <tr>\n      <th>4827</th>\n      <td>0.528545</td>\n      <td>RMSE</td>\n      <td>weighted</td>\n    </tr>\n    <tr>\n      <th>4828</th>\n      <td>0.983850</td>\n      <td>RMSE</td>\n      <td>weighted</td>\n    </tr>\n    <tr>\n      <th>4829</th>\n      <td>0.752316</td>\n      <td>RMSE</td>\n      <td>weighted</td>\n    </tr>\n    <tr>\n      <th>4830</th>\n      <td>1.270042</td>\n      <td>RMSE</td>\n      <td>weighted</td>\n    </tr>\n    <tr>\n      <th>4831</th>\n      <td>1.002084</td>\n      <td>RMSE</td>\n      <td>weighted</td>\n    </tr>\n  </tbody>\n</table>\n</div>"
     },
     "execution_count": 337,
     "metadata": {},
     "output_type": "execute_result"
    }
   ],
   "source": [
    "df_errors_1 = pd.DataFrame(\n",
    "    {'value': [*list(errors_base_MAE.values()),\n",
    "                *list(errors_base_RMSE.values()),\n",
    "                *list(errors_weighted_MAE.values()),\n",
    "                *list(errors_weighted_RMSE.values())],\n",
    "     'metric': [*np.repeat(\"MAE\", len(errors_base_MAE.values()), axis=0),\n",
    "               *np.repeat(\"RMSE\", len(errors_base_RMSE.values()), axis=0),\n",
    "               *np.repeat(\"MAE\", len(errors_weighted_MAE.values()), axis=0),\n",
    "               *np.repeat(\"RMSE\", len(errors_weighted_RMSE.values()), axis=0)],\n",
    "     'Model': [*np.repeat(\"base\", len(errors_base_MAE.values()), axis=0),\n",
    "               *np.repeat(\"base\", len(errors_base_RMSE.values()), axis=0),\n",
    "               *np.repeat(\"weighted\", len(errors_weighted_MAE.values()), axis=0),\n",
    "               *np.repeat(\"weighted\", len(errors_weighted_RMSE.values()), axis=0)]}\n",
    ")\n",
    "df_errors_1.tail()"
   ],
   "metadata": {
    "collapsed": false,
    "pycharm": {
     "name": "#%%\n"
    }
   }
  },
  {
   "cell_type": "code",
   "execution_count": 338,
   "outputs": [
    {
     "data": {
      "text/plain": "<Figure size 432x288 with 1 Axes>",
      "image/png": "[encoded data removed]"
     },
     "metadata": {},
     "output_type": "display_data"
    }
   ],
   "source": [
    "sns.set_theme(style=\"whitegrid\")\n",
    "ax = sns.boxplot(x=\"metric\", y=\"value\", hue=\"Model\",\n",
    "                 data=df_errors_1, palette=\"Set3\")"
   ],
   "metadata": {
    "collapsed": false,
    "pycharm": {
     "name": "#%%\n"
    }
   }
  },
  {
   "cell_type": "markdown",
   "source": [
    "If we are comparing two recommendation models by mean MAE and RMSE on all test users, it will be clear that weighted models is way better\n",
    "## sampling 2"
   ],
   "metadata": {
    "collapsed": false,
    "pycharm": {
     "name": "#%% md\n"
    }
   }
  },
  {
   "cell_type": "code",
   "execution_count": 332,
   "outputs": [
    {
     "name": "stderr",
     "output_type": "stream",
     "text": [
      "C:\\Users\\wirze\\anaconda3\\lib\\site-packages\\numpy\\lib\\function_base.py:380: RuntimeWarning: Mean of empty slice.\n",
      "  avg = a.mean(axis)\n",
      "C:\\Users\\wirze\\anaconda3\\lib\\site-packages\\numpy\\core\\_methods.py:189: RuntimeWarning: invalid value encountered in double_scalars\n",
      "  ret = ret.dtype.type(ret / rcount)\n"
     ]
    },
    {
     "name": "stdout",
     "output_type": "stream",
     "text": [
      "mean error for base-level model:\n",
      "0.5816095572395393\n",
      "mean error for base-level model:\n",
      "0.7374463697701257\n",
      "Wall time: 1min 2s\n"
     ]
    }
   ],
   "source": [
    "%%time\n",
    "errors_base_MAE,errors_base_RMSE =  evaluate_model(critics_train_2, critics_test_2,\n",
    "                                                   rec_func = getRecommendations)\n",
    "\n",
    "errors_clear_MAE = {k: errors_base_MAE[k] for k in errors_base_MAE if not isnan(errors_base_MAE[k])}\n",
    "errors_clear_RMSE = {k: errors_base_RMSE[k] for k in errors_base_RMSE if not isnan(errors_base_RMSE[k])}\n",
    "\n",
    "print(\"mean error for base-level model:\")\n",
    "print(np.mean(list(errors_clear_MAE.values())))\n",
    "print(\"mean error for base-level model:\")\n",
    "print(np.mean(list(errors_clear_RMSE.values())))"
   ],
   "metadata": {
    "collapsed": false,
    "pycharm": {
     "name": "#%%\n"
    }
   }
  },
  {
   "cell_type": "code",
   "execution_count": 333,
   "outputs": [
    {
     "name": "stdout",
     "output_type": "stream",
     "text": [
      "mean error for z-score model:\n",
      "0.5461450529008043\n",
      "RMSE for z-score model:\n",
      "0.6864125569261842\n",
      "Wall time: 1min 12s\n"
     ]
    }
   ],
   "source": [
    "%%time\n",
    "errors_weighted_MAE,errors_weighted_RMSE = evaluate_model(critics_train_2, critics_test_2,\n",
    "                                                          rec_func = getRecommendations_weighted)\n",
    "\n",
    "errors_clear_MAE = {k: errors_weighted_MAE[k] for k in errors_weighted_MAE\n",
    "                    if not isnan(errors_weighted_MAE[k])}\n",
    "errors_clear_RMSE = {k: errors_weighted_RMSE[k] for k in errors_weighted_RMSE\n",
    "                     if not isnan(errors_weighted_RMSE[k])}\n",
    "\n",
    "print(\"mean error for z-score model:\")\n",
    "print(np.mean(list(errors_clear_MAE.values())))\n",
    "print(\"RMSE for z-score model:\")\n",
    "print(np.mean(list(errors_clear_RMSE.values())))"
   ],
   "metadata": {
    "collapsed": false,
    "pycharm": {
     "name": "#%%\n"
    }
   }
  },
  {
   "cell_type": "code",
   "execution_count": 334,
   "outputs": [
    {
     "data": {
      "text/plain": "<Figure size 432x288 with 1 Axes>",
      "image/png": "[encoded data removed]"
     },
     "metadata": {},
     "output_type": "display_data"
    }
   ],
   "source": [
    "df_errors = pd.DataFrame(\n",
    "    {'value': [*list(errors_base_MAE.values()),\n",
    "                *list(errors_base_RMSE.values()),\n",
    "                *list(errors_weighted_MAE.values()),\n",
    "                *list(errors_weighted_RMSE.values())],\n",
    "     'metric': [*np.repeat(\"MAE\", len(errors_base_MAE.values()), axis=0),\n",
    "               *np.repeat(\"RMSE\", len(errors_base_RMSE.values()), axis=0),\n",
    "               *np.repeat(\"MAE\", len(errors_weighted_MAE.values()), axis=0),\n",
    "               *np.repeat(\"RMSE\", len(errors_weighted_RMSE.values()), axis=0)],\n",
    "     'Model': [*np.repeat(\"base\", len(errors_base_MAE.values()), axis=0),\n",
    "               *np.repeat(\"base\", len(errors_base_RMSE.values()), axis=0),\n",
    "               *np.repeat(\"weighted\", len(errors_weighted_MAE.values()), axis=0),\n",
    "               *np.repeat(\"weighted\", len(errors_weighted_RMSE.values()), axis=0)]}\n",
    ")\n",
    "ax = sns.boxplot(x=\"metric\", y=\"value\", hue=\"Model\",\n",
    "                 data=df_errors, palette=\"Set3\")\n",
    "ax.set_title('SAMPLing 2')\n",
    "plt.show()"
   ],
   "metadata": {
    "collapsed": false,
    "pycharm": {
     "name": "#%%\n"
    }
   }
  },
  {
   "cell_type": "markdown",
   "source": [
    "ok it looks like that error for sample 2 is large, but lets compare it"
   ],
   "metadata": {
    "collapsed": false,
    "pycharm": {
     "name": "#%% md\n"
    }
   }
  },
  {
   "cell_type": "code",
   "execution_count": 339,
   "outputs": [],
   "source": [
    "df_errors_1['sample'] = 1\n",
    "df_errors['sample'] = 2"
   ],
   "metadata": {
    "collapsed": false,
    "pycharm": {
     "name": "#%%\n"
    }
   }
  },
  {
   "cell_type": "code",
   "execution_count": 341,
   "outputs": [
    {
     "data": {
      "text/plain": "         value metric     Model  sample\n0     0.638064    MAE      base       1\n1     0.710178    MAE      base       1\n2     0.447585    MAE      base       1\n3          NaN    MAE      base       1\n4     0.408339    MAE      base       1\n...        ...    ...       ...     ...\n4695  0.970670   RMSE  weighted       2\n4696  0.715895   RMSE  weighted       2\n4697  0.677735   RMSE  weighted       2\n4698  0.533087   RMSE  weighted       2\n4699  0.621591   RMSE  weighted       2\n\n[9532 rows x 4 columns]",
      "text/html": "<div>\n<style scoped>\n    .dataframe tbody tr th:only-of-type {\n        vertical-align: middle;\n    }\n\n    .dataframe tbody tr th {\n        vertical-align: top;\n    }\n\n    .dataframe thead th {\n        text-align: right;\n    }\n</style>\n<table border=\"1\" class=\"dataframe\">\n  <thead>\n    <tr style=\"text-align: right;\">\n      <th></th>\n      <th>value</th>\n      <th>metric</th>\n      <th>Model</th>\n      <th>sample</th>\n    </tr>\n  </thead>\n  <tbody>\n    <tr>\n      <th>0</th>\n      <td>0.638064</td>\n      <td>MAE</td>\n      <td>base</td>\n      <td>1</td>\n    </tr>\n    <tr>\n      <th>1</th>\n      <td>0.710178</td>\n      <td>MAE</td>\n      <td>base</td>\n      <td>1</td>\n    </tr>\n    <tr>\n      <th>2</th>\n      <td>0.447585</td>\n      <td>MAE</td>\n      <td>base</td>\n      <td>1</td>\n    </tr>\n    <tr>\n      <th>3</th>\n      <td>NaN</td>\n      <td>MAE</td>\n      <td>base</td>\n      <td>1</td>\n    </tr>\n    <tr>\n      <th>4</th>\n      <td>0.408339</td>\n      <td>MAE</td>\n      <td>base</td>\n      <td>1</td>\n    </tr>\n    <tr>\n      <th>...</th>\n      <td>...</td>\n      <td>...</td>\n      <td>...</td>\n      <td>...</td>\n    </tr>\n    <tr>\n      <th>4695</th>\n      <td>0.970670</td>\n      <td>RMSE</td>\n      <td>weighted</td>\n      <td>2</td>\n    </tr>\n    <tr>\n      <th>4696</th>\n      <td>0.715895</td>\n      <td>RMSE</td>\n      <td>weighted</td>\n      <td>2</td>\n    </tr>\n    <tr>\n      <th>4697</th>\n      <td>0.677735</td>\n      <td>RMSE</td>\n      <td>weighted</td>\n      <td>2</td>\n    </tr>\n    <tr>\n      <th>4698</th>\n      <td>0.533087</td>\n      <td>RMSE</td>\n      <td>weighted</td>\n      <td>2</td>\n    </tr>\n    <tr>\n      <th>4699</th>\n      <td>0.621591</td>\n      <td>RMSE</td>\n      <td>weighted</td>\n      <td>2</td>\n    </tr>\n  </tbody>\n</table>\n<p>9532 rows × 4 columns</p>\n</div>"
     },
     "execution_count": 341,
     "metadata": {},
     "output_type": "execute_result"
    }
   ],
   "source": [
    "df_errors_all = pd.concat([df_errors_1, df_errors])\n",
    "df_errors_all"
   ],
   "metadata": {
    "collapsed": false,
    "pycharm": {
     "name": "#%%\n"
    }
   }
  },
  {
   "cell_type": "code",
   "execution_count": 346,
   "outputs": [
    {
     "data": {
      "text/plain": "<Figure size 1235.85x576 with 2 Axes>",
      "image/png": "[encoded data removed]"
     },
     "metadata": {},
     "output_type": "display_data"
    }
   ],
   "source": [
    "g = sns.catplot(x=\"metric\", y=\"value\", hue=\"Model\",\n",
    "                col=\"sample\",\n",
    "                data=df_errors_all, kind=\"box\",\n",
    "                height=8, aspect=1)"
   ],
   "metadata": {
    "collapsed": false,
    "pycharm": {
     "name": "#%%\n"
    }
   }
  },
  {
   "cell_type": "markdown",
   "source": [
    "to be honest I have no idea why does pseudo random sampling shows better results, but anyway I will claim it to be withing margin of error, and not some kind of systematic bias\n",
    "\n",
    "bootstrapping and cross-validation at some point was created for that exact reason\n",
    "\n",
    "### Для каждого тестового пользователя сгенерируйте рекомендации топ 10, 15, 20, 50, 100 фильмов у которых нет оценок. Посчитайте NDCG считая хорошими фильмы с оценкой 4 и выше."
   ],
   "metadata": {
    "collapsed": false,
    "pycharm": {
     "name": "#%% md\n"
    }
   }
  },
  {
   "cell_type": "code",
   "execution_count": 363,
   "outputs": [],
   "source": [
    "def rfunc_4(x):\n",
    "    if x >= 4:\n",
    "        return 1\n",
    "    else:\n",
    "        return 0\n",
    "\n",
    "# def NDCGk(real_values, model_order, rfunc = rfunc_4, k = 5):\n",
    "#     ideal_score = sorted([rfunc(x) for x in real_values], reverse = True)\n",
    "#     model_score = [rfunc(real_values[x]) for x in model_order]\n",
    "#\n",
    "#     DCG = 0\n",
    "#     iDCG = 0\n",
    "#     for i in range(k):\n",
    "#         DCG += 2**model_score[i]/log2(i+2)\n",
    "#     for i in range(k):\n",
    "#         iDCG += 2**ideal_score[i]/log2(i+2)\n",
    "#     return (DCG/iDCG)"
   ],
   "metadata": {
    "collapsed": false,
    "pycharm": {
     "name": "#%%\n"
    }
   }
  },
  {
   "cell_type": "code",
   "execution_count": 470,
   "outputs": [
    {
     "data": {
      "text/plain": "array([[1, 1]])"
     },
     "execution_count": 470,
     "metadata": {},
     "output_type": "execute_result"
    }
   ],
   "source": [
    "def dict_to_asarray(my_dict, rfunc = None):\n",
    "    rating_fixed = {}\n",
    "    if rfunc != None:\n",
    "        for m in my_dict:\n",
    "            rating_fixed[m] = rfunc(my_dict[m])\n",
    "    else:\n",
    "        rating_fixed = my_dict\n",
    "    result = np.asarray([list(dict(sorted(rating_fixed.items())).values())])\n",
    "    # result = np.asarray([list(dict(sorted(dict_items)).values())])\n",
    "    # result = [rfunc(result[x]) for x in result]\n",
    "    return result\n",
    "\n",
    "dict_to_asarray(critics_test['20'])"
   ],
   "metadata": {
    "collapsed": false,
    "pycharm": {
     "name": "#%%\n"
    }
   }
  },
  {
   "cell_type": "code",
   "execution_count": 483,
   "outputs": [],
   "source": [
    "def evaluate_model_2(train, test,\n",
    "                   rec_func = getRecommendations_weighted,\n",
    "                   k = 5):\n",
    "\n",
    "    ndcg = {}\n",
    "    for u in test:\n",
    "        user_predicted = rec_func(prefs=train, test=test,\n",
    "                                  person = u,\n",
    "                                  mode = \"exact\")\n",
    "        sad_but_true = {}\n",
    "        for m in user_predicted:\n",
    "            sad_but_true[m] = critics_test[u][m]\n",
    "        if len(sad_but_true) > 0:\n",
    "            ndcg[u] = ndcg_score(\n",
    "                y_true = dict_to_asarray(sad_but_true, rfunc=rfunc_4),\n",
    "                y_score = dict_to_asarray(user_predicted),\n",
    "                k = k\n",
    "            )\n",
    "    return ndcg"
   ],
   "metadata": {
    "collapsed": false,
    "pycharm": {
     "name": "#%%\n"
    }
   }
  },
  {
   "cell_type": "code",
   "execution_count": 485,
   "outputs": [
    {
     "name": "stdout",
     "output_type": "stream",
     "text": [
      "Wall time: 38.1 s\n"
     ]
    },
    {
     "data": {
      "text/plain": "{'5': 0.0,\n '10': 0.9828172442802199,\n '15': 0.9817194556852598,\n '25': 0.93890618430177,\n '30': 0.9837339917445846,\n '35': 0.912118079150903,\n '40': 0.9412439408980257,\n '45': 0.8916946907528942,\n '50': 1.0,\n '55': 1.0,\n '60': 0.9537356767932351,\n '65': 1.0,\n '70': 1.0,\n '75': 0.9599226264613248,\n '80': 1.0,\n '90': 0.913217261764659,\n '95': 0.9700386831400811,\n '100': 0.9537356767932351,\n '105': 0.9881163926813133,\n '110': 0.865278173300432,\n '115': 0.9598603945740939,\n '120': 0.9301974986399891,\n '125': 0.9793986328685665,\n '130': 0.991793522774126,\n '135': 0.9052912655306917,\n '140': 1.0,\n '145': 0.0,\n '150': 0.9849122050939062,\n '155': 0.93890618430177,\n '165': 0.9699790783168232,\n '170': 0.9470021534163869,\n '175': 0.9513668648781188,\n '180': 0.9714568043383812,\n '185': 0.9118202525052479,\n '190': 1.0,\n '195': 0.963520224035616,\n '200': 0.8154648767857287,\n '205': 0.9903673100686231,\n '210': 0.9053055791007762,\n '215': 1.0,\n '220': 0.9960593028721443,\n '225': 0.9280060269512331,\n '230': 0.9835785272368135,\n '235': 0.9735213198529402,\n '240': 0.9208156945822442,\n '245': 0.6164851981224339,\n '250': 1.0,\n '255': 0.9904961028172653,\n '260': 0.843554722631548,\n '265': 1.0,\n '270': 0.9962182258060304,\n '275': 0.9868106510719011,\n '280': 0.9795738917294808,\n '285': 0.9976370265187174,\n '290': 1.0,\n '295': 0.9648888941290804,\n '300': 0.9951661552727817,\n '305': 0.9603426640754902,\n '310': 0.9486604545944767,\n '315': 1.0,\n '320': 1.0,\n '325': 0.9015805098754107,\n '330': 0.9868567249814921,\n '335': 0.9340094189162453,\n '340': 0.9750628420852184,\n '350': 0.9633791182357064,\n '355': 0.9674692317822972,\n '360': 0.9301974986399891,\n '365': 0.9323120348287456,\n '370': 0.9301974986399891,\n '375': 0.9608597261688794,\n '380': 0.9817619320758323,\n '385': 0.9502531153281362,\n '390': 0.9668098785897548,\n '395': 0.0,\n '400': 0.9837339917445846,\n '405': 1.0,\n '410': 0.9471787241357186,\n '415': 0.9921781624137804,\n '420': 0.9788950945266567,\n '425': 1.0,\n '430': 0.9948031125935761,\n '435': 0.9894614410099043,\n '445': 0.8895697649964028,\n '450': 1.0,\n '460': 1.0,\n '465': 1.0,\n '470': 1.0,\n '475': 0.8994971268361263,\n '480': 1.0,\n '485': 0.9578311396746171,\n '490': 1.0,\n '495': 1.0,\n '500': 0.9887470806965122,\n '505': 0.9816752599970188,\n '510': 0.9954029870633041,\n '515': 0.9611490608264617,\n '520': 0.9817349465667845,\n '525': 1.0,\n '530': 0.9750628420852184,\n '540': 0.8154648767857287,\n '545': 0.0,\n '550': 0.9235301380371601,\n '555': 1.0,\n '560': 0.9866513284291278,\n '565': 1.0,\n '570': 0.9614662328379319,\n '575': 0.9871772982188273,\n '580': 1.0,\n '585': 1.0,\n '590': 1.0,\n '595': 0.9750628420852184,\n '605': 0.9815997931728979,\n '610': 0.9937986753348517,\n '615': 0.9981744010774676,\n '620': 0.9492165040230113,\n '625': 0.9837339917445846,\n '630': 0.98280399014078,\n '635': 0.994802212818831,\n '640': 1.0,\n '650': 1.0,\n '655': 0.6374511773542024,\n '660': 0.8787465123212117,\n '665': 1.0,\n '670': 0.9208156945822442,\n '675': 1.0,\n '680': 1.0,\n '685': 0.9556154926405216,\n '690': 0.9956874500358583,\n '695': 0.9650323796875079,\n '700': 1.0,\n '705': 1.0,\n '710': 0.9521301467114651,\n '715': 0.9836269843796348,\n '720': 0.9155953145790432,\n '725': 1.0,\n '730': 1.0,\n '735': 0.9435585608070701,\n '740': 1.0,\n '750': 1.0,\n '755': 0.9821533274055749,\n '760': 1.0,\n '765': 0.9287030027940746,\n '770': 0.8184761486260355,\n '775': 1.0,\n '780': 0.9597198737921613,\n '785': 0.8377220249655908,\n '790': 1.0,\n '795': 0.9038935560591279,\n '800': 0.964034781223869,\n '805': 0.9633791182357064,\n '810': 0.9680555774090946,\n '815': 1.0,\n '820': 0.9628027924124817,\n '825': 1.0,\n '830': 0.9967888865600438,\n '835': 1.0,\n '840': 0.994919292297643,\n '845': 1.0,\n '850': 0.9494515134946497,\n '855': 0.9505516482451026,\n '860': 0.9323120348287456,\n '865': 1.0,\n '870': 1.0,\n '875': 0.9857380782966321,\n '880': 0.9139646015006166,\n '885': 1.0,\n '890': 0.9871425612842221,\n '895': 0.9644810832143186,\n '900': 1.0,\n '905': 0.9739265450354924,\n '910': 0.9274153899552181,\n '915': 0.8625827144857893,\n '920': 1.0,\n '925': 1.0,\n '930': 0.9700386831400811,\n '935': 0.9331568437949319,\n '940': 0.9402732766799154,\n '945': 0.9705984730019257,\n '950': 1.0,\n '955': 0.9683789832160531,\n '960': 0.9937986753348517,\n '965': 0.9356298713961163,\n '970': 0.8539292232087266,\n '975': 0.9128810013308838,\n '980': 0.9020418953290162,\n '985': 0.99084732501791,\n '990': 0.9836269843796348,\n '995': 0.7853208594776601,\n '1000': 1.0,\n '1005': 0.9935553101703621,\n '1010': 0.806313082109051,\n '1015': 0.9340475443748166,\n '1020': 1.0,\n '1025': 1.0,\n '1030': 0.9851552299567619,\n '1035': 0.9960593028721443,\n '1040': 0.9650998608665236,\n '1045': 1.0,\n '1050': 0.8321846665824558,\n '1055': 0.992294398223356,\n '1060': 1.0,\n '1065': 1.0,\n '1075': 1.0,\n '1080': 0.9714568043383812,\n '1085': 1.0,\n '1090': 0.9782956385511591,\n '1100': 0.7518680603599922,\n '1105': 0.9835785272368135,\n '1110': 1.0,\n '1115': 0.9664213862740434,\n '1120': 0.9774855808990367,\n '1125': 0.8966881766717887,\n '1130': 0.991840107020631,\n '1135': 0.9187571541097189,\n '1140': 0.96055217115976,\n '1145': 0.9714568043383812,\n '1150': 0.6127328476323148,\n '1155': 0.9731205481352048,\n '1160': 0.554305670588047,\n '1165': 0.9889024701902419,\n '1170': 0.9956173770067775,\n '1175': 1.0,\n '1180': 1.0,\n '1185': 1.0,\n '1195': 0.9458139705781525,\n '1200': 1.0,\n '1205': 0.9857380782966321,\n '1210': 1.0,\n '1215': 0.9704678609907792,\n '1220': 0.9794581651889263,\n '1230': 0.9861177396088204,\n '1235': 0.9795738917294808,\n '1240': 0.8154648767857287,\n '1245': 1.0,\n '1255': 0.9815620527470786,\n '1260': 0.9818135790333534,\n '1265': 0.9749157362454186,\n '1270': 0.0,\n '1275': 1.0,\n '1280': 0.9118202525052479,\n '1285': 0.9459683104285759,\n '1290': 0.9608597261688794,\n '1295': 1.0,\n '1300': 0.933627466919787,\n '1305': 1.0,\n '1310': 1.0,\n '1315': 1.0,\n '1320': 0.9894614410099043,\n '1325': 0.9725453551070821,\n '1330': 1.0,\n '1335': 1.0000000000000002,\n '1340': 0.7333893369541833,\n '1345': 0.9835785272368135,\n '1350': 1.0,\n '1355': 1.0,\n '1360': 0.9209405594358759,\n '1365': 1.0,\n '1370': 0.9391605846905235,\n '1375': 0.9617228762424919,\n '1380': 0.975676413262955,\n '1385': 1.0,\n '1390': 0.9841437620429008,\n '1395': 0.9805491363393269,\n '1400': 1.0,\n '1405': 1.0,\n '1410': 0.9615774106776774,\n '1415': 0.9871772982188273,\n '1420': 0.9829804402656244,\n '1425': 0.9540047081155163,\n '1430': 0.9749010226227472,\n '1435': 1.0,\n '1440': 0.983253731180912,\n '1445': 1.0,\n '1450': 0.9664213862740434,\n '1455': 0.8957671279209228,\n '1460': 0.0,\n '1465': 0.9750522866111553,\n '1470': 0.934835280810849,\n '1475': 0.9782956385511591,\n '1480': 1.0,\n '1490': 0.9865448205073896,\n '1495': 1.0,\n '1500': 1.0,\n '1505': 0.9033391584754394,\n '1525': 0.9634153184003228,\n '1530': 0.9860313139595575,\n '1535': 0.0,\n '1540': 1.0,\n '1545': 0.9221591195723098,\n '1550': 1.0,\n '1555': 0.9965391583208801,\n '1560': 0.9817558455103073,\n '1570': 0.9846069083987821,\n '1575': 1.0,\n '1580': 0.9598603945740939,\n '1585': 0.9238656714246424,\n '1590': 1.0,\n '1595': 0.9737143115084046,\n '1600': 0.9404024453334424,\n '1605': 0.9322212169909188,\n '1610': 1.0,\n '1625': 1.0,\n '1630': 1.0,\n '1635': 0.9718055173495571,\n '1640': 0.9208156945822441,\n '1645': 0.9862935880099847,\n '1650': 0.9804445226318784,\n '1655': 0.9272210266081522,\n '1660': 0.9617228762424919,\n '1665': 0.9301974986399891,\n '1670': 1.0,\n '1675': 0.9547527302087948,\n '1680': 0.9335971985360706,\n '1685': 0.9203155432371076,\n '1690': 0.9402732766799154,\n '1695': 0.9053245559180546,\n '1700': 0.6404015779112125,\n '1705': 0.8845116037553352,\n '1710': 0.9617228762424919,\n '1715': 1.0,\n '1720': 1.0,\n '1725': 1.0,\n '1730': 1.0,\n '1735': 1.0,\n '1740': 0.9633791182357064,\n '1750': 1.0,\n '1755': 0.9794708094258846,\n '1760': 0.9301974986399891,\n '1765': 0.9646991694296936,\n '1770': 0.8718484037630412,\n '1775': 0.9868299346039558,\n '1780': 0.7664336159037858,\n '1785': 0.9118202525052479,\n '1790': 0.9706500683150108,\n '1795': 1.0,\n '1800': 0.9665598335175445,\n '1805': 0.9746172157485525,\n '1810': 0.52053543721495,\n '1815': 0.9598603945740939,\n '1820': 0.9837603005670084,\n '1825': 0.9566954883771418,\n '1830': 1.0,\n '1835': 0.9773480822640102,\n '1840': 1.0,\n '1845': 0.8377052184826411,\n '1850': 0.8949760465122159,\n '1855': 1.0,\n '1860': 0.9138690500854803,\n '1865': 0.9473878259455373,\n '1870': 0.9738082368969886,\n '1875': 0.9744788648795107,\n '1880': 0.8982253598480174,\n '1885': 0.9795738917294808,\n '1890': 0.9979788603772153,\n '1895': 0.9793986328685665,\n '1900': 0.7853208594776601,\n '1905': 1.0,\n '1910': 0.9714568043383812,\n '1915': 1.0,\n '1920': 0.8773770956259344,\n '1925': 0.9819531996423054,\n '1930': 0.9491401600340859,\n '1935': 0.9264639325303284,\n '1940': 1.0,\n '1945': 1.0,\n '1950': 0.9414482906423874,\n '1955': 1.0,\n '1960': 0.9935319129496512,\n '1965': 0.9617228762424919,\n '1970': 1.0,\n '1975': 1.0,\n '1980': 0.8935982412182712,\n '1985': 0.9705350195511857,\n '1990': 1.0,\n '1995': 0.8845116037553352,\n '2000': 0.9866199724772166,\n '2005': 0.9412439408980257,\n '2010': 0.7679833403644712,\n '2015': 0.8682434453025369,\n '2020': 0.929032938726829,\n '2025': 0.9632144910894274,\n '2030': 0.9940512827837902,\n '2035': 0.9694830045512104,\n '2040': 0.9837339917445846,\n '2050': 0.9875896408977866,\n '2055': 0.9942182519086604,\n '2060': 0.9281231871457041,\n '2065': 1.0,\n '2070': 0.9951443275693054,\n '2075': 0.9323120348287456,\n '2080': 1.0,\n '2085': 0.9216093320811143,\n '2090': 0.9735174886917655,\n '2095': 0.9052912655306917,\n '2100': 0.9665951787925174,\n '2105': 0.885657453389075,\n '2110': 0.9403511161409854,\n '2115': 0.9264639325303284,\n '2120': 0.9629005891836008,\n '2125': 0.9843333776313072,\n '2130': 0.9018910732152949,\n '2135': 0.8154648767857287,\n '2140': 0.9697804829315977,\n '2145': 0.9781426552422473,\n '2150': 1.0,\n '2155': 1.0,\n '2160': 1.0,\n '2165': 0.9857446566423244,\n '2170': 1.0,\n '2175': 0.981832202681671,\n '2180': 0.8989163367846051,\n '2185': 0.9964916461107273,\n '2190': 0.9459213628394056,\n '2195': 0.9721984000401166,\n '2200': 0.4396666065534579,\n '2205': 0.8397295075158686,\n '2210': 1.0,\n '2215': 0.9508745999323549,\n '2225': 0.8222020617145845,\n '2230': 0.9757522017463608,\n '2235': 0.9601066185967839,\n '2240': 0.9935553101703621,\n '2245': 1.0,\n '2250': 0.9617228762424919,\n '2255': 0.9669714221175374,\n '2265': 0.9382130776015477,\n '2270': 0.9821533274055749,\n '2275': 0.9598603945740939,\n '2280': 1.0,\n '2285': 0.9264639325303284,\n '2290': 0.9532292021252868,\n '2295': 1.0,\n '2300': 0.9914460409783439,\n '2305': 0.9500904556674117,\n '2310': 0.985843749900044,\n '2315': 0.9837339917445846,\n '2320': 1.0,\n '2330': 0.9038935560591279,\n '2335': 0.9800570743941939,\n '2340': 0.994065333532129,\n '2345': 1.0,\n '2350': 0.9903066759026721,\n '2355': 1.0,\n '2360': 1.0,\n '2370': 1.0,\n '2375': 1.0,\n '2380': 0.9650799428113018,\n '2385': 1.0,\n '2390': 0.9208156945822442,\n '2395': 0.995809122107164,\n '2400': 1.0,\n '2405': 0.9914460409783439,\n '2410': 0.9645116503238069,\n '2415': 1.0,\n '2420': 0.9323120348287456,\n '2425': 1.0,\n '2430': 1.0,\n '2435': 0.99264946722593,\n '2440': 1.0,\n '2445': 0.9116457069049969,\n '2450': 1.0,\n '2455': 0.6863184027624549,\n '2460': 1.0,\n '2465': 0.9950225864416532,\n '2475': 1.0,\n '2480': 0.9578311396746171,\n '2485': 0.9640494023762893,\n '2490': 1.0,\n '2495': 0.0,\n '2500': 0.9889024701902419,\n '2505': 1.0,\n '2510': 0.9837339917445846,\n '2515': 1.0,\n '2520': 0.9837339917445846,\n '2525': 1.0,\n '2530': 1.0,\n '2535': 0.9846069083987821,\n '2540': 0.984228539885692,\n '2545': 1.0,\n '2550': 0.8887244223381467,\n '2555': 0.9565718584154519,\n '2560': 1.0,\n '2565': 0.9510610737935737,\n '2570': 0.9620596960630751,\n '2575': 0.9538342307006915,\n '2580': 0.9169323522286832,\n '2585': 1.0,\n '2590': 0.9604123298435695,\n '2595': 0.9705984730019257,\n '2600': 0.9181135972365528,\n '2605': 0.9611894591455847,\n '2610': 0.9323120348287456,\n '2615': 1.0,\n '2620': 0.9375433198346702,\n '2625': 0.9630161809556026,\n '2630': 0.9714568043383812,\n '2635': 1.0,\n '2645': 0.9532912991340775,\n '2655': 0.9537356767932351,\n '2660': 1.0,\n '2665': 0.9267525474243631,\n '2670': 0.9741209871031341,\n '2675': 1.0,\n '2680': 0.9649027687315876,\n '2685': 0.9773606437354446,\n '2690': 1.0,\n '2695': 0.9881163926813133,\n '2700': 0.913320505964335,\n '2705': 1.0,\n '2710': 1.0,\n '2715': 0.9052912655306917,\n '2720': 0.0,\n '2725': 0.9598603945740939,\n '2730': 0.995024627799503,\n '2735': 1.0,\n '2740': 0.9926056868974645,\n '2745': 0.9628689192477574,\n '2750': 0.9817025207255398,\n '2755': 1.0,\n '2760': 0.7103099178571524,\n '2765': 0.9581011518742149,\n '2770': 0.9578311396746171,\n '2775': 1.0,\n '2780': 0.9323120348287456,\n '2785': 0.9999999999999999,\n '2790': 0.9927996495642261,\n '2795': 0.9646991694296936,\n '2800': 0.9344930822678857,\n '2805': 0.9865194940672309,\n '2810': 0.9634231144851968,\n '2815': 0.9714568043383812,\n '2820': 0.7493207205365836,\n '2825': 0.9726374709804148,\n '2830': 0.9741687060710355,\n '2835': 0.9598603945740939,\n '2840': 0.9508745999323549,\n '2845': 0.9714568043383812,\n '2850': 1.0,\n '2855': 0.9617228762424919,\n '2860': 0.9615341551750055,\n '2865': 0.9899607400723541,\n '2870': 0.6404015779112125,\n '2875': 1.0,\n '2880': 0.9436512785389821,\n '2885': 0.975261737836612,\n '2890': 0.97031065528203,\n '2895': 0.9820693571374268,\n '2900': 0.9704672235475172,\n '2905': 0.9436006895710896,\n '2910': 0.9069668043559356,\n '2915': 0.9904848498108942,\n '2920': 1.0,\n '2925': 1.0,\n '2930': 1.0,\n '2935': 0.9564618926050072,\n '2940': 1.0,\n '2945': 1.0,\n '2950': 0.8502698646680341,\n '2955': 0.8980319520106446,\n '2960': 1.0,\n '2965': 0.0,\n '2970': 0.9837339917445846,\n '2975': 0.9646991694296936,\n '2980': 0.9740970669046968,\n '2985': 1.0,\n '2990': 0.9951807314502263,\n '2995': 0.9276938957713162,\n '3000': 0.9821533274055749,\n '3005': 0.9502531153281362,\n '3010': 0.8510949856056799,\n '3015': 0.9323120348287456,\n '3020': 0.9919524408387133,\n '3025': 0.9941905949239374,\n '3030': 1.0,\n '3035': 0.9803121887288548,\n '3040': 1.0,\n '3045': 0.9940481967972042,\n '3050': 1.0,\n '3055': 0.9408899192173409,\n '3060': 1.0,\n '3065': 0.9497890311510229,\n '3070': 1.0,\n '3075': 1.0,\n '3080': 0.9317604515081812,\n '3085': 0.9942407075618067,\n '3090': 0.7231357726898465,\n '3095': 0.9565035858514801,\n '3100': 1.0,\n '3105': 0.9902910991006315,\n '3110': 0.9382130776015477,\n '3115': 1.0,\n '3120': 0.9598603945740939,\n '3125': 0.988690369057977,\n '3130': 0.9881163926813133,\n '3135': 0.9929591594392638,\n '3140': 0.9850419450410595,\n '3145': 0.9808281883695316,\n '3150': 0.9782956385511591,\n '3155': 1.0,\n '3160': 1.0,\n '3165': 1.0,\n '3170': 1.0,\n '3175': 0.9868106510719011,\n '3180': 0.92073775511303,\n '3185': 0.9836269843796348,\n '3190': 1.0,\n '3195': 0.956571858415452,\n '3200': 0.9712000511346545,\n '3205': 0.9371688681802006,\n '3210': 0.9935458883749932,\n '3215': 1.0,\n '3220': 1.0,\n '3230': 0.9346323943428546,\n '3235': 0.9598603945740939,\n '3240': 0.9611490608264617,\n '3245': 1.0,\n '3250': 0.9902910991006315,\n '3255': 1.0,\n '3260': 0.9897655895622933,\n '3265': 0.8401257370277629,\n '3270': 1.0,\n '3275': 1.0,\n '3280': 0.7922006785168901,\n '3285': 0.914880084740477,\n '3290': 0.9817438012205137,\n '3295': 1.0,\n '3300': 0.9874155581870733,\n '3305': 0.9929591594392638,\n '3310': 0.9846069083987821,\n '3315': 0.990258339069976,\n '3320': 0.9384394637608289,\n '3325': 0.0,\n '3335': 1.0,\n '3340': 0.9645116503238069,\n '3345': 1.0,\n '3350': 0.9837339917445846,\n '3355': 1.0,\n '3360': 0.9914460409783439,\n '3365': 0.9782113023212805,\n '3370': 0.9564472450517563,\n '3380': 0.8908637638850467,\n '3385': 1.0,\n '3390': 0.9976850617100516,\n '3395': 0.9118202525052479,\n '3400': 0.937371384175111,\n '3405': 1.0,\n '3410': 0.8716664369702597,\n '3415': 0.9900991156106351,\n '3420': 0.9956173770067775,\n '3425': 0.9700971793862484,\n '3430': 0.9145226209163806,\n '3435': 0.9868865409183155,\n '3440': 1.0,\n '3445': 0.9947607329172508,\n '3450': 0.9504698564968131,\n '3460': 0.9935831984022389,\n '3465': 0.9714568043383812,\n '3470': 0.9868567249814921,\n '3475': 0.7537683147641251,\n '3480': 0.9323120348287456,\n '3485': 1.0,\n '3490': 0.9888530863826512,\n '3500': 1.0,\n '3505': 0.8236794875762434,\n '3510': 0.9633791182357064,\n '3515': 1.0,\n '3520': 0.939982612100112,\n '3525': 0.9340094189162453,\n '3530': 1.0,\n '3540': 0.9940994591868375,\n '3545': 1.0,\n '3550': 0.9213658186038997,\n '3555': 0.9139646015006166,\n '3560': 0.996517482758518,\n '3565': 0.9577489579026517,\n '3570': 0.0,\n '3580': 1.0,\n '3585': 0.9221591195723098,\n '3590': 0.9896788813578179,\n '3595': 1.0,\n '3600': 0.9877223120052195,\n '3605': 0.9894614410099043,\n '3610': 0.7551486434863858,\n '3615': 0.993914404458222,\n '3620': 0.8996997812802552,\n '3625': 0.9897058651602296,\n '3630': 0.9999999999999999,\n '3635': 0.9833243094044389,\n '3640': 0.9356298713961163,\n '3645': 0.9788950945266567,\n '3650': 0.9781942590963125,\n '3655': 1.0,\n '3660': 1.0,\n '3665': 0.9783849205654592,\n '3670': 0.9644810832143186,\n '3675': 0.9373571225714424,\n '3680': 1.0,\n '3685': 0.9852834961044695,\n '3690': 0.8813319317552616,\n '3695': 0.9894518007685758,\n '3700': 1.0,\n '3705': 0.9921211307033229,\n '3710': 0.9617228762424919,\n '3715': 0.9788145487738308,\n '3720': 0.9433285290765677,\n '3725': 1.0,\n '3730': 0.8154648767857287,\n '3735': 0.9095878620131542,\n '3740': 1.0,\n '3745': 0.8923931364605815,\n '3750': 0.7103099178571524,\n '3755': 1.0,\n '3760': 0.986839608846815,\n '3770': 0.9600813696973569,\n '3775': 0.9954029870633041,\n '3780': 0.9938854450493974,\n '3785': 1.0,\n '3790': 0.9969941419434755,\n '3795': 1.0,\n '3800': 0.9904848498108942,\n '3810': 1.0,\n '3815': 0.9868865409183155,\n '3820': 1.0,\n '3825': 0.9020563973825431,\n '3830': 0.9704678609907792,\n '3835': 1.0,\n '3840': 1.0,\n '3845': 1.0,\n '3850': 0.9922404906448987,\n '3855': 1.0,\n '3860': 0.9853765488748634,\n '3865': 0.9264639325303284,\n '3870': 1.0,\n '3875': 1.0,\n '3880': 0.9914460409783439,\n '3885': 0.961090217818123,\n '3890': 0.992294398223356,\n '3895': 1.0,\n '3900': 0.9595755584334722,\n '3905': 0.9741687060710355,\n '3910': 0.9741793675860995,\n '3915': 1.0,\n '3920': 0.9633791182357064,\n '3925': 0.9821533274055749,\n '3930': 0.9887752779663939,\n '3935': 1.0000000000000002,\n '3940': 0.9186297802760677,\n '3945': 0.8934364966638487,\n '3950': 0.9500904556674117,\n '3955': 0.9321623284443094,\n '3960': 1.0,\n '3965': 0.9387396396661785,\n '3970': 0.9551385417377761,\n '3975': 0.9866199724772166,\n '3980': 0.9323120348287456,\n '3985': 0.917594142308594,\n '3990': 0.9699790783168232,\n '3995': 0.9835785272368135,\n '4000': 0.9846069083987821,\n '4005': 0.9652910711151694,\n '4015': 1.0,\n '4020': 1.0,\n '4025': 0.0,\n '4030': 0.9650307743697519,\n '4035': 0.9914460409783439,\n '4040': 0.9636120972494073,\n '4045': 0.9323120348287456,\n '4050': 0.9234092335205594,\n '4055': 0.9494428875672544,\n '4060': 0.9940398276703774,\n '4065': 0.8154648767857287,\n '4070': 0.9188827028008292,\n '4075': 1.0,\n '4080': 0.9857380782966321,\n '4085': 0.932365895154424,\n '4090': 0.9476554013396141,\n '4095': 0.9644810832143186,\n '4105': 1.0,\n '4110': 1.0,\n '4115': 0.9816386370609548,\n '4120': 1.0,\n '4125': 1.0,\n '4130': 0.9591996738655468,\n '4135': 1.0,\n '4140': 0.926399825116606,\n '4145': 1.0,\n '4150': 0.9805405108722608,\n '4155': 1.0,\n '4160': 0.9650307743697519,\n '4165': 1.0,\n '4170': 1.0,\n '4175': 0.9661223969531756,\n '4180': 0.9470021534163869,\n '4185': 0.7231357726898465,\n '4190': 0.8845116037553352,\n '4195': 0.9878725949084952,\n '4200': 0.9578311396746171,\n '4205': 0.9323120348287456,\n '4210': 0.9782399238413354,\n '4215': 0.979862747248369,\n '4220': 0.8599284792411979,\n '4225': 0.8809516218309592,\n '4235': 0.9645116503238069,\n '4240': 1.0,\n '4245': 0.8309140813083186,\n '4250': 0.9771759138325042,\n '4255': 0.9837339917445846,\n '4260': 0.9095798831773421,\n '4265': 0.9783475846996114,\n '4270': 0.0,\n '4275': 1.0,\n '4280': 1.0,\n '4285': 0.9392335390430377,\n '4290': 0.9714568043383812,\n '4295': 0.0,\n '4300': 1.0,\n '4305': 0.9708260521737615,\n '4310': 0.9890119760058236,\n '4315': 0.9833243094044389,\n '4320': 1.0,\n '4325': 0.0,\n '4330': 1.0,\n '4335': 0.9804182711655789,\n '4345': 0.9335836604353122,\n '4350': 1.0,\n '4355': 1.0,\n '4360': 0.7754047970020513,\n '4365': 0.0,\n '4370': 0.9633791182357064,\n '4375': 0.9842540478481192,\n '4380': 0.9321623284443094,\n '4390': 0.8463117119058031,\n '4395': 1.0,\n '4405': 1.0,\n '4410': 1.0,\n '4415': 0.983253731180912,\n '4420': 0.7692798105748722,\n '4425': 0.8996774038871013,\n '4430': 0.884384950607091,\n '4435': 1.0,\n '4440': 1.0,\n '4445': 0.9015805098754107,\n '4450': 0.8154648767857287,\n '4455': 0.9714568043383812,\n '4460': 0.9577489579026517,\n '4465': 1.0,\n '4470': 0.9629523809970121,\n '4475': 0.9578311396746171,\n '4480': 0.9623026319776403,\n '4485': 0.9003495487631173,\n '4490': 0.9904469160035516,\n '4495': 1.0,\n '4500': 0.0,\n '4505': 0.9902391819194618,\n '4510': 0.8127093579594081,\n '4515': 1.0,\n '4520': 0.8915991755528587,\n '4530': 1.0,\n '4535': 0.9893525318758477,\n '4540': 1.0,\n '4545': 1.0,\n '4550': 0.8154648767857287,\n '4555': 0.8845116037553352,\n '4560': 0.8743994649652065,\n '4570': 1.0,\n '4575': 1.0,\n '4580': 0.9889024701902419,\n '4585': 0.9616965571796149,\n '4595': 1.0,\n '4600': 0.9851639250388521,\n '4605': 0.9707229020370366,\n '4610': 1.0,\n '4615': 0.8734731450372829,\n '4620': 0.9556025690250856,\n '4625': 0.9115588518741955,\n '4635': 0.9780544325160222,\n '4640': 0.7997606688092714,\n '4645': 1.0,\n '4650': 0.9459213628394056,\n '4655': 0.9705563191867734,\n '4660': 0.9578311396746171,\n '4665': 1.0,\n '4670': 0.9808281883695316,\n '4675': 0.8981922714176493,\n '4680': 0.9340266316558998,\n '4685': 0.684584975495724,\n '4690': 0.9500904556674117,\n '4700': 0.870432730399551,\n '4705': 0.988043269615129,\n '4710': 0.9598603945740939,\n '4715': 0.931104936661909,\n '4720': 1.0,\n '4725': 0.7454638156531673,\n '4735': 1.0,\n '4740': 1.0,\n '4745': 0.9628027924124817,\n '4750': 0.9745827085177149,\n '4755': 1.0,\n '4760': 1.0,\n '4765': 0.996099280036146,\n '4770': 0.9598603945740939,\n '4775': 0.0,\n '4780': 1.0,\n '4785': 0.9975811455025563,\n '4790': 0.9553909609174709,\n '4795': 0.9894614410099043,\n '4800': 0.989449802033363,\n '4810': 0.9169931266274065,\n '4815': 0.9975044224867664,\n '4820': 1.0,\n '4825': 1.0,\n '4830': 0.8759422477251164,\n '4835': 0.9500904556674117,\n '4840': 0.9846069083987821,\n '4845': 0.9916856386331779,\n '4855': 0.9508745999323549,\n '4860': 0.9323120348287456,\n '4865': 1.0000000000000002,\n '4870': 0.9750628420852184,\n '4875': 1.0,\n '4885': 1.0,\n '4890': 0.889954230675509,\n '4895': 0.9633791182357064,\n '4900': 0.0,\n '4905': 0.9808281883695316,\n '4910': 1.0,\n '4915': 0.9209405594358759,\n '4920': 0.9914460409783439,\n '4930': 0.9866199724772166,\n '4935': 0.8154648767857287,\n '4940': 0.967858847764307,\n '4945': 0.8006990975262348,\n '4950': 0.9643056621449358,\n '4955': 1.0,\n '4960': 1.0,\n '4965': 0.8956617509419778,\n '4970': 1.0,\n '4975': 0.9680932652995933,\n '4980': 0.9817194556852598,\n '4985': 0.9565035858514801,\n '4990': 0.9881163926813133,\n '4995': 0.9051881413487648,\n '5000': 0.9967437861845213,\n '5005': 0.9319084920697203,\n '5010': 0.9714568043383812,\n '5015': 0.9233453476879485,\n '5020': 1.0,\n '5025': 0.9810243539752277,\n '5030': 1.0,\n '5035': 0.9312967558828127,\n '5040': 0.9753471627985859,\n '5045': 0.0,\n '5050': 0.9868106510719011,\n '5055': 1.0,\n '5060': 0.9935831984022389,\n '5065': 0.9798677534670451,\n '5070': 0.9698525215455295,\n '5075': 0.9714568043383812,\n '5080': 0.9633791182357064,\n '5085': 0.995042172777476,\n '5090': 0.9727972592828777,\n '5095': 1.0,\n '5100': 0.976413510998552,\n '5105': 0.9344930822678857,\n '5115': 1.0,\n '5120': 0.9781426552422473,\n '5125': 1.0,\n '5130': 1.0,\n '5135': 0.9052912655306917,\n '5140': 0.9598421942964404,\n '5145': 1.0,\n '5150': 0.0,\n '5155': 1.0,\n '5160': 1.0,\n '5165': 0.9935553101703621,\n '5170': 0.9868567249814921,\n '5175': 0.9598603945740939,\n '5180': 0.9943016614140002,\n '5185': 0.9611490608264617,\n '5190': 1.0,\n '5195': 1.0,\n '5200': 0.9881163926813133,\n '5205': 0.8486724071075533,\n '5210': 0.9644810832143186,\n '5215': 1.0,\n '5220': 0.8904804481359054,\n '5225': 0.9099010206780146,\n '5230': 0.9867258429234249,\n '5235': 1.0,\n '5240': 1.0,\n '5250': 0.9809390836912318,\n '5255': 0.9979480224173152,\n '5260': 0.8158609742112,\n '5265': 1.0,\n '5270': 0.9577105729214905,\n '5275': 0.9789549680639823,\n '5285': 1.0,\n '5295': 1.0,\n '5300': 0.9962369346851704,\n ...}"
     },
     "execution_count": 485,
     "metadata": {},
     "output_type": "execute_result"
    }
   ],
   "source": [
    "%%time\n",
    "ndcg_weight = evaluate_model_2(critics_train, critics_test,\n",
    "                               rec_func = getRecommendations,\n",
    "                               k = 100)\n",
    "ndcg_weight"
   ],
   "metadata": {
    "collapsed": false,
    "pycharm": {
     "name": "#%%\n"
    }
   }
  },
  {
   "cell_type": "code",
   "execution_count": 486,
   "outputs": [
    {
     "name": "stdout",
     "output_type": "stream",
     "text": [
      "0.9390951365403322\n"
     ]
    }
   ],
   "source": [
    "print(np.mean(list(ndcg_weight.values())))"
   ],
   "metadata": {
    "collapsed": false,
    "pycharm": {
     "name": "#%%\n"
    }
   }
  }
 ],
 "metadata": {
  "kernelspec": {
   "display_name": "Python 3",
   "language": "python",
   "name": "python3"
  },
  "language_info": {
   "codemirror_mode": {
    "name": "ipython",
    "version": 3
   },
   "file_extension": ".py",
   "mimetype": "text/x-python",
   "name": "python",
   "nbconvert_exporter": "python",
   "pygments_lexer": "ipython3",
   "version": "3.7.4"
  }
 },
 "nbformat": 4,
 "nbformat_minor": 2
}