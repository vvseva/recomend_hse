{
 "cells": [
  {
   "cell_type": "markdown",
   "metadata": {},
   "source": [
    "# Домашнее задание 1. Сравнение методов коллаборативной фильтрации по сходству пользователей и по сходству объектов\n",
    "\n",
    "\n",
    "Полезная ссылка на довольно подробный обзор по теме: http://files.grouplens.org/papers/FnT%20CF%20Recsys%20Survey.pdf\n",
    "\n",
    "\n",
    "1. Загрузите данные [Movie Lens](http://grouplens.org/datasets/movielens/), датасет на 1М рейтингов. Дополнительный бонус, если ваш код сможет обработать датасет на 10М. Я рекомендую сначала пробовать ваши методы на датасете из 100к рейтингов.  \n",
    "\n",
    "2. Разбейте датасет на обучающую и тестовую выборку. \n",
    "\n",
    "Вариант 1: Тестовые пользователи -- это те, у кого ID делется на 5 без остатка.\n",
    "Для каждого тестового пользователя скройте каждый десятый фильм по возрастанию ID.\n",
    "\n",
    "Вариант 2: Тестовые пользователи -- это случайно выбранные 20% сохраните их список для воспроизводимости.\n",
    "Для каждого тестового пользователя скройте каждый фильм с вероятностью 1/10, сохраните список скрытых фильмов.\n",
    "\n",
    "Все пользователи и не скрытые фильмы это данные, на которых вы будете оценивать похожесть.\n",
    "\n",
    "3. Выберите любые две меры похожести и реализуйте на их основе две модели рекомендаций на основе пользователей.\n",
    "Для этих моделей посчитайте MAE и RMSE на всех скрытых оценках варианта 1. Какая модель оказалась лучше?\n",
    "\n",
    "4. Повторите пункт 3 для варианта 2. Изменилось ли что-нибудь?\n",
    "\n",
    "5. Для каждого тестового пользователя сгенерируйте рекомендации топ 10, 15, 20, 50, 100 фильмов у которых нет оценок. Посчитайте NDCG считая хорошими фильмы с оценкой 4 и выше.\n",
    "\n",
    "6. Реализуте модель основанную на похожести предметов.\n",
    "\n",
    "7. Повторите пункты 3-5 для этой модели. \n",
    "\n",
    "8. Насколько различны списки из top-n рекомендаций. Попробуйте улучшить результаты подбором $\\beta$ для минимизации MAE (RMSE) в гибридных рекомендациях:\n",
    "$$\\beta\\cdot r^{user-based}_{ui} + (1-\\beta)\\cdot r^{item-based}_{ui}, \\mbox{ где } 0 \\leq \\beta \\leq 1.$$ \n",
    "\n",
    "deadline 24.10.2021 23:59"
   ]
  },
  {
   "cell_type": "code",
   "execution_count": 8,
   "metadata": {},
   "outputs": [],
   "source": [
    "import numpy as np\n",
    "import pandas as pd\n",
    "from math import sqrt\n",
    "from numpy import exp\n",
    "from random import random, seed\n",
    "\n",
    "import matplotlib.pyplot as plt\n",
    "import seaborn as sns"
   ]
  },
  {
   "cell_type": "markdown",
   "source": [
    "# Load date"
   ],
   "metadata": {
    "collapsed": false,
    "pycharm": {
     "name": "#%% md\n"
    }
   }
  },
  {
   "cell_type": "code",
   "execution_count": 9,
   "outputs": [],
   "source": [
    "#Чтение данных\n",
    "def loadMovieLens1M(path='./ml-1m'):\n",
    "    # Получить названия фильмов\n",
    "    movies={}\n",
    "    for line in open(path+'/movies.dat'):\n",
    "        (id,title)=line.split('::')[0:2] #при желании тут можно добавить чтение жанров.\n",
    "        movies[id]=title\n",
    "    # Загрузить данные\n",
    "    prefs={}\n",
    "    for line in open(path+'/ratings.dat'):\n",
    "        (user,movieid,rating,ts)=line.split('::')\n",
    "        prefs.setdefault(user,{})\n",
    "        prefs[user][movies[movieid]]=float(rating)\n",
    "    return prefs"
   ],
   "metadata": {
    "collapsed": false,
    "pycharm": {
     "name": "#%%\n"
    }
   }
  },
  {
   "cell_type": "code",
   "execution_count": 10,
   "outputs": [
    {
     "data": {
      "text/plain": "                                          1    2    3   4    5    6   7   8  \\\nOne Flew Over the Cuckoo's Nest (1975)  5.0  5.0  NaN NaN  NaN  NaN NaN NaN   \nJames and the Giant Peach (1996)        3.0  NaN  NaN NaN  NaN  NaN NaN NaN   \nMy Fair Lady (1964)                     3.0  NaN  NaN NaN  NaN  5.0 NaN NaN   \nErin Brockovich (2000)                  4.0  NaN  NaN NaN  3.0  5.0 NaN NaN   \nBug's Life, A (1998)                    5.0  NaN  5.0 NaN  5.0  NaN NaN NaN   \n\n                                          9   10  ...  6031  6032  6033  6034  \\\nOne Flew Over the Cuckoo's Nest (1975)  NaN  NaN  ...   NaN   5.0   5.0   NaN   \nJames and the Giant Peach (1996)        NaN  NaN  ...   NaN   NaN   NaN   NaN   \nMy Fair Lady (1964)                     NaN  5.0  ...   NaN   NaN   NaN   NaN   \nErin Brockovich (2000)                  4.0  4.0  ...   NaN   NaN   NaN   NaN   \nBug's Life, A (1998)                    4.0  4.0  ...   NaN   NaN   NaN   NaN   \n\n                                        6035  6036  6037  6038  6039  6040  \nOne Flew Over the Cuckoo's Nest (1975)   5.0   5.0   4.0   NaN   NaN   4.0  \nJames and the Giant Peach (1996)         NaN   NaN   NaN   NaN   3.0   NaN  \nMy Fair Lady (1964)                      NaN   3.0   NaN   NaN   4.0   NaN  \nErin Brockovich (2000)                   NaN   4.0   NaN   NaN   NaN   NaN  \nBug's Life, A (1998)                     5.0   4.0   NaN   NaN   NaN   NaN  \n\n[5 rows x 6040 columns]",
      "text/html": "<div>\n<style scoped>\n    .dataframe tbody tr th:only-of-type {\n        vertical-align: middle;\n    }\n\n    .dataframe tbody tr th {\n        vertical-align: top;\n    }\n\n    .dataframe thead th {\n        text-align: right;\n    }\n</style>\n<table border=\"1\" class=\"dataframe\">\n  <thead>\n    <tr style=\"text-align: right;\">\n      <th></th>\n      <th>1</th>\n      <th>2</th>\n      <th>3</th>\n      <th>4</th>\n      <th>5</th>\n      <th>6</th>\n      <th>7</th>\n      <th>8</th>\n      <th>9</th>\n      <th>10</th>\n      <th>...</th>\n      <th>6031</th>\n      <th>6032</th>\n      <th>6033</th>\n      <th>6034</th>\n      <th>6035</th>\n      <th>6036</th>\n      <th>6037</th>\n      <th>6038</th>\n      <th>6039</th>\n      <th>6040</th>\n    </tr>\n  </thead>\n  <tbody>\n    <tr>\n      <th>One Flew Over the Cuckoo's Nest (1975)</th>\n      <td>5.0</td>\n      <td>5.0</td>\n      <td>NaN</td>\n      <td>NaN</td>\n      <td>NaN</td>\n      <td>NaN</td>\n      <td>NaN</td>\n      <td>NaN</td>\n      <td>NaN</td>\n      <td>NaN</td>\n      <td>...</td>\n      <td>NaN</td>\n      <td>5.0</td>\n      <td>5.0</td>\n      <td>NaN</td>\n      <td>5.0</td>\n      <td>5.0</td>\n      <td>4.0</td>\n      <td>NaN</td>\n      <td>NaN</td>\n      <td>4.0</td>\n    </tr>\n    <tr>\n      <th>James and the Giant Peach (1996)</th>\n      <td>3.0</td>\n      <td>NaN</td>\n      <td>NaN</td>\n      <td>NaN</td>\n      <td>NaN</td>\n      <td>NaN</td>\n      <td>NaN</td>\n      <td>NaN</td>\n      <td>NaN</td>\n      <td>NaN</td>\n      <td>...</td>\n      <td>NaN</td>\n      <td>NaN</td>\n      <td>NaN</td>\n      <td>NaN</td>\n      <td>NaN</td>\n      <td>NaN</td>\n      <td>NaN</td>\n      <td>NaN</td>\n      <td>3.0</td>\n      <td>NaN</td>\n    </tr>\n    <tr>\n      <th>My Fair Lady (1964)</th>\n      <td>3.0</td>\n      <td>NaN</td>\n      <td>NaN</td>\n      <td>NaN</td>\n      <td>NaN</td>\n      <td>5.0</td>\n      <td>NaN</td>\n      <td>NaN</td>\n      <td>NaN</td>\n      <td>5.0</td>\n      <td>...</td>\n      <td>NaN</td>\n      <td>NaN</td>\n      <td>NaN</td>\n      <td>NaN</td>\n      <td>NaN</td>\n      <td>3.0</td>\n      <td>NaN</td>\n      <td>NaN</td>\n      <td>4.0</td>\n      <td>NaN</td>\n    </tr>\n    <tr>\n      <th>Erin Brockovich (2000)</th>\n      <td>4.0</td>\n      <td>NaN</td>\n      <td>NaN</td>\n      <td>NaN</td>\n      <td>3.0</td>\n      <td>5.0</td>\n      <td>NaN</td>\n      <td>NaN</td>\n      <td>4.0</td>\n      <td>4.0</td>\n      <td>...</td>\n      <td>NaN</td>\n      <td>NaN</td>\n      <td>NaN</td>\n      <td>NaN</td>\n      <td>NaN</td>\n      <td>4.0</td>\n      <td>NaN</td>\n      <td>NaN</td>\n      <td>NaN</td>\n      <td>NaN</td>\n    </tr>\n    <tr>\n      <th>Bug's Life, A (1998)</th>\n      <td>5.0</td>\n      <td>NaN</td>\n      <td>5.0</td>\n      <td>NaN</td>\n      <td>5.0</td>\n      <td>NaN</td>\n      <td>NaN</td>\n      <td>NaN</td>\n      <td>4.0</td>\n      <td>4.0</td>\n      <td>...</td>\n      <td>NaN</td>\n      <td>NaN</td>\n      <td>NaN</td>\n      <td>NaN</td>\n      <td>5.0</td>\n      <td>4.0</td>\n      <td>NaN</td>\n      <td>NaN</td>\n      <td>NaN</td>\n      <td>NaN</td>\n    </tr>\n  </tbody>\n</table>\n<p>5 rows × 6040 columns</p>\n</div>"
     },
     "execution_count": 10,
     "metadata": {},
     "output_type": "execute_result"
    }
   ],
   "source": [
    "critics = loadMovieLens1M()\n",
    "pd.DataFrame.from_dict(critics).head()"
   ],
   "metadata": {
    "collapsed": false,
    "pycharm": {
     "name": "#%%\n"
    }
   }
  },
  {
   "cell_type": "markdown",
   "source": [
    "## test train split\n",
    "\n",
    "### Вариант 1:\n",
    "Тестовые пользователи – это те, у кого ID делется на 5 без остатка. Для каждого тестового пользователя скройте каждый десятый фильм по возрастанию ID"
   ],
   "metadata": {
    "collapsed": false,
    "pycharm": {
     "name": "#%% md\n"
    }
   }
  },
  {
   "cell_type": "code",
   "execution_count": 11,
   "outputs": [
    {
     "data": {
      "text/plain": "6040"
     },
     "execution_count": 11,
     "metadata": {},
     "output_type": "execute_result"
    }
   ],
   "source": [
    "all_users = [u for u in critics]\n",
    "len(all_users)"
   ],
   "metadata": {
    "collapsed": false,
    "pycharm": {
     "name": "#%%\n"
    }
   }
  },
  {
   "cell_type": "code",
   "execution_count": 12,
   "outputs": [
    {
     "data": {
      "text/plain": "1208"
     },
     "execution_count": 12,
     "metadata": {},
     "output_type": "execute_result"
    }
   ],
   "source": [
    "users_test_list = [u for u in critics if int(u) % 5 == 0]\n",
    "len(users_test_list)"
   ],
   "metadata": {
    "collapsed": false,
    "pycharm": {
     "name": "#%%\n"
    }
   }
  },
  {
   "cell_type": "code",
   "execution_count": 13,
   "outputs": [
    {
     "data": {
      "text/plain": "                              5  10   15  20  25   30  35  40  45  50  ...  \\\nDonnie Brasco (1997)        3.0 NaN  4.0 NaN NaN  NaN NaN NaN NaN NaN  ...   \nGladiator (2000)            2.0 NaN  NaN NaN NaN  NaN NaN NaN NaN NaN  ...   \nSeven (Se7en) (1995)        3.0 NaN  NaN NaN NaN  NaN NaN NaN NaN NaN  ...   \nApollo 13 (1995)            2.0 NaN  NaN NaN NaN  NaN NaN NaN NaN NaN  ...   \nUsual Suspects, The (1995)  5.0 NaN  4.0 NaN NaN  5.0 NaN NaN NaN NaN  ...   \n\n                            5995  6000  6005  6010  6015  6020  6025  6030  \\\nDonnie Brasco (1997)         NaN   NaN   NaN   NaN   NaN   NaN   NaN   NaN   \nGladiator (2000)             NaN   NaN   NaN   NaN   NaN   NaN   NaN   NaN   \nSeven (Se7en) (1995)         NaN   NaN   NaN   NaN   NaN   NaN   NaN   NaN   \nApollo 13 (1995)             NaN   NaN   NaN   NaN   NaN   NaN   NaN   NaN   \nUsual Suspects, The (1995)   4.0   NaN   NaN   NaN   NaN   NaN   NaN   NaN   \n\n                            6035  6040  \nDonnie Brasco (1997)         NaN   NaN  \nGladiator (2000)             NaN   NaN  \nSeven (Se7en) (1995)         NaN   NaN  \nApollo 13 (1995)             NaN   NaN  \nUsual Suspects, The (1995)   NaN   NaN  \n\n[5 rows x 1208 columns]",
      "text/html": "<div>\n<style scoped>\n    .dataframe tbody tr th:only-of-type {\n        vertical-align: middle;\n    }\n\n    .dataframe tbody tr th {\n        vertical-align: top;\n    }\n\n    .dataframe thead th {\n        text-align: right;\n    }\n</style>\n<table border=\"1\" class=\"dataframe\">\n  <thead>\n    <tr style=\"text-align: right;\">\n      <th></th>\n      <th>5</th>\n      <th>10</th>\n      <th>15</th>\n      <th>20</th>\n      <th>25</th>\n      <th>30</th>\n      <th>35</th>\n      <th>40</th>\n      <th>45</th>\n      <th>50</th>\n      <th>...</th>\n      <th>5995</th>\n      <th>6000</th>\n      <th>6005</th>\n      <th>6010</th>\n      <th>6015</th>\n      <th>6020</th>\n      <th>6025</th>\n      <th>6030</th>\n      <th>6035</th>\n      <th>6040</th>\n    </tr>\n  </thead>\n  <tbody>\n    <tr>\n      <th>Donnie Brasco (1997)</th>\n      <td>3.0</td>\n      <td>NaN</td>\n      <td>4.0</td>\n      <td>NaN</td>\n      <td>NaN</td>\n      <td>NaN</td>\n      <td>NaN</td>\n      <td>NaN</td>\n      <td>NaN</td>\n      <td>NaN</td>\n      <td>...</td>\n      <td>NaN</td>\n      <td>NaN</td>\n      <td>NaN</td>\n      <td>NaN</td>\n      <td>NaN</td>\n      <td>NaN</td>\n      <td>NaN</td>\n      <td>NaN</td>\n      <td>NaN</td>\n      <td>NaN</td>\n    </tr>\n    <tr>\n      <th>Gladiator (2000)</th>\n      <td>2.0</td>\n      <td>NaN</td>\n      <td>NaN</td>\n      <td>NaN</td>\n      <td>NaN</td>\n      <td>NaN</td>\n      <td>NaN</td>\n      <td>NaN</td>\n      <td>NaN</td>\n      <td>NaN</td>\n      <td>...</td>\n      <td>NaN</td>\n      <td>NaN</td>\n      <td>NaN</td>\n      <td>NaN</td>\n      <td>NaN</td>\n      <td>NaN</td>\n      <td>NaN</td>\n      <td>NaN</td>\n      <td>NaN</td>\n      <td>NaN</td>\n    </tr>\n    <tr>\n      <th>Seven (Se7en) (1995)</th>\n      <td>3.0</td>\n      <td>NaN</td>\n      <td>NaN</td>\n      <td>NaN</td>\n      <td>NaN</td>\n      <td>NaN</td>\n      <td>NaN</td>\n      <td>NaN</td>\n      <td>NaN</td>\n      <td>NaN</td>\n      <td>...</td>\n      <td>NaN</td>\n      <td>NaN</td>\n      <td>NaN</td>\n      <td>NaN</td>\n      <td>NaN</td>\n      <td>NaN</td>\n      <td>NaN</td>\n      <td>NaN</td>\n      <td>NaN</td>\n      <td>NaN</td>\n    </tr>\n    <tr>\n      <th>Apollo 13 (1995)</th>\n      <td>2.0</td>\n      <td>NaN</td>\n      <td>NaN</td>\n      <td>NaN</td>\n      <td>NaN</td>\n      <td>NaN</td>\n      <td>NaN</td>\n      <td>NaN</td>\n      <td>NaN</td>\n      <td>NaN</td>\n      <td>...</td>\n      <td>NaN</td>\n      <td>NaN</td>\n      <td>NaN</td>\n      <td>NaN</td>\n      <td>NaN</td>\n      <td>NaN</td>\n      <td>NaN</td>\n      <td>NaN</td>\n      <td>NaN</td>\n      <td>NaN</td>\n    </tr>\n    <tr>\n      <th>Usual Suspects, The (1995)</th>\n      <td>5.0</td>\n      <td>NaN</td>\n      <td>4.0</td>\n      <td>NaN</td>\n      <td>NaN</td>\n      <td>5.0</td>\n      <td>NaN</td>\n      <td>NaN</td>\n      <td>NaN</td>\n      <td>NaN</td>\n      <td>...</td>\n      <td>4.0</td>\n      <td>NaN</td>\n      <td>NaN</td>\n      <td>NaN</td>\n      <td>NaN</td>\n      <td>NaN</td>\n      <td>NaN</td>\n      <td>NaN</td>\n      <td>NaN</td>\n      <td>NaN</td>\n    </tr>\n  </tbody>\n</table>\n<p>5 rows × 1208 columns</p>\n</div>"
     },
     "execution_count": 13,
     "metadata": {},
     "output_type": "execute_result"
    }
   ],
   "source": [
    "critics_test = {}\n",
    "# critics_train = {}\n",
    "for u in users_test_list:\n",
    "    critics_test[u] = {}\n",
    "    # critics_train[u] = {}\n",
    "    m_id = 0\n",
    "    for m in critics[u]:\n",
    "        m_id += 1\n",
    "        if m_id % 10 == 0:\n",
    "            critics_test[u][m] = critics[u][m]\n",
    "        # else:\n",
    "        #     critics_train[u][m] = critics[u][m]\n",
    "pd.DataFrame.from_dict(critics_test).head()"
   ],
   "metadata": {
    "collapsed": false,
    "pycharm": {
     "name": "#%%\n"
    }
   }
  },
  {
   "cell_type": "code",
   "execution_count": 14,
   "outputs": [
    {
     "data": {
      "text/plain": "                                          1    2    3   4   5    6   7   8  \\\nOne Flew Over the Cuckoo's Nest (1975)  5.0  5.0  NaN NaN NaN  NaN NaN NaN   \nJames and the Giant Peach (1996)        3.0  NaN  NaN NaN NaN  NaN NaN NaN   \nMy Fair Lady (1964)                     3.0  NaN  NaN NaN NaN  5.0 NaN NaN   \nErin Brockovich (2000)                  4.0  NaN  NaN NaN NaN  5.0 NaN NaN   \nBug's Life, A (1998)                    5.0  NaN  5.0 NaN NaN  NaN NaN NaN   \n\n                                          9  10  ...  6031  6032  6033  6034  \\\nOne Flew Over the Cuckoo's Nest (1975)  NaN NaN  ...   NaN   5.0   5.0   NaN   \nJames and the Giant Peach (1996)        NaN NaN  ...   NaN   NaN   NaN   NaN   \nMy Fair Lady (1964)                     NaN NaN  ...   NaN   NaN   NaN   NaN   \nErin Brockovich (2000)                  4.0 NaN  ...   NaN   NaN   NaN   NaN   \nBug's Life, A (1998)                    4.0 NaN  ...   NaN   NaN   NaN   NaN   \n\n                                        6035  6036  6037  6038  6039  6040  \nOne Flew Over the Cuckoo's Nest (1975)   NaN   5.0   4.0   NaN   NaN   NaN  \nJames and the Giant Peach (1996)         NaN   NaN   NaN   NaN   3.0   NaN  \nMy Fair Lady (1964)                      NaN   3.0   NaN   NaN   4.0   NaN  \nErin Brockovich (2000)                   NaN   4.0   NaN   NaN   NaN   NaN  \nBug's Life, A (1998)                     NaN   4.0   NaN   NaN   NaN   NaN  \n\n[5 rows x 6040 columns]",
      "text/html": "<div>\n<style scoped>\n    .dataframe tbody tr th:only-of-type {\n        vertical-align: middle;\n    }\n\n    .dataframe tbody tr th {\n        vertical-align: top;\n    }\n\n    .dataframe thead th {\n        text-align: right;\n    }\n</style>\n<table border=\"1\" class=\"dataframe\">\n  <thead>\n    <tr style=\"text-align: right;\">\n      <th></th>\n      <th>1</th>\n      <th>2</th>\n      <th>3</th>\n      <th>4</th>\n      <th>5</th>\n      <th>6</th>\n      <th>7</th>\n      <th>8</th>\n      <th>9</th>\n      <th>10</th>\n      <th>...</th>\n      <th>6031</th>\n      <th>6032</th>\n      <th>6033</th>\n      <th>6034</th>\n      <th>6035</th>\n      <th>6036</th>\n      <th>6037</th>\n      <th>6038</th>\n      <th>6039</th>\n      <th>6040</th>\n    </tr>\n  </thead>\n  <tbody>\n    <tr>\n      <th>One Flew Over the Cuckoo's Nest (1975)</th>\n      <td>5.0</td>\n      <td>5.0</td>\n      <td>NaN</td>\n      <td>NaN</td>\n      <td>NaN</td>\n      <td>NaN</td>\n      <td>NaN</td>\n      <td>NaN</td>\n      <td>NaN</td>\n      <td>NaN</td>\n      <td>...</td>\n      <td>NaN</td>\n      <td>5.0</td>\n      <td>5.0</td>\n      <td>NaN</td>\n      <td>NaN</td>\n      <td>5.0</td>\n      <td>4.0</td>\n      <td>NaN</td>\n      <td>NaN</td>\n      <td>NaN</td>\n    </tr>\n    <tr>\n      <th>James and the Giant Peach (1996)</th>\n      <td>3.0</td>\n      <td>NaN</td>\n      <td>NaN</td>\n      <td>NaN</td>\n      <td>NaN</td>\n      <td>NaN</td>\n      <td>NaN</td>\n      <td>NaN</td>\n      <td>NaN</td>\n      <td>NaN</td>\n      <td>...</td>\n      <td>NaN</td>\n      <td>NaN</td>\n      <td>NaN</td>\n      <td>NaN</td>\n      <td>NaN</td>\n      <td>NaN</td>\n      <td>NaN</td>\n      <td>NaN</td>\n      <td>3.0</td>\n      <td>NaN</td>\n    </tr>\n    <tr>\n      <th>My Fair Lady (1964)</th>\n      <td>3.0</td>\n      <td>NaN</td>\n      <td>NaN</td>\n      <td>NaN</td>\n      <td>NaN</td>\n      <td>5.0</td>\n      <td>NaN</td>\n      <td>NaN</td>\n      <td>NaN</td>\n      <td>NaN</td>\n      <td>...</td>\n      <td>NaN</td>\n      <td>NaN</td>\n      <td>NaN</td>\n      <td>NaN</td>\n      <td>NaN</td>\n      <td>3.0</td>\n      <td>NaN</td>\n      <td>NaN</td>\n      <td>4.0</td>\n      <td>NaN</td>\n    </tr>\n    <tr>\n      <th>Erin Brockovich (2000)</th>\n      <td>4.0</td>\n      <td>NaN</td>\n      <td>NaN</td>\n      <td>NaN</td>\n      <td>NaN</td>\n      <td>5.0</td>\n      <td>NaN</td>\n      <td>NaN</td>\n      <td>4.0</td>\n      <td>NaN</td>\n      <td>...</td>\n      <td>NaN</td>\n      <td>NaN</td>\n      <td>NaN</td>\n      <td>NaN</td>\n      <td>NaN</td>\n      <td>4.0</td>\n      <td>NaN</td>\n      <td>NaN</td>\n      <td>NaN</td>\n      <td>NaN</td>\n    </tr>\n    <tr>\n      <th>Bug's Life, A (1998)</th>\n      <td>5.0</td>\n      <td>NaN</td>\n      <td>5.0</td>\n      <td>NaN</td>\n      <td>NaN</td>\n      <td>NaN</td>\n      <td>NaN</td>\n      <td>NaN</td>\n      <td>4.0</td>\n      <td>NaN</td>\n      <td>...</td>\n      <td>NaN</td>\n      <td>NaN</td>\n      <td>NaN</td>\n      <td>NaN</td>\n      <td>NaN</td>\n      <td>4.0</td>\n      <td>NaN</td>\n      <td>NaN</td>\n      <td>NaN</td>\n      <td>NaN</td>\n    </tr>\n  </tbody>\n</table>\n<p>5 rows × 6040 columns</p>\n</div>"
     },
     "execution_count": 14,
     "metadata": {},
     "output_type": "execute_result"
    }
   ],
   "source": [
    "critics_train = {}\n",
    "for u in all_users:\n",
    "    if u not in users_test_list:\n",
    "        critics_train[u] = {}\n",
    "        for m in critics[u]:\n",
    "            critics_train[u][m] = critics[u][m]\n",
    "    else:\n",
    "        critics_train[u] = {}\n",
    "        m_id = 0\n",
    "        for m in critics[u]:\n",
    "            m_id += 1\n",
    "            if m_id % 10 == 0:\n",
    "                critics_train[u][m] = critics[u][m]\n",
    "\n",
    "pd.DataFrame.from_dict(critics_train).head()"
   ],
   "metadata": {
    "collapsed": false,
    "pycharm": {
     "name": "#%%\n"
    }
   }
  },
  {
   "cell_type": "markdown",
   "source": [
    "### Вариант 2:\n",
    "Тестовые пользователи – это случайно выбранные 20% сохраните их список для воспроизводимости. Для каждого тестового пользователя скройте каждый фильм с вероятностью 1/10, сохраните список скрытых фильмов."
   ],
   "metadata": {
    "collapsed": false,
    "pycharm": {
     "name": "#%% md\n"
    }
   }
  },
  {
   "cell_type": "code",
   "execution_count": 15,
   "outputs": [
    {
     "data": {
      "text/plain": "1175"
     },
     "execution_count": 15,
     "metadata": {},
     "output_type": "execute_result"
    }
   ],
   "source": [
    "seed(2)\n",
    "users_test_list_2 = [u for u in critics if random()<=0.2]\n",
    "len(users_test_list_2)"
   ],
   "metadata": {
    "collapsed": false,
    "pycharm": {
     "name": "#%%\n"
    }
   }
  },
  {
   "cell_type": "code",
   "execution_count": 16,
   "outputs": [
    {
     "data": {
      "text/plain": "                               3   4  12  21   22  30   32   36  46  66  ...  \\\nMission: Impossible (1996)   3.0 NaN NaN NaN  2.0 NaN  NaN  NaN NaN NaN  ...   \nRaising Arizona (1987)       4.0 NaN NaN NaN  5.0 NaN  NaN  NaN NaN NaN  ...   \nBeing John Malkovich (1999)  3.0 NaN NaN NaN  NaN NaN  NaN  NaN NaN NaN  ...   \nAmerican Beauty (1999)       4.0 NaN NaN NaN  NaN NaN  4.0  4.0 NaN NaN  ...   \nToy Story 2 (1999)           3.0 NaN NaN NaN  NaN NaN  NaN  NaN NaN NaN  ...   \n\n                             6000  6006  6008  6018  6021  6025  6028  6031  \\\nMission: Impossible (1996)    NaN   NaN   NaN   NaN   NaN   NaN   NaN   NaN   \nRaising Arizona (1987)        NaN   NaN   NaN   NaN   NaN   NaN   NaN   2.0   \nBeing John Malkovich (1999)   NaN   NaN   NaN   NaN   NaN   5.0   NaN   NaN   \nAmerican Beauty (1999)        NaN   NaN   NaN   NaN   NaN   NaN   NaN   NaN   \nToy Story 2 (1999)            NaN   NaN   NaN   NaN   NaN   NaN   NaN   NaN   \n\n                             6032  6037  \nMission: Impossible (1996)    NaN   NaN  \nRaising Arizona (1987)        NaN   NaN  \nBeing John Malkovich (1999)   NaN   4.0  \nAmerican Beauty (1999)        NaN   NaN  \nToy Story 2 (1999)            NaN   NaN  \n\n[5 rows x 1175 columns]",
      "text/html": "<div>\n<style scoped>\n    .dataframe tbody tr th:only-of-type {\n        vertical-align: middle;\n    }\n\n    .dataframe tbody tr th {\n        vertical-align: top;\n    }\n\n    .dataframe thead th {\n        text-align: right;\n    }\n</style>\n<table border=\"1\" class=\"dataframe\">\n  <thead>\n    <tr style=\"text-align: right;\">\n      <th></th>\n      <th>3</th>\n      <th>4</th>\n      <th>12</th>\n      <th>21</th>\n      <th>22</th>\n      <th>30</th>\n      <th>32</th>\n      <th>36</th>\n      <th>46</th>\n      <th>66</th>\n      <th>...</th>\n      <th>6000</th>\n      <th>6006</th>\n      <th>6008</th>\n      <th>6018</th>\n      <th>6021</th>\n      <th>6025</th>\n      <th>6028</th>\n      <th>6031</th>\n      <th>6032</th>\n      <th>6037</th>\n    </tr>\n  </thead>\n  <tbody>\n    <tr>\n      <th>Mission: Impossible (1996)</th>\n      <td>3.0</td>\n      <td>NaN</td>\n      <td>NaN</td>\n      <td>NaN</td>\n      <td>2.0</td>\n      <td>NaN</td>\n      <td>NaN</td>\n      <td>NaN</td>\n      <td>NaN</td>\n      <td>NaN</td>\n      <td>...</td>\n      <td>NaN</td>\n      <td>NaN</td>\n      <td>NaN</td>\n      <td>NaN</td>\n      <td>NaN</td>\n      <td>NaN</td>\n      <td>NaN</td>\n      <td>NaN</td>\n      <td>NaN</td>\n      <td>NaN</td>\n    </tr>\n    <tr>\n      <th>Raising Arizona (1987)</th>\n      <td>4.0</td>\n      <td>NaN</td>\n      <td>NaN</td>\n      <td>NaN</td>\n      <td>5.0</td>\n      <td>NaN</td>\n      <td>NaN</td>\n      <td>NaN</td>\n      <td>NaN</td>\n      <td>NaN</td>\n      <td>...</td>\n      <td>NaN</td>\n      <td>NaN</td>\n      <td>NaN</td>\n      <td>NaN</td>\n      <td>NaN</td>\n      <td>NaN</td>\n      <td>NaN</td>\n      <td>2.0</td>\n      <td>NaN</td>\n      <td>NaN</td>\n    </tr>\n    <tr>\n      <th>Being John Malkovich (1999)</th>\n      <td>3.0</td>\n      <td>NaN</td>\n      <td>NaN</td>\n      <td>NaN</td>\n      <td>NaN</td>\n      <td>NaN</td>\n      <td>NaN</td>\n      <td>NaN</td>\n      <td>NaN</td>\n      <td>NaN</td>\n      <td>...</td>\n      <td>NaN</td>\n      <td>NaN</td>\n      <td>NaN</td>\n      <td>NaN</td>\n      <td>NaN</td>\n      <td>5.0</td>\n      <td>NaN</td>\n      <td>NaN</td>\n      <td>NaN</td>\n      <td>4.0</td>\n    </tr>\n    <tr>\n      <th>American Beauty (1999)</th>\n      <td>4.0</td>\n      <td>NaN</td>\n      <td>NaN</td>\n      <td>NaN</td>\n      <td>NaN</td>\n      <td>NaN</td>\n      <td>4.0</td>\n      <td>4.0</td>\n      <td>NaN</td>\n      <td>NaN</td>\n      <td>...</td>\n      <td>NaN</td>\n      <td>NaN</td>\n      <td>NaN</td>\n      <td>NaN</td>\n      <td>NaN</td>\n      <td>NaN</td>\n      <td>NaN</td>\n      <td>NaN</td>\n      <td>NaN</td>\n      <td>NaN</td>\n    </tr>\n    <tr>\n      <th>Toy Story 2 (1999)</th>\n      <td>3.0</td>\n      <td>NaN</td>\n      <td>NaN</td>\n      <td>NaN</td>\n      <td>NaN</td>\n      <td>NaN</td>\n      <td>NaN</td>\n      <td>NaN</td>\n      <td>NaN</td>\n      <td>NaN</td>\n      <td>...</td>\n      <td>NaN</td>\n      <td>NaN</td>\n      <td>NaN</td>\n      <td>NaN</td>\n      <td>NaN</td>\n      <td>NaN</td>\n      <td>NaN</td>\n      <td>NaN</td>\n      <td>NaN</td>\n      <td>NaN</td>\n    </tr>\n  </tbody>\n</table>\n<p>5 rows × 1175 columns</p>\n</div>"
     },
     "execution_count": 16,
     "metadata": {},
     "output_type": "execute_result"
    }
   ],
   "source": [
    "seed(2)\n",
    "critics_test_2 = {}\n",
    "critics_train_2_ = {}\n",
    "for u in users_test_list_2:\n",
    "    critics_test_2[u] = {}\n",
    "    critics_train_2_[u] = {}\n",
    "    for m in critics[u]:\n",
    "        if random()<=0.2:\n",
    "            critics_test_2[u][m] = critics[u][m]\n",
    "        else:\n",
    "            critics_train_2_[u][m] = critics[u][m]\n",
    "pd.DataFrame.from_dict(critics_test_2).head()"
   ],
   "metadata": {
    "collapsed": false,
    "pycharm": {
     "name": "#%%\n"
    }
   }
  },
  {
   "cell_type": "code",
   "execution_count": 17,
   "outputs": [
    {
     "data": {
      "text/plain": "                            3   4  12  21   22  30  32  36  46  66  ...  6000  \\\nAnimal House (1978)       4.0 NaN NaN NaN  NaN NaN NaN NaN NaN NaN  ...   4.0   \nFull Monty, The (1997)    2.0 NaN NaN NaN  NaN NaN NaN NaN NaN NaN  ...   3.0   \n28 Days (2000)            3.0 NaN NaN NaN  NaN NaN NaN NaN NaN NaN  ...   NaN   \nHappy Gilmore (1996)      4.0 NaN NaN NaN  3.0 NaN NaN NaN NaN NaN  ...   NaN   \nGolden Child, The (1986)  4.0 NaN NaN NaN  NaN NaN NaN NaN NaN NaN  ...   NaN   \n\n                          6006  6008  6018  6021  6025  6028  6031  6032  6037  \nAnimal House (1978)        NaN   NaN   NaN   NaN   NaN   NaN   NaN   4.0   NaN  \nFull Monty, The (1997)     NaN   NaN   NaN   NaN   NaN   NaN   NaN   NaN   NaN  \n28 Days (2000)             NaN   NaN   NaN   NaN   NaN   NaN   NaN   NaN   NaN  \nHappy Gilmore (1996)       NaN   NaN   NaN   NaN   1.0   NaN   NaN   NaN   NaN  \nGolden Child, The (1986)   NaN   NaN   NaN   NaN   NaN   NaN   NaN   NaN   NaN  \n\n[5 rows x 1175 columns]",
      "text/html": "<div>\n<style scoped>\n    .dataframe tbody tr th:only-of-type {\n        vertical-align: middle;\n    }\n\n    .dataframe tbody tr th {\n        vertical-align: top;\n    }\n\n    .dataframe thead th {\n        text-align: right;\n    }\n</style>\n<table border=\"1\" class=\"dataframe\">\n  <thead>\n    <tr style=\"text-align: right;\">\n      <th></th>\n      <th>3</th>\n      <th>4</th>\n      <th>12</th>\n      <th>21</th>\n      <th>22</th>\n      <th>30</th>\n      <th>32</th>\n      <th>36</th>\n      <th>46</th>\n      <th>66</th>\n      <th>...</th>\n      <th>6000</th>\n      <th>6006</th>\n      <th>6008</th>\n      <th>6018</th>\n      <th>6021</th>\n      <th>6025</th>\n      <th>6028</th>\n      <th>6031</th>\n      <th>6032</th>\n      <th>6037</th>\n    </tr>\n  </thead>\n  <tbody>\n    <tr>\n      <th>Animal House (1978)</th>\n      <td>4.0</td>\n      <td>NaN</td>\n      <td>NaN</td>\n      <td>NaN</td>\n      <td>NaN</td>\n      <td>NaN</td>\n      <td>NaN</td>\n      <td>NaN</td>\n      <td>NaN</td>\n      <td>NaN</td>\n      <td>...</td>\n      <td>4.0</td>\n      <td>NaN</td>\n      <td>NaN</td>\n      <td>NaN</td>\n      <td>NaN</td>\n      <td>NaN</td>\n      <td>NaN</td>\n      <td>NaN</td>\n      <td>4.0</td>\n      <td>NaN</td>\n    </tr>\n    <tr>\n      <th>Full Monty, The (1997)</th>\n      <td>2.0</td>\n      <td>NaN</td>\n      <td>NaN</td>\n      <td>NaN</td>\n      <td>NaN</td>\n      <td>NaN</td>\n      <td>NaN</td>\n      <td>NaN</td>\n      <td>NaN</td>\n      <td>NaN</td>\n      <td>...</td>\n      <td>3.0</td>\n      <td>NaN</td>\n      <td>NaN</td>\n      <td>NaN</td>\n      <td>NaN</td>\n      <td>NaN</td>\n      <td>NaN</td>\n      <td>NaN</td>\n      <td>NaN</td>\n      <td>NaN</td>\n    </tr>\n    <tr>\n      <th>28 Days (2000)</th>\n      <td>3.0</td>\n      <td>NaN</td>\n      <td>NaN</td>\n      <td>NaN</td>\n      <td>NaN</td>\n      <td>NaN</td>\n      <td>NaN</td>\n      <td>NaN</td>\n      <td>NaN</td>\n      <td>NaN</td>\n      <td>...</td>\n      <td>NaN</td>\n      <td>NaN</td>\n      <td>NaN</td>\n      <td>NaN</td>\n      <td>NaN</td>\n      <td>NaN</td>\n      <td>NaN</td>\n      <td>NaN</td>\n      <td>NaN</td>\n      <td>NaN</td>\n    </tr>\n    <tr>\n      <th>Happy Gilmore (1996)</th>\n      <td>4.0</td>\n      <td>NaN</td>\n      <td>NaN</td>\n      <td>NaN</td>\n      <td>3.0</td>\n      <td>NaN</td>\n      <td>NaN</td>\n      <td>NaN</td>\n      <td>NaN</td>\n      <td>NaN</td>\n      <td>...</td>\n      <td>NaN</td>\n      <td>NaN</td>\n      <td>NaN</td>\n      <td>NaN</td>\n      <td>NaN</td>\n      <td>1.0</td>\n      <td>NaN</td>\n      <td>NaN</td>\n      <td>NaN</td>\n      <td>NaN</td>\n    </tr>\n    <tr>\n      <th>Golden Child, The (1986)</th>\n      <td>4.0</td>\n      <td>NaN</td>\n      <td>NaN</td>\n      <td>NaN</td>\n      <td>NaN</td>\n      <td>NaN</td>\n      <td>NaN</td>\n      <td>NaN</td>\n      <td>NaN</td>\n      <td>NaN</td>\n      <td>...</td>\n      <td>NaN</td>\n      <td>NaN</td>\n      <td>NaN</td>\n      <td>NaN</td>\n      <td>NaN</td>\n      <td>NaN</td>\n      <td>NaN</td>\n      <td>NaN</td>\n      <td>NaN</td>\n      <td>NaN</td>\n    </tr>\n  </tbody>\n</table>\n<p>5 rows × 1175 columns</p>\n</div>"
     },
     "execution_count": 17,
     "metadata": {},
     "output_type": "execute_result"
    }
   ],
   "source": [
    "pd.DataFrame.from_dict(critics_train_2_).head()"
   ],
   "metadata": {
    "collapsed": false,
    "pycharm": {
     "name": "#%%\n"
    }
   }
  },
  {
   "cell_type": "code",
   "execution_count": 18,
   "outputs": [
    {
     "data": {
      "text/plain": "                                          1    2    3   4    5    6   7   8  \\\nOne Flew Over the Cuckoo's Nest (1975)  5.0  5.0  NaN NaN  NaN  NaN NaN NaN   \nJames and the Giant Peach (1996)        3.0  NaN  NaN NaN  NaN  NaN NaN NaN   \nMy Fair Lady (1964)                     3.0  NaN  NaN NaN  NaN  5.0 NaN NaN   \nErin Brockovich (2000)                  4.0  NaN  NaN NaN  3.0  5.0 NaN NaN   \nBug's Life, A (1998)                    5.0  NaN  5.0 NaN  5.0  NaN NaN NaN   \n\n                                          9   10  ...  6031  6032  6033  6034  \\\nOne Flew Over the Cuckoo's Nest (1975)  NaN  NaN  ...   NaN   NaN   5.0   NaN   \nJames and the Giant Peach (1996)        NaN  NaN  ...   NaN   NaN   NaN   NaN   \nMy Fair Lady (1964)                     NaN  5.0  ...   NaN   NaN   NaN   NaN   \nErin Brockovich (2000)                  4.0  4.0  ...   NaN   NaN   NaN   NaN   \nBug's Life, A (1998)                    4.0  4.0  ...   NaN   NaN   NaN   NaN   \n\n                                        6035  6036  6037  6038  6039  6040  \nOne Flew Over the Cuckoo's Nest (1975)   5.0   5.0   NaN   NaN   NaN   4.0  \nJames and the Giant Peach (1996)         NaN   NaN   NaN   NaN   3.0   NaN  \nMy Fair Lady (1964)                      NaN   3.0   NaN   NaN   4.0   NaN  \nErin Brockovich (2000)                   NaN   4.0   NaN   NaN   NaN   NaN  \nBug's Life, A (1998)                     5.0   4.0   NaN   NaN   NaN   NaN  \n\n[5 rows x 6040 columns]",
      "text/html": "<div>\n<style scoped>\n    .dataframe tbody tr th:only-of-type {\n        vertical-align: middle;\n    }\n\n    .dataframe tbody tr th {\n        vertical-align: top;\n    }\n\n    .dataframe thead th {\n        text-align: right;\n    }\n</style>\n<table border=\"1\" class=\"dataframe\">\n  <thead>\n    <tr style=\"text-align: right;\">\n      <th></th>\n      <th>1</th>\n      <th>2</th>\n      <th>3</th>\n      <th>4</th>\n      <th>5</th>\n      <th>6</th>\n      <th>7</th>\n      <th>8</th>\n      <th>9</th>\n      <th>10</th>\n      <th>...</th>\n      <th>6031</th>\n      <th>6032</th>\n      <th>6033</th>\n      <th>6034</th>\n      <th>6035</th>\n      <th>6036</th>\n      <th>6037</th>\n      <th>6038</th>\n      <th>6039</th>\n      <th>6040</th>\n    </tr>\n  </thead>\n  <tbody>\n    <tr>\n      <th>One Flew Over the Cuckoo's Nest (1975)</th>\n      <td>5.0</td>\n      <td>5.0</td>\n      <td>NaN</td>\n      <td>NaN</td>\n      <td>NaN</td>\n      <td>NaN</td>\n      <td>NaN</td>\n      <td>NaN</td>\n      <td>NaN</td>\n      <td>NaN</td>\n      <td>...</td>\n      <td>NaN</td>\n      <td>NaN</td>\n      <td>5.0</td>\n      <td>NaN</td>\n      <td>5.0</td>\n      <td>5.0</td>\n      <td>NaN</td>\n      <td>NaN</td>\n      <td>NaN</td>\n      <td>4.0</td>\n    </tr>\n    <tr>\n      <th>James and the Giant Peach (1996)</th>\n      <td>3.0</td>\n      <td>NaN</td>\n      <td>NaN</td>\n      <td>NaN</td>\n      <td>NaN</td>\n      <td>NaN</td>\n      <td>NaN</td>\n      <td>NaN</td>\n      <td>NaN</td>\n      <td>NaN</td>\n      <td>...</td>\n      <td>NaN</td>\n      <td>NaN</td>\n      <td>NaN</td>\n      <td>NaN</td>\n      <td>NaN</td>\n      <td>NaN</td>\n      <td>NaN</td>\n      <td>NaN</td>\n      <td>3.0</td>\n      <td>NaN</td>\n    </tr>\n    <tr>\n      <th>My Fair Lady (1964)</th>\n      <td>3.0</td>\n      <td>NaN</td>\n      <td>NaN</td>\n      <td>NaN</td>\n      <td>NaN</td>\n      <td>5.0</td>\n      <td>NaN</td>\n      <td>NaN</td>\n      <td>NaN</td>\n      <td>5.0</td>\n      <td>...</td>\n      <td>NaN</td>\n      <td>NaN</td>\n      <td>NaN</td>\n      <td>NaN</td>\n      <td>NaN</td>\n      <td>3.0</td>\n      <td>NaN</td>\n      <td>NaN</td>\n      <td>4.0</td>\n      <td>NaN</td>\n    </tr>\n    <tr>\n      <th>Erin Brockovich (2000)</th>\n      <td>4.0</td>\n      <td>NaN</td>\n      <td>NaN</td>\n      <td>NaN</td>\n      <td>3.0</td>\n      <td>5.0</td>\n      <td>NaN</td>\n      <td>NaN</td>\n      <td>4.0</td>\n      <td>4.0</td>\n      <td>...</td>\n      <td>NaN</td>\n      <td>NaN</td>\n      <td>NaN</td>\n      <td>NaN</td>\n      <td>NaN</td>\n      <td>4.0</td>\n      <td>NaN</td>\n      <td>NaN</td>\n      <td>NaN</td>\n      <td>NaN</td>\n    </tr>\n    <tr>\n      <th>Bug's Life, A (1998)</th>\n      <td>5.0</td>\n      <td>NaN</td>\n      <td>5.0</td>\n      <td>NaN</td>\n      <td>5.0</td>\n      <td>NaN</td>\n      <td>NaN</td>\n      <td>NaN</td>\n      <td>4.0</td>\n      <td>4.0</td>\n      <td>...</td>\n      <td>NaN</td>\n      <td>NaN</td>\n      <td>NaN</td>\n      <td>NaN</td>\n      <td>5.0</td>\n      <td>4.0</td>\n      <td>NaN</td>\n      <td>NaN</td>\n      <td>NaN</td>\n      <td>NaN</td>\n    </tr>\n  </tbody>\n</table>\n<p>5 rows × 6040 columns</p>\n</div>"
     },
     "execution_count": 18,
     "metadata": {},
     "output_type": "execute_result"
    }
   ],
   "source": [
    "critics_train_2 = {}\n",
    "for u in all_users:\n",
    "    if u not in users_test_list_2:\n",
    "        critics_train_2[u] = {}\n",
    "        for m in critics[u]:\n",
    "            critics_train_2[u][m] = critics[u][m]\n",
    "    else:\n",
    "        critics_train_2[u] = {}\n",
    "        for m in critics[u]:\n",
    "            if m not in [m for m in critics_train_2_[u]]:\n",
    "                critics_train_2[u][m] = critics[u][m]\n",
    "pd.DataFrame.from_dict(critics_train_2).head()"
   ],
   "metadata": {
    "collapsed": false,
    "pycharm": {
     "name": "#%%\n"
    }
   }
  },
  {
   "cell_type": "markdown",
   "source": [
    "### Выберите любые две меры похожести и реализуйте на их основе две модели рекомендаций на основе пользователей."
   ],
   "metadata": {
    "collapsed": false,
    "pycharm": {
     "name": "#%% md\n"
    }
   }
  },
  {
   "cell_type": "code",
   "execution_count": 47,
   "outputs": [],
   "source": [
    "# Возвращает сходство person1 и person2 на основе расстояния\n",
    "def sim_kernel(prefs,person1,person2,alpha=0.3):\n",
    "    # Получить список предметов, оцененных обоими\n",
    "    si={}\n",
    "    for item in prefs[person1]:\n",
    "        if item in prefs[person2]:\n",
    "            si[item]=1\n",
    "    # Если нет ни одной общей оценки, вернуть 0\n",
    "    if len(si)==0: return 0\n",
    "    # Сложить квадраты разностей\n",
    "    sum_of_squares=sum([pow(prefs[person1][item]-prefs[person2][item],2)\n",
    "                        for item in prefs[person1] if item in prefs[person2]])\n",
    "    return exp(-alpha*sum_of_squares)\n",
    "\n",
    "\n",
    "# Возвращает коэффициент корреляции Пирсона между p1 и p2\n",
    "def sim_pearson(prefs,p1,p2):\n",
    "    # Получить список предметов, оцененных обоими\n",
    "    si={}\n",
    "    for item in prefs[p1]:\n",
    "        if item in prefs[p2]: si[item]=1\n",
    "\n",
    "    # Если нет ни одной общей оценки, вернуть 0\n",
    "    if len(si)==0: return 0\n",
    "\n",
    "    # Количество соместно оцененных фильм\n",
    "    n=len(si)\n",
    "\n",
    "    # Вычислить сумму всех предпочтений\n",
    "    sum1=sum([prefs[p1][it] for it in si])\n",
    "    sum2=sum([prefs[p2][it] for it in si])\n",
    "\n",
    "    # Вычислить сумму квадратов\n",
    "    sum1Sq=sum([pow(prefs[p1][it],2) for it in si])\n",
    "    sum2Sq=sum([pow(prefs[p2][it],2) for it in si])\n",
    "\n",
    "    # Вычислить сумму произведений\n",
    "    pSum=sum([prefs[p1][it]*prefs[p2][it] for it in si])\n",
    "\n",
    "    # Вычислить коэффициент Пирсона\n",
    "    num=pSum-(sum1*sum2/n)\n",
    "    den=sqrt((sum1Sq-pow(sum1,2)/n)*(sum2Sq-pow(sum2,2)/n))\n",
    "    if den==0: return 0\n",
    "\n",
    "    r=round(num/den, 2)\n",
    "\n",
    "    return r"
   ],
   "metadata": {
    "collapsed": false,
    "pycharm": {
     "name": "#%%\n"
    }
   }
  },
  {
   "cell_type": "code",
   "execution_count": null,
   "outputs": [],
   "source": [],
   "metadata": {
    "collapsed": false,
    "pycharm": {
     "name": "#%%\n"
    }
   }
  },
  {
   "cell_type": "code",
   "execution_count": 22,
   "outputs": [],
   "source": [
    "from itertools import islice"
   ],
   "metadata": {
    "collapsed": false,
    "pycharm": {
     "name": "#%%\n"
    }
   }
  },
  {
   "cell_type": "code",
   "execution_count": 37,
   "outputs": [
    {
     "data": {
      "text/plain": "[('5',\n  {'Donnie Brasco (1997)': 3.0,\n   'Gladiator (2000)': 2.0,\n   'Seven (Se7en) (1995)': 3.0,\n   'Apollo 13 (1995)': 2.0,\n   'Usual Suspects, The (1995)': 5.0,\n   'Thin Red Line, The (1998)': 5.0,\n   'Ghostbusters (1984)': 3.0,\n   'Topsy-Turvy (1999)': 5.0,\n   'Go (1999)': 4.0,\n   'Fargo (1996)': 4.0,\n   'Fast, Cheap & Out of Control (1997)': 4.0,\n   'Fight Club (1999)': 4.0,\n   \"Jacob's Ladder (1990)\": 3.0,\n   'Incredibly True Adventure of Two Girls in Love, The (1995)': 3.0,\n   'Waiting for Guffman (1996)': 4.0,\n   'In the Company of Men (1997)': 1.0,\n   'Bullets Over Broadway (1994)': 4.0,\n   'Much Ado About Nothing (1993)': 3.0,\n   'Rosencrantz and Guildenstern Are Dead (1990)': 3.0})]"
     },
     "execution_count": 37,
     "metadata": {},
     "output_type": "execute_result"
    }
   ],
   "source": [
    "list(islice(critics_test.items(), 1))"
   ],
   "metadata": {
    "collapsed": false,
    "pycharm": {
     "name": "#%%\n"
    }
   }
  },
  {
   "cell_type": "code",
   "execution_count": 49,
   "outputs": [
    {
     "data": {
      "text/plain": "[(1.0, '993'),\n (1.0, '97'),\n (1.0, '964'),\n (1.0, '893'),\n (1.0, '887'),\n (1.0, '88'),\n (1.0, '838'),\n (1.0, '811'),\n (1.0, '78'),\n (1.0, '773'),\n (1.0, '764'),\n (1.0, '753'),\n (1.0, '734'),\n (1.0, '723'),\n (1.0, '717'),\n (1.0, '710'),\n (1.0, '68'),\n (1.0, '657'),\n (1.0, '628'),\n (1.0, '613'),\n (1.0, '6022'),\n (1.0, '5992'),\n (1.0, '5988'),\n (1.0, '5981'),\n (1.0, '5919')]"
     },
     "execution_count": 49,
     "metadata": {},
     "output_type": "execute_result"
    }
   ],
   "source": [
    "def topMatches(prefs,person,n=25,similarity=sim_pearson):\n",
    "    sim_list = sorted([(similarity(prefs, person, p), p) for p in prefs if p != person],\n",
    "                      reverse = True)\n",
    "    return sim_list[:n]\n",
    "\n",
    "topMatches(critics_train, list(critics_test.keys())[0])"
   ],
   "metadata": {
    "collapsed": false,
    "pycharm": {
     "name": "#%%\n"
    }
   }
  },
  {
   "cell_type": "code",
   "execution_count": 179,
   "outputs": [],
   "source": [
    "# Получить рекомендации для заданного человека, пользуясь взвешенным средним\n",
    "# оценок, данных всеми остальными пользователями\n",
    "def getRecommendations(prefs, test,person,similarity=sim_pearson,\n",
    "                       mode = \"exact\"):\n",
    "    top_persons = topMatches(prefs,person, 100, similarity)\n",
    "    film_sum = {}\n",
    "    film_multiplyer = {}\n",
    "    for p in top_persons:\n",
    "        if p[0] <= 0:\n",
    "            break\n",
    "        if mode != \"exact\":\n",
    "            for movie in prefs[p[1]]:\n",
    "                if not movie in film_sum:\n",
    "                    film_sum[movie] = 0\n",
    "                    film_multiplyer[movie] = 0\n",
    "\n",
    "                film_sum[movie] += prefs[p[1]][movie]*p[0]\n",
    "                film_multiplyer[movie] += p[0]\n",
    "        if mode == \"exact\":\n",
    "            test_list = test[person]\n",
    "            for movie in prefs[p[1]]:\n",
    "                if movie in test_list:\n",
    "                    if not movie in film_sum:\n",
    "                        film_sum[movie] = 0\n",
    "                        film_multiplyer[movie] = 0\n",
    "\n",
    "                    film_sum[movie] += prefs[p[1]][movie]*p[0]\n",
    "                    film_multiplyer[movie] += p[0]\n",
    "\n",
    "    if mode == \"only_NA\":\n",
    "        recomend = sorted([(movie, film_sum[movie]/film_multiplyer[movie]) for movie in film_sum if movie not in prefs[person]], reverse = True)\n",
    "    elif mode == \"all\":\n",
    "        recomend = sorted([(movie, film_sum[movie]/film_multiplyer[movie]) for movie in film_sum], reverse = True)\n",
    "    elif mode == \"exact\":\n",
    "        recomend = sorted([(movie, film_sum[movie]/film_multiplyer[movie]) for movie in film_sum if movie in test_list], reverse = True)\n",
    "\n",
    "    return dict(recomend)"
   ],
   "metadata": {
    "collapsed": false,
    "pycharm": {
     "name": "#%%\n"
    }
   }
  },
  {
   "cell_type": "code",
   "execution_count": 196,
   "outputs": [],
   "source": [
    "# Как же я доволен собой, господь\n",
    "def getRecommendations_weighted(prefs, test, person,similarity=sim_pearson,\n",
    "                               mode = \"exact\"):\n",
    "    '''\n",
    "    :param prefs: train df\n",
    "    :param person: test df\n",
    "    :param similarity: method for user user sim\n",
    "    :param test_list: list of items to predict\n",
    "    :return: dict with movies and ratings\n",
    "    '''\n",
    "    top_persons = topMatches(prefs,person, 100, similarity)\n",
    "    test_list = test[person]\n",
    "    film_sum = {}\n",
    "    film_multiplyer = {}\n",
    "    # user 1 average\n",
    "    person_mean = np.mean(list(prefs[person].values()))\n",
    "    for p in top_persons:\n",
    "        user_ratings = []\n",
    "        # берём только от похожих\n",
    "        if p[0] <= 0.5:\n",
    "            break\n",
    "        for movie in prefs[p[1]]:\n",
    "            ## считаем среднюю оценку и стандартное отклонение других пользователей\n",
    "            user_ratings.append(prefs[p[1]][movie])\n",
    "            user_mean = np.mean(user_ratings)\n",
    "            user_std = np.std(user_ratings)\n",
    "            if movie in test_list:\n",
    "                if not movie in film_sum:\n",
    "                    film_sum[movie] = 0\n",
    "                    film_multiplyer[movie] = 0\n",
    "\n",
    "                ### типа з скор что-ли\n",
    "                film_sum[movie] += p[0] * (prefs[p[1]][movie]-user_mean) / user_std\n",
    "                film_multiplyer[movie] += p[0]\n",
    "    ## добавляем среднюю оценку изначального пользователя\n",
    "    recomend = sorted([(movie, person_mean + film_sum[movie]/film_multiplyer[movie]) for movie in film_sum], reverse = True)\n",
    "\n",
    "    return dict(recomend)"
   ],
   "metadata": {
    "collapsed": false,
    "pycharm": {
     "name": "#%%\n"
    }
   }
  },
  {
   "cell_type": "code",
   "execution_count": 201,
   "outputs": [
    {
     "name": "stdout",
     "output_type": "stream",
     "text": [
      "Wall time: 43.1 ms\n"
     ]
    },
    {
     "data": {
      "text/plain": "{'Waiting for Guffman (1996)': 4.666666666666667,\n 'Usual Suspects, The (1995)': 4.916666666666667,\n 'Topsy-Turvy (1999)': 4.5,\n 'Thin Red Line, The (1998)': 4.75,\n 'Seven (Se7en) (1995)': 3.0,\n 'Rosencrantz and Guildenstern Are Dead (1990)': 4.0,\n 'Much Ado About Nothing (1993)': 4.0,\n \"Jacob's Ladder (1990)\": 3.4,\n 'Incredibly True Adventure of Two Girls in Love, The (1995)': 3.5,\n 'In the Company of Men (1997)': 2.0,\n 'Go (1999)': 4.555555555555555,\n 'Gladiator (2000)': 3.515151515151515,\n 'Ghostbusters (1984)': 3.5357142857142856,\n 'Fight Club (1999)': 4.739130434782608,\n 'Fast, Cheap & Out of Control (1997)': 4.333333333333333,\n 'Fargo (1996)': 4.4324324324324325,\n 'Donnie Brasco (1997)': 3.6,\n 'Bullets Over Broadway (1994)': 4.428571428571429,\n 'Apollo 13 (1995)': 3.5833333333333335}"
     },
     "execution_count": 201,
     "metadata": {},
     "output_type": "execute_result"
    }
   ],
   "source": [
    "%%time\n",
    "rec1 = getRecommendations(critics_train, critics_test, list(critics_test.keys())[0],\n",
    "                   mode = \"exact\",)\n",
    "rec1"
   ],
   "metadata": {
    "collapsed": false,
    "pycharm": {
     "name": "#%%\n"
    }
   }
  },
  {
   "cell_type": "code",
   "execution_count": 204,
   "outputs": [
    {
     "name": "stdout",
     "output_type": "stream",
     "text": [
      "Wall time: 423 ms\n"
     ]
    },
    {
     "data": {
      "text/plain": "{'Waiting for Guffman (1996)': 4.196731327735991,\n 'Usual Suspects, The (1995)': 4.601435206218721,\n 'Topsy-Turvy (1999)': 4.006537559539989,\n 'Thin Red Line, The (1998)': 4.534803198846758,\n 'Seven (Se7en) (1995)': 2.888631431965046,\n 'Rosencrantz and Guildenstern Are Dead (1990)': 3.810182499643439,\n 'Much Ado About Nothing (1993)': 3.5542943591345404,\n \"Jacob's Ladder (1990)\": 3.307543780998787,\n 'Incredibly True Adventure of Two Girls in Love, The (1995)': 2.941176452825696,\n 'In the Company of Men (1997)': 1.6103377107285772,\n 'Go (1999)': 4.436241320653836,\n 'Gladiator (2000)': 3.1317565005957766,\n 'Ghostbusters (1984)': 3.271733855221047,\n 'Fight Club (1999)': 4.437459199768675,\n 'Fast, Cheap & Out of Control (1997)': 3.8463453552307163,\n 'Fargo (1996)': 4.001626371142312,\n 'Donnie Brasco (1997)': 3.0533931163082846,\n 'Bullets Over Broadway (1994)': 3.9720612728787494,\n 'Apollo 13 (1995)': 3.335793977055044}"
     },
     "execution_count": 204,
     "metadata": {},
     "output_type": "execute_result"
    }
   ],
   "source": [
    "%%time\n",
    "getRecommendations_weighted(critics_train, critics_test,\n",
    "                            person=list(critics_test.keys())[0])"
   ],
   "metadata": {
    "collapsed": false,
    "pycharm": {
     "name": "#%%\n"
    }
   }
  },
  {
   "cell_type": "markdown",
   "source": [
    "### Для этих моделей посчитайте MAE и RMSE на всех скрытых оценках варианта 1. Какая модель оказалась лучше?"
   ],
   "metadata": {
    "collapsed": false,
    "pycharm": {
     "name": "#%% md\n"
    }
   }
  },
  {
   "cell_type": "code",
   "execution_count": 184,
   "outputs": [],
   "source": [
    "def my_score(real, predicted, score = \"MAE\"):\n",
    "    results = {}\n",
    "    if score == \"MAE\":\n",
    "        for movie in predicted:\n",
    "            results[movie] = abs(real[movie] - predicted[movie])\n",
    "        result_score = np.average(list(results.values()))\n",
    "    elif score == \"RMSE\":\n",
    "        for movie in predicted:\n",
    "            results[movie] = (real[movie] - predicted[movie])**2\n",
    "        result_score = sqrt(np.average(list(results.values())))\n",
    "\n",
    "    return result_score"
   ],
   "metadata": {
    "collapsed": false,
    "pycharm": {
     "name": "#%%\n"
    }
   }
  },
  {
   "cell_type": "code",
   "execution_count": 186,
   "outputs": [
    {
     "data": {
      "text/plain": "0.4632763679288754"
     },
     "execution_count": 186,
     "metadata": {},
     "output_type": "execute_result"
    }
   ],
   "source": [
    "my_score(critics_test[list(critics_test.keys())[0]],\n",
    "         getRecommendations_weighted(critics_train,critics_test,\n",
    "                                     person=list(critics_test.keys())[0],\n",
    "                                        mode = \"exact\")\n",
    "         )"
   ],
   "metadata": {
    "collapsed": false,
    "pycharm": {
     "name": "#%%\n"
    }
   }
  },
  {
   "cell_type": "code",
   "execution_count": 188,
   "outputs": [
    {
     "data": {
      "text/plain": "0.5800209443004088"
     },
     "execution_count": 188,
     "metadata": {},
     "output_type": "execute_result"
    }
   ],
   "source": [
    "my_score(critics_test[list(critics_test.keys())[0]],\n",
    "         getRecommendations_weighted(critics_train,critics_test,\n",
    "                                     person = list(critics_test.keys())[0],\n",
    "                                     mode = \"exact\"),\n",
    "         score = \"RMSE\")"
   ],
   "metadata": {
    "collapsed": false,
    "pycharm": {
     "name": "#%%\n"
    }
   }
  },
  {
   "cell_type": "markdown",
   "source": [
    "## MAE"
   ],
   "metadata": {
    "collapsed": false,
    "pycharm": {
     "name": "#%% md\n"
    }
   }
  },
  {
   "cell_type": "markdown",
   "source": [],
   "metadata": {
    "collapsed": false
   }
  },
  {
   "cell_type": "code",
   "execution_count": 213,
   "outputs": [
    {
     "name": "stdout",
     "output_type": "stream",
     "text": [
      "mean error for base-level model:\n",
      "0.5870481473043274\n",
      "mean error for base-level model:\n",
      "0.7098542979801116\n",
      "Wall time: 37.8 s\n"
     ]
    }
   ],
   "source": [
    "%%time\n",
    "errors_base_MAE = []\n",
    "errors_base_RMSE = []\n",
    "for user in critics_test:\n",
    "    user_predicted = getRecommendations(critics_train, critics_test,\n",
    "                                        person = user,\n",
    "                                        mode = \"exact\")\n",
    "    errors_base_MAE.append(my_score(critics_test[user], user_predicted, score=\"MAE\"))\n",
    "    errors_base_RMSE.append(my_score(critics_test[user], user_predicted, score=\"RMSE\"))\n",
    "\n",
    "errors_clear_MAE = [x for x in errors_base_MAE if str(x) != 'nan']\n",
    "errors_clear_RMSE = [x for x in errors_base_RMSE if str(x) != 'nan']\n",
    "print(\"mean error for base-level model:\")\n",
    "print(np.mean(errors_clear_MAE))\n",
    "print(\"mean error for base-level model:\")\n",
    "print(np.mean(errors_clear_RMSE))"
   ],
   "metadata": {
    "collapsed": false,
    "pycharm": {
     "name": "#%%\n"
    }
   }
  },
  {
   "cell_type": "code",
   "execution_count": null,
   "outputs": [
    {
     "name": "stderr",
     "output_type": "stream",
     "text": [
      "C:\\Users\\wirze\\AppData\\Local\\Temp/ipykernel_8864/854489888.py:33: RuntimeWarning: invalid value encountered in double_scalars\n",
      "  film_sum[movie] += p[0] * (prefs[p[1]][movie]-user_mean) / user_std\n"
     ]
    }
   ],
   "source": [
    "%%time\n",
    "errors_weighted_MAE  = []\n",
    "errors_weighted_RMSE  = []\n",
    "for user in critics_test:\n",
    "    user_predicted = getRecommendations_weighted(critics_train, critics_test,\n",
    "                                        person=user,\n",
    "                                        mode = \"exact\")\n",
    "    errors_weighted_MAE.append(my_score(critics_test[user], user_predicted, score=\"MAE\"))\n",
    "    errors_weighted_RMSE.append(my_score(critics_test[user], user_predicted, score=\"RMSE\"))\n",
    "errors_clear_MAE = [x for x in errors_weighted_MAE if str(x) != 'nan']\n",
    "errors_clear_RMSE = [x for x in errors_weighted_RMSE if str(x) != 'nan']\n",
    "print(\"mean error for z-score model:\")\n",
    "print(np.mean(errors_clear_MAE))\n",
    "print(\"RMSE for z-score model:\")\n",
    "print(np.mean(errors_clear_RMSE))"
   ],
   "metadata": {
    "collapsed": false,
    "pycharm": {
     "name": "#%%\n",
     "is_executing": true
    }
   }
  },
  {
   "cell_type": "code",
   "execution_count": 211,
   "outputs": [
    {
     "data": {
      "text/plain": "           MAE Model\n0     0.638064  base\n1     0.710178  base\n2     0.447585  base\n3          NaN  base\n4     0.408339  base\n...        ...   ...\n1203  0.249256  base\n1204  0.646603  base\n1205  0.698718  base\n1206  0.712690  base\n1207  0.873506  base\n\n[1208 rows x 2 columns]",
      "text/html": "<div>\n<style scoped>\n    .dataframe tbody tr th:only-of-type {\n        vertical-align: middle;\n    }\n\n    .dataframe tbody tr th {\n        vertical-align: top;\n    }\n\n    .dataframe thead th {\n        text-align: right;\n    }\n</style>\n<table border=\"1\" class=\"dataframe\">\n  <thead>\n    <tr style=\"text-align: right;\">\n      <th></th>\n      <th>MAE</th>\n      <th>Model</th>\n    </tr>\n  </thead>\n  <tbody>\n    <tr>\n      <th>0</th>\n      <td>0.638064</td>\n      <td>base</td>\n    </tr>\n    <tr>\n      <th>1</th>\n      <td>0.710178</td>\n      <td>base</td>\n    </tr>\n    <tr>\n      <th>2</th>\n      <td>0.447585</td>\n      <td>base</td>\n    </tr>\n    <tr>\n      <th>3</th>\n      <td>NaN</td>\n      <td>base</td>\n    </tr>\n    <tr>\n      <th>4</th>\n      <td>0.408339</td>\n      <td>base</td>\n    </tr>\n    <tr>\n      <th>...</th>\n      <td>...</td>\n      <td>...</td>\n    </tr>\n    <tr>\n      <th>1203</th>\n      <td>0.249256</td>\n      <td>base</td>\n    </tr>\n    <tr>\n      <th>1204</th>\n      <td>0.646603</td>\n      <td>base</td>\n    </tr>\n    <tr>\n      <th>1205</th>\n      <td>0.698718</td>\n      <td>base</td>\n    </tr>\n    <tr>\n      <th>1206</th>\n      <td>0.712690</td>\n      <td>base</td>\n    </tr>\n    <tr>\n      <th>1207</th>\n      <td>0.873506</td>\n      <td>base</td>\n    </tr>\n  </tbody>\n</table>\n<p>1208 rows × 2 columns</p>\n</div>"
     },
     "execution_count": 211,
     "metadata": {},
     "output_type": "execute_result"
    }
   ],
   "source": [
    "df_errors = pd.DataFrame(\n",
    "    {'metric': [errors_base_MAE,\n",
    "                errors_base_RMSE,\n",
    "                errors_weighted_MAE,\n",
    "                errors_weighted_RMSE],\n",
    "     'value': [np.repeat(\"MAE\", len(errors_base_MAE), axis=0),\n",
    "               np.repeat(\"MAE\", len(errors_base_RMSE), axis=0),\n",
    "               np.repeat(\"MAE\", len(errors_weighted_MAE), axis=0),\n",
    "               np.repeat(\"MAE\", len(errors_weighted_RMSE), axis=0)],\n",
    "     'Model': [np.repeat(\"base\", len(errors_base_MAE), axis=0),\n",
    "               np.repeat(\"base\", len(errors_base_MAE), axis=0),\n",
    "               np.repeat(\"weighted\", len(errors_weighted_MAE), axis=0),\n",
    "               np.repeat(\"weighted\", len(errors_weighted_RMSE), axis=0)]}\n",
    ")\n",
    "df_errors.head()"
   ],
   "metadata": {
    "collapsed": false,
    "pycharm": {
     "name": "#%%\n"
    }
   }
  },
  {
   "cell_type": "code",
   "execution_count": null,
   "outputs": [],
   "source": [
    "import seaborn as sns\n",
    "sns.set_theme(style=\"whitegrid\")\n",
    "ax = sns.boxplot(x=tips[\"total_bill\"])"
   ],
   "metadata": {
    "collapsed": false,
    "pycharm": {
     "name": "#%%\n"
    }
   }
  },
  {
   "cell_type": "markdown",
   "source": [
    "If we are comparing two recommendation models by mean MAE on all test users, it will be clear that\n",
    "## RMSE"
   ],
   "metadata": {
    "collapsed": false,
    "pycharm": {
     "name": "#%% md\n"
    }
   }
  },
  {
   "cell_type": "code",
   "execution_count": null,
   "outputs": [],
   "source": [],
   "metadata": {
    "collapsed": false,
    "pycharm": {
     "name": "#%%\n"
    }
   }
  }
 ],
 "metadata": {
  "kernelspec": {
   "display_name": "Python 3",
   "language": "python",
   "name": "python3"
  },
  "language_info": {
   "codemirror_mode": {
    "name": "ipython",
    "version": 3
   },
   "file_extension": ".py",
   "mimetype": "text/x-python",
   "name": "python",
   "nbconvert_exporter": "python",
   "pygments_lexer": "ipython3",
   "version": "3.7.4"
  }
 },
 "nbformat": 4,
 "nbformat_minor": 2
}