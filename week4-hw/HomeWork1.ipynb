{
 "cells": [
  {
   "cell_type": "markdown",
   "metadata": {},
   "source": [
    "# Домашнее задание 1. Сравнение методов коллаборативной фильтрации по сходству пользователей и по сходству объектов\n",
    "\n",
    "\n",
    "Полезная ссылка на довольно подробный обзор по теме: http://files.grouplens.org/papers/FnT%20CF%20Recsys%20Survey.pdf\n",
    "\n",
    "\n",
    "1. Загрузите данные [Movie Lens](http://grouplens.org/datasets/movielens/), датасет на 1М рейтингов. Дополнительный бонус, если ваш код сможет обработать датасет на 10М. Я рекомендую сначала пробовать ваши методы на датасете из 100к рейтингов.  \n",
    "\n",
    "2. Разбейте датасет на обучающую и тестовую выборку. \n",
    "\n",
    "Вариант 1: Тестовые пользователи -- это те, у кого ID делется на 5 без остатка.\n",
    "Для каждого тестового пользователя скройте каждый десятый фильм по возрастанию ID.\n",
    "\n",
    "Вариант 2: Тестовые пользователи -- это случайно выбранные 20% сохраните их список для воспроизводимости.\n",
    "Для каждого тестового пользователя скройте каждый фильм с вероятностью 1/10, сохраните список скрытых фильмов.\n",
    "\n",
    "Все пользователи и не скрытые фильмы это данные, на которых вы будете оценивать похожесть.\n",
    "\n",
    "3. Выберите любые две меры похожести и реализуйте на их основе две модели рекомендаций на основе пользователей.\n",
    "Для этих моделей посчитайте MAE и RMSE на всех скрытых оценках варианта 1. Какая модель оказалась лучше?\n",
    "\n",
    "4. Повторите пункт 3 для варианта 2. Изменилось ли что-нибудь?\n",
    "\n",
    "5. Для каждого тестового пользователя сгенерируйте рекомендации топ 10, 15, 20, 50, 100 фильмов у которых нет оценок. Посчитайте NDCG считая хорошими фильмы с оценкой 4 и выше.\n",
    "\n",
    "6. Реализуте модель основанную на похожести предметов.\n",
    "\n",
    "7. Повторите пункты 3-5 для этой модели. \n",
    "\n",
    "8. Насколько различны списки из top-n рекомендаций. Попробуйте улучшить результаты подбором $\\beta$ для минимизации MAE (RMSE) в гибридных рекомендациях:\n",
    "$$\\beta\\cdot r^{user-based}_{ui} + (1-\\beta)\\cdot r^{item-based}_{ui}, \\mbox{ где } 0 \\leq \\beta \\leq 1.$$ \n",
    "\n",
    "deadline 24.10.2021 23:59"
   ]
  },
  {
   "cell_type": "markdown",
   "source": [
    "я сделал пункты 1-7, реализовал индивидуальное взвешивание для пользователей, что-то типа Z-score\n",
    "запустил скрипт для 10М, и он вроде даже работает\n",
    "пункт 8 тоже сделал"
   ],
   "metadata": {
    "collapsed": false,
    "pycharm": {
     "name": "#%% md\n"
    }
   }
  },
  {
   "cell_type": "code",
   "execution_count": 1,
   "metadata": {},
   "outputs": [],
   "source": [
    "from math import sqrt\n",
    "from math import log2\n",
    "from math import isnan\n",
    "\n",
    "from random import random, seed\n",
    "from collections import defaultdict\n",
    "from itertools import islice\n",
    "\n",
    "import numpy as np\n",
    "import pandas as pd\n",
    "\n",
    "import matplotlib.pyplot as plt\n",
    "import seaborn as sns\n",
    "\n",
    "from sklearn.metrics import ndcg_score\n",
    "from sklearn.neighbors import NearestNeighbors"
   ]
  },
  {
   "cell_type": "markdown",
   "source": [
    "# Load date"
   ],
   "metadata": {
    "collapsed": false,
    "pycharm": {
     "name": "#%% md\n"
    }
   }
  },
  {
   "cell_type": "code",
   "execution_count": 1,
   "outputs": [],
   "source": [
    "#Чтение данных\n",
    "def loadMovieLens1M(path='./ml-1m'):\n",
    "    # Получить названия фильмов\n",
    "    movies={}\n",
    "    for line in open(path+'/movies.dat'):\n",
    "        (id,title)=line.split('::')[0:2] #при желании тут можно добавить чтение жанров.\n",
    "        movies[id]=title\n",
    "    # Загрузить данные\n",
    "    prefs={}\n",
    "    for line in open(path+'/ratings.dat'):\n",
    "        (user,movieid,rating,ts)=line.split('::')\n",
    "        prefs.setdefault(user,{})\n",
    "        prefs[user][movies[movieid]]=float(rating)\n",
    "    return prefs"
   ],
   "metadata": {
    "collapsed": false,
    "pycharm": {
     "name": "#%%\n"
    }
   }
  },
  {
   "cell_type": "code",
   "execution_count": 3,
   "outputs": [
    {
     "data": {
      "text/plain": "                                          1    2    3   4    5    6   7   8  \\\nOne Flew Over the Cuckoo's Nest (1975)  5.0  5.0  NaN NaN  NaN  NaN NaN NaN   \nJames and the Giant Peach (1996)        3.0  NaN  NaN NaN  NaN  NaN NaN NaN   \nMy Fair Lady (1964)                     3.0  NaN  NaN NaN  NaN  5.0 NaN NaN   \nErin Brockovich (2000)                  4.0  NaN  NaN NaN  3.0  5.0 NaN NaN   \nBug's Life, A (1998)                    5.0  NaN  5.0 NaN  5.0  NaN NaN NaN   \n\n                                          9   10  ...  6031  6032  6033  6034  \\\nOne Flew Over the Cuckoo's Nest (1975)  NaN  NaN  ...   NaN   5.0   5.0   NaN   \nJames and the Giant Peach (1996)        NaN  NaN  ...   NaN   NaN   NaN   NaN   \nMy Fair Lady (1964)                     NaN  5.0  ...   NaN   NaN   NaN   NaN   \nErin Brockovich (2000)                  4.0  4.0  ...   NaN   NaN   NaN   NaN   \nBug's Life, A (1998)                    4.0  4.0  ...   NaN   NaN   NaN   NaN   \n\n                                        6035  6036  6037  6038  6039  6040  \nOne Flew Over the Cuckoo's Nest (1975)   5.0   5.0   4.0   NaN   NaN   4.0  \nJames and the Giant Peach (1996)         NaN   NaN   NaN   NaN   3.0   NaN  \nMy Fair Lady (1964)                      NaN   3.0   NaN   NaN   4.0   NaN  \nErin Brockovich (2000)                   NaN   4.0   NaN   NaN   NaN   NaN  \nBug's Life, A (1998)                     5.0   4.0   NaN   NaN   NaN   NaN  \n\n[5 rows x 6040 columns]",
      "text/html": "<div>\n<style scoped>\n    .dataframe tbody tr th:only-of-type {\n        vertical-align: middle;\n    }\n\n    .dataframe tbody tr th {\n        vertical-align: top;\n    }\n\n    .dataframe thead th {\n        text-align: right;\n    }\n</style>\n<table border=\"1\" class=\"dataframe\">\n  <thead>\n    <tr style=\"text-align: right;\">\n      <th></th>\n      <th>1</th>\n      <th>2</th>\n      <th>3</th>\n      <th>4</th>\n      <th>5</th>\n      <th>6</th>\n      <th>7</th>\n      <th>8</th>\n      <th>9</th>\n      <th>10</th>\n      <th>...</th>\n      <th>6031</th>\n      <th>6032</th>\n      <th>6033</th>\n      <th>6034</th>\n      <th>6035</th>\n      <th>6036</th>\n      <th>6037</th>\n      <th>6038</th>\n      <th>6039</th>\n      <th>6040</th>\n    </tr>\n  </thead>\n  <tbody>\n    <tr>\n      <th>One Flew Over the Cuckoo's Nest (1975)</th>\n      <td>5.0</td>\n      <td>5.0</td>\n      <td>NaN</td>\n      <td>NaN</td>\n      <td>NaN</td>\n      <td>NaN</td>\n      <td>NaN</td>\n      <td>NaN</td>\n      <td>NaN</td>\n      <td>NaN</td>\n      <td>...</td>\n      <td>NaN</td>\n      <td>5.0</td>\n      <td>5.0</td>\n      <td>NaN</td>\n      <td>5.0</td>\n      <td>5.0</td>\n      <td>4.0</td>\n      <td>NaN</td>\n      <td>NaN</td>\n      <td>4.0</td>\n    </tr>\n    <tr>\n      <th>James and the Giant Peach (1996)</th>\n      <td>3.0</td>\n      <td>NaN</td>\n      <td>NaN</td>\n      <td>NaN</td>\n      <td>NaN</td>\n      <td>NaN</td>\n      <td>NaN</td>\n      <td>NaN</td>\n      <td>NaN</td>\n      <td>NaN</td>\n      <td>...</td>\n      <td>NaN</td>\n      <td>NaN</td>\n      <td>NaN</td>\n      <td>NaN</td>\n      <td>NaN</td>\n      <td>NaN</td>\n      <td>NaN</td>\n      <td>NaN</td>\n      <td>3.0</td>\n      <td>NaN</td>\n    </tr>\n    <tr>\n      <th>My Fair Lady (1964)</th>\n      <td>3.0</td>\n      <td>NaN</td>\n      <td>NaN</td>\n      <td>NaN</td>\n      <td>NaN</td>\n      <td>5.0</td>\n      <td>NaN</td>\n      <td>NaN</td>\n      <td>NaN</td>\n      <td>5.0</td>\n      <td>...</td>\n      <td>NaN</td>\n      <td>NaN</td>\n      <td>NaN</td>\n      <td>NaN</td>\n      <td>NaN</td>\n      <td>3.0</td>\n      <td>NaN</td>\n      <td>NaN</td>\n      <td>4.0</td>\n      <td>NaN</td>\n    </tr>\n    <tr>\n      <th>Erin Brockovich (2000)</th>\n      <td>4.0</td>\n      <td>NaN</td>\n      <td>NaN</td>\n      <td>NaN</td>\n      <td>3.0</td>\n      <td>5.0</td>\n      <td>NaN</td>\n      <td>NaN</td>\n      <td>4.0</td>\n      <td>4.0</td>\n      <td>...</td>\n      <td>NaN</td>\n      <td>NaN</td>\n      <td>NaN</td>\n      <td>NaN</td>\n      <td>NaN</td>\n      <td>4.0</td>\n      <td>NaN</td>\n      <td>NaN</td>\n      <td>NaN</td>\n      <td>NaN</td>\n    </tr>\n    <tr>\n      <th>Bug's Life, A (1998)</th>\n      <td>5.0</td>\n      <td>NaN</td>\n      <td>5.0</td>\n      <td>NaN</td>\n      <td>5.0</td>\n      <td>NaN</td>\n      <td>NaN</td>\n      <td>NaN</td>\n      <td>4.0</td>\n      <td>4.0</td>\n      <td>...</td>\n      <td>NaN</td>\n      <td>NaN</td>\n      <td>NaN</td>\n      <td>NaN</td>\n      <td>5.0</td>\n      <td>4.0</td>\n      <td>NaN</td>\n      <td>NaN</td>\n      <td>NaN</td>\n      <td>NaN</td>\n    </tr>\n  </tbody>\n</table>\n<p>5 rows × 6040 columns</p>\n</div>"
     },
     "execution_count": 3,
     "metadata": {},
     "output_type": "execute_result"
    }
   ],
   "source": [
    "critics = loadMovieLens1M()\n",
    "pd.DataFrame.from_dict(critics).head()"
   ],
   "metadata": {
    "collapsed": false,
    "pycharm": {
     "name": "#%%\n"
    }
   }
  },
  {
   "cell_type": "markdown",
   "source": [
    "## test train split\n",
    "\n",
    "### Вариант 1:\n",
    "Тестовые пользователи – это те, у кого ID делется на 5 без остатка. Для каждого тестового пользователя скройте каждый десятый фильм по возрастанию ID"
   ],
   "metadata": {
    "collapsed": false,
    "pycharm": {
     "name": "#%% md\n"
    }
   }
  },
  {
   "cell_type": "code",
   "execution_count": 4,
   "outputs": [
    {
     "data": {
      "text/plain": "6040"
     },
     "execution_count": 4,
     "metadata": {},
     "output_type": "execute_result"
    }
   ],
   "source": [
    "all_users = [u for u in critics]\n",
    "len(all_users)"
   ],
   "metadata": {
    "collapsed": false,
    "pycharm": {
     "name": "#%%\n"
    }
   }
  },
  {
   "cell_type": "code",
   "execution_count": 5,
   "outputs": [
    {
     "data": {
      "text/plain": "1208"
     },
     "execution_count": 5,
     "metadata": {},
     "output_type": "execute_result"
    }
   ],
   "source": [
    "users_test_list = [u for u in critics if int(u) % 5 == 0]\n",
    "len(users_test_list)"
   ],
   "metadata": {
    "collapsed": false,
    "pycharm": {
     "name": "#%%\n"
    }
   }
  },
  {
   "cell_type": "code",
   "execution_count": 6,
   "outputs": [
    {
     "data": {
      "text/plain": "                              5  10   15  20  25   30  35  40  45  50  ...  \\\nDonnie Brasco (1997)        3.0 NaN  4.0 NaN NaN  NaN NaN NaN NaN NaN  ...   \nGladiator (2000)            2.0 NaN  NaN NaN NaN  NaN NaN NaN NaN NaN  ...   \nSeven (Se7en) (1995)        3.0 NaN  NaN NaN NaN  NaN NaN NaN NaN NaN  ...   \nApollo 13 (1995)            2.0 NaN  NaN NaN NaN  NaN NaN NaN NaN NaN  ...   \nUsual Suspects, The (1995)  5.0 NaN  4.0 NaN NaN  5.0 NaN NaN NaN NaN  ...   \n\n                            5995  6000  6005  6010  6015  6020  6025  6030  \\\nDonnie Brasco (1997)         NaN   NaN   NaN   NaN   NaN   NaN   NaN   NaN   \nGladiator (2000)             NaN   NaN   NaN   NaN   NaN   NaN   NaN   NaN   \nSeven (Se7en) (1995)         NaN   NaN   NaN   NaN   NaN   NaN   NaN   NaN   \nApollo 13 (1995)             NaN   NaN   NaN   NaN   NaN   NaN   NaN   NaN   \nUsual Suspects, The (1995)   4.0   NaN   NaN   NaN   NaN   NaN   NaN   NaN   \n\n                            6035  6040  \nDonnie Brasco (1997)         NaN   NaN  \nGladiator (2000)             NaN   NaN  \nSeven (Se7en) (1995)         NaN   NaN  \nApollo 13 (1995)             NaN   NaN  \nUsual Suspects, The (1995)   NaN   NaN  \n\n[5 rows x 1208 columns]",
      "text/html": "<div>\n<style scoped>\n    .dataframe tbody tr th:only-of-type {\n        vertical-align: middle;\n    }\n\n    .dataframe tbody tr th {\n        vertical-align: top;\n    }\n\n    .dataframe thead th {\n        text-align: right;\n    }\n</style>\n<table border=\"1\" class=\"dataframe\">\n  <thead>\n    <tr style=\"text-align: right;\">\n      <th></th>\n      <th>5</th>\n      <th>10</th>\n      <th>15</th>\n      <th>20</th>\n      <th>25</th>\n      <th>30</th>\n      <th>35</th>\n      <th>40</th>\n      <th>45</th>\n      <th>50</th>\n      <th>...</th>\n      <th>5995</th>\n      <th>6000</th>\n      <th>6005</th>\n      <th>6010</th>\n      <th>6015</th>\n      <th>6020</th>\n      <th>6025</th>\n      <th>6030</th>\n      <th>6035</th>\n      <th>6040</th>\n    </tr>\n  </thead>\n  <tbody>\n    <tr>\n      <th>Donnie Brasco (1997)</th>\n      <td>3.0</td>\n      <td>NaN</td>\n      <td>4.0</td>\n      <td>NaN</td>\n      <td>NaN</td>\n      <td>NaN</td>\n      <td>NaN</td>\n      <td>NaN</td>\n      <td>NaN</td>\n      <td>NaN</td>\n      <td>...</td>\n      <td>NaN</td>\n      <td>NaN</td>\n      <td>NaN</td>\n      <td>NaN</td>\n      <td>NaN</td>\n      <td>NaN</td>\n      <td>NaN</td>\n      <td>NaN</td>\n      <td>NaN</td>\n      <td>NaN</td>\n    </tr>\n    <tr>\n      <th>Gladiator (2000)</th>\n      <td>2.0</td>\n      <td>NaN</td>\n      <td>NaN</td>\n      <td>NaN</td>\n      <td>NaN</td>\n      <td>NaN</td>\n      <td>NaN</td>\n      <td>NaN</td>\n      <td>NaN</td>\n      <td>NaN</td>\n      <td>...</td>\n      <td>NaN</td>\n      <td>NaN</td>\n      <td>NaN</td>\n      <td>NaN</td>\n      <td>NaN</td>\n      <td>NaN</td>\n      <td>NaN</td>\n      <td>NaN</td>\n      <td>NaN</td>\n      <td>NaN</td>\n    </tr>\n    <tr>\n      <th>Seven (Se7en) (1995)</th>\n      <td>3.0</td>\n      <td>NaN</td>\n      <td>NaN</td>\n      <td>NaN</td>\n      <td>NaN</td>\n      <td>NaN</td>\n      <td>NaN</td>\n      <td>NaN</td>\n      <td>NaN</td>\n      <td>NaN</td>\n      <td>...</td>\n      <td>NaN</td>\n      <td>NaN</td>\n      <td>NaN</td>\n      <td>NaN</td>\n      <td>NaN</td>\n      <td>NaN</td>\n      <td>NaN</td>\n      <td>NaN</td>\n      <td>NaN</td>\n      <td>NaN</td>\n    </tr>\n    <tr>\n      <th>Apollo 13 (1995)</th>\n      <td>2.0</td>\n      <td>NaN</td>\n      <td>NaN</td>\n      <td>NaN</td>\n      <td>NaN</td>\n      <td>NaN</td>\n      <td>NaN</td>\n      <td>NaN</td>\n      <td>NaN</td>\n      <td>NaN</td>\n      <td>...</td>\n      <td>NaN</td>\n      <td>NaN</td>\n      <td>NaN</td>\n      <td>NaN</td>\n      <td>NaN</td>\n      <td>NaN</td>\n      <td>NaN</td>\n      <td>NaN</td>\n      <td>NaN</td>\n      <td>NaN</td>\n    </tr>\n    <tr>\n      <th>Usual Suspects, The (1995)</th>\n      <td>5.0</td>\n      <td>NaN</td>\n      <td>4.0</td>\n      <td>NaN</td>\n      <td>NaN</td>\n      <td>5.0</td>\n      <td>NaN</td>\n      <td>NaN</td>\n      <td>NaN</td>\n      <td>NaN</td>\n      <td>...</td>\n      <td>4.0</td>\n      <td>NaN</td>\n      <td>NaN</td>\n      <td>NaN</td>\n      <td>NaN</td>\n      <td>NaN</td>\n      <td>NaN</td>\n      <td>NaN</td>\n      <td>NaN</td>\n      <td>NaN</td>\n    </tr>\n  </tbody>\n</table>\n<p>5 rows × 1208 columns</p>\n</div>"
     },
     "execution_count": 6,
     "metadata": {},
     "output_type": "execute_result"
    }
   ],
   "source": [
    "critics_test = {}\n",
    "# critics_train = {}\n",
    "for u in users_test_list:\n",
    "    critics_test[u] = {}\n",
    "    # critics_train[u] = {}\n",
    "    m_id = 0\n",
    "    for m in critics[u]:\n",
    "        m_id += 1\n",
    "        if m_id % 10 == 0:\n",
    "            critics_test[u][m] = critics[u][m]\n",
    "        # else:\n",
    "        #     critics_train[u][m] = critics[u][m]\n",
    "pd.DataFrame.from_dict(critics_test).head()"
   ],
   "metadata": {
    "collapsed": false,
    "pycharm": {
     "name": "#%%\n"
    }
   }
  },
  {
   "cell_type": "code",
   "execution_count": 7,
   "outputs": [
    {
     "data": {
      "text/plain": "                                          1    2    3   4   5    6   7   8  \\\nOne Flew Over the Cuckoo's Nest (1975)  5.0  5.0  NaN NaN NaN  NaN NaN NaN   \nJames and the Giant Peach (1996)        3.0  NaN  NaN NaN NaN  NaN NaN NaN   \nMy Fair Lady (1964)                     3.0  NaN  NaN NaN NaN  5.0 NaN NaN   \nErin Brockovich (2000)                  4.0  NaN  NaN NaN NaN  5.0 NaN NaN   \nBug's Life, A (1998)                    5.0  NaN  5.0 NaN NaN  NaN NaN NaN   \n\n                                          9  10  ...  6031  6032  6033  6034  \\\nOne Flew Over the Cuckoo's Nest (1975)  NaN NaN  ...   NaN   5.0   5.0   NaN   \nJames and the Giant Peach (1996)        NaN NaN  ...   NaN   NaN   NaN   NaN   \nMy Fair Lady (1964)                     NaN NaN  ...   NaN   NaN   NaN   NaN   \nErin Brockovich (2000)                  4.0 NaN  ...   NaN   NaN   NaN   NaN   \nBug's Life, A (1998)                    4.0 NaN  ...   NaN   NaN   NaN   NaN   \n\n                                        6035  6036  6037  6038  6039  6040  \nOne Flew Over the Cuckoo's Nest (1975)   NaN   5.0   4.0   NaN   NaN   NaN  \nJames and the Giant Peach (1996)         NaN   NaN   NaN   NaN   3.0   NaN  \nMy Fair Lady (1964)                      NaN   3.0   NaN   NaN   4.0   NaN  \nErin Brockovich (2000)                   NaN   4.0   NaN   NaN   NaN   NaN  \nBug's Life, A (1998)                     NaN   4.0   NaN   NaN   NaN   NaN  \n\n[5 rows x 6040 columns]",
      "text/html": "<div>\n<style scoped>\n    .dataframe tbody tr th:only-of-type {\n        vertical-align: middle;\n    }\n\n    .dataframe tbody tr th {\n        vertical-align: top;\n    }\n\n    .dataframe thead th {\n        text-align: right;\n    }\n</style>\n<table border=\"1\" class=\"dataframe\">\n  <thead>\n    <tr style=\"text-align: right;\">\n      <th></th>\n      <th>1</th>\n      <th>2</th>\n      <th>3</th>\n      <th>4</th>\n      <th>5</th>\n      <th>6</th>\n      <th>7</th>\n      <th>8</th>\n      <th>9</th>\n      <th>10</th>\n      <th>...</th>\n      <th>6031</th>\n      <th>6032</th>\n      <th>6033</th>\n      <th>6034</th>\n      <th>6035</th>\n      <th>6036</th>\n      <th>6037</th>\n      <th>6038</th>\n      <th>6039</th>\n      <th>6040</th>\n    </tr>\n  </thead>\n  <tbody>\n    <tr>\n      <th>One Flew Over the Cuckoo's Nest (1975)</th>\n      <td>5.0</td>\n      <td>5.0</td>\n      <td>NaN</td>\n      <td>NaN</td>\n      <td>NaN</td>\n      <td>NaN</td>\n      <td>NaN</td>\n      <td>NaN</td>\n      <td>NaN</td>\n      <td>NaN</td>\n      <td>...</td>\n      <td>NaN</td>\n      <td>5.0</td>\n      <td>5.0</td>\n      <td>NaN</td>\n      <td>NaN</td>\n      <td>5.0</td>\n      <td>4.0</td>\n      <td>NaN</td>\n      <td>NaN</td>\n      <td>NaN</td>\n    </tr>\n    <tr>\n      <th>James and the Giant Peach (1996)</th>\n      <td>3.0</td>\n      <td>NaN</td>\n      <td>NaN</td>\n      <td>NaN</td>\n      <td>NaN</td>\n      <td>NaN</td>\n      <td>NaN</td>\n      <td>NaN</td>\n      <td>NaN</td>\n      <td>NaN</td>\n      <td>...</td>\n      <td>NaN</td>\n      <td>NaN</td>\n      <td>NaN</td>\n      <td>NaN</td>\n      <td>NaN</td>\n      <td>NaN</td>\n      <td>NaN</td>\n      <td>NaN</td>\n      <td>3.0</td>\n      <td>NaN</td>\n    </tr>\n    <tr>\n      <th>My Fair Lady (1964)</th>\n      <td>3.0</td>\n      <td>NaN</td>\n      <td>NaN</td>\n      <td>NaN</td>\n      <td>NaN</td>\n      <td>5.0</td>\n      <td>NaN</td>\n      <td>NaN</td>\n      <td>NaN</td>\n      <td>NaN</td>\n      <td>...</td>\n      <td>NaN</td>\n      <td>NaN</td>\n      <td>NaN</td>\n      <td>NaN</td>\n      <td>NaN</td>\n      <td>3.0</td>\n      <td>NaN</td>\n      <td>NaN</td>\n      <td>4.0</td>\n      <td>NaN</td>\n    </tr>\n    <tr>\n      <th>Erin Brockovich (2000)</th>\n      <td>4.0</td>\n      <td>NaN</td>\n      <td>NaN</td>\n      <td>NaN</td>\n      <td>NaN</td>\n      <td>5.0</td>\n      <td>NaN</td>\n      <td>NaN</td>\n      <td>4.0</td>\n      <td>NaN</td>\n      <td>...</td>\n      <td>NaN</td>\n      <td>NaN</td>\n      <td>NaN</td>\n      <td>NaN</td>\n      <td>NaN</td>\n      <td>4.0</td>\n      <td>NaN</td>\n      <td>NaN</td>\n      <td>NaN</td>\n      <td>NaN</td>\n    </tr>\n    <tr>\n      <th>Bug's Life, A (1998)</th>\n      <td>5.0</td>\n      <td>NaN</td>\n      <td>5.0</td>\n      <td>NaN</td>\n      <td>NaN</td>\n      <td>NaN</td>\n      <td>NaN</td>\n      <td>NaN</td>\n      <td>4.0</td>\n      <td>NaN</td>\n      <td>...</td>\n      <td>NaN</td>\n      <td>NaN</td>\n      <td>NaN</td>\n      <td>NaN</td>\n      <td>NaN</td>\n      <td>4.0</td>\n      <td>NaN</td>\n      <td>NaN</td>\n      <td>NaN</td>\n      <td>NaN</td>\n    </tr>\n  </tbody>\n</table>\n<p>5 rows × 6040 columns</p>\n</div>"
     },
     "execution_count": 7,
     "metadata": {},
     "output_type": "execute_result"
    }
   ],
   "source": [
    "critics_train = {}\n",
    "for u in all_users:\n",
    "    if u not in users_test_list:\n",
    "        critics_train[u] = {}\n",
    "        for m in critics[u]:\n",
    "            critics_train[u][m] = critics[u][m]\n",
    "    else:\n",
    "        critics_train[u] = {}\n",
    "        m_id = 0\n",
    "        for m in critics[u]:\n",
    "            m_id += 1\n",
    "            if m_id % 10 == 0:\n",
    "                critics_train[u][m] = critics[u][m]\n",
    "\n",
    "pd.DataFrame.from_dict(critics_train).head()"
   ],
   "metadata": {
    "collapsed": false,
    "pycharm": {
     "name": "#%%\n"
    }
   }
  },
  {
   "cell_type": "markdown",
   "source": [
    "### Вариант 2:\n",
    "Тестовые пользователи – это случайно выбранные 20% сохраните их список для воспроизводимости. Для каждого тестового пользователя скройте каждый фильм с вероятностью 1/10, сохраните список скрытых фильмов."
   ],
   "metadata": {
    "collapsed": false,
    "pycharm": {
     "name": "#%% md\n"
    }
   }
  },
  {
   "cell_type": "code",
   "execution_count": 8,
   "outputs": [
    {
     "data": {
      "text/plain": "1175"
     },
     "execution_count": 8,
     "metadata": {},
     "output_type": "execute_result"
    }
   ],
   "source": [
    "seed(2)\n",
    "users_test_list_2 = [u for u in critics if random()<=0.2]\n",
    "len(users_test_list_2)"
   ],
   "metadata": {
    "collapsed": false,
    "pycharm": {
     "name": "#%%\n"
    }
   }
  },
  {
   "cell_type": "code",
   "execution_count": 9,
   "outputs": [
    {
     "data": {
      "text/plain": "                               3   4  12  21   22  30   32   36  46  66  ...  \\\nMission: Impossible (1996)   3.0 NaN NaN NaN  2.0 NaN  NaN  NaN NaN NaN  ...   \nRaising Arizona (1987)       4.0 NaN NaN NaN  5.0 NaN  NaN  NaN NaN NaN  ...   \nBeing John Malkovich (1999)  3.0 NaN NaN NaN  NaN NaN  NaN  NaN NaN NaN  ...   \nAmerican Beauty (1999)       4.0 NaN NaN NaN  NaN NaN  4.0  4.0 NaN NaN  ...   \nToy Story 2 (1999)           3.0 NaN NaN NaN  NaN NaN  NaN  NaN NaN NaN  ...   \n\n                             6000  6006  6008  6018  6021  6025  6028  6031  \\\nMission: Impossible (1996)    NaN   NaN   NaN   NaN   NaN   NaN   NaN   NaN   \nRaising Arizona (1987)        NaN   NaN   NaN   NaN   NaN   NaN   NaN   2.0   \nBeing John Malkovich (1999)   NaN   NaN   NaN   NaN   NaN   5.0   NaN   NaN   \nAmerican Beauty (1999)        NaN   NaN   NaN   NaN   NaN   NaN   NaN   NaN   \nToy Story 2 (1999)            NaN   NaN   NaN   NaN   NaN   NaN   NaN   NaN   \n\n                             6032  6037  \nMission: Impossible (1996)    NaN   NaN  \nRaising Arizona (1987)        NaN   NaN  \nBeing John Malkovich (1999)   NaN   4.0  \nAmerican Beauty (1999)        NaN   NaN  \nToy Story 2 (1999)            NaN   NaN  \n\n[5 rows x 1175 columns]",
      "text/html": "<div>\n<style scoped>\n    .dataframe tbody tr th:only-of-type {\n        vertical-align: middle;\n    }\n\n    .dataframe tbody tr th {\n        vertical-align: top;\n    }\n\n    .dataframe thead th {\n        text-align: right;\n    }\n</style>\n<table border=\"1\" class=\"dataframe\">\n  <thead>\n    <tr style=\"text-align: right;\">\n      <th></th>\n      <th>3</th>\n      <th>4</th>\n      <th>12</th>\n      <th>21</th>\n      <th>22</th>\n      <th>30</th>\n      <th>32</th>\n      <th>36</th>\n      <th>46</th>\n      <th>66</th>\n      <th>...</th>\n      <th>6000</th>\n      <th>6006</th>\n      <th>6008</th>\n      <th>6018</th>\n      <th>6021</th>\n      <th>6025</th>\n      <th>6028</th>\n      <th>6031</th>\n      <th>6032</th>\n      <th>6037</th>\n    </tr>\n  </thead>\n  <tbody>\n    <tr>\n      <th>Mission: Impossible (1996)</th>\n      <td>3.0</td>\n      <td>NaN</td>\n      <td>NaN</td>\n      <td>NaN</td>\n      <td>2.0</td>\n      <td>NaN</td>\n      <td>NaN</td>\n      <td>NaN</td>\n      <td>NaN</td>\n      <td>NaN</td>\n      <td>...</td>\n      <td>NaN</td>\n      <td>NaN</td>\n      <td>NaN</td>\n      <td>NaN</td>\n      <td>NaN</td>\n      <td>NaN</td>\n      <td>NaN</td>\n      <td>NaN</td>\n      <td>NaN</td>\n      <td>NaN</td>\n    </tr>\n    <tr>\n      <th>Raising Arizona (1987)</th>\n      <td>4.0</td>\n      <td>NaN</td>\n      <td>NaN</td>\n      <td>NaN</td>\n      <td>5.0</td>\n      <td>NaN</td>\n      <td>NaN</td>\n      <td>NaN</td>\n      <td>NaN</td>\n      <td>NaN</td>\n      <td>...</td>\n      <td>NaN</td>\n      <td>NaN</td>\n      <td>NaN</td>\n      <td>NaN</td>\n      <td>NaN</td>\n      <td>NaN</td>\n      <td>NaN</td>\n      <td>2.0</td>\n      <td>NaN</td>\n      <td>NaN</td>\n    </tr>\n    <tr>\n      <th>Being John Malkovich (1999)</th>\n      <td>3.0</td>\n      <td>NaN</td>\n      <td>NaN</td>\n      <td>NaN</td>\n      <td>NaN</td>\n      <td>NaN</td>\n      <td>NaN</td>\n      <td>NaN</td>\n      <td>NaN</td>\n      <td>NaN</td>\n      <td>...</td>\n      <td>NaN</td>\n      <td>NaN</td>\n      <td>NaN</td>\n      <td>NaN</td>\n      <td>NaN</td>\n      <td>5.0</td>\n      <td>NaN</td>\n      <td>NaN</td>\n      <td>NaN</td>\n      <td>4.0</td>\n    </tr>\n    <tr>\n      <th>American Beauty (1999)</th>\n      <td>4.0</td>\n      <td>NaN</td>\n      <td>NaN</td>\n      <td>NaN</td>\n      <td>NaN</td>\n      <td>NaN</td>\n      <td>4.0</td>\n      <td>4.0</td>\n      <td>NaN</td>\n      <td>NaN</td>\n      <td>...</td>\n      <td>NaN</td>\n      <td>NaN</td>\n      <td>NaN</td>\n      <td>NaN</td>\n      <td>NaN</td>\n      <td>NaN</td>\n      <td>NaN</td>\n      <td>NaN</td>\n      <td>NaN</td>\n      <td>NaN</td>\n    </tr>\n    <tr>\n      <th>Toy Story 2 (1999)</th>\n      <td>3.0</td>\n      <td>NaN</td>\n      <td>NaN</td>\n      <td>NaN</td>\n      <td>NaN</td>\n      <td>NaN</td>\n      <td>NaN</td>\n      <td>NaN</td>\n      <td>NaN</td>\n      <td>NaN</td>\n      <td>...</td>\n      <td>NaN</td>\n      <td>NaN</td>\n      <td>NaN</td>\n      <td>NaN</td>\n      <td>NaN</td>\n      <td>NaN</td>\n      <td>NaN</td>\n      <td>NaN</td>\n      <td>NaN</td>\n      <td>NaN</td>\n    </tr>\n  </tbody>\n</table>\n<p>5 rows × 1175 columns</p>\n</div>"
     },
     "execution_count": 9,
     "metadata": {},
     "output_type": "execute_result"
    }
   ],
   "source": [
    "seed(2)\n",
    "critics_test_2 = {}\n",
    "critics_train_2_ = {}\n",
    "for u in users_test_list_2:\n",
    "    critics_test_2[u] = {}\n",
    "    critics_train_2_[u] = {}\n",
    "    for m in critics[u]:\n",
    "        if random()<=0.2:\n",
    "            critics_test_2[u][m] = critics[u][m]\n",
    "        else:\n",
    "            critics_train_2_[u][m] = critics[u][m]\n",
    "pd.DataFrame.from_dict(critics_test_2).head()"
   ],
   "metadata": {
    "collapsed": false,
    "pycharm": {
     "name": "#%%\n"
    }
   }
  },
  {
   "cell_type": "code",
   "execution_count": 10,
   "outputs": [
    {
     "data": {
      "text/plain": "                            3   4  12  21   22  30  32  36  46  66  ...  6000  \\\nAnimal House (1978)       4.0 NaN NaN NaN  NaN NaN NaN NaN NaN NaN  ...   4.0   \nFull Monty, The (1997)    2.0 NaN NaN NaN  NaN NaN NaN NaN NaN NaN  ...   3.0   \n28 Days (2000)            3.0 NaN NaN NaN  NaN NaN NaN NaN NaN NaN  ...   NaN   \nHappy Gilmore (1996)      4.0 NaN NaN NaN  3.0 NaN NaN NaN NaN NaN  ...   NaN   \nGolden Child, The (1986)  4.0 NaN NaN NaN  NaN NaN NaN NaN NaN NaN  ...   NaN   \n\n                          6006  6008  6018  6021  6025  6028  6031  6032  6037  \nAnimal House (1978)        NaN   NaN   NaN   NaN   NaN   NaN   NaN   4.0   NaN  \nFull Monty, The (1997)     NaN   NaN   NaN   NaN   NaN   NaN   NaN   NaN   NaN  \n28 Days (2000)             NaN   NaN   NaN   NaN   NaN   NaN   NaN   NaN   NaN  \nHappy Gilmore (1996)       NaN   NaN   NaN   NaN   1.0   NaN   NaN   NaN   NaN  \nGolden Child, The (1986)   NaN   NaN   NaN   NaN   NaN   NaN   NaN   NaN   NaN  \n\n[5 rows x 1175 columns]",
      "text/html": "<div>\n<style scoped>\n    .dataframe tbody tr th:only-of-type {\n        vertical-align: middle;\n    }\n\n    .dataframe tbody tr th {\n        vertical-align: top;\n    }\n\n    .dataframe thead th {\n        text-align: right;\n    }\n</style>\n<table border=\"1\" class=\"dataframe\">\n  <thead>\n    <tr style=\"text-align: right;\">\n      <th></th>\n      <th>3</th>\n      <th>4</th>\n      <th>12</th>\n      <th>21</th>\n      <th>22</th>\n      <th>30</th>\n      <th>32</th>\n      <th>36</th>\n      <th>46</th>\n      <th>66</th>\n      <th>...</th>\n      <th>6000</th>\n      <th>6006</th>\n      <th>6008</th>\n      <th>6018</th>\n      <th>6021</th>\n      <th>6025</th>\n      <th>6028</th>\n      <th>6031</th>\n      <th>6032</th>\n      <th>6037</th>\n    </tr>\n  </thead>\n  <tbody>\n    <tr>\n      <th>Animal House (1978)</th>\n      <td>4.0</td>\n      <td>NaN</td>\n      <td>NaN</td>\n      <td>NaN</td>\n      <td>NaN</td>\n      <td>NaN</td>\n      <td>NaN</td>\n      <td>NaN</td>\n      <td>NaN</td>\n      <td>NaN</td>\n      <td>...</td>\n      <td>4.0</td>\n      <td>NaN</td>\n      <td>NaN</td>\n      <td>NaN</td>\n      <td>NaN</td>\n      <td>NaN</td>\n      <td>NaN</td>\n      <td>NaN</td>\n      <td>4.0</td>\n      <td>NaN</td>\n    </tr>\n    <tr>\n      <th>Full Monty, The (1997)</th>\n      <td>2.0</td>\n      <td>NaN</td>\n      <td>NaN</td>\n      <td>NaN</td>\n      <td>NaN</td>\n      <td>NaN</td>\n      <td>NaN</td>\n      <td>NaN</td>\n      <td>NaN</td>\n      <td>NaN</td>\n      <td>...</td>\n      <td>3.0</td>\n      <td>NaN</td>\n      <td>NaN</td>\n      <td>NaN</td>\n      <td>NaN</td>\n      <td>NaN</td>\n      <td>NaN</td>\n      <td>NaN</td>\n      <td>NaN</td>\n      <td>NaN</td>\n    </tr>\n    <tr>\n      <th>28 Days (2000)</th>\n      <td>3.0</td>\n      <td>NaN</td>\n      <td>NaN</td>\n      <td>NaN</td>\n      <td>NaN</td>\n      <td>NaN</td>\n      <td>NaN</td>\n      <td>NaN</td>\n      <td>NaN</td>\n      <td>NaN</td>\n      <td>...</td>\n      <td>NaN</td>\n      <td>NaN</td>\n      <td>NaN</td>\n      <td>NaN</td>\n      <td>NaN</td>\n      <td>NaN</td>\n      <td>NaN</td>\n      <td>NaN</td>\n      <td>NaN</td>\n      <td>NaN</td>\n    </tr>\n    <tr>\n      <th>Happy Gilmore (1996)</th>\n      <td>4.0</td>\n      <td>NaN</td>\n      <td>NaN</td>\n      <td>NaN</td>\n      <td>3.0</td>\n      <td>NaN</td>\n      <td>NaN</td>\n      <td>NaN</td>\n      <td>NaN</td>\n      <td>NaN</td>\n      <td>...</td>\n      <td>NaN</td>\n      <td>NaN</td>\n      <td>NaN</td>\n      <td>NaN</td>\n      <td>NaN</td>\n      <td>1.0</td>\n      <td>NaN</td>\n      <td>NaN</td>\n      <td>NaN</td>\n      <td>NaN</td>\n    </tr>\n    <tr>\n      <th>Golden Child, The (1986)</th>\n      <td>4.0</td>\n      <td>NaN</td>\n      <td>NaN</td>\n      <td>NaN</td>\n      <td>NaN</td>\n      <td>NaN</td>\n      <td>NaN</td>\n      <td>NaN</td>\n      <td>NaN</td>\n      <td>NaN</td>\n      <td>...</td>\n      <td>NaN</td>\n      <td>NaN</td>\n      <td>NaN</td>\n      <td>NaN</td>\n      <td>NaN</td>\n      <td>NaN</td>\n      <td>NaN</td>\n      <td>NaN</td>\n      <td>NaN</td>\n      <td>NaN</td>\n    </tr>\n  </tbody>\n</table>\n<p>5 rows × 1175 columns</p>\n</div>"
     },
     "execution_count": 10,
     "metadata": {},
     "output_type": "execute_result"
    }
   ],
   "source": [
    "pd.DataFrame.from_dict(critics_train_2_).head()"
   ],
   "metadata": {
    "collapsed": false,
    "pycharm": {
     "name": "#%%\n"
    }
   }
  },
  {
   "cell_type": "code",
   "execution_count": 11,
   "outputs": [
    {
     "data": {
      "text/plain": "                                          1    2    3   4    5    6   7   8  \\\nOne Flew Over the Cuckoo's Nest (1975)  5.0  5.0  NaN NaN  NaN  NaN NaN NaN   \nJames and the Giant Peach (1996)        3.0  NaN  NaN NaN  NaN  NaN NaN NaN   \nMy Fair Lady (1964)                     3.0  NaN  NaN NaN  NaN  5.0 NaN NaN   \nErin Brockovich (2000)                  4.0  NaN  NaN NaN  3.0  5.0 NaN NaN   \nBug's Life, A (1998)                    5.0  NaN  5.0 NaN  5.0  NaN NaN NaN   \n\n                                          9   10  ...  6031  6032  6033  6034  \\\nOne Flew Over the Cuckoo's Nest (1975)  NaN  NaN  ...   NaN   NaN   5.0   NaN   \nJames and the Giant Peach (1996)        NaN  NaN  ...   NaN   NaN   NaN   NaN   \nMy Fair Lady (1964)                     NaN  5.0  ...   NaN   NaN   NaN   NaN   \nErin Brockovich (2000)                  4.0  4.0  ...   NaN   NaN   NaN   NaN   \nBug's Life, A (1998)                    4.0  4.0  ...   NaN   NaN   NaN   NaN   \n\n                                        6035  6036  6037  6038  6039  6040  \nOne Flew Over the Cuckoo's Nest (1975)   5.0   5.0   NaN   NaN   NaN   4.0  \nJames and the Giant Peach (1996)         NaN   NaN   NaN   NaN   3.0   NaN  \nMy Fair Lady (1964)                      NaN   3.0   NaN   NaN   4.0   NaN  \nErin Brockovich (2000)                   NaN   4.0   NaN   NaN   NaN   NaN  \nBug's Life, A (1998)                     5.0   4.0   NaN   NaN   NaN   NaN  \n\n[5 rows x 6040 columns]",
      "text/html": "<div>\n<style scoped>\n    .dataframe tbody tr th:only-of-type {\n        vertical-align: middle;\n    }\n\n    .dataframe tbody tr th {\n        vertical-align: top;\n    }\n\n    .dataframe thead th {\n        text-align: right;\n    }\n</style>\n<table border=\"1\" class=\"dataframe\">\n  <thead>\n    <tr style=\"text-align: right;\">\n      <th></th>\n      <th>1</th>\n      <th>2</th>\n      <th>3</th>\n      <th>4</th>\n      <th>5</th>\n      <th>6</th>\n      <th>7</th>\n      <th>8</th>\n      <th>9</th>\n      <th>10</th>\n      <th>...</th>\n      <th>6031</th>\n      <th>6032</th>\n      <th>6033</th>\n      <th>6034</th>\n      <th>6035</th>\n      <th>6036</th>\n      <th>6037</th>\n      <th>6038</th>\n      <th>6039</th>\n      <th>6040</th>\n    </tr>\n  </thead>\n  <tbody>\n    <tr>\n      <th>One Flew Over the Cuckoo's Nest (1975)</th>\n      <td>5.0</td>\n      <td>5.0</td>\n      <td>NaN</td>\n      <td>NaN</td>\n      <td>NaN</td>\n      <td>NaN</td>\n      <td>NaN</td>\n      <td>NaN</td>\n      <td>NaN</td>\n      <td>NaN</td>\n      <td>...</td>\n      <td>NaN</td>\n      <td>NaN</td>\n      <td>5.0</td>\n      <td>NaN</td>\n      <td>5.0</td>\n      <td>5.0</td>\n      <td>NaN</td>\n      <td>NaN</td>\n      <td>NaN</td>\n      <td>4.0</td>\n    </tr>\n    <tr>\n      <th>James and the Giant Peach (1996)</th>\n      <td>3.0</td>\n      <td>NaN</td>\n      <td>NaN</td>\n      <td>NaN</td>\n      <td>NaN</td>\n      <td>NaN</td>\n      <td>NaN</td>\n      <td>NaN</td>\n      <td>NaN</td>\n      <td>NaN</td>\n      <td>...</td>\n      <td>NaN</td>\n      <td>NaN</td>\n      <td>NaN</td>\n      <td>NaN</td>\n      <td>NaN</td>\n      <td>NaN</td>\n      <td>NaN</td>\n      <td>NaN</td>\n      <td>3.0</td>\n      <td>NaN</td>\n    </tr>\n    <tr>\n      <th>My Fair Lady (1964)</th>\n      <td>3.0</td>\n      <td>NaN</td>\n      <td>NaN</td>\n      <td>NaN</td>\n      <td>NaN</td>\n      <td>5.0</td>\n      <td>NaN</td>\n      <td>NaN</td>\n      <td>NaN</td>\n      <td>5.0</td>\n      <td>...</td>\n      <td>NaN</td>\n      <td>NaN</td>\n      <td>NaN</td>\n      <td>NaN</td>\n      <td>NaN</td>\n      <td>3.0</td>\n      <td>NaN</td>\n      <td>NaN</td>\n      <td>4.0</td>\n      <td>NaN</td>\n    </tr>\n    <tr>\n      <th>Erin Brockovich (2000)</th>\n      <td>4.0</td>\n      <td>NaN</td>\n      <td>NaN</td>\n      <td>NaN</td>\n      <td>3.0</td>\n      <td>5.0</td>\n      <td>NaN</td>\n      <td>NaN</td>\n      <td>4.0</td>\n      <td>4.0</td>\n      <td>...</td>\n      <td>NaN</td>\n      <td>NaN</td>\n      <td>NaN</td>\n      <td>NaN</td>\n      <td>NaN</td>\n      <td>4.0</td>\n      <td>NaN</td>\n      <td>NaN</td>\n      <td>NaN</td>\n      <td>NaN</td>\n    </tr>\n    <tr>\n      <th>Bug's Life, A (1998)</th>\n      <td>5.0</td>\n      <td>NaN</td>\n      <td>5.0</td>\n      <td>NaN</td>\n      <td>5.0</td>\n      <td>NaN</td>\n      <td>NaN</td>\n      <td>NaN</td>\n      <td>4.0</td>\n      <td>4.0</td>\n      <td>...</td>\n      <td>NaN</td>\n      <td>NaN</td>\n      <td>NaN</td>\n      <td>NaN</td>\n      <td>5.0</td>\n      <td>4.0</td>\n      <td>NaN</td>\n      <td>NaN</td>\n      <td>NaN</td>\n      <td>NaN</td>\n    </tr>\n  </tbody>\n</table>\n<p>5 rows × 6040 columns</p>\n</div>"
     },
     "execution_count": 11,
     "metadata": {},
     "output_type": "execute_result"
    }
   ],
   "source": [
    "critics_train_2 = {}\n",
    "for u in all_users:\n",
    "    if u not in users_test_list_2:\n",
    "        critics_train_2[u] = {}\n",
    "        for m in critics[u]:\n",
    "            critics_train_2[u][m] = critics[u][m]\n",
    "    else:\n",
    "        critics_train_2[u] = {}\n",
    "        for m in critics[u]:\n",
    "            if m not in [m for m in critics_train_2_[u]]:\n",
    "                critics_train_2[u][m] = critics[u][m]\n",
    "pd.DataFrame.from_dict(critics_train_2).head()"
   ],
   "metadata": {
    "collapsed": false,
    "pycharm": {
     "name": "#%%\n"
    }
   }
  },
  {
   "cell_type": "markdown",
   "source": [
    "### Выберите любые две меры похожести и реализуйте на их основе две модели рекомендаций на основе пользователей."
   ],
   "metadata": {
    "collapsed": false,
    "pycharm": {
     "name": "#%% md\n"
    }
   }
  },
  {
   "cell_type": "code",
   "execution_count": 12,
   "outputs": [],
   "source": [
    "# Возвращает сходство person1 и person2 на основе расстояния\n",
    "def sim_kernel(prefs,person1,person2,alpha=0.3):\n",
    "    # Получить список предметов, оцененных обоими\n",
    "    si={}\n",
    "    for item in prefs[person1]:\n",
    "        if item in prefs[person2]:\n",
    "            si[item]=1\n",
    "    # Если нет ни одной общей оценки, вернуть 0\n",
    "    if len(si)==0: return 0\n",
    "    # Сложить квадраты разностей\n",
    "    sum_of_squares=sum([pow(prefs[person1][item]-prefs[person2][item],2)\n",
    "                        for item in prefs[person1] if item in prefs[person2]])\n",
    "    return np.exp(-alpha*sum_of_squares)\n",
    "\n",
    "\n",
    "# Возвращает коэффициент корреляции Пирсона между p1 и p2\n",
    "def sim_pearson(prefs,p1,p2):\n",
    "    # Получить список предметов, оцененных обоими\n",
    "    si={}\n",
    "    for item in prefs[p1]:\n",
    "        if item in prefs[p2]: si[item]=1\n",
    "\n",
    "    # Если нет ни одной общей оценки, вернуть 0\n",
    "    if len(si)==0: return 0\n",
    "\n",
    "    # Количество соместно оцененных фильм\n",
    "    n=len(si)\n",
    "\n",
    "    # Вычислить сумму всех предпочтений\n",
    "    sum1=sum([prefs[p1][it] for it in si])\n",
    "    sum2=sum([prefs[p2][it] for it in si])\n",
    "\n",
    "    # Вычислить сумму квадратов\n",
    "    sum1Sq=sum([pow(prefs[p1][it],2) for it in si])\n",
    "    sum2Sq=sum([pow(prefs[p2][it],2) for it in si])\n",
    "\n",
    "    # Вычислить сумму произведений\n",
    "    pSum=sum([prefs[p1][it]*prefs[p2][it] for it in si])\n",
    "\n",
    "    # Вычислить коэффициент Пирсона\n",
    "    num=pSum-(sum1*sum2/n)\n",
    "    den=sqrt((sum1Sq-pow(sum1,2)/n)*(sum2Sq-pow(sum2,2)/n))\n",
    "    if den==0: return 0\n",
    "\n",
    "    r=round(num/den, 2)\n",
    "\n",
    "    return r"
   ],
   "metadata": {
    "collapsed": false,
    "pycharm": {
     "name": "#%%\n"
    }
   }
  },
  {
   "cell_type": "code",
   "execution_count": 13,
   "outputs": [
    {
     "data": {
      "text/plain": "[('5',\n  {'Donnie Brasco (1997)': 3.0,\n   'Gladiator (2000)': 2.0,\n   'Seven (Se7en) (1995)': 3.0,\n   'Apollo 13 (1995)': 2.0,\n   'Usual Suspects, The (1995)': 5.0,\n   'Thin Red Line, The (1998)': 5.0,\n   'Ghostbusters (1984)': 3.0,\n   'Topsy-Turvy (1999)': 5.0,\n   'Go (1999)': 4.0,\n   'Fargo (1996)': 4.0,\n   'Fast, Cheap & Out of Control (1997)': 4.0,\n   'Fight Club (1999)': 4.0,\n   \"Jacob's Ladder (1990)\": 3.0,\n   'Incredibly True Adventure of Two Girls in Love, The (1995)': 3.0,\n   'Waiting for Guffman (1996)': 4.0,\n   'In the Company of Men (1997)': 1.0,\n   'Bullets Over Broadway (1994)': 4.0,\n   'Much Ado About Nothing (1993)': 3.0,\n   'Rosencrantz and Guildenstern Are Dead (1990)': 3.0})]"
     },
     "execution_count": 13,
     "metadata": {},
     "output_type": "execute_result"
    }
   ],
   "source": [
    "list(islice(critics_test.items(), 1))"
   ],
   "metadata": {
    "collapsed": false,
    "pycharm": {
     "name": "#%%\n"
    }
   }
  },
  {
   "cell_type": "code",
   "execution_count": 14,
   "outputs": [],
   "source": [
    "def topMatches(prefs,person,n=25,similarity=sim_pearson):\n",
    "    sim_list = sorted([(similarity(prefs, person, p), p) for p in prefs if p != person],\n",
    "                      reverse = True)\n",
    "    return sim_list[:n]"
   ],
   "metadata": {
    "collapsed": false,
    "pycharm": {
     "name": "#%%\n"
    }
   }
  },
  {
   "cell_type": "code",
   "execution_count": 15,
   "outputs": [
    {
     "data": {
      "text/plain": "[(1.0, '993'),\n (1.0, '97'),\n (1.0, '964'),\n (1.0, '893'),\n (1.0, '887'),\n (1.0, '88'),\n (1.0, '838'),\n (1.0, '811'),\n (1.0, '78'),\n (1.0, '773'),\n (1.0, '764'),\n (1.0, '753'),\n (1.0, '734'),\n (1.0, '723'),\n (1.0, '717'),\n (1.0, '710'),\n (1.0, '68'),\n (1.0, '657'),\n (1.0, '628'),\n (1.0, '613'),\n (1.0, '6022'),\n (1.0, '5992'),\n (1.0, '5988'),\n (1.0, '5981'),\n (1.0, '5919')]"
     },
     "execution_count": 15,
     "metadata": {},
     "output_type": "execute_result"
    }
   ],
   "source": [
    "\n",
    "topMatches(critics_train, list(critics_test.keys())[0])"
   ],
   "metadata": {
    "collapsed": false,
    "pycharm": {
     "name": "#%%\n"
    }
   }
  },
  {
   "cell_type": "code",
   "execution_count": 16,
   "outputs": [],
   "source": [
    "# Получить рекомендации для заданного человека, пользуясь взвешенным средним\n",
    "# оценок, данных всеми остальными пользователями\n",
    "def getRecommendations(prefs, test,person,similarity=sim_pearson,\n",
    "                       mode = \"exact\"):\n",
    "    top_persons = topMatches(prefs,person, 100, similarity)\n",
    "    film_sum = {}\n",
    "    film_multiplyer = {}\n",
    "    for p in top_persons:\n",
    "        if p[0] <= 0:\n",
    "            break\n",
    "        if mode != \"exact\":\n",
    "            for movie in prefs[p[1]]:\n",
    "                if not movie in film_sum:\n",
    "                    film_sum[movie] = 0\n",
    "                    film_multiplyer[movie] = 0\n",
    "\n",
    "                film_sum[movie] += prefs[p[1]][movie]*p[0]\n",
    "                film_multiplyer[movie] += p[0]\n",
    "        if mode == \"exact\":\n",
    "            test_list = test[person]\n",
    "            for movie in prefs[p[1]]:\n",
    "                if movie in test_list:\n",
    "                    if not movie in film_sum:\n",
    "                        film_sum[movie] = 0\n",
    "                        film_multiplyer[movie] = 0\n",
    "\n",
    "                    film_sum[movie] += prefs[p[1]][movie]*p[0]\n",
    "                    film_multiplyer[movie] += p[0]\n",
    "\n",
    "    if mode == \"only_NA\":\n",
    "        recomend = sorted([(movie, film_sum[movie]/film_multiplyer[movie]) for movie in film_sum if movie not in prefs[person]], reverse = True)\n",
    "    elif mode == \"all\":\n",
    "        recomend = sorted([(movie, film_sum[movie]/film_multiplyer[movie]) for movie in film_sum], reverse = True)\n",
    "    elif mode == \"exact\":\n",
    "        recomend = sorted([(movie, film_sum[movie]/film_multiplyer[movie]) for movie in film_sum if movie in test_list], reverse = True)\n",
    "\n",
    "    return dict(recomend)"
   ],
   "metadata": {
    "collapsed": false,
    "pycharm": {
     "name": "#%%\n"
    }
   }
  },
  {
   "cell_type": "code",
   "execution_count": 17,
   "outputs": [],
   "source": [
    "# Как же я доволен собой, господь\n",
    "def getRecommendations_weighted(prefs, test, person,similarity=sim_pearson,\n",
    "                               mode = \"exact\"):\n",
    "    '''\n",
    "    :param prefs: train df\n",
    "    :param person: test df\n",
    "    :param similarity: method for user user sim\n",
    "    :param test_list: list of items to predict\n",
    "    :return: dict with movies and ratings\n",
    "    '''\n",
    "    top_persons = topMatches(prefs,person, 100, similarity)\n",
    "    test_list = test[person]\n",
    "    film_sum = {}\n",
    "    film_multiplyer = {}\n",
    "    # user 1 average\n",
    "    person_mean = np.mean(list(prefs[person].values()))\n",
    "    for p in top_persons:\n",
    "        # user_ratings = []\n",
    "        user_ratings_2 = {}\n",
    "        # берём только от похожих\n",
    "        if p[0] <= 0.5:\n",
    "            break\n",
    "        for movie in prefs[p[1]]:\n",
    "            ## считаем среднюю оценку и стандартное отклонение других пользователей\n",
    "            # user_ratings.append(prefs[p[1]][movie])\n",
    "            user_ratings_2[movie] = prefs[p[1]][movie]\n",
    "            if mode == \"exact\":\n",
    "                if movie in test_list:\n",
    "                    if not movie in film_sum:\n",
    "                        film_sum[movie] = 0\n",
    "                        film_multiplyer[movie] = 0\n",
    "\n",
    "                    ### типа з скор что-ли\n",
    "                    film_sum[movie] += p[0] * (prefs[p[1]][movie] - np.array(list(user_ratings_2.values())).mean()) / (np.array(list(user_ratings_2.values())).std() + 0.000000000001)\n",
    "                    film_multiplyer[movie] += p[0]\n",
    "            if mode == \"only_NA\":\n",
    "                if not movie in film_sum:\n",
    "                    film_sum[movie] = 0\n",
    "                    film_multiplyer[movie] = 0\n",
    "                    ### типа з скор что-ли\n",
    "                film_sum[movie] += p[0] * (prefs[p[1]][movie] - np.array(list(user_ratings_2.values())).mean()) / (np.array(list(user_ratings_2.values())).std() + 0.000000000001)\n",
    "                film_multiplyer[movie] += p[0]\n",
    "    ## добавляем среднюю оценку изначального пользователя\n",
    "    if mode == \"exact\":\n",
    "        recomend = sorted([(movie, person_mean + film_sum[movie]/film_multiplyer[movie]) for movie in film_sum], reverse = True)\n",
    "    if mode == \"only_NA\":\n",
    "        recomend = sorted([(movie, person_mean + film_sum[movie]/film_multiplyer[movie]) for movie in film_sum if movie not in prefs[person]], reverse = True)\n",
    "\n",
    "    return dict(recomend)"
   ],
   "metadata": {
    "collapsed": false,
    "pycharm": {
     "name": "#%%\n"
    }
   }
  },
  {
   "cell_type": "code",
   "execution_count": 18,
   "outputs": [
    {
     "name": "stdout",
     "output_type": "stream",
     "text": [
      "Wall time: 41.7 ms\n"
     ]
    },
    {
     "data": {
      "text/plain": "{'Waiting for Guffman (1996)': 4.666666666666667,\n 'Usual Suspects, The (1995)': 4.916666666666667,\n 'Topsy-Turvy (1999)': 4.5,\n 'Thin Red Line, The (1998)': 4.75,\n 'Seven (Se7en) (1995)': 3.0,\n 'Rosencrantz and Guildenstern Are Dead (1990)': 4.0,\n 'Much Ado About Nothing (1993)': 4.0,\n \"Jacob's Ladder (1990)\": 3.4,\n 'Incredibly True Adventure of Two Girls in Love, The (1995)': 3.5,\n 'In the Company of Men (1997)': 2.0,\n 'Go (1999)': 4.555555555555555,\n 'Gladiator (2000)': 3.515151515151515,\n 'Ghostbusters (1984)': 3.5357142857142856,\n 'Fight Club (1999)': 4.739130434782608,\n 'Fast, Cheap & Out of Control (1997)': 4.333333333333333,\n 'Fargo (1996)': 4.4324324324324325,\n 'Donnie Brasco (1997)': 3.6,\n 'Bullets Over Broadway (1994)': 4.428571428571429,\n 'Apollo 13 (1995)': 3.5833333333333335}"
     },
     "execution_count": 18,
     "metadata": {},
     "output_type": "execute_result"
    }
   ],
   "source": [
    "%%time\n",
    "rec1 = getRecommendations(critics_train, critics_test, list(critics_test.keys())[0],\n",
    "                   mode = \"exact\",)\n",
    "rec1"
   ],
   "metadata": {
    "collapsed": false,
    "pycharm": {
     "name": "#%%\n"
    }
   }
  },
  {
   "cell_type": "code",
   "execution_count": 19,
   "outputs": [
    {
     "name": "stdout",
     "output_type": "stream",
     "text": [
      "Wall time: 61.9 ms\n"
     ]
    },
    {
     "data": {
      "text/plain": "{'While You Were Sleeping (1995)': 4.60855995962684,\n 'Twelve Monkeys (1995)': 4.8780035984657655,\n 'Teenage Mutant Ninja Turtles (1990)': 2.7131571989514667,\n 'Star Trek: The Wrath of Khan (1982)': 3.030221698714085,\n 'Star Trek: Generations (1994)': 4.44897403710044,\n 'Soylent Green (1973)': 3.6558047010178383,\n 'So I Married an Axe Murderer (1993)': 3.5399004647394356,\n 'Santa Claus: The Movie (1985)': 3.610109684254234,\n 'Raising Arizona (1987)': 3.577824431252283,\n 'Princess Bride, The (1987)': 5.07565336610537,\n 'Planet of the Apes (1968)': 3.960343690065309,\n \"Mr. Holland's Opus (1995)\": 4.765987153500352,\n 'Message in a Bottle (1999)': 3.5120003999572837,\n 'Little Mermaid, The (1989)': 4.8284206774447975,\n 'Last of the Mohicans, The (1992)': 3.962614067047637,\n 'Jungle Book, The (1967)': 3.2192864210647736,\n 'Jerk, The (1979)': 3.5895746124277053,\n 'Jack (1996)': 4.430386077045802,\n 'High Fidelity (2000)': 3.4860546666174086,\n 'Hamlet (1990)': 4.01273532476396,\n 'Graduate, The (1967)': 3.879378554846953,\n 'Godfather: Part II, The (1974)': 3.2722628125026225,\n 'Godfather, The (1972)': 3.5204541968744527,\n 'Galaxy Quest (1999)': 4.8768948012842745,\n 'Ever After: A Cinderella Story (1998)': 4.660541711384182,\n 'Dirty Dancing (1987)': 5.323575314053324,\n 'Coneheads (1993)': 4.172316092133853,\n 'Christmas Story, A (1983)': 4.701028107436722,\n 'Chasing Amy (1997)': 3.665066387397559,\n \"Breakfast at Tiffany's (1961)\": 4.679261209376382,\n 'Blazing Saddles (1974)': 3.8767258728966354,\n 'All Quiet on the Western Front (1930)': 3.6090830334484076,\n 'Ace Ventura: Pet Detective (1994)': 2.9592729217531097,\n 'Absent Minded Professor, The (1961)': 4.231477310377025,\n '2001: A Space Odyssey (1968)': 3.777180476761829}"
     },
     "execution_count": 19,
     "metadata": {},
     "output_type": "execute_result"
    }
   ],
   "source": [
    "%%time\n",
    "rec2 = getRecommendations_weighted(critics_train, critics_test,\n",
    "                            person=list(critics_test.keys())[1])\n",
    "rec2"
   ],
   "metadata": {
    "collapsed": false,
    "pycharm": {
     "name": "#%%\n"
    }
   }
  },
  {
   "cell_type": "markdown",
   "source": [
    "### Для этих моделей посчитайте MAE и RMSE на всех скрытых оценках варианта 1. Какая модель оказалась лучше?"
   ],
   "metadata": {
    "collapsed": false,
    "pycharm": {
     "name": "#%% md\n"
    }
   }
  },
  {
   "cell_type": "code",
   "execution_count": 20,
   "outputs": [],
   "source": [
    "def my_score(real, predicted, score = \"MAE\"):\n",
    "    results = {}\n",
    "    if score == \"MAE\":\n",
    "        for movie in predicted:\n",
    "            results[movie] = abs(real[movie] - predicted[movie])\n",
    "        result_score = np.average(list(results.values()))\n",
    "    elif score == \"RMSE\":\n",
    "        for movie in predicted:\n",
    "            results[movie] = (real[movie] - predicted[movie])**2\n",
    "        result_score = sqrt(np.average(list(results.values())))\n",
    "\n",
    "    return result_score"
   ],
   "metadata": {
    "collapsed": false,
    "pycharm": {
     "name": "#%%\n"
    }
   }
  },
  {
   "cell_type": "code",
   "execution_count": 21,
   "outputs": [
    {
     "data": {
      "text/plain": "0.43979492323589414"
     },
     "execution_count": 21,
     "metadata": {},
     "output_type": "execute_result"
    }
   ],
   "source": [
    "my_score(critics_test[list(critics_test.keys())[0]],\n",
    "         getRecommendations_weighted(critics_train,critics_test,\n",
    "                                     person=list(critics_test.keys())[0],\n",
    "                                        mode = \"exact\")\n",
    "         )"
   ],
   "metadata": {
    "collapsed": false,
    "pycharm": {
     "name": "#%%\n"
    }
   }
  },
  {
   "cell_type": "code",
   "execution_count": 22,
   "outputs": [
    {
     "data": {
      "text/plain": "0.5801772699752756"
     },
     "execution_count": 22,
     "metadata": {},
     "output_type": "execute_result"
    }
   ],
   "source": [
    "my_score(critics_test[list(critics_test.keys())[0]],\n",
    "         getRecommendations_weighted(critics_train,critics_test,\n",
    "                                     person = list(critics_test.keys())[0],\n",
    "                                     mode = \"exact\"),\n",
    "         score = \"RMSE\")"
   ],
   "metadata": {
    "collapsed": false,
    "pycharm": {
     "name": "#%%\n"
    }
   }
  },
  {
   "cell_type": "markdown",
   "source": [
    "## MAE"
   ],
   "metadata": {
    "collapsed": false,
    "pycharm": {
     "name": "#%% md\n"
    }
   }
  },
  {
   "cell_type": "markdown",
   "source": [],
   "metadata": {
    "collapsed": false
   }
  },
  {
   "cell_type": "code",
   "execution_count": 24,
   "outputs": [],
   "source": [
    "def evaluate_model(train, test,\n",
    "                   rec_func = getRecommendations_weighted,\n",
    "                   score_func = my_score):\n",
    "\n",
    "    errors_mae = {}\n",
    "    errors_rmse = {}\n",
    "    for u in test:\n",
    "        user_predicted = rec_func(prefs=train, test=test,\n",
    "                                            person = u,\n",
    "                                            mode = \"exact\")\n",
    "        errors_mae[u] = score_func(test[u], user_predicted, score=\"MAE\")\n",
    "        errors_rmse[u] = score_func(test[u], user_predicted, score=\"RMSE\")\n",
    "    return errors_mae, errors_rmse"
   ],
   "metadata": {
    "collapsed": false,
    "pycharm": {
     "name": "#%%\n"
    }
   }
  },
  {
   "cell_type": "code",
   "execution_count": 25,
   "outputs": [
    {
     "name": "stderr",
     "output_type": "stream",
     "text": [
      "C:\\Users\\wirze\\anaconda3\\lib\\site-packages\\numpy\\lib\\function_base.py:380: RuntimeWarning: Mean of empty slice.\n",
      "  avg = a.mean(axis)\n",
      "C:\\Users\\wirze\\anaconda3\\lib\\site-packages\\numpy\\core\\_methods.py:189: RuntimeWarning: invalid value encountered in double_scalars\n",
      "  ret = ret.dtype.type(ret / rcount)\n"
     ]
    },
    {
     "name": "stdout",
     "output_type": "stream",
     "text": [
      "mean error for base-level model:\n",
      "0.5870481473043274\n",
      "mean error for base-level model:\n",
      "0.7098542979801116\n",
      "Wall time: 39.8 s\n"
     ]
    }
   ],
   "source": [
    "%%time\n",
    "errors_base_MAE,errors_base_RMSE =  evaluate_model(critics_train, critics_test,\n",
    "                                                   rec_func = getRecommendations)\n",
    "\n",
    "errors_clear_MAE = {k: errors_base_MAE[k] for k in errors_base_MAE if not isnan(errors_base_MAE[k])}\n",
    "errors_clear_RMSE = {k: errors_base_RMSE[k] for k in errors_base_RMSE if not isnan(errors_base_RMSE[k])}\n",
    "\n",
    "print(\"mean error for base-level model:\")\n",
    "print(np.mean(list(errors_clear_MAE.values())))\n",
    "print(\"mean error for base-level model:\")\n",
    "print(np.mean(list(errors_clear_RMSE.values())))"
   ],
   "metadata": {
    "collapsed": false,
    "pycharm": {
     "name": "#%%\n"
    }
   }
  },
  {
   "cell_type": "code",
   "execution_count": 26,
   "outputs": [
    {
     "name": "stdout",
     "output_type": "stream",
     "text": [
      "mean error for z-score model:\n",
      "0.5056662452818075\n",
      "RMSE for z-score model:\n",
      "0.6170639663852051\n",
      "Wall time: 50.7 s\n"
     ]
    }
   ],
   "source": [
    "%%time\n",
    "errors_weighted_MAE,errors_weighted_RMSE = evaluate_model(critics_train, critics_test,\n",
    "                                                   rec_func = getRecommendations_weighted)\n",
    "\n",
    "errors_clear_MAE = {k: errors_weighted_MAE[k] for k in errors_weighted_MAE \\\n",
    "                    if not isnan(errors_weighted_MAE[k])}\n",
    "errors_clear_RMSE = {k: errors_weighted_RMSE[k] for k in errors_weighted_RMSE \\\n",
    "                     if not isnan(errors_weighted_RMSE[k])}\n",
    "\n",
    "print(\"mean error for z-score model:\")\n",
    "print(np.mean(list(errors_clear_MAE.values())))\n",
    "print(\"RMSE for z-score model:\")\n",
    "print(np.mean(list(errors_clear_RMSE.values())))"
   ],
   "metadata": {
    "collapsed": false,
    "pycharm": {
     "name": "#%%\n"
    }
   }
  },
  {
   "cell_type": "code",
   "execution_count": 27,
   "outputs": [
    {
     "data": {
      "text/plain": "         value metric     Model\n4827  0.528545   RMSE  weighted\n4828  0.983850   RMSE  weighted\n4829  0.752316   RMSE  weighted\n4830  1.270042   RMSE  weighted\n4831  1.002084   RMSE  weighted",
      "text/html": "<div>\n<style scoped>\n    .dataframe tbody tr th:only-of-type {\n        vertical-align: middle;\n    }\n\n    .dataframe tbody tr th {\n        vertical-align: top;\n    }\n\n    .dataframe thead th {\n        text-align: right;\n    }\n</style>\n<table border=\"1\" class=\"dataframe\">\n  <thead>\n    <tr style=\"text-align: right;\">\n      <th></th>\n      <th>value</th>\n      <th>metric</th>\n      <th>Model</th>\n    </tr>\n  </thead>\n  <tbody>\n    <tr>\n      <th>4827</th>\n      <td>0.528545</td>\n      <td>RMSE</td>\n      <td>weighted</td>\n    </tr>\n    <tr>\n      <th>4828</th>\n      <td>0.983850</td>\n      <td>RMSE</td>\n      <td>weighted</td>\n    </tr>\n    <tr>\n      <th>4829</th>\n      <td>0.752316</td>\n      <td>RMSE</td>\n      <td>weighted</td>\n    </tr>\n    <tr>\n      <th>4830</th>\n      <td>1.270042</td>\n      <td>RMSE</td>\n      <td>weighted</td>\n    </tr>\n    <tr>\n      <th>4831</th>\n      <td>1.002084</td>\n      <td>RMSE</td>\n      <td>weighted</td>\n    </tr>\n  </tbody>\n</table>\n</div>"
     },
     "execution_count": 27,
     "metadata": {},
     "output_type": "execute_result"
    }
   ],
   "source": [
    "df_errors_1 = pd.DataFrame(\n",
    "    {'value': [*list(errors_base_MAE.values()),\n",
    "                *list(errors_base_RMSE.values()),\n",
    "                *list(errors_weighted_MAE.values()),\n",
    "                *list(errors_weighted_RMSE.values())],\n",
    "     'metric': [*np.repeat(\"MAE\", len(errors_base_MAE.values()), axis=0),\n",
    "               *np.repeat(\"RMSE\", len(errors_base_RMSE.values()), axis=0),\n",
    "               *np.repeat(\"MAE\", len(errors_weighted_MAE.values()), axis=0),\n",
    "               *np.repeat(\"RMSE\", len(errors_weighted_RMSE.values()), axis=0)],\n",
    "     'Model': [*np.repeat(\"base\", len(errors_base_MAE.values()), axis=0),\n",
    "               *np.repeat(\"base\", len(errors_base_RMSE.values()), axis=0),\n",
    "               *np.repeat(\"weighted\", len(errors_weighted_MAE.values()), axis=0),\n",
    "               *np.repeat(\"weighted\", len(errors_weighted_RMSE.values()), axis=0)]}\n",
    ")\n",
    "df_errors_1.tail()"
   ],
   "metadata": {
    "collapsed": false,
    "pycharm": {
     "name": "#%%\n"
    }
   }
  },
  {
   "cell_type": "code",
   "execution_count": 28,
   "outputs": [
    {
     "data": {
      "text/plain": "<Figure size 432x288 with 1 Axes>",
      "image/png": "[encoded data removed]"
     },
     "metadata": {},
     "output_type": "display_data"
    }
   ],
   "source": [
    "sns.set_theme(style=\"whitegrid\")\n",
    "ax = sns.boxplot(x=\"metric\", y=\"value\", hue=\"Model\",\n",
    "                 data=df_errors_1, palette=\"Set3\")"
   ],
   "metadata": {
    "collapsed": false,
    "pycharm": {
     "name": "#%%\n"
    }
   }
  },
  {
   "cell_type": "markdown",
   "source": [
    "If we are comparing two recommendation models by mean MAE and RMSE on all test users, it will be clear that weighted models is way better\n",
    "## sampling 2"
   ],
   "metadata": {
    "collapsed": false,
    "pycharm": {
     "name": "#%% md\n"
    }
   }
  },
  {
   "cell_type": "code",
   "execution_count": 32,
   "outputs": [
    {
     "name": "stderr",
     "output_type": "stream",
     "text": [
      "C:\\Users\\wirze\\anaconda3\\lib\\site-packages\\numpy\\lib\\function_base.py:380: RuntimeWarning: Mean of empty slice.\n",
      "  avg = a.mean(axis)\n",
      "C:\\Users\\wirze\\anaconda3\\lib\\site-packages\\numpy\\core\\_methods.py:189: RuntimeWarning: invalid value encountered in double_scalars\n",
      "  ret = ret.dtype.type(ret / rcount)\n"
     ]
    },
    {
     "name": "stdout",
     "output_type": "stream",
     "text": [
      "mean error for base-level model:\n",
      "0.5816095572395393\n",
      "mean error for base-level model:\n",
      "0.7374463697701257\n",
      "Wall time: 57.9 s\n"
     ]
    }
   ],
   "source": [
    "%%time\n",
    "errors_base_MAE,errors_base_RMSE =  evaluate_model(critics_train_2, critics_test_2,\n",
    "                                                   rec_func = getRecommendations)\n",
    "\n",
    "errors_clear_MAE = {k: errors_base_MAE[k] for k in errors_base_MAE if not isnan(errors_base_MAE[k])}\n",
    "errors_clear_RMSE = {k: errors_base_RMSE[k] for k in errors_base_RMSE if not isnan(errors_base_RMSE[k])}\n",
    "\n",
    "print(\"mean error for base-level model:\")\n",
    "print(np.mean(list(errors_clear_MAE.values())))\n",
    "print(\"mean error for base-level model:\")\n",
    "print(np.mean(list(errors_clear_RMSE.values())))"
   ],
   "metadata": {
    "collapsed": false,
    "pycharm": {
     "name": "#%%\n"
    }
   }
  },
  {
   "cell_type": "code",
   "execution_count": 33,
   "outputs": [
    {
     "name": "stdout",
     "output_type": "stream",
     "text": [
      "mean error for z-score model:\n",
      "0.5461450529008043\n",
      "RMSE for z-score model:\n",
      "0.6864125569261842\n",
      "Wall time: 1min 8s\n"
     ]
    }
   ],
   "source": [
    "%%time\n",
    "errors_weighted_MAE,errors_weighted_RMSE = evaluate_model(critics_train_2, critics_test_2,\n",
    "                                                          rec_func = getRecommendations_weighted)\n",
    "\n",
    "errors_clear_MAE = {k: errors_weighted_MAE[k] for k in errors_weighted_MAE\n",
    "                    if not isnan(errors_weighted_MAE[k])}\n",
    "errors_clear_RMSE = {k: errors_weighted_RMSE[k] for k in errors_weighted_RMSE\n",
    "                     if not isnan(errors_weighted_RMSE[k])}\n",
    "\n",
    "print(\"mean error for z-score model:\")\n",
    "print(np.mean(list(errors_clear_MAE.values())))\n",
    "print(\"RMSE for z-score model:\")\n",
    "print(np.mean(list(errors_clear_RMSE.values())))"
   ],
   "metadata": {
    "collapsed": false,
    "pycharm": {
     "name": "#%%\n"
    }
   }
  },
  {
   "cell_type": "code",
   "execution_count": 34,
   "outputs": [
    {
     "data": {
      "text/plain": "<Figure size 432x288 with 1 Axes>",
      "image/png": "[encoded data removed]"
     },
     "metadata": {},
     "output_type": "display_data"
    }
   ],
   "source": [
    "df_errors = pd.DataFrame(\n",
    "    {'value': [*list(errors_base_MAE.values()),\n",
    "                *list(errors_base_RMSE.values()),\n",
    "                *list(errors_weighted_MAE.values()),\n",
    "                *list(errors_weighted_RMSE.values())],\n",
    "     'metric': [*np.repeat(\"MAE\", len(errors_base_MAE.values()), axis=0),\n",
    "               *np.repeat(\"RMSE\", len(errors_base_RMSE.values()), axis=0),\n",
    "               *np.repeat(\"MAE\", len(errors_weighted_MAE.values()), axis=0),\n",
    "               *np.repeat(\"RMSE\", len(errors_weighted_RMSE.values()), axis=0)],\n",
    "     'Model': [*np.repeat(\"base\", len(errors_base_MAE.values()), axis=0),\n",
    "               *np.repeat(\"base\", len(errors_base_RMSE.values()), axis=0),\n",
    "               *np.repeat(\"weighted\", len(errors_weighted_MAE.values()), axis=0),\n",
    "               *np.repeat(\"weighted\", len(errors_weighted_RMSE.values()), axis=0)]}\n",
    ")\n",
    "ax = sns.boxplot(x=\"metric\", y=\"value\", hue=\"Model\",\n",
    "                 data=df_errors, palette=\"Set3\")\n",
    "ax.set_title('SAMPLing 2')\n",
    "plt.show()"
   ],
   "metadata": {
    "collapsed": false,
    "pycharm": {
     "name": "#%%\n"
    }
   }
  },
  {
   "cell_type": "markdown",
   "source": [
    "ok it looks like that error for sample 2 is larger, but lets compare it"
   ],
   "metadata": {
    "collapsed": false,
    "pycharm": {
     "name": "#%% md\n"
    }
   }
  },
  {
   "cell_type": "code",
   "execution_count": 35,
   "outputs": [],
   "source": [
    "df_errors_1['sample'] = 1\n",
    "df_errors['sample'] = 2"
   ],
   "metadata": {
    "collapsed": false,
    "pycharm": {
     "name": "#%%\n"
    }
   }
  },
  {
   "cell_type": "code",
   "execution_count": 36,
   "outputs": [
    {
     "data": {
      "text/plain": "         value metric     Model  sample\n0     0.638064    MAE      base       1\n1     0.710178    MAE      base       1\n2     0.447585    MAE      base       1\n3          NaN    MAE      base       1\n4     0.408339    MAE      base       1\n...        ...    ...       ...     ...\n4695  0.970670   RMSE  weighted       2\n4696  0.715895   RMSE  weighted       2\n4697  0.677735   RMSE  weighted       2\n4698  0.533087   RMSE  weighted       2\n4699  0.621591   RMSE  weighted       2\n\n[9532 rows x 4 columns]",
      "text/html": "<div>\n<style scoped>\n    .dataframe tbody tr th:only-of-type {\n        vertical-align: middle;\n    }\n\n    .dataframe tbody tr th {\n        vertical-align: top;\n    }\n\n    .dataframe thead th {\n        text-align: right;\n    }\n</style>\n<table border=\"1\" class=\"dataframe\">\n  <thead>\n    <tr style=\"text-align: right;\">\n      <th></th>\n      <th>value</th>\n      <th>metric</th>\n      <th>Model</th>\n      <th>sample</th>\n    </tr>\n  </thead>\n  <tbody>\n    <tr>\n      <th>0</th>\n      <td>0.638064</td>\n      <td>MAE</td>\n      <td>base</td>\n      <td>1</td>\n    </tr>\n    <tr>\n      <th>1</th>\n      <td>0.710178</td>\n      <td>MAE</td>\n      <td>base</td>\n      <td>1</td>\n    </tr>\n    <tr>\n      <th>2</th>\n      <td>0.447585</td>\n      <td>MAE</td>\n      <td>base</td>\n      <td>1</td>\n    </tr>\n    <tr>\n      <th>3</th>\n      <td>NaN</td>\n      <td>MAE</td>\n      <td>base</td>\n      <td>1</td>\n    </tr>\n    <tr>\n      <th>4</th>\n      <td>0.408339</td>\n      <td>MAE</td>\n      <td>base</td>\n      <td>1</td>\n    </tr>\n    <tr>\n      <th>...</th>\n      <td>...</td>\n      <td>...</td>\n      <td>...</td>\n      <td>...</td>\n    </tr>\n    <tr>\n      <th>4695</th>\n      <td>0.970670</td>\n      <td>RMSE</td>\n      <td>weighted</td>\n      <td>2</td>\n    </tr>\n    <tr>\n      <th>4696</th>\n      <td>0.715895</td>\n      <td>RMSE</td>\n      <td>weighted</td>\n      <td>2</td>\n    </tr>\n    <tr>\n      <th>4697</th>\n      <td>0.677735</td>\n      <td>RMSE</td>\n      <td>weighted</td>\n      <td>2</td>\n    </tr>\n    <tr>\n      <th>4698</th>\n      <td>0.533087</td>\n      <td>RMSE</td>\n      <td>weighted</td>\n      <td>2</td>\n    </tr>\n    <tr>\n      <th>4699</th>\n      <td>0.621591</td>\n      <td>RMSE</td>\n      <td>weighted</td>\n      <td>2</td>\n    </tr>\n  </tbody>\n</table>\n<p>9532 rows × 4 columns</p>\n</div>"
     },
     "execution_count": 36,
     "metadata": {},
     "output_type": "execute_result"
    }
   ],
   "source": [
    "df_errors_all = pd.concat([df_errors_1, df_errors])\n",
    "df_errors_all"
   ],
   "metadata": {
    "collapsed": false,
    "pycharm": {
     "name": "#%%\n"
    }
   }
  },
  {
   "cell_type": "code",
   "execution_count": 37,
   "outputs": [
    {
     "data": {
      "text/plain": "<Figure size 1235.85x576 with 2 Axes>",
      "image/png": "[encoded data removed]"
     },
     "metadata": {},
     "output_type": "display_data"
    }
   ],
   "source": [
    "g = sns.catplot(x=\"metric\", y=\"value\", hue=\"Model\",\n",
    "                col=\"sample\",\n",
    "                data=df_errors_all, kind=\"box\",\n",
    "                height=8, aspect=1)"
   ],
   "metadata": {
    "collapsed": false,
    "pycharm": {
     "name": "#%%\n"
    }
   }
  },
  {
   "cell_type": "markdown",
   "source": [
    "to be honest I have no idea why does pseudo random sampling shows better results, but anyway I will claim it to be withing margin of error, and not some kind of systematic bias\n",
    "\n",
    "bootstrapping and cross-validation at some point was created for that exact reason\n",
    "\n",
    "### Для каждого тестового пользователя сгенерируйте рекомендации топ 10, 15, 20, 50, 100 фильмов у которых нет оценок. Посчитайте NDCG считая хорошими фильмы с оценкой 4 и выше."
   ],
   "metadata": {
    "collapsed": false,
    "pycharm": {
     "name": "#%% md\n"
    }
   }
  },
  {
   "cell_type": "code",
   "execution_count": 58,
   "outputs": [],
   "source": [
    "def rfunc_4(x):\n",
    "    if x >= 4:\n",
    "        return 1\n",
    "    else:\n",
    "        return 0\n",
    "\n",
    "# def NDCGk(real_values, model_order, rfunc = rfunc_4, k = 5):\n",
    "#     ideal_score = sorted([rfunc(x) for x in real_values], reverse = True)\n",
    "#     model_score = [rfunc(real_values[x]) for x in model_order]\n",
    "#\n",
    "#     DCG = 0\n",
    "#     iDCG = 0\n",
    "#     for i in range(k):\n",
    "#         DCG += 2**model_score[i]/log2(i+2)\n",
    "#     for i in range(k):\n",
    "#         iDCG += 2**ideal_score[i]/log2(i+2)\n",
    "#     return (DCG/iDCG)"
   ],
   "metadata": {
    "collapsed": false,
    "pycharm": {
     "name": "#%%\n"
    }
   }
  },
  {
   "cell_type": "code",
   "execution_count": 59,
   "outputs": [
    {
     "data": {
      "text/plain": "array([[4., 4.]])"
     },
     "execution_count": 59,
     "metadata": {},
     "output_type": "execute_result"
    }
   ],
   "source": [
    "def dict_to_asarray(my_dict, rfunc = None):\n",
    "    rating_fixed = {}\n",
    "    if rfunc != None:\n",
    "        for m in my_dict:\n",
    "            rating_fixed[m] = rfunc(my_dict[m])\n",
    "    else:\n",
    "        rating_fixed = my_dict\n",
    "    result = np.asarray([list(dict(sorted(rating_fixed.items())).values())])\n",
    "    # result = np.asarray([list(dict(sorted(dict_items)).values())])\n",
    "    # result = [rfunc(result[x]) for x in result]\n",
    "    return result\n",
    "\n",
    "dict_to_asarray(critics_test['20'])"
   ],
   "metadata": {
    "collapsed": false,
    "pycharm": {
     "name": "#%%\n"
    }
   }
  },
  {
   "cell_type": "code",
   "execution_count": 54,
   "outputs": [],
   "source": [
    "def evaluate_model_2(train, test,\n",
    "                   rec_func = getRecommendations_weighted,\n",
    "                   k = 5):\n",
    "\n",
    "    ndcg = {}\n",
    "    for u in test:\n",
    "        user_predicted = rec_func(prefs=train, test=test,\n",
    "                                  person = u,\n",
    "                                  mode = \"exact\")\n",
    "        sad_but_true = {}\n",
    "        for m in user_predicted:\n",
    "            sad_but_true[m] = test[u][m]\n",
    "        if len(sad_but_true) > 1:\n",
    "            ndcg[u] = ndcg_score(\n",
    "                y_true = dict_to_asarray(sad_but_true, rfunc=rfunc_4),\n",
    "                y_score = dict_to_asarray(user_predicted),\n",
    "                k = k\n",
    "            )\n",
    "    return ndcg"
   ],
   "metadata": {
    "collapsed": false,
    "pycharm": {
     "name": "#%%\n"
    }
   }
  },
  {
   "cell_type": "code",
   "execution_count": 41,
   "outputs": [
    {
     "name": "stdout",
     "output_type": "stream",
     "text": [
      "Wall time: 36.8 s\n"
     ]
    },
    {
     "data": {
      "text/plain": "0.9806062070723562"
     },
     "execution_count": 41,
     "metadata": {},
     "output_type": "execute_result"
    }
   ],
   "source": [
    "%%time\n",
    "ndcg_base = evaluate_model_2(critics_train, critics_test,\n",
    "                               rec_func = getRecommendations,\n",
    "                               k = 100)\n",
    "ndcg_base['10']"
   ],
   "metadata": {
    "collapsed": false,
    "pycharm": {
     "name": "#%%\n"
    }
   }
  },
  {
   "cell_type": "code",
   "execution_count": 42,
   "outputs": [
    {
     "name": "stdout",
     "output_type": "stream",
     "text": [
      "0.9637103767233749\n"
     ]
    }
   ],
   "source": [
    "print(np.mean(list(ndcg_base.values())))"
   ],
   "metadata": {
    "collapsed": false,
    "pycharm": {
     "name": "#%%\n"
    }
   }
  },
  {
   "cell_type": "code",
   "execution_count": 43,
   "outputs": [
    {
     "data": {
      "text/plain": "<Figure size 432x288 with 1 Axes>",
      "image/png": "[encoded data removed]"
     },
     "metadata": {},
     "output_type": "display_data"
    },
    {
     "name": "stdout",
     "output_type": "stream",
     "text": [
      "Wall time: 3min 3s\n"
     ]
    }
   ],
   "source": [
    "%%time\n",
    "ndcgs = {}\n",
    "for k in [10, 15, 20, 50, 100]:\n",
    "    ndcg_base = evaluate_model_2(critics_train, critics_test,\n",
    "                                   rec_func = getRecommendations,\n",
    "                                   k = k)\n",
    "    ndcgs[k]  = np.mean(list(ndcg_base.values()))\n",
    "\n",
    "plt.figure()\n",
    "plt.plot(list(ndcgs.keys()), list(ndcgs.values()))\n",
    "plt.xlabel(\"K\")\n",
    "plt.ylabel(\"ndcg\")\n",
    "plt.title(\"NDCG считая хорошими фильмы с оценкой 4 и выше, base model\")\n",
    "plt.show()"
   ],
   "metadata": {
    "collapsed": false,
    "pycharm": {
     "name": "#%%\n"
    }
   }
  },
  {
   "cell_type": "code",
   "execution_count": 44,
   "outputs": [
    {
     "data": {
      "text/plain": "<Figure size 432x288 with 1 Axes>",
      "image/png": "[encoded data removed]"
     },
     "metadata": {},
     "output_type": "display_data"
    },
    {
     "name": "stdout",
     "output_type": "stream",
     "text": [
      "Wall time: 4min 7s\n"
     ]
    }
   ],
   "source": [
    "%%time\n",
    "ndcgs = {}\n",
    "for k in [10, 15, 20, 50, 100]:\n",
    "    ndcg_weight = evaluate_model_2(critics_train, critics_test,\n",
    "                                   rec_func = getRecommendations_weighted,\n",
    "                                   k = k)\n",
    "    ndcgs[k]  = np.mean(list(ndcg_weight.values()))\n",
    "\n",
    "plt.figure()\n",
    "plt.plot(list(ndcgs.keys()), list(ndcgs.values()))\n",
    "plt.xlabel(\"K\")\n",
    "plt.ylabel(\"ndcgs\")\n",
    "plt.title(\"NDCG считая хорошими фильмы с оценкой 4 и выше, weighted model\")\n",
    "plt.show()"
   ],
   "metadata": {
    "collapsed": false,
    "pycharm": {
     "name": "#%%\n"
    }
   }
  },
  {
   "cell_type": "markdown",
   "source": [
    "# Реализуте модель основанную на похожести предметов."
   ],
   "metadata": {
    "collapsed": false,
    "pycharm": {
     "name": "#%% md\n"
    }
   }
  },
  {
   "cell_type": "code",
   "execution_count": 29,
   "outputs": [],
   "source": [
    "def transpose(dct):\n",
    "    d = defaultdict(dict)\n",
    "    for key1, inner in dct.items():\n",
    "        for key2, value in inner.items():\n",
    "            d[key2][key1] = value\n",
    "    return dict(d)"
   ],
   "metadata": {
    "collapsed": false,
    "pycharm": {
     "name": "#%%\n"
    }
   }
  },
  {
   "cell_type": "code",
   "execution_count": 30,
   "outputs": [
    {
     "data": {
      "text/plain": "    One Flew Over the Cuckoo's Nest (1975)  James and the Giant Peach (1996)  \\\n1                                      5.0                               3.0   \n2                                      5.0                               NaN   \n12                                     4.0                               NaN   \n17                                     5.0                               NaN   \n18                                     4.0                               NaN   \n\n    My Fair Lady (1964)  Erin Brockovich (2000)  Bug's Life, A (1998)  \\\n1                   3.0                     4.0                   5.0   \n2                   NaN                     NaN                   NaN   \n12                  NaN                     NaN                   NaN   \n17                  NaN                     NaN                   4.0   \n18                  NaN                     NaN                   5.0   \n\n    Princess Bride, The (1987)  Ben-Hur (1959)  Christmas Story, A (1983)  \\\n1                          3.0             5.0                        5.0   \n2                          NaN             NaN                        NaN   \n12                         NaN             NaN                        5.0   \n17                         NaN             NaN                        NaN   \n18                         5.0             NaN                        NaN   \n\n    Snow White and the Seven Dwarfs (1937)  Wizard of Oz, The (1939)  ...  \\\n1                                      4.0                       4.0  ...   \n2                                      NaN                       NaN  ...   \n12                                     NaN                       5.0  ...   \n17                                     NaN                       NaN  ...   \n18                                     5.0                       5.0  ...   \n\n    Song of Freedom (1936)  Nemesis 2: Nebula (1995)  \\\n1                      NaN                       NaN   \n2                      NaN                       NaN   \n12                     NaN                       NaN   \n17                     NaN                       NaN   \n18                     NaN                       NaN   \n\n    Smoking/No Smoking (1993)  \\\n1                         NaN   \n2                         NaN   \n12                        NaN   \n17                        NaN   \n18                        NaN   \n\n    Brother Minister: The Assassination of Malcolm X (1994)  \\\n1                                                 NaN         \n2                                                 NaN         \n12                                                NaN         \n17                                                NaN         \n18                                                NaN         \n\n    Modulations (1998)  Crude Oasis, The (1995)  Master Ninja I (1984)  \\\n1                  NaN                      NaN                    NaN   \n2                  NaN                      NaN                    NaN   \n12                 NaN                      NaN                    NaN   \n17                 NaN                      NaN                    NaN   \n18                 NaN                      NaN                    NaN   \n\n    Six Ways to Sunday (1997)  One Little Indian (1973)  \\\n1                         NaN                       NaN   \n2                         NaN                       NaN   \n12                        NaN                       NaN   \n17                        NaN                       NaN   \n18                        NaN                       NaN   \n\n    Five Wives, Three Secretaries and Me (1998)  \n1                                           NaN  \n2                                           NaN  \n12                                          NaN  \n17                                          NaN  \n18                                          NaN  \n\n[5 rows x 3661 columns]",
      "text/html": "<div>\n<style scoped>\n    .dataframe tbody tr th:only-of-type {\n        vertical-align: middle;\n    }\n\n    .dataframe tbody tr th {\n        vertical-align: top;\n    }\n\n    .dataframe thead th {\n        text-align: right;\n    }\n</style>\n<table border=\"1\" class=\"dataframe\">\n  <thead>\n    <tr style=\"text-align: right;\">\n      <th></th>\n      <th>One Flew Over the Cuckoo's Nest (1975)</th>\n      <th>James and the Giant Peach (1996)</th>\n      <th>My Fair Lady (1964)</th>\n      <th>Erin Brockovich (2000)</th>\n      <th>Bug's Life, A (1998)</th>\n      <th>Princess Bride, The (1987)</th>\n      <th>Ben-Hur (1959)</th>\n      <th>Christmas Story, A (1983)</th>\n      <th>Snow White and the Seven Dwarfs (1937)</th>\n      <th>Wizard of Oz, The (1939)</th>\n      <th>...</th>\n      <th>Song of Freedom (1936)</th>\n      <th>Nemesis 2: Nebula (1995)</th>\n      <th>Smoking/No Smoking (1993)</th>\n      <th>Brother Minister: The Assassination of Malcolm X (1994)</th>\n      <th>Modulations (1998)</th>\n      <th>Crude Oasis, The (1995)</th>\n      <th>Master Ninja I (1984)</th>\n      <th>Six Ways to Sunday (1997)</th>\n      <th>One Little Indian (1973)</th>\n      <th>Five Wives, Three Secretaries and Me (1998)</th>\n    </tr>\n  </thead>\n  <tbody>\n    <tr>\n      <th>1</th>\n      <td>5.0</td>\n      <td>3.0</td>\n      <td>3.0</td>\n      <td>4.0</td>\n      <td>5.0</td>\n      <td>3.0</td>\n      <td>5.0</td>\n      <td>5.0</td>\n      <td>4.0</td>\n      <td>4.0</td>\n      <td>...</td>\n      <td>NaN</td>\n      <td>NaN</td>\n      <td>NaN</td>\n      <td>NaN</td>\n      <td>NaN</td>\n      <td>NaN</td>\n      <td>NaN</td>\n      <td>NaN</td>\n      <td>NaN</td>\n      <td>NaN</td>\n    </tr>\n    <tr>\n      <th>2</th>\n      <td>5.0</td>\n      <td>NaN</td>\n      <td>NaN</td>\n      <td>NaN</td>\n      <td>NaN</td>\n      <td>NaN</td>\n      <td>NaN</td>\n      <td>NaN</td>\n      <td>NaN</td>\n      <td>NaN</td>\n      <td>...</td>\n      <td>NaN</td>\n      <td>NaN</td>\n      <td>NaN</td>\n      <td>NaN</td>\n      <td>NaN</td>\n      <td>NaN</td>\n      <td>NaN</td>\n      <td>NaN</td>\n      <td>NaN</td>\n      <td>NaN</td>\n    </tr>\n    <tr>\n      <th>12</th>\n      <td>4.0</td>\n      <td>NaN</td>\n      <td>NaN</td>\n      <td>NaN</td>\n      <td>NaN</td>\n      <td>NaN</td>\n      <td>NaN</td>\n      <td>5.0</td>\n      <td>NaN</td>\n      <td>5.0</td>\n      <td>...</td>\n      <td>NaN</td>\n      <td>NaN</td>\n      <td>NaN</td>\n      <td>NaN</td>\n      <td>NaN</td>\n      <td>NaN</td>\n      <td>NaN</td>\n      <td>NaN</td>\n      <td>NaN</td>\n      <td>NaN</td>\n    </tr>\n    <tr>\n      <th>17</th>\n      <td>5.0</td>\n      <td>NaN</td>\n      <td>NaN</td>\n      <td>NaN</td>\n      <td>4.0</td>\n      <td>NaN</td>\n      <td>NaN</td>\n      <td>NaN</td>\n      <td>NaN</td>\n      <td>NaN</td>\n      <td>...</td>\n      <td>NaN</td>\n      <td>NaN</td>\n      <td>NaN</td>\n      <td>NaN</td>\n      <td>NaN</td>\n      <td>NaN</td>\n      <td>NaN</td>\n      <td>NaN</td>\n      <td>NaN</td>\n      <td>NaN</td>\n    </tr>\n    <tr>\n      <th>18</th>\n      <td>4.0</td>\n      <td>NaN</td>\n      <td>NaN</td>\n      <td>NaN</td>\n      <td>5.0</td>\n      <td>5.0</td>\n      <td>NaN</td>\n      <td>NaN</td>\n      <td>5.0</td>\n      <td>5.0</td>\n      <td>...</td>\n      <td>NaN</td>\n      <td>NaN</td>\n      <td>NaN</td>\n      <td>NaN</td>\n      <td>NaN</td>\n      <td>NaN</td>\n      <td>NaN</td>\n      <td>NaN</td>\n      <td>NaN</td>\n      <td>NaN</td>\n    </tr>\n  </tbody>\n</table>\n<p>5 rows × 3661 columns</p>\n</div>"
     },
     "execution_count": 30,
     "metadata": {},
     "output_type": "execute_result"
    }
   ],
   "source": [
    "critics_train_t = transpose(critics_train)\n",
    "pd.DataFrame.from_dict(critics_train_t).head()"
   ],
   "metadata": {
    "collapsed": false,
    "pycharm": {
     "name": "#%%\n"
    }
   }
  },
  {
   "cell_type": "code",
   "execution_count": 31,
   "outputs": [
    {
     "data": {
      "text/plain": "      Donnie Brasco (1997)  Gladiator (2000)  Seven (Se7en) (1995)  \\\n5                      3.0               2.0                   3.0   \n15                     4.0               NaN                   NaN   \n620                    3.0               3.0                   NaN   \n1010                   4.0               NaN                   NaN   \n1035                   5.0               NaN                   NaN   \n\n      Apollo 13 (1995)  Usual Suspects, The (1995)  Thin Red Line, The (1998)  \\\n5                  2.0                         5.0                        5.0   \n15                 NaN                         4.0                        NaN   \n620                NaN                         NaN                        NaN   \n1010               NaN                         NaN                        3.0   \n1035               NaN                         NaN                        NaN   \n\n      Ghostbusters (1984)  Topsy-Turvy (1999)  Go (1999)  Fargo (1996)  ...  \\\n5                     3.0                 5.0        4.0           4.0  ...   \n15                    NaN                 NaN        NaN           NaN  ...   \n620                   NaN                 NaN        4.0           NaN  ...   \n1010                  NaN                 NaN        NaN           NaN  ...   \n1035                  NaN                 NaN        NaN           NaN  ...   \n\n      Tie Me Up! Tie Me Down! (1990)  House of Dracula (1945)  \\\n5                                NaN                      NaN   \n15                               NaN                      NaN   \n620                              NaN                      NaN   \n1010                             NaN                      NaN   \n1035                             NaN                      NaN   \n\n      Withnail and I (1987)  Manny & Lo (1996)  \\\n5                       NaN                NaN   \n15                      NaN                NaN   \n620                     NaN                NaN   \n1010                    NaN                NaN   \n1035                    NaN                NaN   \n\n      Tales from the Crypt Presents: Bordello of Blood (1996)  \\\n5                                                   NaN         \n15                                                  NaN         \n620                                                 NaN         \n1010                                                NaN         \n1035                                                NaN         \n\n      Mass Appeal (1984)  Tough Guys (1986)  Two if by Sea (1996)  \\\n5                    NaN                NaN                   NaN   \n15                   NaN                NaN                   NaN   \n620                  NaN                NaN                   NaN   \n1010                 NaN                NaN                   NaN   \n1035                 NaN                NaN                   NaN   \n\n      Lawnmower Man 2: Beyond Cyberspace (1996)  From the Hip (1987)  \n5                                           NaN                  NaN  \n15                                          NaN                  NaN  \n620                                         NaN                  NaN  \n1010                                        NaN                  NaN  \n1035                                        NaN                  NaN  \n\n[5 rows x 2683 columns]",
      "text/html": "<div>\n<style scoped>\n    .dataframe tbody tr th:only-of-type {\n        vertical-align: middle;\n    }\n\n    .dataframe tbody tr th {\n        vertical-align: top;\n    }\n\n    .dataframe thead th {\n        text-align: right;\n    }\n</style>\n<table border=\"1\" class=\"dataframe\">\n  <thead>\n    <tr style=\"text-align: right;\">\n      <th></th>\n      <th>Donnie Brasco (1997)</th>\n      <th>Gladiator (2000)</th>\n      <th>Seven (Se7en) (1995)</th>\n      <th>Apollo 13 (1995)</th>\n      <th>Usual Suspects, The (1995)</th>\n      <th>Thin Red Line, The (1998)</th>\n      <th>Ghostbusters (1984)</th>\n      <th>Topsy-Turvy (1999)</th>\n      <th>Go (1999)</th>\n      <th>Fargo (1996)</th>\n      <th>...</th>\n      <th>Tie Me Up! Tie Me Down! (1990)</th>\n      <th>House of Dracula (1945)</th>\n      <th>Withnail and I (1987)</th>\n      <th>Manny &amp; Lo (1996)</th>\n      <th>Tales from the Crypt Presents: Bordello of Blood (1996)</th>\n      <th>Mass Appeal (1984)</th>\n      <th>Tough Guys (1986)</th>\n      <th>Two if by Sea (1996)</th>\n      <th>Lawnmower Man 2: Beyond Cyberspace (1996)</th>\n      <th>From the Hip (1987)</th>\n    </tr>\n  </thead>\n  <tbody>\n    <tr>\n      <th>5</th>\n      <td>3.0</td>\n      <td>2.0</td>\n      <td>3.0</td>\n      <td>2.0</td>\n      <td>5.0</td>\n      <td>5.0</td>\n      <td>3.0</td>\n      <td>5.0</td>\n      <td>4.0</td>\n      <td>4.0</td>\n      <td>...</td>\n      <td>NaN</td>\n      <td>NaN</td>\n      <td>NaN</td>\n      <td>NaN</td>\n      <td>NaN</td>\n      <td>NaN</td>\n      <td>NaN</td>\n      <td>NaN</td>\n      <td>NaN</td>\n      <td>NaN</td>\n    </tr>\n    <tr>\n      <th>15</th>\n      <td>4.0</td>\n      <td>NaN</td>\n      <td>NaN</td>\n      <td>NaN</td>\n      <td>4.0</td>\n      <td>NaN</td>\n      <td>NaN</td>\n      <td>NaN</td>\n      <td>NaN</td>\n      <td>NaN</td>\n      <td>...</td>\n      <td>NaN</td>\n      <td>NaN</td>\n      <td>NaN</td>\n      <td>NaN</td>\n      <td>NaN</td>\n      <td>NaN</td>\n      <td>NaN</td>\n      <td>NaN</td>\n      <td>NaN</td>\n      <td>NaN</td>\n    </tr>\n    <tr>\n      <th>620</th>\n      <td>3.0</td>\n      <td>3.0</td>\n      <td>NaN</td>\n      <td>NaN</td>\n      <td>NaN</td>\n      <td>NaN</td>\n      <td>NaN</td>\n      <td>NaN</td>\n      <td>4.0</td>\n      <td>NaN</td>\n      <td>...</td>\n      <td>NaN</td>\n      <td>NaN</td>\n      <td>NaN</td>\n      <td>NaN</td>\n      <td>NaN</td>\n      <td>NaN</td>\n      <td>NaN</td>\n      <td>NaN</td>\n      <td>NaN</td>\n      <td>NaN</td>\n    </tr>\n    <tr>\n      <th>1010</th>\n      <td>4.0</td>\n      <td>NaN</td>\n      <td>NaN</td>\n      <td>NaN</td>\n      <td>NaN</td>\n      <td>3.0</td>\n      <td>NaN</td>\n      <td>NaN</td>\n      <td>NaN</td>\n      <td>NaN</td>\n      <td>...</td>\n      <td>NaN</td>\n      <td>NaN</td>\n      <td>NaN</td>\n      <td>NaN</td>\n      <td>NaN</td>\n      <td>NaN</td>\n      <td>NaN</td>\n      <td>NaN</td>\n      <td>NaN</td>\n      <td>NaN</td>\n    </tr>\n    <tr>\n      <th>1035</th>\n      <td>5.0</td>\n      <td>NaN</td>\n      <td>NaN</td>\n      <td>NaN</td>\n      <td>NaN</td>\n      <td>NaN</td>\n      <td>NaN</td>\n      <td>NaN</td>\n      <td>NaN</td>\n      <td>NaN</td>\n      <td>...</td>\n      <td>NaN</td>\n      <td>NaN</td>\n      <td>NaN</td>\n      <td>NaN</td>\n      <td>NaN</td>\n      <td>NaN</td>\n      <td>NaN</td>\n      <td>NaN</td>\n      <td>NaN</td>\n      <td>NaN</td>\n    </tr>\n  </tbody>\n</table>\n<p>5 rows × 2683 columns</p>\n</div>"
     },
     "execution_count": 31,
     "metadata": {},
     "output_type": "execute_result"
    }
   ],
   "source": [
    "critics_test_t = transpose(critics_test)\n",
    "pd.DataFrame.from_dict(critics_test_t).head()"
   ],
   "metadata": {
    "collapsed": false,
    "pycharm": {
     "name": "#%%\n"
    }
   }
  },
  {
   "cell_type": "code",
   "execution_count": 32,
   "outputs": [
    {
     "name": "stdout",
     "output_type": "stream",
     "text": [
      "Wall time: 322 ms\n"
     ]
    },
    {
     "data": {
      "text/plain": "{'5795': 1.0, '1685': 2.0}"
     },
     "execution_count": 32,
     "metadata": {},
     "output_type": "execute_result"
    }
   ],
   "source": [
    "%%time\n",
    "rec1_t = getRecommendations(critics_train_t, critics_test_t, list(critics_test_t.keys())[0],\n",
    "                          mode = \"exact\")\n",
    "rec1_t"
   ],
   "metadata": {
    "collapsed": false,
    "pycharm": {
     "name": "#%%\n"
    }
   }
  },
  {
   "cell_type": "code",
   "execution_count": 33,
   "outputs": [
    {
     "name": "stderr",
     "output_type": "stream",
     "text": [
      "C:\\Users\\wirze\\anaconda3\\lib\\site-packages\\numpy\\lib\\function_base.py:380: RuntimeWarning: Mean of empty slice.\n",
      "  avg = a.mean(axis)\n",
      "C:\\Users\\wirze\\anaconda3\\lib\\site-packages\\numpy\\core\\_methods.py:189: RuntimeWarning: invalid value encountered in double_scalars\n",
      "  ret = ret.dtype.type(ret / rcount)\n"
     ]
    },
    {
     "name": "stdout",
     "output_type": "stream",
     "text": [
      "mean error for base-level model:\n",
      "0.8516664701481446\n",
      "mean error for base-level model:\n",
      "0.8902408968415594\n",
      "Wall time: 7min 48s\n"
     ]
    }
   ],
   "source": [
    "%%time\n",
    "errors_base_MAE_t,errors_base_RMSE_t =  evaluate_model(critics_train_t, critics_test_t,\n",
    "                                                   rec_func = getRecommendations)\n",
    "\n",
    "errors_clear_MAE = {k: errors_base_MAE_t[k] for k in errors_base_MAE_t if not isnan(errors_base_MAE_t[k])}\n",
    "errors_clear_RMSE = {k: errors_base_RMSE_t[k] for k in errors_base_RMSE_t if not isnan(errors_base_RMSE_t[k])}\n",
    "\n",
    "print(\"mean error for base-level model:\")\n",
    "print(np.mean(list(errors_clear_MAE.values())))\n",
    "print(\"mean error for base-level model:\")\n",
    "print(np.mean(list(errors_clear_RMSE.values())))"
   ],
   "metadata": {
    "collapsed": false,
    "pycharm": {
     "name": "#%%\n"
    }
   }
  },
  {
   "cell_type": "code",
   "execution_count": 34,
   "outputs": [
    {
     "name": "stderr",
     "output_type": "stream",
     "text": [
      "C:\\Users\\wirze\\anaconda3\\lib\\site-packages\\numpy\\lib\\function_base.py:380: RuntimeWarning: Mean of empty slice.\n",
      "  avg = a.mean(axis)\n",
      "C:\\Users\\wirze\\anaconda3\\lib\\site-packages\\numpy\\core\\_methods.py:189: RuntimeWarning: invalid value encountered in double_scalars\n",
      "  ret = ret.dtype.type(ret / rcount)\n"
     ]
    },
    {
     "name": "stdout",
     "output_type": "stream",
     "text": [
      "mean error for base-level model:\n",
      "0.714825428490486\n",
      "mean error for base-level model:\n",
      "0.7393833135370701\n",
      "Wall time: 7min 57s\n"
     ]
    }
   ],
   "source": [
    "%%time\n",
    "errors_weighted_MAE_t,errors_weighted_RMSE_t =  evaluate_model(critics_train_t, critics_test_t,\n",
    "                                                       rec_func = getRecommendations_weighted)\n",
    "\n",
    "errors_clear_MAE = {k: errors_weighted_MAE_t[k] for k in errors_weighted_MAE_t if not isnan(errors_weighted_MAE_t[k])}\n",
    "errors_clear_RMSE = {k: errors_weighted_RMSE_t[k] for k in errors_weighted_RMSE_t if not isnan(errors_weighted_RMSE_t[k])}\n",
    "\n",
    "print(\"mean error for base-level model:\")\n",
    "print(np.mean(list(errors_clear_MAE.values())))\n",
    "print(\"mean error for base-level model:\")\n",
    "print(np.mean(list(errors_clear_RMSE.values())))"
   ],
   "metadata": {
    "collapsed": false,
    "pycharm": {
     "name": "#%%\n"
    }
   }
  },
  {
   "cell_type": "code",
   "execution_count": 35,
   "outputs": [
    {
     "data": {
      "text/plain": "          value metric     Model\n10727       NaN   RMSE  weighted\n10728       NaN   RMSE  weighted\n10729       NaN   RMSE  weighted\n10730       NaN   RMSE  weighted\n10731  0.544157   RMSE  weighted",
      "text/html": "<div>\n<style scoped>\n    .dataframe tbody tr th:only-of-type {\n        vertical-align: middle;\n    }\n\n    .dataframe tbody tr th {\n        vertical-align: top;\n    }\n\n    .dataframe thead th {\n        text-align: right;\n    }\n</style>\n<table border=\"1\" class=\"dataframe\">\n  <thead>\n    <tr style=\"text-align: right;\">\n      <th></th>\n      <th>value</th>\n      <th>metric</th>\n      <th>Model</th>\n    </tr>\n  </thead>\n  <tbody>\n    <tr>\n      <th>10727</th>\n      <td>NaN</td>\n      <td>RMSE</td>\n      <td>weighted</td>\n    </tr>\n    <tr>\n      <th>10728</th>\n      <td>NaN</td>\n      <td>RMSE</td>\n      <td>weighted</td>\n    </tr>\n    <tr>\n      <th>10729</th>\n      <td>NaN</td>\n      <td>RMSE</td>\n      <td>weighted</td>\n    </tr>\n    <tr>\n      <th>10730</th>\n      <td>NaN</td>\n      <td>RMSE</td>\n      <td>weighted</td>\n    </tr>\n    <tr>\n      <th>10731</th>\n      <td>0.544157</td>\n      <td>RMSE</td>\n      <td>weighted</td>\n    </tr>\n  </tbody>\n</table>\n</div>"
     },
     "execution_count": 35,
     "metadata": {},
     "output_type": "execute_result"
    }
   ],
   "source": [
    "df_errors_1_t = pd.DataFrame(\n",
    "    {'value': [*list(errors_base_MAE_t.values()),\n",
    "               *list(errors_base_RMSE_t.values()),\n",
    "               *list(errors_weighted_MAE_t.values()),\n",
    "               *list(errors_weighted_RMSE_t.values())],\n",
    "     'metric': [*np.repeat(\"MAE\", len(errors_base_MAE_t.values()), axis=0),\n",
    "                *np.repeat(\"RMSE\", len(errors_base_RMSE_t.values()), axis=0),\n",
    "                *np.repeat(\"MAE\", len(errors_weighted_MAE_t.values()), axis=0),\n",
    "                *np.repeat(\"RMSE\", len(errors_weighted_RMSE_t.values()), axis=0)],\n",
    "     'Model': [*np.repeat(\"base\", len(errors_base_MAE_t.values()), axis=0),\n",
    "               *np.repeat(\"base\", len(errors_base_RMSE_t.values()), axis=0),\n",
    "               *np.repeat(\"weighted\", len(errors_weighted_MAE_t.values()), axis=0),\n",
    "               *np.repeat(\"weighted\", len(errors_weighted_RMSE_t.values()), axis=0)]}\n",
    ")\n",
    "df_errors_1_t.tail()"
   ],
   "metadata": {
    "collapsed": false,
    "pycharm": {
     "name": "#%%\n"
    }
   }
  },
  {
   "cell_type": "code",
   "execution_count": 36,
   "outputs": [
    {
     "data": {
      "text/plain": "<Figure size 432x288 with 1 Axes>",
      "image/png": "[encoded data removed]"
     },
     "metadata": {},
     "output_type": "display_data"
    }
   ],
   "source": [
    "sns.set_theme(style=\"whitegrid\")\n",
    "ax = sns.boxplot(x=\"metric\", y=\"value\", hue=\"Model\",\n",
    "                 data=df_errors_1_t, palette=\"Set3\")\n",
    "ax.set_title(\"Item-based\")\n",
    "plt.show()"
   ],
   "metadata": {
    "collapsed": false,
    "pycharm": {
     "name": "#%%\n"
    }
   }
  },
  {
   "cell_type": "markdown",
   "source": [
    "it looks like item-based models won't work in 25% cases at all\n",
    "so maybe I need a better implementation\n",
    "I also did not filtered out rare movies,so they might make mi life worse\n",
    "in general weighted model shows better results with smaller error size"
   ],
   "metadata": {
    "collapsed": false,
    "pycharm": {
     "name": "#%% md\n"
    }
   }
  },
  {
   "cell_type": "code",
   "execution_count": 37,
   "outputs": [
    {
     "name": "stdout",
     "output_type": "stream",
     "text": [
      "Wall time: 342 ms\n"
     ]
    },
    {
     "data": {
      "text/plain": "                                             5   10   15   20   25   30   35  \\\nDonnie Brasco (1997)                       3.0  0.0  4.0  0.0  0.0  0.0  0.0   \nGladiator (2000)                           2.0  0.0  0.0  0.0  0.0  0.0  0.0   \nSeven (Se7en) (1995)                       3.0  0.0  0.0  0.0  0.0  0.0  0.0   \nApollo 13 (1995)                           2.0  0.0  0.0  0.0  0.0  0.0  0.0   \nUsual Suspects, The (1995)                 5.0  0.0  4.0  0.0  0.0  5.0  0.0   \n...                                        ...  ...  ...  ...  ...  ...  ...   \nMass Appeal (1984)                         0.0  0.0  0.0  0.0  0.0  0.0  0.0   \nTough Guys (1986)                          0.0  0.0  0.0  0.0  0.0  0.0  0.0   \nTwo if by Sea (1996)                       0.0  0.0  0.0  0.0  0.0  0.0  0.0   \nLawnmower Man 2: Beyond Cyberspace (1996)  0.0  0.0  0.0  0.0  0.0  0.0  0.0   \nFrom the Hip (1987)                        0.0  0.0  0.0  0.0  0.0  0.0  0.0   \n\n                                            40   45   50  ...  5995  6000  \\\nDonnie Brasco (1997)                       0.0  0.0  0.0  ...   0.0   0.0   \nGladiator (2000)                           0.0  0.0  0.0  ...   0.0   0.0   \nSeven (Se7en) (1995)                       0.0  0.0  0.0  ...   0.0   0.0   \nApollo 13 (1995)                           0.0  0.0  0.0  ...   0.0   0.0   \nUsual Suspects, The (1995)                 0.0  0.0  0.0  ...   4.0   0.0   \n...                                        ...  ...  ...  ...   ...   ...   \nMass Appeal (1984)                         0.0  0.0  0.0  ...   0.0   0.0   \nTough Guys (1986)                          0.0  0.0  0.0  ...   0.0   0.0   \nTwo if by Sea (1996)                       0.0  0.0  0.0  ...   0.0   0.0   \nLawnmower Man 2: Beyond Cyberspace (1996)  0.0  0.0  0.0  ...   0.0   0.0   \nFrom the Hip (1987)                        0.0  0.0  0.0  ...   0.0   0.0   \n\n                                           6005  6010  6015  6020  6025  6030  \\\nDonnie Brasco (1997)                        0.0   0.0   0.0   0.0   0.0   0.0   \nGladiator (2000)                            0.0   0.0   0.0   0.0   0.0   0.0   \nSeven (Se7en) (1995)                        0.0   0.0   0.0   0.0   0.0   0.0   \nApollo 13 (1995)                            0.0   0.0   0.0   0.0   0.0   0.0   \nUsual Suspects, The (1995)                  0.0   0.0   0.0   0.0   0.0   0.0   \n...                                         ...   ...   ...   ...   ...   ...   \nMass Appeal (1984)                          0.0   0.0   0.0   0.0   0.0   0.0   \nTough Guys (1986)                           0.0   3.0   0.0   0.0   0.0   0.0   \nTwo if by Sea (1996)                        0.0   0.0   0.0   0.0   2.0   0.0   \nLawnmower Man 2: Beyond Cyberspace (1996)   0.0   0.0   0.0   0.0   0.0   0.0   \nFrom the Hip (1987)                         0.0   0.0   0.0   0.0   0.0   0.0   \n\n                                           6035  6040  \nDonnie Brasco (1997)                        0.0   0.0  \nGladiator (2000)                            0.0   0.0  \nSeven (Se7en) (1995)                        0.0   0.0  \nApollo 13 (1995)                            0.0   0.0  \nUsual Suspects, The (1995)                  0.0   0.0  \n...                                         ...   ...  \nMass Appeal (1984)                          0.0   0.0  \nTough Guys (1986)                           0.0   0.0  \nTwo if by Sea (1996)                        0.0   0.0  \nLawnmower Man 2: Beyond Cyberspace (1996)   1.0   0.0  \nFrom the Hip (1987)                         0.0   1.0  \n\n[2683 rows x 1208 columns]",
      "text/html": "<div>\n<style scoped>\n    .dataframe tbody tr th:only-of-type {\n        vertical-align: middle;\n    }\n\n    .dataframe tbody tr th {\n        vertical-align: top;\n    }\n\n    .dataframe thead th {\n        text-align: right;\n    }\n</style>\n<table border=\"1\" class=\"dataframe\">\n  <thead>\n    <tr style=\"text-align: right;\">\n      <th></th>\n      <th>5</th>\n      <th>10</th>\n      <th>15</th>\n      <th>20</th>\n      <th>25</th>\n      <th>30</th>\n      <th>35</th>\n      <th>40</th>\n      <th>45</th>\n      <th>50</th>\n      <th>...</th>\n      <th>5995</th>\n      <th>6000</th>\n      <th>6005</th>\n      <th>6010</th>\n      <th>6015</th>\n      <th>6020</th>\n      <th>6025</th>\n      <th>6030</th>\n      <th>6035</th>\n      <th>6040</th>\n    </tr>\n  </thead>\n  <tbody>\n    <tr>\n      <th>Donnie Brasco (1997)</th>\n      <td>3.0</td>\n      <td>0.0</td>\n      <td>4.0</td>\n      <td>0.0</td>\n      <td>0.0</td>\n      <td>0.0</td>\n      <td>0.0</td>\n      <td>0.0</td>\n      <td>0.0</td>\n      <td>0.0</td>\n      <td>...</td>\n      <td>0.0</td>\n      <td>0.0</td>\n      <td>0.0</td>\n      <td>0.0</td>\n      <td>0.0</td>\n      <td>0.0</td>\n      <td>0.0</td>\n      <td>0.0</td>\n      <td>0.0</td>\n      <td>0.0</td>\n    </tr>\n    <tr>\n      <th>Gladiator (2000)</th>\n      <td>2.0</td>\n      <td>0.0</td>\n      <td>0.0</td>\n      <td>0.0</td>\n      <td>0.0</td>\n      <td>0.0</td>\n      <td>0.0</td>\n      <td>0.0</td>\n      <td>0.0</td>\n      <td>0.0</td>\n      <td>...</td>\n      <td>0.0</td>\n      <td>0.0</td>\n      <td>0.0</td>\n      <td>0.0</td>\n      <td>0.0</td>\n      <td>0.0</td>\n      <td>0.0</td>\n      <td>0.0</td>\n      <td>0.0</td>\n      <td>0.0</td>\n    </tr>\n    <tr>\n      <th>Seven (Se7en) (1995)</th>\n      <td>3.0</td>\n      <td>0.0</td>\n      <td>0.0</td>\n      <td>0.0</td>\n      <td>0.0</td>\n      <td>0.0</td>\n      <td>0.0</td>\n      <td>0.0</td>\n      <td>0.0</td>\n      <td>0.0</td>\n      <td>...</td>\n      <td>0.0</td>\n      <td>0.0</td>\n      <td>0.0</td>\n      <td>0.0</td>\n      <td>0.0</td>\n      <td>0.0</td>\n      <td>0.0</td>\n      <td>0.0</td>\n      <td>0.0</td>\n      <td>0.0</td>\n    </tr>\n    <tr>\n      <th>Apollo 13 (1995)</th>\n      <td>2.0</td>\n      <td>0.0</td>\n      <td>0.0</td>\n      <td>0.0</td>\n      <td>0.0</td>\n      <td>0.0</td>\n      <td>0.0</td>\n      <td>0.0</td>\n      <td>0.0</td>\n      <td>0.0</td>\n      <td>...</td>\n      <td>0.0</td>\n      <td>0.0</td>\n      <td>0.0</td>\n      <td>0.0</td>\n      <td>0.0</td>\n      <td>0.0</td>\n      <td>0.0</td>\n      <td>0.0</td>\n      <td>0.0</td>\n      <td>0.0</td>\n    </tr>\n    <tr>\n      <th>Usual Suspects, The (1995)</th>\n      <td>5.0</td>\n      <td>0.0</td>\n      <td>4.0</td>\n      <td>0.0</td>\n      <td>0.0</td>\n      <td>5.0</td>\n      <td>0.0</td>\n      <td>0.0</td>\n      <td>0.0</td>\n      <td>0.0</td>\n      <td>...</td>\n      <td>4.0</td>\n      <td>0.0</td>\n      <td>0.0</td>\n      <td>0.0</td>\n      <td>0.0</td>\n      <td>0.0</td>\n      <td>0.0</td>\n      <td>0.0</td>\n      <td>0.0</td>\n      <td>0.0</td>\n    </tr>\n    <tr>\n      <th>...</th>\n      <td>...</td>\n      <td>...</td>\n      <td>...</td>\n      <td>...</td>\n      <td>...</td>\n      <td>...</td>\n      <td>...</td>\n      <td>...</td>\n      <td>...</td>\n      <td>...</td>\n      <td>...</td>\n      <td>...</td>\n      <td>...</td>\n      <td>...</td>\n      <td>...</td>\n      <td>...</td>\n      <td>...</td>\n      <td>...</td>\n      <td>...</td>\n      <td>...</td>\n      <td>...</td>\n    </tr>\n    <tr>\n      <th>Mass Appeal (1984)</th>\n      <td>0.0</td>\n      <td>0.0</td>\n      <td>0.0</td>\n      <td>0.0</td>\n      <td>0.0</td>\n      <td>0.0</td>\n      <td>0.0</td>\n      <td>0.0</td>\n      <td>0.0</td>\n      <td>0.0</td>\n      <td>...</td>\n      <td>0.0</td>\n      <td>0.0</td>\n      <td>0.0</td>\n      <td>0.0</td>\n      <td>0.0</td>\n      <td>0.0</td>\n      <td>0.0</td>\n      <td>0.0</td>\n      <td>0.0</td>\n      <td>0.0</td>\n    </tr>\n    <tr>\n      <th>Tough Guys (1986)</th>\n      <td>0.0</td>\n      <td>0.0</td>\n      <td>0.0</td>\n      <td>0.0</td>\n      <td>0.0</td>\n      <td>0.0</td>\n      <td>0.0</td>\n      <td>0.0</td>\n      <td>0.0</td>\n      <td>0.0</td>\n      <td>...</td>\n      <td>0.0</td>\n      <td>0.0</td>\n      <td>0.0</td>\n      <td>3.0</td>\n      <td>0.0</td>\n      <td>0.0</td>\n      <td>0.0</td>\n      <td>0.0</td>\n      <td>0.0</td>\n      <td>0.0</td>\n    </tr>\n    <tr>\n      <th>Two if by Sea (1996)</th>\n      <td>0.0</td>\n      <td>0.0</td>\n      <td>0.0</td>\n      <td>0.0</td>\n      <td>0.0</td>\n      <td>0.0</td>\n      <td>0.0</td>\n      <td>0.0</td>\n      <td>0.0</td>\n      <td>0.0</td>\n      <td>...</td>\n      <td>0.0</td>\n      <td>0.0</td>\n      <td>0.0</td>\n      <td>0.0</td>\n      <td>0.0</td>\n      <td>0.0</td>\n      <td>2.0</td>\n      <td>0.0</td>\n      <td>0.0</td>\n      <td>0.0</td>\n    </tr>\n    <tr>\n      <th>Lawnmower Man 2: Beyond Cyberspace (1996)</th>\n      <td>0.0</td>\n      <td>0.0</td>\n      <td>0.0</td>\n      <td>0.0</td>\n      <td>0.0</td>\n      <td>0.0</td>\n      <td>0.0</td>\n      <td>0.0</td>\n      <td>0.0</td>\n      <td>0.0</td>\n      <td>...</td>\n      <td>0.0</td>\n      <td>0.0</td>\n      <td>0.0</td>\n      <td>0.0</td>\n      <td>0.0</td>\n      <td>0.0</td>\n      <td>0.0</td>\n      <td>0.0</td>\n      <td>1.0</td>\n      <td>0.0</td>\n    </tr>\n    <tr>\n      <th>From the Hip (1987)</th>\n      <td>0.0</td>\n      <td>0.0</td>\n      <td>0.0</td>\n      <td>0.0</td>\n      <td>0.0</td>\n      <td>0.0</td>\n      <td>0.0</td>\n      <td>0.0</td>\n      <td>0.0</td>\n      <td>0.0</td>\n      <td>...</td>\n      <td>0.0</td>\n      <td>0.0</td>\n      <td>0.0</td>\n      <td>0.0</td>\n      <td>0.0</td>\n      <td>0.0</td>\n      <td>0.0</td>\n      <td>0.0</td>\n      <td>0.0</td>\n      <td>1.0</td>\n    </tr>\n  </tbody>\n</table>\n<p>2683 rows × 1208 columns</p>\n</div>"
     },
     "execution_count": 37,
     "metadata": {},
     "output_type": "execute_result"
    }
   ],
   "source": [
    "%%time\n",
    "df_test = pd.DataFrame.from_dict(critics_test)\n",
    "df_test = df_test.replace(np.nan, 0)\n",
    "df_test"
   ],
   "metadata": {
    "collapsed": false,
    "pycharm": {
     "name": "#%%\n"
    }
   }
  },
  {
   "cell_type": "code",
   "execution_count": 38,
   "outputs": [
    {
     "name": "stdout",
     "output_type": "stream",
     "text": [
      "Wall time: 2.19 s\n"
     ]
    },
    {
     "data": {
      "text/plain": "                                               1    2    3    4    5    6  \\\nOne Flew Over the Cuckoo's Nest (1975)       5.0  5.0  0.0  0.0  0.0  0.0   \nJames and the Giant Peach (1996)             3.0  0.0  0.0  0.0  0.0  0.0   \nMy Fair Lady (1964)                          3.0  0.0  0.0  0.0  0.0  5.0   \nErin Brockovich (2000)                       4.0  0.0  0.0  0.0  0.0  5.0   \nBug's Life, A (1998)                         5.0  0.0  5.0  0.0  0.0  0.0   \n...                                          ...  ...  ...  ...  ...  ...   \nCrude Oasis, The (1995)                      0.0  0.0  0.0  0.0  0.0  0.0   \nMaster Ninja I (1984)                        0.0  0.0  0.0  0.0  0.0  0.0   \nSix Ways to Sunday (1997)                    0.0  0.0  0.0  0.0  0.0  0.0   \nOne Little Indian (1973)                     0.0  0.0  0.0  0.0  0.0  0.0   \nFive Wives, Three Secretaries and Me (1998)  0.0  0.0  0.0  0.0  0.0  0.0   \n\n                                               7    8    9   10  ...  6031  \\\nOne Flew Over the Cuckoo's Nest (1975)       0.0  0.0  0.0  0.0  ...   0.0   \nJames and the Giant Peach (1996)             0.0  0.0  0.0  0.0  ...   0.0   \nMy Fair Lady (1964)                          0.0  0.0  0.0  0.0  ...   0.0   \nErin Brockovich (2000)                       0.0  0.0  4.0  0.0  ...   0.0   \nBug's Life, A (1998)                         0.0  0.0  4.0  0.0  ...   0.0   \n...                                          ...  ...  ...  ...  ...   ...   \nCrude Oasis, The (1995)                      0.0  0.0  0.0  0.0  ...   0.0   \nMaster Ninja I (1984)                        0.0  0.0  0.0  0.0  ...   0.0   \nSix Ways to Sunday (1997)                    0.0  0.0  0.0  0.0  ...   0.0   \nOne Little Indian (1973)                     0.0  0.0  0.0  0.0  ...   0.0   \nFive Wives, Three Secretaries and Me (1998)  0.0  0.0  0.0  0.0  ...   0.0   \n\n                                             6032  6033  6034  6035  6036  \\\nOne Flew Over the Cuckoo's Nest (1975)        5.0   5.0   0.0   0.0   5.0   \nJames and the Giant Peach (1996)              0.0   0.0   0.0   0.0   0.0   \nMy Fair Lady (1964)                           0.0   0.0   0.0   0.0   3.0   \nErin Brockovich (2000)                        0.0   0.0   0.0   0.0   4.0   \nBug's Life, A (1998)                          0.0   0.0   0.0   0.0   4.0   \n...                                           ...   ...   ...   ...   ...   \nCrude Oasis, The (1995)                       0.0   0.0   0.0   0.0   0.0   \nMaster Ninja I (1984)                         0.0   0.0   0.0   0.0   0.0   \nSix Ways to Sunday (1997)                     0.0   0.0   0.0   0.0   0.0   \nOne Little Indian (1973)                      0.0   0.0   0.0   0.0   0.0   \nFive Wives, Three Secretaries and Me (1998)   0.0   0.0   0.0   0.0   0.0   \n\n                                             6037  6038  6039  6040  \nOne Flew Over the Cuckoo's Nest (1975)        4.0   0.0   0.0   0.0  \nJames and the Giant Peach (1996)              0.0   0.0   3.0   0.0  \nMy Fair Lady (1964)                           0.0   0.0   4.0   0.0  \nErin Brockovich (2000)                        0.0   0.0   0.0   0.0  \nBug's Life, A (1998)                          0.0   0.0   0.0   0.0  \n...                                           ...   ...   ...   ...  \nCrude Oasis, The (1995)                       0.0   0.0   0.0   0.0  \nMaster Ninja I (1984)                         0.0   0.0   0.0   0.0  \nSix Ways to Sunday (1997)                     0.0   0.0   0.0   0.0  \nOne Little Indian (1973)                      0.0   0.0   0.0   0.0  \nFive Wives, Three Secretaries and Me (1998)   0.0   0.0   0.0   0.0  \n\n[3661 rows x 6040 columns]",
      "text/html": "<div>\n<style scoped>\n    .dataframe tbody tr th:only-of-type {\n        vertical-align: middle;\n    }\n\n    .dataframe tbody tr th {\n        vertical-align: top;\n    }\n\n    .dataframe thead th {\n        text-align: right;\n    }\n</style>\n<table border=\"1\" class=\"dataframe\">\n  <thead>\n    <tr style=\"text-align: right;\">\n      <th></th>\n      <th>1</th>\n      <th>2</th>\n      <th>3</th>\n      <th>4</th>\n      <th>5</th>\n      <th>6</th>\n      <th>7</th>\n      <th>8</th>\n      <th>9</th>\n      <th>10</th>\n      <th>...</th>\n      <th>6031</th>\n      <th>6032</th>\n      <th>6033</th>\n      <th>6034</th>\n      <th>6035</th>\n      <th>6036</th>\n      <th>6037</th>\n      <th>6038</th>\n      <th>6039</th>\n      <th>6040</th>\n    </tr>\n  </thead>\n  <tbody>\n    <tr>\n      <th>One Flew Over the Cuckoo's Nest (1975)</th>\n      <td>5.0</td>\n      <td>5.0</td>\n      <td>0.0</td>\n      <td>0.0</td>\n      <td>0.0</td>\n      <td>0.0</td>\n      <td>0.0</td>\n      <td>0.0</td>\n      <td>0.0</td>\n      <td>0.0</td>\n      <td>...</td>\n      <td>0.0</td>\n      <td>5.0</td>\n      <td>5.0</td>\n      <td>0.0</td>\n      <td>0.0</td>\n      <td>5.0</td>\n      <td>4.0</td>\n      <td>0.0</td>\n      <td>0.0</td>\n      <td>0.0</td>\n    </tr>\n    <tr>\n      <th>James and the Giant Peach (1996)</th>\n      <td>3.0</td>\n      <td>0.0</td>\n      <td>0.0</td>\n      <td>0.0</td>\n      <td>0.0</td>\n      <td>0.0</td>\n      <td>0.0</td>\n      <td>0.0</td>\n      <td>0.0</td>\n      <td>0.0</td>\n      <td>...</td>\n      <td>0.0</td>\n      <td>0.0</td>\n      <td>0.0</td>\n      <td>0.0</td>\n      <td>0.0</td>\n      <td>0.0</td>\n      <td>0.0</td>\n      <td>0.0</td>\n      <td>3.0</td>\n      <td>0.0</td>\n    </tr>\n    <tr>\n      <th>My Fair Lady (1964)</th>\n      <td>3.0</td>\n      <td>0.0</td>\n      <td>0.0</td>\n      <td>0.0</td>\n      <td>0.0</td>\n      <td>5.0</td>\n      <td>0.0</td>\n      <td>0.0</td>\n      <td>0.0</td>\n      <td>0.0</td>\n      <td>...</td>\n      <td>0.0</td>\n      <td>0.0</td>\n      <td>0.0</td>\n      <td>0.0</td>\n      <td>0.0</td>\n      <td>3.0</td>\n      <td>0.0</td>\n      <td>0.0</td>\n      <td>4.0</td>\n      <td>0.0</td>\n    </tr>\n    <tr>\n      <th>Erin Brockovich (2000)</th>\n      <td>4.0</td>\n      <td>0.0</td>\n      <td>0.0</td>\n      <td>0.0</td>\n      <td>0.0</td>\n      <td>5.0</td>\n      <td>0.0</td>\n      <td>0.0</td>\n      <td>4.0</td>\n      <td>0.0</td>\n      <td>...</td>\n      <td>0.0</td>\n      <td>0.0</td>\n      <td>0.0</td>\n      <td>0.0</td>\n      <td>0.0</td>\n      <td>4.0</td>\n      <td>0.0</td>\n      <td>0.0</td>\n      <td>0.0</td>\n      <td>0.0</td>\n    </tr>\n    <tr>\n      <th>Bug's Life, A (1998)</th>\n      <td>5.0</td>\n      <td>0.0</td>\n      <td>5.0</td>\n      <td>0.0</td>\n      <td>0.0</td>\n      <td>0.0</td>\n      <td>0.0</td>\n      <td>0.0</td>\n      <td>4.0</td>\n      <td>0.0</td>\n      <td>...</td>\n      <td>0.0</td>\n      <td>0.0</td>\n      <td>0.0</td>\n      <td>0.0</td>\n      <td>0.0</td>\n      <td>4.0</td>\n      <td>0.0</td>\n      <td>0.0</td>\n      <td>0.0</td>\n      <td>0.0</td>\n    </tr>\n    <tr>\n      <th>...</th>\n      <td>...</td>\n      <td>...</td>\n      <td>...</td>\n      <td>...</td>\n      <td>...</td>\n      <td>...</td>\n      <td>...</td>\n      <td>...</td>\n      <td>...</td>\n      <td>...</td>\n      <td>...</td>\n      <td>...</td>\n      <td>...</td>\n      <td>...</td>\n      <td>...</td>\n      <td>...</td>\n      <td>...</td>\n      <td>...</td>\n      <td>...</td>\n      <td>...</td>\n      <td>...</td>\n    </tr>\n    <tr>\n      <th>Crude Oasis, The (1995)</th>\n      <td>0.0</td>\n      <td>0.0</td>\n      <td>0.0</td>\n      <td>0.0</td>\n      <td>0.0</td>\n      <td>0.0</td>\n      <td>0.0</td>\n      <td>0.0</td>\n      <td>0.0</td>\n      <td>0.0</td>\n      <td>...</td>\n      <td>0.0</td>\n      <td>0.0</td>\n      <td>0.0</td>\n      <td>0.0</td>\n      <td>0.0</td>\n      <td>0.0</td>\n      <td>0.0</td>\n      <td>0.0</td>\n      <td>0.0</td>\n      <td>0.0</td>\n    </tr>\n    <tr>\n      <th>Master Ninja I (1984)</th>\n      <td>0.0</td>\n      <td>0.0</td>\n      <td>0.0</td>\n      <td>0.0</td>\n      <td>0.0</td>\n      <td>0.0</td>\n      <td>0.0</td>\n      <td>0.0</td>\n      <td>0.0</td>\n      <td>0.0</td>\n      <td>...</td>\n      <td>0.0</td>\n      <td>0.0</td>\n      <td>0.0</td>\n      <td>0.0</td>\n      <td>0.0</td>\n      <td>0.0</td>\n      <td>0.0</td>\n      <td>0.0</td>\n      <td>0.0</td>\n      <td>0.0</td>\n    </tr>\n    <tr>\n      <th>Six Ways to Sunday (1997)</th>\n      <td>0.0</td>\n      <td>0.0</td>\n      <td>0.0</td>\n      <td>0.0</td>\n      <td>0.0</td>\n      <td>0.0</td>\n      <td>0.0</td>\n      <td>0.0</td>\n      <td>0.0</td>\n      <td>0.0</td>\n      <td>...</td>\n      <td>0.0</td>\n      <td>0.0</td>\n      <td>0.0</td>\n      <td>0.0</td>\n      <td>0.0</td>\n      <td>0.0</td>\n      <td>0.0</td>\n      <td>0.0</td>\n      <td>0.0</td>\n      <td>0.0</td>\n    </tr>\n    <tr>\n      <th>One Little Indian (1973)</th>\n      <td>0.0</td>\n      <td>0.0</td>\n      <td>0.0</td>\n      <td>0.0</td>\n      <td>0.0</td>\n      <td>0.0</td>\n      <td>0.0</td>\n      <td>0.0</td>\n      <td>0.0</td>\n      <td>0.0</td>\n      <td>...</td>\n      <td>0.0</td>\n      <td>0.0</td>\n      <td>0.0</td>\n      <td>0.0</td>\n      <td>0.0</td>\n      <td>0.0</td>\n      <td>0.0</td>\n      <td>0.0</td>\n      <td>0.0</td>\n      <td>0.0</td>\n    </tr>\n    <tr>\n      <th>Five Wives, Three Secretaries and Me (1998)</th>\n      <td>0.0</td>\n      <td>0.0</td>\n      <td>0.0</td>\n      <td>0.0</td>\n      <td>0.0</td>\n      <td>0.0</td>\n      <td>0.0</td>\n      <td>0.0</td>\n      <td>0.0</td>\n      <td>0.0</td>\n      <td>...</td>\n      <td>0.0</td>\n      <td>0.0</td>\n      <td>0.0</td>\n      <td>0.0</td>\n      <td>0.0</td>\n      <td>0.0</td>\n      <td>0.0</td>\n      <td>0.0</td>\n      <td>0.0</td>\n      <td>0.0</td>\n    </tr>\n  </tbody>\n</table>\n<p>3661 rows × 6040 columns</p>\n</div>"
     },
     "execution_count": 38,
     "metadata": {},
     "output_type": "execute_result"
    }
   ],
   "source": [
    "%%time\n",
    "df_train = pd.DataFrame.from_dict(critics_train).replace(np.nan, 0)\n",
    "df_train"
   ],
   "metadata": {
    "collapsed": false,
    "pycharm": {
     "name": "#%%\n"
    }
   }
  },
  {
   "cell_type": "code",
   "execution_count": 39,
   "outputs": [
    {
     "name": "stdout",
     "output_type": "stream",
     "text": [
      "Wall time: 3.31 s\n"
     ]
    }
   ],
   "source": [
    "%%time\n",
    "knn = NearestNeighbors(metric='cosine', algorithm='auto', n_jobs = -1)\n",
    "knn.fit(df_train.values)\n",
    "\n",
    "distances_t, indices_t = knn.kneighbors(df_train.values, n_neighbors=40)"
   ],
   "metadata": {
    "collapsed": false,
    "pycharm": {
     "name": "#%%\n"
    }
   }
  },
  {
   "cell_type": "code",
   "execution_count": 40,
   "outputs": [],
   "source": [
    "def topMatches_item(prefs, person, distances, indices, scale = False):\n",
    "    user = list(prefs.keys()).index(person)\n",
    "    keys = [list(prefs)[i] for i in indices[user][1:].tolist()]\n",
    "    if scale:\n",
    "        values = min(distances[user][1:])/(distances[user][1:])\n",
    "    else:\n",
    "        values = 1-(distances[user][1:])\n",
    "    dictionary = sorted(list(zip(values, keys)), reverse=True)\n",
    "    return dictionary"
   ],
   "metadata": {
    "collapsed": false,
    "pycharm": {
     "name": "#%%\n"
    }
   }
  },
  {
   "cell_type": "code",
   "execution_count": 41,
   "outputs": [
    {
     "name": "stdout",
     "output_type": "stream",
     "text": [
      "Wall time: 0 ns\n"
     ]
    },
    {
     "data": {
      "text/plain": "[(0.5961542767350019, 'Usual Suspects, The (1995)'),\n (0.5841182007562972, 'Reservoir Dogs (1992)'),\n (0.5417308038189989, 'Silence of the Lambs, The (1991)'),\n (0.5413189766170677, 'Pulp Fiction (1994)'),\n (0.5331062915165311, 'Fargo (1996)'),\n (0.5164582465469002, 'Heat (1995)'),\n (0.5113762459174296, 'Sixth Sense, The (1999)'),\n (0.508682800274364, 'Fugitive, The (1993)'),\n (0.5065643248091806, 'L.A. Confidential (1997)'),\n (0.5021716316168202, 'Game, The (1997)'),\n (0.4956148275294373, 'Matrix, The (1999)'),\n (0.4927984773218199, 'Simple Plan, A (1998)'),\n (0.488679562096326, 'Few Good Men, A (1992)'),\n (0.48638363978500654,\n  'Professional, The (a.k.a. Leon: The Professional) (1994)'),\n (0.48346219218884623, 'Terminator 2: Judgment Day (1991)'),\n (0.4822234639623133, 'Shawshank Redemption, The (1994)'),\n (0.478749165194839, 'GoodFellas (1990)'),\n (0.47848286937536266, \"Devil's Advocate, The (1997)\"),\n (0.4750420507332418, 'Jackie Brown (1997)'),\n (0.4737914261115055, 'Twelve Monkeys (1995)'),\n (0.4722838245158689, 'Big Lebowski, The (1998)'),\n (0.47161605058505585, 'Scream (1996)'),\n (0.4703484483607403, 'Rock, The (1996)'),\n (0.4702208779614957, 'Speed (1994)'),\n (0.46859044806137706, 'Fight Club (1999)'),\n (0.46667984765945403, 'Die Hard (1988)'),\n (0.4662596359932586, 'Cape Fear (1991)'),\n (0.46365746568942834, 'Sling Blade (1996)'),\n (0.4608678657656351, 'Casino (1995)'),\n (0.4604453058512986, 'Wild Things (1998)'),\n (0.459675524877172, 'Hunt for Red October, The (1990)'),\n (0.45914489741898845, 'Three Kings (1999)'),\n (0.4575303663855328, 'Grosse Pointe Blank (1997)'),\n (0.4521481111335546, 'Total Recall (1990)'),\n (0.4503739061864891, 'Face/Off (1997)'),\n (0.4468106955842436, 'Saving Private Ryan (1998)'),\n (0.4427039508860521, 'Ronin (1998)'),\n (0.44052846476602836, 'Jurassic Park (1993)'),\n (0.4397559022164954, 'American Beauty (1999)')]"
     },
     "execution_count": 41,
     "metadata": {},
     "output_type": "execute_result"
    }
   ],
   "source": [
    "%%time\n",
    "temp_ = topMatches_item(critics_train_t,\n",
    "                        list(critics_test_t.keys())[2],\n",
    "                        distances_t, indices_t)\n",
    "temp_"
   ],
   "metadata": {
    "collapsed": false,
    "pycharm": {
     "name": "#%%\n"
    }
   }
  },
  {
   "cell_type": "code",
   "execution_count": 42,
   "outputs": [],
   "source": [
    "# Получить рекомендации для заданного человека, пользуясь взвешенным средним\n",
    "# оценок, данных всеми остальными пользователями\n",
    "def getRecommendations_item(prefs, test,person,\n",
    "                            distances  = distances_t, indices = indices_t,\n",
    "                       mode = \"exact\"):\n",
    "    top_persons = topMatches_item(prefs,person, distances, indices)\n",
    "    film_sum = {}\n",
    "    film_multiplyer = {}\n",
    "    for p in top_persons:\n",
    "        if p[0] <= 0:\n",
    "            break\n",
    "        if mode != \"exact\":\n",
    "            for movie in prefs[p[1]]:\n",
    "                if not movie in film_sum:\n",
    "                    film_sum[movie] = 0\n",
    "                    film_multiplyer[movie] = 0\n",
    "\n",
    "                film_sum[movie] += prefs[p[1]][movie]*p[0]\n",
    "                film_multiplyer[movie] += p[0]\n",
    "        if mode == \"exact\":\n",
    "            test_list = test[person]\n",
    "            for movie in prefs[p[1]]:\n",
    "                if movie in test_list:\n",
    "                    if not movie in film_sum:\n",
    "                        film_sum[movie] = 0\n",
    "                        film_multiplyer[movie] = 0\n",
    "\n",
    "                    film_sum[movie] += prefs[p[1]][movie]*p[0]\n",
    "                    film_multiplyer[movie] += p[0]\n",
    "\n",
    "    if mode == \"only_NA\":\n",
    "        recomend = sorted([(movie, film_sum[movie]/film_multiplyer[movie]) for movie in film_sum if movie not in prefs[person]], reverse = True)\n",
    "    elif mode == \"all\":\n",
    "        recomend = sorted([(movie, film_sum[movie]/film_multiplyer[movie]) for movie in film_sum], reverse = True)\n",
    "    elif mode == \"exact\":\n",
    "        recomend = sorted([(movie, film_sum[movie]/film_multiplyer[movie]) for movie in film_sum if movie in test_list], reverse = True)\n",
    "\n",
    "    return dict(recomend)"
   ],
   "metadata": {
    "collapsed": false,
    "pycharm": {
     "name": "#%%\n"
    }
   }
  },
  {
   "cell_type": "code",
   "execution_count": 43,
   "outputs": [
    {
     "name": "stdout",
     "output_type": "stream",
     "text": [
      "Wall time: 4.5 s\n"
     ]
    }
   ],
   "source": [
    "%%time\n",
    "\n",
    "df_transp = pd.DataFrame.from_dict(critics_train).replace(np.nan, 0)\n",
    "\n",
    "knn = NearestNeighbors(metric='cosine', algorithm='auto', n_jobs = -1)\n",
    "knn.fit(df_transp.values)\n",
    "\n",
    "distances_t, indices_t = knn.kneighbors(df_transp.values, n_neighbors=100)"
   ],
   "metadata": {
    "collapsed": false,
    "pycharm": {
     "name": "#%%\n"
    }
   }
  },
  {
   "cell_type": "code",
   "execution_count": 44,
   "outputs": [
    {
     "name": "stdout",
     "output_type": "stream",
     "text": [
      "Wall time: 0 ns\n"
     ]
    },
    {
     "data": {
      "text/plain": "{'620': 4.284719239209713,\n '5795': 4.456792806020311,\n '5390': 4.0,\n '5': 3.7002173657598836,\n '4605': 4.43322358289772,\n '4235': 4.0,\n '3880': 5.0,\n '3685': 4.350836551247079,\n '3475': 3.392885593730333,\n '3430': 3.7310871313523655,\n '3250': 2.7920929058776807,\n '2900': 5.0,\n '2020': 3.4029579568754516,\n '1890': 4.0,\n '1685': 3.0,\n '15': 3.3450388091073764,\n '1010': 3.6759891549941845}"
     },
     "execution_count": 44,
     "metadata": {},
     "output_type": "execute_result"
    }
   ],
   "source": [
    "%%time\n",
    "rec1_t = getRecommendations_item(critics_train_t, critics_test_t, list(critics_test_t.keys())[0],\n",
    "                                 distances_t, indices_t,\n",
    "                            mode = \"exact\")\n",
    "rec1_t"
   ],
   "metadata": {
    "collapsed": false,
    "pycharm": {
     "name": "#%%\n"
    }
   }
  },
  {
   "cell_type": "code",
   "execution_count": 45,
   "outputs": [],
   "source": [
    "def getRecommendations_weighted_item(prefs, test, person,\n",
    "                                     distances = distances_t, indices = indices_t,\n",
    "                                mode = \"exact\"):\n",
    "    '''\n",
    "    :param prefs: train df\n",
    "    :param person: test df\n",
    "    :param distances: distance matrix\n",
    "    :param indices: index matrix\n",
    "    :param test_list: list of items to predict\n",
    "    :return: dict with movies and ratings\n",
    "    '''\n",
    "    top_persons = topMatches_item(prefs,person, distances, indices)\n",
    "    test_list = test[person]\n",
    "    film_sum = {}\n",
    "    film_multiplyer = {}\n",
    "    # user 1 average\n",
    "    person_mean = np.mean(list(prefs[person].values()))\n",
    "    for p in top_persons:\n",
    "        # user_ratings = []\n",
    "        user_ratings_2 = {}\n",
    "        # берём только от похожих\n",
    "        if p[0] <= 0.5:\n",
    "            break\n",
    "        for movie in prefs[p[1]]:\n",
    "            ## считаем среднюю оценку и стандартное отклонение других пользователей\n",
    "            # user_ratings.append(prefs[p[1]][movie])\n",
    "            user_ratings_2[movie] = prefs[p[1]][movie]\n",
    "            if mode == \"exact\":\n",
    "                if movie in test_list:\n",
    "                    if not movie in film_sum:\n",
    "                        film_sum[movie] = 0\n",
    "                        film_multiplyer[movie] = 0\n",
    "\n",
    "                    ### типа з скор что-ли\n",
    "                    film_sum[movie] += p[0] * (prefs[p[1]][movie] - np.array(list(user_ratings_2.values())).mean()) / (np.array(list(user_ratings_2.values())).std() + 0.000000000001)\n",
    "                    film_multiplyer[movie] += p[0]\n",
    "            if mode == \"only_NA\":\n",
    "                if not movie in film_sum:\n",
    "                    film_sum[movie] = 0\n",
    "                    film_multiplyer[movie] = 0\n",
    "                    ### типа з скор что-ли\n",
    "                film_sum[movie] += p[0] * (prefs[p[1]][movie] - np.array(list(user_ratings_2.values())).mean()) / (np.array(list(user_ratings_2.values())).std() + 0.000000000001)\n",
    "                film_multiplyer[movie] += p[0]\n",
    "    ## добавляем среднюю оценку изначального пользователя\n",
    "    if mode == \"exact\":\n",
    "        recomend = sorted([(movie, person_mean + film_sum[movie]/film_multiplyer[movie]) for movie in film_sum], reverse = True)\n",
    "    if mode == \"only_NA\":\n",
    "        recomend = sorted([(movie, person_mean + film_sum[movie]/film_multiplyer[movie]) for movie in film_sum if movie not in prefs[person]], reverse = True)\n",
    "    return dict(recomend)"
   ],
   "metadata": {
    "collapsed": false,
    "pycharm": {
     "name": "#%%\n"
    }
   }
  },
  {
   "cell_type": "code",
   "execution_count": 46,
   "outputs": [
    {
     "name": "stdout",
     "output_type": "stream",
     "text": [
      "Wall time: 0 ns\n"
     ]
    },
    {
     "data": {
      "text/plain": "{}"
     },
     "execution_count": 46,
     "metadata": {},
     "output_type": "execute_result"
    }
   ],
   "source": [
    "%%time\n",
    "rec2_t = getRecommendations_weighted_item(critics_train_t, critics_test_t,\n",
    "                                          list(critics_test_t.keys())[0],\n",
    "                                 distances_t, indices_t,\n",
    "                                 mode = \"exact\")\n",
    "rec2_t"
   ],
   "metadata": {
    "collapsed": false,
    "pycharm": {
     "name": "#%%\n"
    }
   }
  },
  {
   "cell_type": "markdown",
   "source": [
    "### MAE RMSE"
   ],
   "metadata": {
    "collapsed": false,
    "pycharm": {
     "name": "#%% md\n"
    }
   }
  },
  {
   "cell_type": "code",
   "execution_count": 47,
   "outputs": [
    {
     "name": "stderr",
     "output_type": "stream",
     "text": [
      "C:\\Users\\wirze\\anaconda3\\lib\\site-packages\\numpy\\lib\\function_base.py:380: RuntimeWarning: Mean of empty slice.\n",
      "  avg = a.mean(axis)\n",
      "C:\\Users\\wirze\\anaconda3\\lib\\site-packages\\numpy\\core\\_methods.py:189: RuntimeWarning: invalid value encountered in double_scalars\n",
      "  ret = ret.dtype.type(ret / rcount)\n"
     ]
    },
    {
     "name": "stdout",
     "output_type": "stream",
     "text": [
      "mean error for base-level model:\n",
      "0.8432705124830293\n",
      "mean error for base-level model:\n",
      "0.9979342156136465\n",
      "Wall time: 5.1 s\n"
     ]
    }
   ],
   "source": [
    "%%time\n",
    "errors_base_MAE_t_2,errors_base_RMSE_t_2 =  evaluate_model(critics_train_t, critics_test_t,\n",
    "                                                       rec_func = getRecommendations_item)\n",
    "\n",
    "errors_clear_MAE = {k: errors_base_MAE_t_2[k] for k in errors_base_MAE_t_2 if not isnan(errors_base_MAE_t_2[k])}\n",
    "errors_clear_RMSE = {k: errors_base_RMSE_t_2[k] for k in errors_base_RMSE_t_2 if not isnan(errors_base_RMSE_t_2[k])}\n",
    "\n",
    "print(\"mean error for base-level model:\")\n",
    "print(np.mean(list(errors_clear_MAE.values())))\n",
    "print(\"mean error for base-level model:\")\n",
    "print(np.mean(list(errors_clear_RMSE.values())))"
   ],
   "metadata": {
    "collapsed": false,
    "pycharm": {
     "name": "#%%\n"
    }
   }
  },
  {
   "cell_type": "code",
   "execution_count": 48,
   "outputs": [
    {
     "name": "stderr",
     "output_type": "stream",
     "text": [
      "C:\\Users\\wirze\\anaconda3\\lib\\site-packages\\numpy\\lib\\function_base.py:380: RuntimeWarning: Mean of empty slice.\n",
      "  avg = a.mean(axis)\n",
      "C:\\Users\\wirze\\anaconda3\\lib\\site-packages\\numpy\\core\\_methods.py:189: RuntimeWarning: invalid value encountered in double_scalars\n",
      "  ret = ret.dtype.type(ret / rcount)\n"
     ]
    },
    {
     "name": "stdout",
     "output_type": "stream",
     "text": [
      "mean error for base-level model:\n",
      "0.7823897148468355\n",
      "mean error for base-level model:\n",
      "0.9258365269169926\n",
      "Wall time: 10 s\n"
     ]
    }
   ],
   "source": [
    "%%time\n",
    "errors_weighted_MAE_t_2, errors_weighted_RMSE_t_2 = evaluate_model(critics_train_t, critics_test_t, rec_func = getRecommendations_weighted_item)\n",
    "\n",
    "errors_clear_MAE = {k: errors_weighted_MAE_t_2[k] for k in errors_weighted_MAE_t_2 if not isnan(errors_weighted_MAE_t_2[k])}\n",
    "errors_clear_RMSE = {k: errors_weighted_RMSE_t_2[k] for k in errors_weighted_RMSE_t_2 if not isnan(errors_weighted_RMSE_t_2[k])}\n",
    "\n",
    "print(\"mean error for base-level model:\")\n",
    "print(np.mean(list(errors_clear_MAE.values())))\n",
    "print(\"mean error for base-level model:\")\n",
    "print(np.mean(list(errors_clear_RMSE.values())))"
   ],
   "metadata": {
    "collapsed": false,
    "pycharm": {
     "name": "#%%\n"
    }
   }
  },
  {
   "cell_type": "code",
   "execution_count": 49,
   "outputs": [
    {
     "data": {
      "text/plain": "          value metric     Model\n0      0.760935    MAE      base\n1      0.754401    MAE      base\n2      0.704783    MAE      base\n3      0.730010    MAE      base\n4      0.746405    MAE      base\n...         ...    ...       ...\n10727       NaN   RMSE  weighted\n10728       NaN   RMSE  weighted\n10729       NaN   RMSE  weighted\n10730       NaN   RMSE  weighted\n10731       NaN   RMSE  weighted\n\n[10732 rows x 3 columns]",
      "text/html": "<div>\n<style scoped>\n    .dataframe tbody tr th:only-of-type {\n        vertical-align: middle;\n    }\n\n    .dataframe tbody tr th {\n        vertical-align: top;\n    }\n\n    .dataframe thead th {\n        text-align: right;\n    }\n</style>\n<table border=\"1\" class=\"dataframe\">\n  <thead>\n    <tr style=\"text-align: right;\">\n      <th></th>\n      <th>value</th>\n      <th>metric</th>\n      <th>Model</th>\n    </tr>\n  </thead>\n  <tbody>\n    <tr>\n      <th>0</th>\n      <td>0.760935</td>\n      <td>MAE</td>\n      <td>base</td>\n    </tr>\n    <tr>\n      <th>1</th>\n      <td>0.754401</td>\n      <td>MAE</td>\n      <td>base</td>\n    </tr>\n    <tr>\n      <th>2</th>\n      <td>0.704783</td>\n      <td>MAE</td>\n      <td>base</td>\n    </tr>\n    <tr>\n      <th>3</th>\n      <td>0.730010</td>\n      <td>MAE</td>\n      <td>base</td>\n    </tr>\n    <tr>\n      <th>4</th>\n      <td>0.746405</td>\n      <td>MAE</td>\n      <td>base</td>\n    </tr>\n    <tr>\n      <th>...</th>\n      <td>...</td>\n      <td>...</td>\n      <td>...</td>\n    </tr>\n    <tr>\n      <th>10727</th>\n      <td>NaN</td>\n      <td>RMSE</td>\n      <td>weighted</td>\n    </tr>\n    <tr>\n      <th>10728</th>\n      <td>NaN</td>\n      <td>RMSE</td>\n      <td>weighted</td>\n    </tr>\n    <tr>\n      <th>10729</th>\n      <td>NaN</td>\n      <td>RMSE</td>\n      <td>weighted</td>\n    </tr>\n    <tr>\n      <th>10730</th>\n      <td>NaN</td>\n      <td>RMSE</td>\n      <td>weighted</td>\n    </tr>\n    <tr>\n      <th>10731</th>\n      <td>NaN</td>\n      <td>RMSE</td>\n      <td>weighted</td>\n    </tr>\n  </tbody>\n</table>\n<p>10732 rows × 3 columns</p>\n</div>"
     },
     "execution_count": 49,
     "metadata": {},
     "output_type": "execute_result"
    }
   ],
   "source": [
    "df_errors_2_t = pd.DataFrame(\n",
    "    {'value': [*list(errors_base_MAE_t_2.values()),\n",
    "               *list(errors_base_RMSE_t_2.values()),\n",
    "               *list(errors_weighted_MAE_t_2.values()),\n",
    "               *list(errors_weighted_RMSE_t_2.values())],\n",
    "     'metric': [*np.repeat(\"MAE\", len(errors_base_MAE_t_2.values()), axis=0),\n",
    "                *np.repeat(\"RMSE\", len(errors_base_RMSE_t_2.values()), axis=0),\n",
    "                *np.repeat(\"MAE\", len(errors_weighted_MAE_t_2.values()), axis=0),\n",
    "                *np.repeat(\"RMSE\", len(errors_weighted_RMSE_t_2.values()), axis=0)],\n",
    "     'Model': [*np.repeat(\"base\", len(errors_base_MAE_t_2.values()), axis=0),\n",
    "               *np.repeat(\"base\", len(errors_base_RMSE_t_2.values()), axis=0),\n",
    "               *np.repeat(\"weighted\", len(errors_weighted_MAE_t_2.values()), axis=0),\n",
    "               *np.repeat(\"weighted\", len(errors_weighted_RMSE_t_2.values()), axis=0)]}\n",
    ")\n",
    "df_errors_2_t"
   ],
   "metadata": {
    "collapsed": false,
    "pycharm": {
     "name": "#%%\n"
    }
   }
  },
  {
   "cell_type": "code",
   "execution_count": 50,
   "outputs": [
    {
     "data": {
      "text/plain": "<Figure size 432x288 with 1 Axes>",
      "image/png": "[encoded data removed]"
     },
     "metadata": {},
     "output_type": "display_data"
    }
   ],
   "source": [
    "sns.set_theme(style=\"whitegrid\")\n",
    "ax = sns.boxplot(x=\"metric\", y=\"value\", hue=\"Model\",\n",
    "                 data=df_errors_2_t, palette=\"Set3\")\n",
    "ax.set_title(\"Item-based knn\")\n",
    "plt.show()"
   ],
   "metadata": {
    "collapsed": false,
    "pycharm": {
     "name": "#%%\n"
    }
   }
  },
  {
   "cell_type": "code",
   "execution_count": 51,
   "outputs": [
    {
     "data": {
      "text/plain": "       value metric     Model model_item\n0        2.0    MAE      base       asis\n1        3.0    MAE      base       asis\n2        NaN    MAE      base       asis\n3        2.0    MAE      base       asis\n4        1.0    MAE      base       asis\n...      ...    ...       ...        ...\n10727    NaN   RMSE  weighted        knn\n10728    NaN   RMSE  weighted        knn\n10729    NaN   RMSE  weighted        knn\n10730    NaN   RMSE  weighted        knn\n10731    NaN   RMSE  weighted        knn\n\n[21464 rows x 4 columns]",
      "text/html": "<div>\n<style scoped>\n    .dataframe tbody tr th:only-of-type {\n        vertical-align: middle;\n    }\n\n    .dataframe tbody tr th {\n        vertical-align: top;\n    }\n\n    .dataframe thead th {\n        text-align: right;\n    }\n</style>\n<table border=\"1\" class=\"dataframe\">\n  <thead>\n    <tr style=\"text-align: right;\">\n      <th></th>\n      <th>value</th>\n      <th>metric</th>\n      <th>Model</th>\n      <th>model_item</th>\n    </tr>\n  </thead>\n  <tbody>\n    <tr>\n      <th>0</th>\n      <td>2.0</td>\n      <td>MAE</td>\n      <td>base</td>\n      <td>asis</td>\n    </tr>\n    <tr>\n      <th>1</th>\n      <td>3.0</td>\n      <td>MAE</td>\n      <td>base</td>\n      <td>asis</td>\n    </tr>\n    <tr>\n      <th>2</th>\n      <td>NaN</td>\n      <td>MAE</td>\n      <td>base</td>\n      <td>asis</td>\n    </tr>\n    <tr>\n      <th>3</th>\n      <td>2.0</td>\n      <td>MAE</td>\n      <td>base</td>\n      <td>asis</td>\n    </tr>\n    <tr>\n      <th>4</th>\n      <td>1.0</td>\n      <td>MAE</td>\n      <td>base</td>\n      <td>asis</td>\n    </tr>\n    <tr>\n      <th>...</th>\n      <td>...</td>\n      <td>...</td>\n      <td>...</td>\n      <td>...</td>\n    </tr>\n    <tr>\n      <th>10727</th>\n      <td>NaN</td>\n      <td>RMSE</td>\n      <td>weighted</td>\n      <td>knn</td>\n    </tr>\n    <tr>\n      <th>10728</th>\n      <td>NaN</td>\n      <td>RMSE</td>\n      <td>weighted</td>\n      <td>knn</td>\n    </tr>\n    <tr>\n      <th>10729</th>\n      <td>NaN</td>\n      <td>RMSE</td>\n      <td>weighted</td>\n      <td>knn</td>\n    </tr>\n    <tr>\n      <th>10730</th>\n      <td>NaN</td>\n      <td>RMSE</td>\n      <td>weighted</td>\n      <td>knn</td>\n    </tr>\n    <tr>\n      <th>10731</th>\n      <td>NaN</td>\n      <td>RMSE</td>\n      <td>weighted</td>\n      <td>knn</td>\n    </tr>\n  </tbody>\n</table>\n<p>21464 rows × 4 columns</p>\n</div>"
     },
     "execution_count": 51,
     "metadata": {},
     "output_type": "execute_result"
    }
   ],
   "source": [
    "df_errors_1_t['model_item'] = \"asis\"\n",
    "df_errors_2_t['model_item'] = \"knn\"\n",
    "df_errors_all_t = pd.concat([df_errors_1_t, df_errors_2_t])\n",
    "df_errors_all_t"
   ],
   "metadata": {
    "collapsed": false,
    "pycharm": {
     "name": "#%%\n"
    }
   }
  },
  {
   "cell_type": "code",
   "execution_count": 52,
   "outputs": [
    {
     "data": {
      "text/plain": "<Figure size 1235.85x576 with 2 Axes>",
      "image/png": "[encoded data removed]"
     },
     "metadata": {},
     "output_type": "display_data"
    }
   ],
   "source": [
    "g = sns.catplot(x=\"metric\", y=\"value\", hue=\"Model\",\n",
    "                col=\"model_item\",\n",
    "                data=df_errors_all_t, kind=\"box\",\n",
    "                height=8, aspect=1)"
   ],
   "metadata": {
    "collapsed": false,
    "pycharm": {
     "name": "#%%\n"
    }
   }
  },
  {
   "cell_type": "markdown",
   "source": [
    "ошибка в среднем ухудшилась на 0.3, но базовая модель перестала так яасто выдавать наны, теперь оценка честнее\n",
    "\n",
    "однако если учитывать, что модель as is считалась минут 20, то схожеть на knn со всего 100 соседями даёт колосальную вычеслительное преимущество\n",
    "\n",
    "наверное\n",
    "\n",
    "хочу попробовать большой датасет"
   ],
   "metadata": {
    "collapsed": false,
    "pycharm": {
     "name": "#%% md\n"
    }
   }
  },
  {
   "cell_type": "code",
   "execution_count": 60,
   "outputs": [
    {
     "data": {
      "text/plain": "<Figure size 432x288 with 1 Axes>",
      "image/png": "[encoded data removed]"
     },
     "metadata": {},
     "output_type": "display_data"
    },
    {
     "name": "stdout",
     "output_type": "stream",
     "text": [
      "Wall time: 26.9 s\n"
     ]
    }
   ],
   "source": [
    "%%time\n",
    "ndcgs = {}\n",
    "for k in [10, 15, 20, 50, 100]:\n",
    "    ndcg_base_t = evaluate_model_2(critics_train_t, critics_test_t,\n",
    "                                 rec_func = getRecommendations_item,\n",
    "                                 k = k)\n",
    "    ndcgs[k]  = np.mean(list(ndcg_base_t.values()))\n",
    "\n",
    "plt.figure()\n",
    "plt.plot(list(ndcgs.keys()), list(ndcgs.values()))\n",
    "plt.xlabel(\"K\")\n",
    "plt.ylabel(\"ndcg\")\n",
    "plt.title(\"NDCG, base model, item-based, KNN\")\n",
    "plt.show()"
   ],
   "metadata": {
    "collapsed": false,
    "pycharm": {
     "name": "#%%\n"
    }
   }
  },
  {
   "cell_type": "code",
   "execution_count": 461,
   "outputs": [
    {
     "data": {
      "text/plain": "<Figure size 432x288 with 1 Axes>",
      "image/png": "[encoded data removed]"
     },
     "metadata": {},
     "output_type": "display_data"
    },
    {
     "name": "stdout",
     "output_type": "stream",
     "text": [
      "Wall time: 47.7 s\n"
     ]
    }
   ],
   "source": [
    "%%time\n",
    "ndcgs = {}\n",
    "for k in [10, 15, 20, 50, 100]:\n",
    "    ndcg_weight_t = evaluate_model_2(critics_train_t, critics_test_t,\n",
    "                                   rec_func = getRecommendations_weighted_item,\n",
    "                                   k = k)\n",
    "    ndcgs[k]  = np.mean(list(ndcg_weight_t.values()))\n",
    "\n",
    "plt.figure()\n",
    "plt.plot(list(ndcgs.keys()), list(ndcgs.values()))\n",
    "plt.xlabel(\"K\")\n",
    "plt.ylabel(\"ndcg\")\n",
    "plt.title(\"NDCG, weighted model, item-based, KNN\")\n",
    "plt.show()"
   ],
   "metadata": {
    "collapsed": false,
    "pycharm": {
     "name": "#%%\n"
    }
   }
  },
  {
   "cell_type": "markdown",
   "source": [
    "# LARGER DATASET"
   ],
   "metadata": {
    "collapsed": false,
    "pycharm": {
     "name": "#%% md\n"
    }
   }
  },
  {
   "cell_type": "code",
   "execution_count": null,
   "outputs": [],
   "source": [
    "#Чтение данных\n",
    "def loadMovieLens10M(path='./ml-1m'):\n",
    "    # Получить названия фильмов\n",
    "    movies={}\n",
    "    for line in open(path+'/movies.dat', encoding=\"utf-8\"):\n",
    "        (id,title)=line.split('::')[0:2] #при желании тут можно добавить чтение жанров.\n",
    "        movies[id]=title\n",
    "    # Загрузить данные\n",
    "    prefs={}\n",
    "    for line in open(path+'/ratings.dat', encoding=\"utf-8\"):\n",
    "        (user,movieid,rating,ts)=line.split('::')\n",
    "        prefs.setdefault(user,{})\n",
    "        prefs[user][movies[movieid]]=float(rating)\n",
    "    return prefs"
   ],
   "metadata": {
    "collapsed": false,
    "pycharm": {
     "name": "#%%\n"
    }
   }
  },
  {
   "cell_type": "code",
   "execution_count": 18,
   "outputs": [],
   "source": [
    "critics_10 = loadMovieLens10M(path='./ml-10M100K')"
   ],
   "metadata": {
    "collapsed": false,
    "pycharm": {
     "name": "#%%\n"
    }
   }
  },
  {
   "cell_type": "code",
   "execution_count": 19,
   "outputs": [
    {
     "name": "stdout",
     "output_type": "stream",
     "text": [
      "69878\n",
      "13978\n"
     ]
    }
   ],
   "source": [
    "all_users_10 = [u for u in critics_10]\n",
    "print(len(all_users_10))\n",
    "users_test_list_10 = [u for u in critics_10 if int(u) % 5 == 0]\n",
    "print(len(users_test_list_10))"
   ],
   "metadata": {
    "collapsed": false,
    "pycharm": {
     "name": "#%%\n"
    }
   }
  },
  {
   "cell_type": "code",
   "execution_count": 20,
   "outputs": [],
   "source": [
    "critics_test_10 = {}\n",
    "for u in users_test_list_10:\n",
    "    critics_test_10[u] = {}\n",
    "    m_id = 0\n",
    "    for m in critics_10[u]:\n",
    "        m_id += 1\n",
    "        if m_id % 10 == 0:\n",
    "            critics_test_10[u][m] = critics_10[u][m]\n",
    "        # else:\n",
    "        #     critics_train[u][m] = critics[u][m]"
   ],
   "metadata": {
    "collapsed": false,
    "pycharm": {
     "name": "#%%\n"
    }
   }
  },
  {
   "cell_type": "code",
   "execution_count": 21,
   "outputs": [],
   "source": [
    "critics_train_10 = {}\n",
    "for u in all_users_10:\n",
    "    if u not in users_test_list_10:\n",
    "        critics_train_10[u] = {}\n",
    "        for m in critics_10[u]:\n",
    "            critics_train_10[u][m] = critics_10[u][m]\n",
    "    else:\n",
    "        critics_train_10[u] = {}\n",
    "        m_id = 0\n",
    "        for m in critics_10[u]:\n",
    "            m_id += 1\n",
    "            if m_id % 10 == 0:\n",
    "                critics_train_10[u][m] = critics_10[u][m]"
   ],
   "metadata": {
    "collapsed": false,
    "pycharm": {
     "name": "#%%\n"
    }
   }
  },
  {
   "cell_type": "markdown",
   "source": [
    "здесь чисто питон жрёт 1 гиг оперативки\n",
    "## user-based"
   ],
   "metadata": {
    "collapsed": false,
    "pycharm": {
     "name": "#%% md\n"
    }
   }
  },
  {
   "cell_type": "code",
   "execution_count": null,
   "outputs": [
    {
     "name": "stderr",
     "output_type": "stream",
     "text": [
      "C:\\Users\\wirze\\anaconda3\\lib\\site-packages\\numpy\\lib\\function_base.py:380: RuntimeWarning: Mean of empty slice.\n",
      "  avg = a.mean(axis)\n",
      "C:\\Users\\wirze\\anaconda3\\lib\\site-packages\\numpy\\core\\_methods.py:189: RuntimeWarning: invalid value encountered in double_scalars\n",
      "  ret = ret.dtype.type(ret / rcount)\n"
     ]
    }
   ],
   "source": [
    "%%time\n",
    "errors_base_MAE_10,errors_base_RMSE_10 =  evaluate_model(critics_train_10, critics_test_10,\n",
    "                                                   rec_func = getRecommendations)\n",
    "\n",
    "errors_clear_MAE = {k: errors_base_MAE_10[k] for k in errors_base_MAE_10 if not isnan(errors_base_MAE_10[k])}\n",
    "errors_clear_RMSE = {k: errors_base_RMSE_10[k] for k in errors_base_RMSE_10 if not isnan(errors_base_RMSE_10[k])}\n",
    "\n",
    "print(\"mean error for base-level model:\")\n",
    "print(np.mean(list(errors_clear_MAE.values())))\n",
    "print(\"mean error for base-level model:\")\n",
    "print(np.mean(list(errors_clear_RMSE.values())))"
   ],
   "metadata": {
    "collapsed": false,
    "pycharm": {
     "name": "#%%\n",
     "is_executing": true
    }
   }
  },
  {
   "cell_type": "code",
   "execution_count": null,
   "outputs": [],
   "source": [
    "%%time\n",
    "errors_weighted_MAE_10,errors_weighted_RMSE_10 = evaluate_model(critics_train_10, critics_test_10,\n",
    "                                                          rec_func = getRecommendations_weighted)\n",
    "\n",
    "errors_clear_MAE = {k: errors_weighted_MAE_10[k] for k in errors_weighted_MAE_10\n",
    "                    if not isnan(errors_weighted_MAE_10[k])}\n",
    "errors_clear_RMSE = {k: errors_weighted_RMSE_10[k] for k in errors_weighted_RMSE_10\n",
    "                     if not isnan(errors_weighted_RMSE_10[k])}\n",
    "\n",
    "print(\"mean error for z-score model:\")\n",
    "print(np.mean(list(errors_clear_MAE.values())))\n",
    "print(\"RMSE for z-score model:\")\n",
    "print(np.mean(list(errors_clear_RMSE.values())))"
   ],
   "metadata": {
    "collapsed": false,
    "pycharm": {
     "name": "#%%\n",
     "is_executing": true
    }
   }
  },
  {
   "cell_type": "code",
   "execution_count": null,
   "outputs": [],
   "source": [
    "df_errors_10 = pd.DataFrame(\n",
    "    {'value': [*list(errors_base_MAE_10.values()),\n",
    "               *list(errors_base_RMSE_10.values()),\n",
    "               *list(errors_weighted_MAE_10.values()),\n",
    "               *list(errors_weighted_RMSE_10.values())],\n",
    "     'metric': [*np.repeat(\"MAE\", len(errors_base_MAE_10.values()), axis=0),\n",
    "                *np.repeat(\"RMSE\", len(errors_base_RMSE_10.values()), axis=0),\n",
    "                *np.repeat(\"MAE\", len(errors_weighted_MAE_10.values()), axis=0),\n",
    "                *np.repeat(\"RMSE\", len(errors_weighted_RMSE_10.values()), axis=0)],\n",
    "     'Model': [*np.repeat(\"base\", len(errors_base_MAE_10.values()), axis=0),\n",
    "               *np.repeat(\"base\", len(errors_base_RMSE_10.values()), axis=0),\n",
    "               *np.repeat(\"weighted\", len(errors_weighted_MAE_10.values()), axis=0),\n",
    "               *np.repeat(\"weighted\", len(errors_weighted_RMSE_10.values()), axis=0)]}\n",
    ")\n",
    "\n",
    "sns.set_theme(style=\"whitegrid\")\n",
    "ax = sns.boxplot(x=\"metric\", y=\"value\", hue=\"Model\",\n",
    "                 data=df_errors_10, palette=\"Set3\")"
   ],
   "metadata": {
    "collapsed": false,
    "pycharm": {
     "name": "#%%\n",
     "is_executing": true
    }
   }
  },
  {
   "cell_type": "markdown",
   "source": [
    "## item based"
   ],
   "metadata": {
    "collapsed": false,
    "pycharm": {
     "name": "#%% md\n"
    }
   }
  },
  {
   "cell_type": "code",
   "execution_count": 22,
   "outputs": [],
   "source": [
    "critics_train_t10 = transpose(critics_train_10)\n",
    "critics_test_t10 = transpose(critics_test_10)"
   ],
   "metadata": {
    "collapsed": false,
    "pycharm": {
     "name": "#%%\n"
    }
   }
  },
  {
   "cell_type": "markdown",
   "source": [
    "здесь ушло ещё пол гига оперативной памяти"
   ],
   "metadata": {
    "collapsed": false,
    "pycharm": {
     "name": "#%% md\n"
    }
   }
  },
  {
   "cell_type": "code",
   "execution_count": 23,
   "outputs": [
    {
     "name": "stdout",
     "output_type": "stream",
     "text": [
      "Wall time: 1min 22s\n"
     ]
    },
    {
     "data": {
      "text/plain": "NearestNeighbors(metric='cosine', n_jobs=-1)"
     },
     "execution_count": 23,
     "metadata": {},
     "output_type": "execute_result"
    }
   ],
   "source": [
    "%%time\n",
    "\n",
    "df_transp10 = pd.DataFrame.from_dict(critics_train_10).replace(np.nan, 0)\n",
    "\n",
    "knn_10 = NearestNeighbors(metric='cosine', algorithm='auto', n_jobs = -1)\n",
    "knn_10.fit(df_transp10.values)"
   ],
   "metadata": {
    "collapsed": false,
    "pycharm": {
     "name": "#%%\n"
    }
   }
  },
  {
   "cell_type": "markdown",
   "source": [
    "до 10 гигов забирало в пике"
   ],
   "metadata": {
    "collapsed": false,
    "pycharm": {
     "name": "#%% md\n"
    }
   }
  },
  {
   "cell_type": "code",
   "execution_count": 24,
   "outputs": [
    {
     "name": "stdout",
     "output_type": "stream",
     "text": [
      "Wall time: 6min 14s\n"
     ]
    }
   ],
   "source": [
    "%%time\n",
    "distances_t10, indices_t10 = knn_10.kneighbors(df_transp10.values, n_neighbors=20)"
   ],
   "metadata": {
    "collapsed": false,
    "pycharm": {
     "name": "#%%\n"
    }
   }
  },
  {
   "cell_type": "markdown",
   "source": [
    "ну здесь уже сразу 12 гигов и 80% процессора  -- хранить матрицы расстояни не эффективное"
   ],
   "metadata": {
    "collapsed": false,
    "pycharm": {
     "name": "#%% md\n"
    }
   }
  },
  {
   "cell_type": "code",
   "execution_count": 25,
   "outputs": [],
   "source": [
    "# Получить рекомендации для заданного человека, пользуясь взвешенным средним\n",
    "# оценок, данных всеми остальными пользователями\n",
    "def getRecommendations_item10(prefs, test,person,\n",
    "                            distances  = distances_t10, indices = indices_t10,\n",
    "                            mode = \"exact\"):\n",
    "    top_persons = topMatches_item(prefs,person, distances, indices)\n",
    "    film_sum = {}\n",
    "    film_multiplyer = {}\n",
    "    for p in top_persons:\n",
    "        if p[0] <= 0:\n",
    "            break\n",
    "        if mode != \"exact\":\n",
    "            for movie in prefs[p[1]]:\n",
    "                if not movie in film_sum:\n",
    "                    film_sum[movie] = 0\n",
    "                    film_multiplyer[movie] = 0\n",
    "\n",
    "                film_sum[movie] += prefs[p[1]][movie]*p[0]\n",
    "                film_multiplyer[movie] += p[0]\n",
    "        if mode == \"exact\":\n",
    "            test_list = test[person]\n",
    "            for movie in prefs[p[1]]:\n",
    "                if movie in test_list:\n",
    "                    if not movie in film_sum:\n",
    "                        film_sum[movie] = 0\n",
    "                        film_multiplyer[movie] = 0\n",
    "\n",
    "                    film_sum[movie] += prefs[p[1]][movie]*p[0]\n",
    "                    film_multiplyer[movie] += p[0]\n",
    "\n",
    "    if mode == \"only_NA\":\n",
    "        recomend = sorted([(movie, film_sum[movie]/film_multiplyer[movie]) for movie in film_sum if movie not in prefs[person]], reverse = True)\n",
    "    elif mode == \"all\":\n",
    "        recomend = sorted([(movie, film_sum[movie]/film_multiplyer[movie]) for movie in film_sum], reverse = True)\n",
    "    elif mode == \"exact\":\n",
    "        recomend = sorted([(movie, film_sum[movie]/film_multiplyer[movie]) for movie in film_sum if movie in test_list], reverse = True)\n",
    "\n",
    "    return dict(recomend)"
   ],
   "metadata": {
    "collapsed": false,
    "pycharm": {
     "name": "#%%\n"
    }
   }
  },
  {
   "cell_type": "code",
   "execution_count": 26,
   "outputs": [],
   "source": [
    "def getRecommendations_weighted_item10(prefs, test, person,\n",
    "                                     distances = distances_t10, indices = indices_t10,\n",
    "                                     mode = \"exact\"):\n",
    "    '''\n",
    "    :param prefs: train df\n",
    "    :param person: test df\n",
    "    :param distances: distance matrix\n",
    "    :param indices: index matrix\n",
    "    :param test_list: list of items to predict\n",
    "    :return: dict with movies and ratings\n",
    "    '''\n",
    "    top_persons = topMatches_item(prefs,person, distances, indices)\n",
    "    test_list = test[person]\n",
    "    film_sum = {}\n",
    "    film_multiplyer = {}\n",
    "    # user 1 average\n",
    "    person_mean = np.mean(list(prefs[person].values()))\n",
    "    for p in top_persons:\n",
    "        user_ratings_2 = {}\n",
    "        if p[0] <= 0.5:\n",
    "            break\n",
    "        for movie in prefs[p[1]]:\n",
    "            user_ratings_2[movie] = prefs[p[1]][movie]\n",
    "            if mode == \"exact\":\n",
    "                if movie in test_list:\n",
    "                    if not movie in film_sum:\n",
    "                        film_sum[movie] = 0\n",
    "                        film_multiplyer[movie] = 0\n",
    "\n",
    "                    ### типа з скор что-ли\n",
    "                    film_sum[movie] += p[0] * (prefs[p[1]][movie] - np.array(list(user_ratings_2.values())).mean()) / (np.array(list(user_ratings_2.values())).std() + 0.000000000001)\n",
    "                    film_multiplyer[movie] += p[0]\n",
    "            if mode == \"only_NA\":\n",
    "                if not movie in film_sum:\n",
    "                    film_sum[movie] = 0\n",
    "                    film_multiplyer[movie] = 0\n",
    "                    ### типа з скор что-ли\n",
    "                film_sum[movie] += p[0] * (prefs[p[1]][movie] - np.array(list(user_ratings_2.values())).mean()) / (np.array(list(user_ratings_2.values())).std() + 0.000000000001)\n",
    "                film_multiplyer[movie] += p[0]\n",
    "    ## добавляем среднюю оценку изначального пользователя\n",
    "    if mode == \"exact\":\n",
    "        recomend = sorted([(movie, person_mean + film_sum[movie]/film_multiplyer[movie]) for movie in film_sum], reverse = True)\n",
    "    if mode == \"only_NA\":\n",
    "        recomend = sorted([(movie, person_mean + film_sum[movie]/film_multiplyer[movie]) for movie in film_sum if movie not in prefs[person]], reverse = True)\n",
    "    return dict(recomend)"
   ],
   "metadata": {
    "collapsed": false,
    "pycharm": {
     "name": "#%%\n"
    }
   }
  },
  {
   "cell_type": "code",
   "execution_count": 27,
   "outputs": [
    {
     "name": "stderr",
     "output_type": "stream",
     "text": [
      "C:\\Users\\wirze\\anaconda3\\lib\\site-packages\\numpy\\lib\\function_base.py:380: RuntimeWarning: Mean of empty slice.\n",
      "  avg = a.mean(axis)\n",
      "C:\\Users\\wirze\\anaconda3\\lib\\site-packages\\numpy\\core\\_methods.py:189: RuntimeWarning: invalid value encountered in double_scalars\n",
      "  ret = ret.dtype.type(ret / rcount)\n"
     ]
    },
    {
     "name": "stdout",
     "output_type": "stream",
     "text": [
      "mean error for base-level model:\n",
      "0.7464749712093377\n",
      "mean error for base-level model:\n",
      "0.9082539750496396\n",
      "Wall time: 41.6 s\n"
     ]
    }
   ],
   "source": [
    "%%time\n",
    "errors_base_MAE_t10, errors_base_RMSE_t10 = evaluate_model(critics_train_t10, critics_test_t10,\n",
    "                                                           rec_func=getRecommendations_item10)\n",
    "\n",
    "errors_clear_MAE = {k: errors_base_MAE_t10[k] for k in errors_base_MAE_t10 if not isnan(errors_base_MAE_t10[k])}\n",
    "errors_clear_RMSE = {k: errors_base_RMSE_t10[k] for k in errors_base_RMSE_t10 if not isnan(errors_base_RMSE_t10[k])}\n",
    "\n",
    "print(\"mean error for base-level model:\")\n",
    "print(np.mean(list(errors_clear_MAE.values())))\n",
    "print(\"mean error for base-level model:\")\n",
    "print(np.mean(list(errors_clear_RMSE.values())))"
   ],
   "metadata": {
    "collapsed": false,
    "pycharm": {
     "name": "#%%\n"
    }
   }
  },
  {
   "cell_type": "code",
   "execution_count": 28,
   "outputs": [
    {
     "name": "stdout",
     "output_type": "stream",
     "text": [
      "mean error for base-level model:\n",
      "0.7412856576337493\n",
      "mean error for base-level model:\n",
      "0.9215029275637271\n",
      "Wall time: 1min 16s\n"
     ]
    }
   ],
   "source": [
    "%%time\n",
    "errors_weighted_MAE_t10, errors_weighted_RMSE_t10 = evaluate_model(critics_train_t10, critics_test_t10,\n",
    "                                                                   rec_func=getRecommendations_weighted_item10)\n",
    "\n",
    "errors_clear_MAE = {k: errors_weighted_MAE_t10[k] for k in errors_weighted_MAE_t10 if\n",
    "                    not isnan(errors_weighted_MAE_t10[k])}\n",
    "errors_clear_RMSE = {k: errors_weighted_RMSE_t10[k] for k in errors_weighted_RMSE_t10 if\n",
    "                     not isnan(errors_weighted_RMSE_t10[k])}\n",
    "\n",
    "print(\"mean error for base-level model:\")\n",
    "print(np.mean(list(errors_clear_MAE.values())))\n",
    "print(\"mean error for base-level model:\")\n",
    "print(np.mean(list(errors_clear_RMSE.values())))"
   ],
   "metadata": {
    "collapsed": false,
    "pycharm": {
     "name": "#%%\n"
    }
   }
  },
  {
   "cell_type": "code",
   "execution_count": 29,
   "outputs": [
    {
     "data": {
      "text/plain": "<Figure size 432x288 with 1 Axes>",
      "image/png": "[encoded data removed]"
     },
     "metadata": {
      "needs_background": "light"
     },
     "output_type": "display_data"
    }
   ],
   "source": [
    "df_errors_2_t10 = pd.DataFrame(\n",
    "    {'value': [*list(errors_base_MAE_t10.values()),\n",
    "               *list(errors_base_RMSE_t10.values()),\n",
    "               *list(errors_weighted_MAE_t10.values()),\n",
    "               *list(errors_weighted_RMSE_t10.values())],\n",
    "     'metric': [*np.repeat(\"MAE\", len(errors_base_MAE_t10.values()), axis=0),\n",
    "                *np.repeat(\"RMSE\", len(errors_base_RMSE_t10.values()), axis=0),\n",
    "                *np.repeat(\"MAE\", len(errors_weighted_MAE_t10.values()), axis=0),\n",
    "                *np.repeat(\"RMSE\", len(errors_weighted_RMSE_t10.values()), axis=0)],\n",
    "     'Model': [*np.repeat(\"base\", len(errors_base_MAE_t10.values()), axis=0),\n",
    "               *np.repeat(\"base\", len(errors_base_RMSE_t10.values()), axis=0),\n",
    "               *np.repeat(\"weighted\", len(errors_weighted_MAE_t10.values()), axis=0),\n",
    "               *np.repeat(\"weighted\", len(errors_weighted_RMSE_t10.values()), axis=0)]}\n",
    ")\n",
    "\n",
    "ax = sns.boxplot(x=\"metric\", y=\"value\", hue=\"Model\",\n",
    "                 data=df_errors_2_t10, palette=\"Set3\")\n",
    "ax.set_title(\"Item-based knn LARGE\")\n",
    "plt.show()"
   ],
   "metadata": {
    "collapsed": false,
    "pycharm": {
     "name": "#%%\n"
    }
   }
  },
  {
   "cell_type": "markdown",
   "source": [
    "так, тут я умываю руки, оно запустилось, вышло за оперативку и кое как ошибается меньше чем на балл, но зато считается быстро, а обучается долго\n",
    "взвешенная модель настолько же плохая, но у неё меньше дисперсия\n",
    "\n",
    "# $\\beta$"
   ],
   "metadata": {
    "collapsed": false,
    "pycharm": {
     "name": "#%% md\n"
    }
   }
  },
  {
   "cell_type": "markdown",
   "source": [
    "Попробуйте улучшить результаты подбором $\\beta$ для минимизации MAE (RMSE) в гибридных рекомендациях: $$\\beta\\cdot r{user-based}_{ui} + (1-\\beta)\\cdot r{item-based}_{ui}, \\mbox{ где } 0 \\leq \\beta \\leq 1.$$"
   ],
   "metadata": {
    "collapsed": false,
    "pycharm": {
     "name": "#%% md\n"
    }
   }
  },
  {
   "cell_type": "code",
   "execution_count": 62,
   "outputs": [
    {
     "data": {
      "text/plain": "         value metric     Model\n0     0.638064    MAE      base\n1     0.710178    MAE      base\n2     0.447585    MAE      base\n3          NaN    MAE      base\n4     0.408339    MAE      base\n...        ...    ...       ...\n4827  0.528545   RMSE  weighted\n4828  0.983850   RMSE  weighted\n4829  0.752316   RMSE  weighted\n4830  1.270042   RMSE  weighted\n4831  1.002084   RMSE  weighted\n\n[4832 rows x 3 columns]",
      "text/html": "<div>\n<style scoped>\n    .dataframe tbody tr th:only-of-type {\n        vertical-align: middle;\n    }\n\n    .dataframe tbody tr th {\n        vertical-align: top;\n    }\n\n    .dataframe thead th {\n        text-align: right;\n    }\n</style>\n<table border=\"1\" class=\"dataframe\">\n  <thead>\n    <tr style=\"text-align: right;\">\n      <th></th>\n      <th>value</th>\n      <th>metric</th>\n      <th>Model</th>\n    </tr>\n  </thead>\n  <tbody>\n    <tr>\n      <th>0</th>\n      <td>0.638064</td>\n      <td>MAE</td>\n      <td>base</td>\n    </tr>\n    <tr>\n      <th>1</th>\n      <td>0.710178</td>\n      <td>MAE</td>\n      <td>base</td>\n    </tr>\n    <tr>\n      <th>2</th>\n      <td>0.447585</td>\n      <td>MAE</td>\n      <td>base</td>\n    </tr>\n    <tr>\n      <th>3</th>\n      <td>NaN</td>\n      <td>MAE</td>\n      <td>base</td>\n    </tr>\n    <tr>\n      <th>4</th>\n      <td>0.408339</td>\n      <td>MAE</td>\n      <td>base</td>\n    </tr>\n    <tr>\n      <th>...</th>\n      <td>...</td>\n      <td>...</td>\n      <td>...</td>\n    </tr>\n    <tr>\n      <th>4827</th>\n      <td>0.528545</td>\n      <td>RMSE</td>\n      <td>weighted</td>\n    </tr>\n    <tr>\n      <th>4828</th>\n      <td>0.983850</td>\n      <td>RMSE</td>\n      <td>weighted</td>\n    </tr>\n    <tr>\n      <th>4829</th>\n      <td>0.752316</td>\n      <td>RMSE</td>\n      <td>weighted</td>\n    </tr>\n    <tr>\n      <th>4830</th>\n      <td>1.270042</td>\n      <td>RMSE</td>\n      <td>weighted</td>\n    </tr>\n    <tr>\n      <th>4831</th>\n      <td>1.002084</td>\n      <td>RMSE</td>\n      <td>weighted</td>\n    </tr>\n  </tbody>\n</table>\n<p>4832 rows × 3 columns</p>\n</div>"
     },
     "execution_count": 62,
     "metadata": {},
     "output_type": "execute_result"
    }
   ],
   "source": [
    "df_errors_1"
   ],
   "metadata": {
    "collapsed": false,
    "pycharm": {
     "name": "#%%\n"
    }
   }
  },
  {
   "cell_type": "code",
   "execution_count": 61,
   "outputs": [
    {
     "data": {
      "text/plain": "          value metric     Model model_item\n0      2.000000    MAE      base       asis\n1      3.000000    MAE      base       asis\n2           NaN    MAE      base       asis\n3      2.000000    MAE      base       asis\n4      1.000000    MAE      base       asis\n...         ...    ...       ...        ...\n10727       NaN   RMSE  weighted       asis\n10728       NaN   RMSE  weighted       asis\n10729       NaN   RMSE  weighted       asis\n10730       NaN   RMSE  weighted       asis\n10731  0.544157   RMSE  weighted       asis\n\n[10732 rows x 4 columns]",
      "text/html": "<div>\n<style scoped>\n    .dataframe tbody tr th:only-of-type {\n        vertical-align: middle;\n    }\n\n    .dataframe tbody tr th {\n        vertical-align: top;\n    }\n\n    .dataframe thead th {\n        text-align: right;\n    }\n</style>\n<table border=\"1\" class=\"dataframe\">\n  <thead>\n    <tr style=\"text-align: right;\">\n      <th></th>\n      <th>value</th>\n      <th>metric</th>\n      <th>Model</th>\n      <th>model_item</th>\n    </tr>\n  </thead>\n  <tbody>\n    <tr>\n      <th>0</th>\n      <td>2.000000</td>\n      <td>MAE</td>\n      <td>base</td>\n      <td>asis</td>\n    </tr>\n    <tr>\n      <th>1</th>\n      <td>3.000000</td>\n      <td>MAE</td>\n      <td>base</td>\n      <td>asis</td>\n    </tr>\n    <tr>\n      <th>2</th>\n      <td>NaN</td>\n      <td>MAE</td>\n      <td>base</td>\n      <td>asis</td>\n    </tr>\n    <tr>\n      <th>3</th>\n      <td>2.000000</td>\n      <td>MAE</td>\n      <td>base</td>\n      <td>asis</td>\n    </tr>\n    <tr>\n      <th>4</th>\n      <td>1.000000</td>\n      <td>MAE</td>\n      <td>base</td>\n      <td>asis</td>\n    </tr>\n    <tr>\n      <th>...</th>\n      <td>...</td>\n      <td>...</td>\n      <td>...</td>\n      <td>...</td>\n    </tr>\n    <tr>\n      <th>10727</th>\n      <td>NaN</td>\n      <td>RMSE</td>\n      <td>weighted</td>\n      <td>asis</td>\n    </tr>\n    <tr>\n      <th>10728</th>\n      <td>NaN</td>\n      <td>RMSE</td>\n      <td>weighted</td>\n      <td>asis</td>\n    </tr>\n    <tr>\n      <th>10729</th>\n      <td>NaN</td>\n      <td>RMSE</td>\n      <td>weighted</td>\n      <td>asis</td>\n    </tr>\n    <tr>\n      <th>10730</th>\n      <td>NaN</td>\n      <td>RMSE</td>\n      <td>weighted</td>\n      <td>asis</td>\n    </tr>\n    <tr>\n      <th>10731</th>\n      <td>0.544157</td>\n      <td>RMSE</td>\n      <td>weighted</td>\n      <td>asis</td>\n    </tr>\n  </tbody>\n</table>\n<p>10732 rows × 4 columns</p>\n</div>"
     },
     "execution_count": 61,
     "metadata": {},
     "output_type": "execute_result"
    }
   ],
   "source": [
    "df_errors_1_t"
   ],
   "metadata": {
    "collapsed": false,
    "pycharm": {
     "name": "#%%\n"
    }
   }
  },
  {
   "cell_type": "code",
   "execution_count": 65,
   "outputs": [],
   "source": [
    "def get_recommend(train, test, rec_func):\n",
    "    recommendations_w_t = {}\n",
    "    for m in test:\n",
    "        recommendations_w_t[m] = rec_func(train, test,\n",
    "                 m)\n",
    "    return recommendations_w_t"
   ],
   "metadata": {
    "collapsed": false,
    "pycharm": {
     "name": "#%%\n"
    }
   }
  },
  {
   "cell_type": "code",
   "execution_count": 66,
   "outputs": [
    {
     "name": "stdout",
     "output_type": "stream",
     "text": [
      "Wall time: 9.78 s\n"
     ]
    }
   ],
   "source": [
    "%%time\n",
    "recs_w_t = get_recommend(critics_train_t, critics_test_t, getRecommendations_weighted_item)"
   ],
   "metadata": {
    "collapsed": false,
    "pycharm": {
     "name": "#%%\n"
    }
   }
  },
  {
   "cell_type": "code",
   "execution_count": 67,
   "outputs": [
    {
     "name": "stdout",
     "output_type": "stream",
     "text": [
      "Wall time: 48.7 s\n"
     ]
    }
   ],
   "source": [
    "%%time\n",
    "recs_w = get_recommend(critics_train, critics_test, getRecommendations_weighted)"
   ],
   "metadata": {
    "collapsed": false,
    "pycharm": {
     "name": "#%%\n"
    }
   }
  },
  {
   "cell_type": "code",
   "execution_count": 1,
   "outputs": [
    {
     "ename": "NameError",
     "evalue": "name 'transpose' is not defined",
     "output_type": "error",
     "traceback": [
      "\u001B[1;31m---------------------------------------------------------------------------\u001B[0m",
      "\u001B[1;31mNameError\u001B[0m                                 Traceback (most recent call last)",
      "\u001B[1;32m~\\AppData\\Local\\Temp/ipykernel_11892/3387853480.py\u001B[0m in \u001B[0;36m<module>\u001B[1;34m\u001B[0m\n\u001B[1;32m----> 1\u001B[1;33m \u001B[0mrecs_w_t\u001B[0m \u001B[1;33m=\u001B[0m \u001B[0mtranspose\u001B[0m\u001B[1;33m(\u001B[0m\u001B[0mrecs_w_t\u001B[0m\u001B[1;33m)\u001B[0m\u001B[1;33m\u001B[0m\u001B[1;33m\u001B[0m\u001B[0m\n\u001B[0m",
      "\u001B[1;31mNameError\u001B[0m: name 'transpose' is not defined"
     ]
    }
   ],
   "source": [
    "recs_w_t = transpose(recs_w_t)"
   ],
   "metadata": {
    "collapsed": false,
    "pycharm": {
     "name": "#%%\n"
    }
   }
  },
  {
   "cell_type": "code",
   "execution_count": 72,
   "outputs": [
    {
     "data": {
      "text/plain": "663"
     },
     "execution_count": 72,
     "metadata": {},
     "output_type": "execute_result"
    }
   ],
   "source": [
    "len(recs_w_t)"
   ],
   "metadata": {
    "collapsed": false,
    "pycharm": {
     "name": "#%%\n"
    }
   }
  },
  {
   "cell_type": "code",
   "execution_count": 80,
   "outputs": [
    {
     "data": {
      "text/plain": "663"
     },
     "execution_count": 80,
     "metadata": {},
     "output_type": "execute_result"
    }
   ],
   "source": [
    "users_left  = [user for user in recs_w if user in recs_w_t]\n",
    "len(users_left)"
   ],
   "metadata": {
    "collapsed": false,
    "pycharm": {
     "name": "#%%\n"
    }
   }
  },
  {
   "cell_type": "code",
   "execution_count": 86,
   "outputs": [],
   "source": [
    "recs_w_clean = {}\n",
    "for user in recs_w:\n",
    "    if user in users_left:\n",
    "        recs_w_clean[user] = recs_w[user]"
   ],
   "metadata": {
    "collapsed": false,
    "pycharm": {
     "name": "#%%\n"
    }
   }
  },
  {
   "cell_type": "code",
   "execution_count": 87,
   "outputs": [],
   "source": [
    "recs_w_t_clean = {}\n",
    "for user in recs_w_t:\n",
    "    if user in users_left:\n",
    "        recs_w_t_clean[user] = recs_w_t[user]"
   ],
   "metadata": {
    "collapsed": false,
    "pycharm": {
     "name": "#%%\n"
    }
   }
  },
  {
   "cell_type": "code",
   "execution_count": 2,
   "outputs": [
    {
     "ename": "NameError",
     "evalue": "name 'recs_w_t_clean' is not defined",
     "output_type": "error",
     "traceback": [
      "\u001B[1;31m---------------------------------------------------------------------------\u001B[0m",
      "\u001B[1;31mNameError\u001B[0m                                 Traceback (most recent call last)",
      "\u001B[1;32m~\\AppData\\Local\\Temp/ipykernel_11892/3250344455.py\u001B[0m in \u001B[0;36m<module>\u001B[1;34m\u001B[0m\n\u001B[1;32m----> 1\u001B[1;33m \u001B[0mrecs_w_t_clean\u001B[0m\u001B[1;33m\u001B[0m\u001B[1;33m\u001B[0m\u001B[0m\n\u001B[0m",
      "\u001B[1;31mNameError\u001B[0m: name 'recs_w_t_clean' is not defined"
     ]
    }
   ],
   "source": [
    "recs_w_t_clean"
   ],
   "metadata": {
    "collapsed": false,
    "pycharm": {
     "name": "#%%\n"
    }
   }
  },
  {
   "cell_type": "code",
   "execution_count": 104,
   "outputs": [],
   "source": [
    "critics_test_clear = {}\n",
    "for user in critics_test:\n",
    "    if user in users_left:\n",
    "        critics_test_clear[user] = critics_test[user]"
   ],
   "metadata": {
    "collapsed": false,
    "pycharm": {
     "name": "#%%\n"
    }
   }
  },
  {
   "cell_type": "code",
   "execution_count": 105,
   "outputs": [
    {
     "data": {
      "text/plain": "                                  index  10  100  1000  1010  1015  1020  \\\n0                  'Night Mother (1986) NaN  NaN   NaN   NaN   NaN   NaN   \n1             'Til There Was You (1997) NaN  NaN   NaN   NaN   NaN   NaN   \n2                    'burbs, The (1989) NaN  NaN   NaN   NaN   NaN   NaN   \n3         ...And Justice for All (1979) NaN  NaN   NaN   NaN   NaN   NaN   \n4     10 Things I Hate About You (1999) NaN  NaN   NaN   NaN   NaN   NaN   \n...                                 ...  ..  ...   ...   ...   ...   ...   \n2562  Your Friends and Neighbors (1998) NaN  NaN   NaN   NaN   NaN   NaN   \n2563        Zed & Two Noughts, A (1985) NaN  NaN   NaN   NaN   NaN   NaN   \n2564                 Zero Effect (1998) NaN  NaN   NaN   NaN   NaN   NaN   \n2565            Zeus and Roxanne (1997) NaN  NaN   NaN   NaN   NaN   NaN   \n2566                    eXistenZ (1999) NaN  NaN   NaN   NaN   NaN   NaN   \n\n      1030  1040  105  ...  935  940  945   95  955  965  970  975  985  990  \n0      NaN   NaN  NaN  ...  NaN  NaN  NaN  NaN  NaN  NaN  NaN  NaN  NaN  NaN  \n1      NaN   NaN  NaN  ...  NaN  NaN  NaN  NaN  NaN  NaN  NaN  NaN  NaN  NaN  \n2      NaN   NaN  NaN  ...  NaN  NaN  NaN  NaN  NaN  NaN  NaN  NaN  NaN  NaN  \n3      NaN   NaN  NaN  ...  NaN  NaN  NaN  NaN  NaN  NaN  4.0  NaN  NaN  NaN  \n4      NaN   NaN  NaN  ...  NaN  NaN  NaN  3.0  NaN  NaN  NaN  NaN  NaN  NaN  \n...    ...   ...  ...  ...  ...  ...  ...  ...  ...  ...  ...  ...  ...  ...  \n2562   NaN   NaN  NaN  ...  NaN  NaN  NaN  NaN  NaN  NaN  NaN  NaN  NaN  NaN  \n2563   NaN   NaN  NaN  ...  NaN  NaN  NaN  NaN  NaN  NaN  NaN  NaN  NaN  NaN  \n2564   NaN   NaN  NaN  ...  NaN  NaN  NaN  NaN  5.0  NaN  NaN  NaN  NaN  NaN  \n2565   NaN   NaN  NaN  ...  NaN  NaN  NaN  NaN  NaN  NaN  NaN  NaN  NaN  NaN  \n2566   NaN   NaN  NaN  ...  NaN  NaN  NaN  NaN  NaN  NaN  NaN  NaN  NaN  NaN  \n\n[2567 rows x 664 columns]",
      "text/html": "<div>\n<style scoped>\n    .dataframe tbody tr th:only-of-type {\n        vertical-align: middle;\n    }\n\n    .dataframe tbody tr th {\n        vertical-align: top;\n    }\n\n    .dataframe thead th {\n        text-align: right;\n    }\n</style>\n<table border=\"1\" class=\"dataframe\">\n  <thead>\n    <tr style=\"text-align: right;\">\n      <th></th>\n      <th>index</th>\n      <th>10</th>\n      <th>100</th>\n      <th>1000</th>\n      <th>1010</th>\n      <th>1015</th>\n      <th>1020</th>\n      <th>1030</th>\n      <th>1040</th>\n      <th>105</th>\n      <th>...</th>\n      <th>935</th>\n      <th>940</th>\n      <th>945</th>\n      <th>95</th>\n      <th>955</th>\n      <th>965</th>\n      <th>970</th>\n      <th>975</th>\n      <th>985</th>\n      <th>990</th>\n    </tr>\n  </thead>\n  <tbody>\n    <tr>\n      <th>0</th>\n      <td>'Night Mother (1986)</td>\n      <td>NaN</td>\n      <td>NaN</td>\n      <td>NaN</td>\n      <td>NaN</td>\n      <td>NaN</td>\n      <td>NaN</td>\n      <td>NaN</td>\n      <td>NaN</td>\n      <td>NaN</td>\n      <td>...</td>\n      <td>NaN</td>\n      <td>NaN</td>\n      <td>NaN</td>\n      <td>NaN</td>\n      <td>NaN</td>\n      <td>NaN</td>\n      <td>NaN</td>\n      <td>NaN</td>\n      <td>NaN</td>\n      <td>NaN</td>\n    </tr>\n    <tr>\n      <th>1</th>\n      <td>'Til There Was You (1997)</td>\n      <td>NaN</td>\n      <td>NaN</td>\n      <td>NaN</td>\n      <td>NaN</td>\n      <td>NaN</td>\n      <td>NaN</td>\n      <td>NaN</td>\n      <td>NaN</td>\n      <td>NaN</td>\n      <td>...</td>\n      <td>NaN</td>\n      <td>NaN</td>\n      <td>NaN</td>\n      <td>NaN</td>\n      <td>NaN</td>\n      <td>NaN</td>\n      <td>NaN</td>\n      <td>NaN</td>\n      <td>NaN</td>\n      <td>NaN</td>\n    </tr>\n    <tr>\n      <th>2</th>\n      <td>'burbs, The (1989)</td>\n      <td>NaN</td>\n      <td>NaN</td>\n      <td>NaN</td>\n      <td>NaN</td>\n      <td>NaN</td>\n      <td>NaN</td>\n      <td>NaN</td>\n      <td>NaN</td>\n      <td>NaN</td>\n      <td>...</td>\n      <td>NaN</td>\n      <td>NaN</td>\n      <td>NaN</td>\n      <td>NaN</td>\n      <td>NaN</td>\n      <td>NaN</td>\n      <td>NaN</td>\n      <td>NaN</td>\n      <td>NaN</td>\n      <td>NaN</td>\n    </tr>\n    <tr>\n      <th>3</th>\n      <td>...And Justice for All (1979)</td>\n      <td>NaN</td>\n      <td>NaN</td>\n      <td>NaN</td>\n      <td>NaN</td>\n      <td>NaN</td>\n      <td>NaN</td>\n      <td>NaN</td>\n      <td>NaN</td>\n      <td>NaN</td>\n      <td>...</td>\n      <td>NaN</td>\n      <td>NaN</td>\n      <td>NaN</td>\n      <td>NaN</td>\n      <td>NaN</td>\n      <td>NaN</td>\n      <td>4.0</td>\n      <td>NaN</td>\n      <td>NaN</td>\n      <td>NaN</td>\n    </tr>\n    <tr>\n      <th>4</th>\n      <td>10 Things I Hate About You (1999)</td>\n      <td>NaN</td>\n      <td>NaN</td>\n      <td>NaN</td>\n      <td>NaN</td>\n      <td>NaN</td>\n      <td>NaN</td>\n      <td>NaN</td>\n      <td>NaN</td>\n      <td>NaN</td>\n      <td>...</td>\n      <td>NaN</td>\n      <td>NaN</td>\n      <td>NaN</td>\n      <td>3.0</td>\n      <td>NaN</td>\n      <td>NaN</td>\n      <td>NaN</td>\n      <td>NaN</td>\n      <td>NaN</td>\n      <td>NaN</td>\n    </tr>\n    <tr>\n      <th>...</th>\n      <td>...</td>\n      <td>...</td>\n      <td>...</td>\n      <td>...</td>\n      <td>...</td>\n      <td>...</td>\n      <td>...</td>\n      <td>...</td>\n      <td>...</td>\n      <td>...</td>\n      <td>...</td>\n      <td>...</td>\n      <td>...</td>\n      <td>...</td>\n      <td>...</td>\n      <td>...</td>\n      <td>...</td>\n      <td>...</td>\n      <td>...</td>\n      <td>...</td>\n      <td>...</td>\n    </tr>\n    <tr>\n      <th>2562</th>\n      <td>Your Friends and Neighbors (1998)</td>\n      <td>NaN</td>\n      <td>NaN</td>\n      <td>NaN</td>\n      <td>NaN</td>\n      <td>NaN</td>\n      <td>NaN</td>\n      <td>NaN</td>\n      <td>NaN</td>\n      <td>NaN</td>\n      <td>...</td>\n      <td>NaN</td>\n      <td>NaN</td>\n      <td>NaN</td>\n      <td>NaN</td>\n      <td>NaN</td>\n      <td>NaN</td>\n      <td>NaN</td>\n      <td>NaN</td>\n      <td>NaN</td>\n      <td>NaN</td>\n    </tr>\n    <tr>\n      <th>2563</th>\n      <td>Zed &amp; Two Noughts, A (1985)</td>\n      <td>NaN</td>\n      <td>NaN</td>\n      <td>NaN</td>\n      <td>NaN</td>\n      <td>NaN</td>\n      <td>NaN</td>\n      <td>NaN</td>\n      <td>NaN</td>\n      <td>NaN</td>\n      <td>...</td>\n      <td>NaN</td>\n      <td>NaN</td>\n      <td>NaN</td>\n      <td>NaN</td>\n      <td>NaN</td>\n      <td>NaN</td>\n      <td>NaN</td>\n      <td>NaN</td>\n      <td>NaN</td>\n      <td>NaN</td>\n    </tr>\n    <tr>\n      <th>2564</th>\n      <td>Zero Effect (1998)</td>\n      <td>NaN</td>\n      <td>NaN</td>\n      <td>NaN</td>\n      <td>NaN</td>\n      <td>NaN</td>\n      <td>NaN</td>\n      <td>NaN</td>\n      <td>NaN</td>\n      <td>NaN</td>\n      <td>...</td>\n      <td>NaN</td>\n      <td>NaN</td>\n      <td>NaN</td>\n      <td>NaN</td>\n      <td>5.0</td>\n      <td>NaN</td>\n      <td>NaN</td>\n      <td>NaN</td>\n      <td>NaN</td>\n      <td>NaN</td>\n    </tr>\n    <tr>\n      <th>2565</th>\n      <td>Zeus and Roxanne (1997)</td>\n      <td>NaN</td>\n      <td>NaN</td>\n      <td>NaN</td>\n      <td>NaN</td>\n      <td>NaN</td>\n      <td>NaN</td>\n      <td>NaN</td>\n      <td>NaN</td>\n      <td>NaN</td>\n      <td>...</td>\n      <td>NaN</td>\n      <td>NaN</td>\n      <td>NaN</td>\n      <td>NaN</td>\n      <td>NaN</td>\n      <td>NaN</td>\n      <td>NaN</td>\n      <td>NaN</td>\n      <td>NaN</td>\n      <td>NaN</td>\n    </tr>\n    <tr>\n      <th>2566</th>\n      <td>eXistenZ (1999)</td>\n      <td>NaN</td>\n      <td>NaN</td>\n      <td>NaN</td>\n      <td>NaN</td>\n      <td>NaN</td>\n      <td>NaN</td>\n      <td>NaN</td>\n      <td>NaN</td>\n      <td>NaN</td>\n      <td>...</td>\n      <td>NaN</td>\n      <td>NaN</td>\n      <td>NaN</td>\n      <td>NaN</td>\n      <td>NaN</td>\n      <td>NaN</td>\n      <td>NaN</td>\n      <td>NaN</td>\n      <td>NaN</td>\n      <td>NaN</td>\n    </tr>\n  </tbody>\n</table>\n<p>2567 rows × 664 columns</p>\n</div>"
     },
     "execution_count": 105,
     "metadata": {},
     "output_type": "execute_result"
    }
   ],
   "source": [
    "df_real = pd.DataFrame.from_dict(critics_test_clear)\n",
    "df_real = df_real.reindex(sorted(df_real.columns), axis=1).sort_index()\n",
    "df_real = df_real.reset_index()\n",
    "df_real"
   ],
   "metadata": {
    "collapsed": false,
    "pycharm": {
     "name": "#%%\n"
    }
   }
  },
  {
   "cell_type": "code",
   "execution_count": 102,
   "outputs": [
    {
     "data": {
      "text/plain": "                                  index  10  100  1000  1010  1015  1020  \\\n0             'Til There Was You (1997) NaN  NaN   NaN   NaN   NaN   NaN   \n1                    'burbs, The (1989) NaN  NaN   NaN   NaN   NaN   NaN   \n2         ...And Justice for All (1979) NaN  NaN   NaN   NaN   NaN   NaN   \n3     10 Things I Hate About You (1999) NaN  NaN   NaN   NaN   NaN   NaN   \n4                 101 Dalmatians (1961) NaN  NaN   NaN   NaN   NaN   NaN   \n...                                 ...  ..  ...   ...   ...   ...   ...   \n1939                  Young Guns (1988) NaN  NaN   NaN   NaN   NaN   NaN   \n1940               Young Guns II (1990) NaN  NaN   NaN   NaN   NaN   NaN   \n1941       Young Sherlock Holmes (1985) NaN  NaN   NaN   NaN   NaN   NaN   \n1942                 Zero Effect (1998) NaN  NaN   NaN   NaN   NaN   NaN   \n1943                    eXistenZ (1999) NaN  NaN   NaN   NaN   NaN   NaN   \n\n      1030  1040  105  ...  935  940  945        95  955  965  970  975  985  \\\n0      NaN   NaN  NaN  ...  NaN  NaN  NaN       NaN  NaN  NaN  NaN  NaN  NaN   \n1      NaN   NaN  NaN  ...  NaN  NaN  NaN       NaN  NaN  NaN  NaN  NaN  NaN   \n2      NaN   NaN  NaN  ...  NaN  NaN  NaN       NaN  NaN  NaN  NaN  NaN  NaN   \n3      NaN   NaN  NaN  ...  NaN  NaN  NaN  2.925159  NaN  NaN  NaN  NaN  NaN   \n4      NaN   NaN  NaN  ...  NaN  NaN  NaN       NaN  NaN  NaN  NaN  NaN  NaN   \n...    ...   ...  ...  ...  ...  ...  ...       ...  ...  ...  ...  ...  ...   \n1939   NaN   NaN  NaN  ...  NaN  NaN  NaN       NaN  NaN  NaN  NaN  NaN  NaN   \n1940   NaN   NaN  NaN  ...  NaN  NaN  NaN       NaN  NaN  NaN  NaN  NaN  NaN   \n1941   NaN   NaN  NaN  ...  NaN  NaN  NaN       NaN  NaN  NaN  NaN  NaN  NaN   \n1942   NaN   NaN  NaN  ...  NaN  NaN  NaN       NaN  NaN  NaN  NaN  NaN  NaN   \n1943   NaN   NaN  NaN  ...  NaN  NaN  NaN       NaN  NaN  NaN  NaN  NaN  NaN   \n\n      990  \n0     NaN  \n1     NaN  \n2     NaN  \n3     NaN  \n4     NaN  \n...   ...  \n1939  NaN  \n1940  NaN  \n1941  NaN  \n1942  NaN  \n1943  NaN  \n\n[1944 rows x 664 columns]",
      "text/html": "<div>\n<style scoped>\n    .dataframe tbody tr th:only-of-type {\n        vertical-align: middle;\n    }\n\n    .dataframe tbody tr th {\n        vertical-align: top;\n    }\n\n    .dataframe thead th {\n        text-align: right;\n    }\n</style>\n<table border=\"1\" class=\"dataframe\">\n  <thead>\n    <tr style=\"text-align: right;\">\n      <th></th>\n      <th>index</th>\n      <th>10</th>\n      <th>100</th>\n      <th>1000</th>\n      <th>1010</th>\n      <th>1015</th>\n      <th>1020</th>\n      <th>1030</th>\n      <th>1040</th>\n      <th>105</th>\n      <th>...</th>\n      <th>935</th>\n      <th>940</th>\n      <th>945</th>\n      <th>95</th>\n      <th>955</th>\n      <th>965</th>\n      <th>970</th>\n      <th>975</th>\n      <th>985</th>\n      <th>990</th>\n    </tr>\n  </thead>\n  <tbody>\n    <tr>\n      <th>0</th>\n      <td>'Til There Was You (1997)</td>\n      <td>NaN</td>\n      <td>NaN</td>\n      <td>NaN</td>\n      <td>NaN</td>\n      <td>NaN</td>\n      <td>NaN</td>\n      <td>NaN</td>\n      <td>NaN</td>\n      <td>NaN</td>\n      <td>...</td>\n      <td>NaN</td>\n      <td>NaN</td>\n      <td>NaN</td>\n      <td>NaN</td>\n      <td>NaN</td>\n      <td>NaN</td>\n      <td>NaN</td>\n      <td>NaN</td>\n      <td>NaN</td>\n      <td>NaN</td>\n    </tr>\n    <tr>\n      <th>1</th>\n      <td>'burbs, The (1989)</td>\n      <td>NaN</td>\n      <td>NaN</td>\n      <td>NaN</td>\n      <td>NaN</td>\n      <td>NaN</td>\n      <td>NaN</td>\n      <td>NaN</td>\n      <td>NaN</td>\n      <td>NaN</td>\n      <td>...</td>\n      <td>NaN</td>\n      <td>NaN</td>\n      <td>NaN</td>\n      <td>NaN</td>\n      <td>NaN</td>\n      <td>NaN</td>\n      <td>NaN</td>\n      <td>NaN</td>\n      <td>NaN</td>\n      <td>NaN</td>\n    </tr>\n    <tr>\n      <th>2</th>\n      <td>...And Justice for All (1979)</td>\n      <td>NaN</td>\n      <td>NaN</td>\n      <td>NaN</td>\n      <td>NaN</td>\n      <td>NaN</td>\n      <td>NaN</td>\n      <td>NaN</td>\n      <td>NaN</td>\n      <td>NaN</td>\n      <td>...</td>\n      <td>NaN</td>\n      <td>NaN</td>\n      <td>NaN</td>\n      <td>NaN</td>\n      <td>NaN</td>\n      <td>NaN</td>\n      <td>NaN</td>\n      <td>NaN</td>\n      <td>NaN</td>\n      <td>NaN</td>\n    </tr>\n    <tr>\n      <th>3</th>\n      <td>10 Things I Hate About You (1999)</td>\n      <td>NaN</td>\n      <td>NaN</td>\n      <td>NaN</td>\n      <td>NaN</td>\n      <td>NaN</td>\n      <td>NaN</td>\n      <td>NaN</td>\n      <td>NaN</td>\n      <td>NaN</td>\n      <td>...</td>\n      <td>NaN</td>\n      <td>NaN</td>\n      <td>NaN</td>\n      <td>2.925159</td>\n      <td>NaN</td>\n      <td>NaN</td>\n      <td>NaN</td>\n      <td>NaN</td>\n      <td>NaN</td>\n      <td>NaN</td>\n    </tr>\n    <tr>\n      <th>4</th>\n      <td>101 Dalmatians (1961)</td>\n      <td>NaN</td>\n      <td>NaN</td>\n      <td>NaN</td>\n      <td>NaN</td>\n      <td>NaN</td>\n      <td>NaN</td>\n      <td>NaN</td>\n      <td>NaN</td>\n      <td>NaN</td>\n      <td>...</td>\n      <td>NaN</td>\n      <td>NaN</td>\n      <td>NaN</td>\n      <td>NaN</td>\n      <td>NaN</td>\n      <td>NaN</td>\n      <td>NaN</td>\n      <td>NaN</td>\n      <td>NaN</td>\n      <td>NaN</td>\n    </tr>\n    <tr>\n      <th>...</th>\n      <td>...</td>\n      <td>...</td>\n      <td>...</td>\n      <td>...</td>\n      <td>...</td>\n      <td>...</td>\n      <td>...</td>\n      <td>...</td>\n      <td>...</td>\n      <td>...</td>\n      <td>...</td>\n      <td>...</td>\n      <td>...</td>\n      <td>...</td>\n      <td>...</td>\n      <td>...</td>\n      <td>...</td>\n      <td>...</td>\n      <td>...</td>\n      <td>...</td>\n      <td>...</td>\n    </tr>\n    <tr>\n      <th>1939</th>\n      <td>Young Guns (1988)</td>\n      <td>NaN</td>\n      <td>NaN</td>\n      <td>NaN</td>\n      <td>NaN</td>\n      <td>NaN</td>\n      <td>NaN</td>\n      <td>NaN</td>\n      <td>NaN</td>\n      <td>NaN</td>\n      <td>...</td>\n      <td>NaN</td>\n      <td>NaN</td>\n      <td>NaN</td>\n      <td>NaN</td>\n      <td>NaN</td>\n      <td>NaN</td>\n      <td>NaN</td>\n      <td>NaN</td>\n      <td>NaN</td>\n      <td>NaN</td>\n    </tr>\n    <tr>\n      <th>1940</th>\n      <td>Young Guns II (1990)</td>\n      <td>NaN</td>\n      <td>NaN</td>\n      <td>NaN</td>\n      <td>NaN</td>\n      <td>NaN</td>\n      <td>NaN</td>\n      <td>NaN</td>\n      <td>NaN</td>\n      <td>NaN</td>\n      <td>...</td>\n      <td>NaN</td>\n      <td>NaN</td>\n      <td>NaN</td>\n      <td>NaN</td>\n      <td>NaN</td>\n      <td>NaN</td>\n      <td>NaN</td>\n      <td>NaN</td>\n      <td>NaN</td>\n      <td>NaN</td>\n    </tr>\n    <tr>\n      <th>1941</th>\n      <td>Young Sherlock Holmes (1985)</td>\n      <td>NaN</td>\n      <td>NaN</td>\n      <td>NaN</td>\n      <td>NaN</td>\n      <td>NaN</td>\n      <td>NaN</td>\n      <td>NaN</td>\n      <td>NaN</td>\n      <td>NaN</td>\n      <td>...</td>\n      <td>NaN</td>\n      <td>NaN</td>\n      <td>NaN</td>\n      <td>NaN</td>\n      <td>NaN</td>\n      <td>NaN</td>\n      <td>NaN</td>\n      <td>NaN</td>\n      <td>NaN</td>\n      <td>NaN</td>\n    </tr>\n    <tr>\n      <th>1942</th>\n      <td>Zero Effect (1998)</td>\n      <td>NaN</td>\n      <td>NaN</td>\n      <td>NaN</td>\n      <td>NaN</td>\n      <td>NaN</td>\n      <td>NaN</td>\n      <td>NaN</td>\n      <td>NaN</td>\n      <td>NaN</td>\n      <td>...</td>\n      <td>NaN</td>\n      <td>NaN</td>\n      <td>NaN</td>\n      <td>NaN</td>\n      <td>NaN</td>\n      <td>NaN</td>\n      <td>NaN</td>\n      <td>NaN</td>\n      <td>NaN</td>\n      <td>NaN</td>\n    </tr>\n    <tr>\n      <th>1943</th>\n      <td>eXistenZ (1999)</td>\n      <td>NaN</td>\n      <td>NaN</td>\n      <td>NaN</td>\n      <td>NaN</td>\n      <td>NaN</td>\n      <td>NaN</td>\n      <td>NaN</td>\n      <td>NaN</td>\n      <td>NaN</td>\n      <td>...</td>\n      <td>NaN</td>\n      <td>NaN</td>\n      <td>NaN</td>\n      <td>NaN</td>\n      <td>NaN</td>\n      <td>NaN</td>\n      <td>NaN</td>\n      <td>NaN</td>\n      <td>NaN</td>\n      <td>NaN</td>\n    </tr>\n  </tbody>\n</table>\n<p>1944 rows × 664 columns</p>\n</div>"
     },
     "execution_count": 102,
     "metadata": {},
     "output_type": "execute_result"
    }
   ],
   "source": [
    "df_user_rec = pd.DataFrame.from_dict(recs_w_clean)\n",
    "df_user_rec = df_user_rec.reindex(sorted(df_user_rec.columns), axis=1).sort_index()\n",
    "df_user_rec = df_user_rec.reset_index()\n",
    "df_user_rec"
   ],
   "metadata": {
    "collapsed": false,
    "pycharm": {
     "name": "#%%\n"
    }
   }
  },
  {
   "cell_type": "code",
   "execution_count": 103,
   "outputs": [
    {
     "data": {
      "text/plain": "                                     index       10  100  1000  1010  1015  \\\n0                    101 Dalmatians (1961)      NaN  NaN   NaN   NaN   NaN   \n1             2001: A Space Odyssey (1968)  4.08292  NaN   NaN   NaN   NaN   \n2                        Abyss, The (1989)      NaN  NaN   NaN   NaN   NaN   \n3        Ace Ventura: Pet Detective (1994)      NaN  NaN   NaN   NaN   NaN   \n4    Ace Ventura: When Nature Calls (1995)      NaN  NaN   NaN   NaN   NaN   \n..                                     ...      ...  ...   ...   ...   ...   \n401        World Is Not Enough, The (1999)      NaN  NaN   NaN   NaN   NaN   \n402             Wrong Trousers, The (1993)      NaN  NaN   NaN   NaN   NaN   \n403  X-Files: Fight the Future, The (1998)      NaN  NaN   NaN   NaN   NaN   \n404                 You've Got Mail (1998)      NaN  NaN   NaN   NaN   NaN   \n405              Young Frankenstein (1974)      NaN  NaN   NaN   NaN   NaN   \n\n     1020      1030  1040  105  ...  935  940  945  95       955  965  \\\n0     NaN       NaN   NaN  NaN  ...  NaN  NaN  NaN NaN       NaN  NaN   \n1     NaN       NaN   NaN  NaN  ...  NaN  NaN  NaN NaN       NaN  NaN   \n2     NaN       NaN   NaN  NaN  ...  NaN  NaN  NaN NaN  2.907493  NaN   \n3     NaN       NaN   NaN  NaN  ...  NaN  NaN  NaN NaN       NaN  NaN   \n4     NaN       NaN   NaN  NaN  ...  NaN  NaN  NaN NaN       NaN  NaN   \n..    ...       ...   ...  ...  ...  ...  ...  ...  ..       ...  ...   \n401   NaN       NaN   NaN  NaN  ...  NaN  NaN  NaN NaN       NaN  NaN   \n402   NaN       NaN   NaN  NaN  ...  NaN  NaN  NaN NaN       NaN  NaN   \n403   NaN       NaN   NaN  NaN  ...  NaN  NaN  NaN NaN       NaN  NaN   \n404   NaN       NaN   NaN  NaN  ...  NaN  NaN  NaN NaN       NaN  NaN   \n405   NaN  4.336726   NaN  NaN  ...  NaN  NaN  NaN NaN       NaN  NaN   \n\n          970  975  985  990  \n0         NaN  NaN  NaN  NaN  \n1         NaN  NaN  NaN  NaN  \n2         NaN  NaN  NaN  NaN  \n3         NaN  NaN  NaN  NaN  \n4         NaN  NaN  NaN  NaN  \n..        ...  ...  ...  ...  \n401       NaN  NaN  NaN  NaN  \n402       NaN  NaN  NaN  NaN  \n403       NaN  NaN  NaN  NaN  \n404  2.821824  NaN  NaN  NaN  \n405       NaN  NaN  NaN  NaN  \n\n[406 rows x 664 columns]",
      "text/html": "<div>\n<style scoped>\n    .dataframe tbody tr th:only-of-type {\n        vertical-align: middle;\n    }\n\n    .dataframe tbody tr th {\n        vertical-align: top;\n    }\n\n    .dataframe thead th {\n        text-align: right;\n    }\n</style>\n<table border=\"1\" class=\"dataframe\">\n  <thead>\n    <tr style=\"text-align: right;\">\n      <th></th>\n      <th>index</th>\n      <th>10</th>\n      <th>100</th>\n      <th>1000</th>\n      <th>1010</th>\n      <th>1015</th>\n      <th>1020</th>\n      <th>1030</th>\n      <th>1040</th>\n      <th>105</th>\n      <th>...</th>\n      <th>935</th>\n      <th>940</th>\n      <th>945</th>\n      <th>95</th>\n      <th>955</th>\n      <th>965</th>\n      <th>970</th>\n      <th>975</th>\n      <th>985</th>\n      <th>990</th>\n    </tr>\n  </thead>\n  <tbody>\n    <tr>\n      <th>0</th>\n      <td>101 Dalmatians (1961)</td>\n      <td>NaN</td>\n      <td>NaN</td>\n      <td>NaN</td>\n      <td>NaN</td>\n      <td>NaN</td>\n      <td>NaN</td>\n      <td>NaN</td>\n      <td>NaN</td>\n      <td>NaN</td>\n      <td>...</td>\n      <td>NaN</td>\n      <td>NaN</td>\n      <td>NaN</td>\n      <td>NaN</td>\n      <td>NaN</td>\n      <td>NaN</td>\n      <td>NaN</td>\n      <td>NaN</td>\n      <td>NaN</td>\n      <td>NaN</td>\n    </tr>\n    <tr>\n      <th>1</th>\n      <td>2001: A Space Odyssey (1968)</td>\n      <td>4.08292</td>\n      <td>NaN</td>\n      <td>NaN</td>\n      <td>NaN</td>\n      <td>NaN</td>\n      <td>NaN</td>\n      <td>NaN</td>\n      <td>NaN</td>\n      <td>NaN</td>\n      <td>...</td>\n      <td>NaN</td>\n      <td>NaN</td>\n      <td>NaN</td>\n      <td>NaN</td>\n      <td>NaN</td>\n      <td>NaN</td>\n      <td>NaN</td>\n      <td>NaN</td>\n      <td>NaN</td>\n      <td>NaN</td>\n    </tr>\n    <tr>\n      <th>2</th>\n      <td>Abyss, The (1989)</td>\n      <td>NaN</td>\n      <td>NaN</td>\n      <td>NaN</td>\n      <td>NaN</td>\n      <td>NaN</td>\n      <td>NaN</td>\n      <td>NaN</td>\n      <td>NaN</td>\n      <td>NaN</td>\n      <td>...</td>\n      <td>NaN</td>\n      <td>NaN</td>\n      <td>NaN</td>\n      <td>NaN</td>\n      <td>2.907493</td>\n      <td>NaN</td>\n      <td>NaN</td>\n      <td>NaN</td>\n      <td>NaN</td>\n      <td>NaN</td>\n    </tr>\n    <tr>\n      <th>3</th>\n      <td>Ace Ventura: Pet Detective (1994)</td>\n      <td>NaN</td>\n      <td>NaN</td>\n      <td>NaN</td>\n      <td>NaN</td>\n      <td>NaN</td>\n      <td>NaN</td>\n      <td>NaN</td>\n      <td>NaN</td>\n      <td>NaN</td>\n      <td>...</td>\n      <td>NaN</td>\n      <td>NaN</td>\n      <td>NaN</td>\n      <td>NaN</td>\n      <td>NaN</td>\n      <td>NaN</td>\n      <td>NaN</td>\n      <td>NaN</td>\n      <td>NaN</td>\n      <td>NaN</td>\n    </tr>\n    <tr>\n      <th>4</th>\n      <td>Ace Ventura: When Nature Calls (1995)</td>\n      <td>NaN</td>\n      <td>NaN</td>\n      <td>NaN</td>\n      <td>NaN</td>\n      <td>NaN</td>\n      <td>NaN</td>\n      <td>NaN</td>\n      <td>NaN</td>\n      <td>NaN</td>\n      <td>...</td>\n      <td>NaN</td>\n      <td>NaN</td>\n      <td>NaN</td>\n      <td>NaN</td>\n      <td>NaN</td>\n      <td>NaN</td>\n      <td>NaN</td>\n      <td>NaN</td>\n      <td>NaN</td>\n      <td>NaN</td>\n    </tr>\n    <tr>\n      <th>...</th>\n      <td>...</td>\n      <td>...</td>\n      <td>...</td>\n      <td>...</td>\n      <td>...</td>\n      <td>...</td>\n      <td>...</td>\n      <td>...</td>\n      <td>...</td>\n      <td>...</td>\n      <td>...</td>\n      <td>...</td>\n      <td>...</td>\n      <td>...</td>\n      <td>...</td>\n      <td>...</td>\n      <td>...</td>\n      <td>...</td>\n      <td>...</td>\n      <td>...</td>\n      <td>...</td>\n    </tr>\n    <tr>\n      <th>401</th>\n      <td>World Is Not Enough, The (1999)</td>\n      <td>NaN</td>\n      <td>NaN</td>\n      <td>NaN</td>\n      <td>NaN</td>\n      <td>NaN</td>\n      <td>NaN</td>\n      <td>NaN</td>\n      <td>NaN</td>\n      <td>NaN</td>\n      <td>...</td>\n      <td>NaN</td>\n      <td>NaN</td>\n      <td>NaN</td>\n      <td>NaN</td>\n      <td>NaN</td>\n      <td>NaN</td>\n      <td>NaN</td>\n      <td>NaN</td>\n      <td>NaN</td>\n      <td>NaN</td>\n    </tr>\n    <tr>\n      <th>402</th>\n      <td>Wrong Trousers, The (1993)</td>\n      <td>NaN</td>\n      <td>NaN</td>\n      <td>NaN</td>\n      <td>NaN</td>\n      <td>NaN</td>\n      <td>NaN</td>\n      <td>NaN</td>\n      <td>NaN</td>\n      <td>NaN</td>\n      <td>...</td>\n      <td>NaN</td>\n      <td>NaN</td>\n      <td>NaN</td>\n      <td>NaN</td>\n      <td>NaN</td>\n      <td>NaN</td>\n      <td>NaN</td>\n      <td>NaN</td>\n      <td>NaN</td>\n      <td>NaN</td>\n    </tr>\n    <tr>\n      <th>403</th>\n      <td>X-Files: Fight the Future, The (1998)</td>\n      <td>NaN</td>\n      <td>NaN</td>\n      <td>NaN</td>\n      <td>NaN</td>\n      <td>NaN</td>\n      <td>NaN</td>\n      <td>NaN</td>\n      <td>NaN</td>\n      <td>NaN</td>\n      <td>...</td>\n      <td>NaN</td>\n      <td>NaN</td>\n      <td>NaN</td>\n      <td>NaN</td>\n      <td>NaN</td>\n      <td>NaN</td>\n      <td>NaN</td>\n      <td>NaN</td>\n      <td>NaN</td>\n      <td>NaN</td>\n    </tr>\n    <tr>\n      <th>404</th>\n      <td>You've Got Mail (1998)</td>\n      <td>NaN</td>\n      <td>NaN</td>\n      <td>NaN</td>\n      <td>NaN</td>\n      <td>NaN</td>\n      <td>NaN</td>\n      <td>NaN</td>\n      <td>NaN</td>\n      <td>NaN</td>\n      <td>...</td>\n      <td>NaN</td>\n      <td>NaN</td>\n      <td>NaN</td>\n      <td>NaN</td>\n      <td>NaN</td>\n      <td>NaN</td>\n      <td>2.821824</td>\n      <td>NaN</td>\n      <td>NaN</td>\n      <td>NaN</td>\n    </tr>\n    <tr>\n      <th>405</th>\n      <td>Young Frankenstein (1974)</td>\n      <td>NaN</td>\n      <td>NaN</td>\n      <td>NaN</td>\n      <td>NaN</td>\n      <td>NaN</td>\n      <td>NaN</td>\n      <td>4.336726</td>\n      <td>NaN</td>\n      <td>NaN</td>\n      <td>...</td>\n      <td>NaN</td>\n      <td>NaN</td>\n      <td>NaN</td>\n      <td>NaN</td>\n      <td>NaN</td>\n      <td>NaN</td>\n      <td>NaN</td>\n      <td>NaN</td>\n      <td>NaN</td>\n      <td>NaN</td>\n    </tr>\n  </tbody>\n</table>\n<p>406 rows × 664 columns</p>\n</div>"
     },
     "execution_count": 103,
     "metadata": {},
     "output_type": "execute_result"
    }
   ],
   "source": [
    "df_item_rec = pd.DataFrame.from_dict(recs_w_t_clean)\n",
    "df_item_rec = df_item_rec.reindex(sorted(df_item_rec.columns), axis=1).sort_index()\n",
    "df_item_rec = df_item_rec.reset_index()\n",
    "df_item_rec"
   ],
   "metadata": {
    "collapsed": false,
    "pycharm": {
     "name": "#%%\n"
    }
   }
  },
  {
   "cell_type": "code",
   "execution_count": 111,
   "outputs": [],
   "source": [
    "def evaluate_beta(beta = 0.5):\n",
    "    errors_beta = 0\n",
    "    for user in critics_test_clear:\n",
    "        for movie in critics_test_clear[user]:\n",
    "            if movie in recs_w_clean[user]:\n",
    "                if movie in recs_w_t_clean[user]:\n",
    "                    errors_beta += abs(recs_w_clean[user][movie] * beta + recs_w_t_clean[user][movie] * (1-beta) - critics_test_clear[user][movie])\n",
    "    return errors_beta"
   ],
   "metadata": {
    "collapsed": false,
    "pycharm": {
     "name": "#%%\n"
    }
   }
  },
  {
   "cell_type": "code",
   "execution_count": 112,
   "outputs": [
    {
     "data": {
      "text/plain": "1922.0834225755866"
     },
     "execution_count": 112,
     "metadata": {},
     "output_type": "execute_result"
    }
   ],
   "source": [
    "evaluate_beta()"
   ],
   "metadata": {
    "collapsed": false,
    "pycharm": {
     "name": "#%%\n"
    }
   }
  },
  {
   "cell_type": "code",
   "execution_count": 130,
   "outputs": [],
   "source": [
    "beta_results = {}\n",
    "for b in np.arange(0.0, 1.1, 0.025):\n",
    "    beta_results[b] = evaluate_beta(beta = b)"
   ],
   "metadata": {
    "collapsed": false,
    "pycharm": {
     "name": "#%%\n"
    }
   }
  },
  {
   "cell_type": "code",
   "execution_count": 132,
   "outputs": [
    {
     "data": {
      "text/plain": "         0.000        0.025        0.050        0.075        0.100  \\\n2  2856.579176  2798.005784  2740.466754  2684.019535  2628.511748   \n\n         0.125        0.150        0.175        0.200        0.225  ...  \\\n2  2573.949579  2520.440076  2468.111629  2416.674633  2366.567078  ...   \n\n         0.850        0.875        0.900        0.925        0.950  \\\n2  1740.575339  1749.437333  1760.534727  1774.207412  1790.254975   \n\n         0.975        1.000        1.025        1.050        1.075  \n2  1809.137279  1830.435125  1853.719658  1879.601614  1908.056985  \n\n[1 rows x 44 columns]",
      "text/html": "<div>\n<style scoped>\n    .dataframe tbody tr th:only-of-type {\n        vertical-align: middle;\n    }\n\n    .dataframe tbody tr th {\n        vertical-align: top;\n    }\n\n    .dataframe thead th {\n        text-align: right;\n    }\n</style>\n<table border=\"1\" class=\"dataframe\">\n  <thead>\n    <tr style=\"text-align: right;\">\n      <th></th>\n      <th>0.000</th>\n      <th>0.025</th>\n      <th>0.050</th>\n      <th>0.075</th>\n      <th>0.100</th>\n      <th>0.125</th>\n      <th>0.150</th>\n      <th>0.175</th>\n      <th>0.200</th>\n      <th>0.225</th>\n      <th>...</th>\n      <th>0.850</th>\n      <th>0.875</th>\n      <th>0.900</th>\n      <th>0.925</th>\n      <th>0.950</th>\n      <th>0.975</th>\n      <th>1.000</th>\n      <th>1.025</th>\n      <th>1.050</th>\n      <th>1.075</th>\n    </tr>\n  </thead>\n  <tbody>\n    <tr>\n      <th>2</th>\n      <td>2856.579176</td>\n      <td>2798.005784</td>\n      <td>2740.466754</td>\n      <td>2684.019535</td>\n      <td>2628.511748</td>\n      <td>2573.949579</td>\n      <td>2520.440076</td>\n      <td>2468.111629</td>\n      <td>2416.674633</td>\n      <td>2366.567078</td>\n      <td>...</td>\n      <td>1740.575339</td>\n      <td>1749.437333</td>\n      <td>1760.534727</td>\n      <td>1774.207412</td>\n      <td>1790.254975</td>\n      <td>1809.137279</td>\n      <td>1830.435125</td>\n      <td>1853.719658</td>\n      <td>1879.601614</td>\n      <td>1908.056985</td>\n    </tr>\n  </tbody>\n</table>\n<p>1 rows × 44 columns</p>\n</div>"
     },
     "execution_count": 132,
     "metadata": {},
     "output_type": "execute_result"
    }
   ],
   "source": [
    "beta_results_df  = pd.DataFrame.from_records(beta_results, index  = [2])\n",
    "beta_results_df"
   ],
   "metadata": {
    "collapsed": false,
    "pycharm": {
     "name": "#%%\n"
    }
   }
  },
  {
   "cell_type": "code",
   "execution_count": 133,
   "outputs": [
    {
     "data": {
      "text/plain": "<Figure size 432x288 with 1 Axes>",
      "image/png": "[encoded data removed]"
     },
     "metadata": {},
     "output_type": "display_data"
    }
   ],
   "source": [
    "plt.figure()\n",
    "plt.plot(list(beta_results.keys()), list(beta_results.values()))\n",
    "plt.xlabel(\"beta\")\n",
    "plt.ylabel(\"MAE\")\n",
    "plt.title(\"Error for two combinded models\")\n",
    "plt.show()"
   ],
   "metadata": {
    "collapsed": false,
    "pycharm": {
     "name": "#%%\n"
    }
   }
  },
  {
   "cell_type": "code",
   "execution_count": 134,
   "outputs": [],
   "source": [
    "def evaluate_beta(beta = 0.5):\n",
    "    errors_beta = 0\n",
    "    for user in critics_test_clear:\n",
    "        for movie in critics_test_clear[user]:\n",
    "            if movie in recs_w_clean[user]:\n",
    "                if movie in recs_w_t_clean[user]:\n",
    "                    errors_beta += sqrt((recs_w_clean[user][movie] * beta + recs_w_t_clean[user][movie] * (1-beta) - critics_test_clear[user][movie])**2)\n",
    "    return errors_beta"
   ],
   "metadata": {
    "collapsed": false,
    "pycharm": {
     "name": "#%%\n"
    }
   }
  },
  {
   "cell_type": "code",
   "execution_count": 135,
   "outputs": [],
   "source": [
    "beta_results_rmse = {}\n",
    "for b in np.arange(0.0, 1.05, 0.025):\n",
    "    beta_results_rmse[b] = evaluate_beta(beta = b)"
   ],
   "metadata": {
    "collapsed": false,
    "pycharm": {
     "name": "#%%\n"
    }
   }
  },
  {
   "cell_type": "code",
   "execution_count": 136,
   "outputs": [
    {
     "data": {
      "text/plain": "<Figure size 432x288 with 1 Axes>",
      "image/png": "[encoded data removed]"
     },
     "metadata": {},
     "output_type": "display_data"
    }
   ],
   "source": [
    "plt.figure()\n",
    "plt.plot(list(beta_results_rmse.keys()), list(beta_results_rmse.values()))\n",
    "plt.xlabel(\"beta\")\n",
    "plt.ylabel(\"RMSE sum\")\n",
    "plt.title(\"Error for two combined models\")\n",
    "plt.show()"
   ],
   "metadata": {
    "collapsed": false,
    "pycharm": {
     "name": "#%%\n"
    }
   }
  },
  {
   "cell_type": "code",
   "execution_count": 139,
   "outputs": [
    {
     "data": {
      "text/plain": "0.8"
     },
     "execution_count": 139,
     "metadata": {},
     "output_type": "execute_result"
    }
   ],
   "source": [
    "min(beta_results_rmse, key=beta_results_rmse.get)"
   ],
   "metadata": {
    "collapsed": false,
    "pycharm": {
     "name": "#%%\n"
    }
   }
  },
  {
   "cell_type": "markdown",
   "source": [
    "лучше всего при beta 0.8\n",
    "не знаю, с чем именно это связанно\n",
    "но вот так получилось"
   ],
   "metadata": {
    "collapsed": false,
    "pycharm": {
     "name": "#%% md\n"
    }
   }
  }
 ],
 "metadata": {
  "kernelspec": {
   "display_name": "Python 3",
   "language": "python",
   "name": "python3"
  },
  "language_info": {
   "codemirror_mode": {
    "name": "ipython",
    "version": 3
   },
   "file_extension": ".py",
   "mimetype": "text/x-python",
   "name": "python",
   "nbconvert_exporter": "python",
   "pygments_lexer": "ipython3",
   "version": "3.7.4"
  }
 },
 "nbformat": 4,
 "nbformat_minor": 2
}