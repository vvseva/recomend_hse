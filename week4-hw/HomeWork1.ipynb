{
 "cells": [
  {
   "cell_type": "markdown",
   "metadata": {},
   "source": [
    "# Домашнее задание 1. Сравнение методов коллаборативной фильтрации по сходству пользователей и по сходству объектов\n",
    "\n",
    "\n",
    "Полезная ссылка на довольно подробный обзор по теме: http://files.grouplens.org/papers/FnT%20CF%20Recsys%20Survey.pdf\n",
    "\n",
    "\n",
    "1. Загрузите данные [Movie Lens](http://grouplens.org/datasets/movielens/), датасет на 1М рейтингов. Дополнительный бонус, если ваш код сможет обработать датасет на 10М. Я рекомендую сначала пробовать ваши методы на датасете из 100к рейтингов.  \n",
    "\n",
    "2. Разбейте датасет на обучающую и тестовую выборку. \n",
    "\n",
    "Вариант 1: Тестовые пользователи -- это те, у кого ID делется на 5 без остатка.\n",
    "Для каждого тестового пользователя скройте каждый десятый фильм по возрастанию ID.\n",
    "\n",
    "Вариант 2: Тестовые пользователи -- это случайно выбранные 20% сохраните их список для воспроизводимости.\n",
    "Для каждого тестового пользователя скройте каждый фильм с вероятностью 1/10, сохраните список скрытых фильмов.\n",
    "\n",
    "Все пользователи и не скрытые фильмы это данные, на которых вы будете оценивать похожесть.\n",
    "\n",
    "3. Выберите любые две меры похожести и реализуйте на их основе две модели рекомендаций на основе пользователей.\n",
    "Для этих моделей посчитайте MAE и RMSE на всех скрытых оценках варианта 1. Какая модель оказалась лучше?\n",
    "\n",
    "4. Повторите пункт 3 для варианта 2. Изменилось ли что-нибудь?\n",
    "\n",
    "5. Для каждого тестового пользователя сгенерируйте рекомендации топ 10, 15, 20, 50, 100 фильмов у которых нет оценок. Посчитайте NDCG считая хорошими фильмы с оценкой 4 и выше.\n",
    "\n",
    "6. Реализуте модель основанную на похожести предметов.\n",
    "\n",
    "7. Повторите пункты 3-5 для этой модели. \n",
    "\n",
    "8. Насколько различны списки из top-n рекомендаций. Попробуйте улучшить результаты подбором $\\beta$ для минимизации MAE (RMSE) в гибридных рекомендациях:\n",
    "$$\\beta\\cdot r^{user-based}_{ui} + (1-\\beta)\\cdot r^{item-based}_{ui}, \\mbox{ где } 0 \\leq \\beta \\leq 1.$$ \n",
    "\n",
    "deadline 24.10.2021 23:59"
   ]
  },
  {
   "cell_type": "code",
   "execution_count": 39,
   "metadata": {},
   "outputs": [],
   "source": [
    "import numpy as np\n",
    "import pandas as pd\n",
    "from math import sqrt\n",
    "from numpy import exp\n",
    "from random import random, seed"
   ]
  },
  {
   "cell_type": "markdown",
   "source": [
    "# Load date"
   ],
   "metadata": {
    "collapsed": false,
    "pycharm": {
     "name": "#%% md\n"
    }
   }
  },
  {
   "cell_type": "code",
   "execution_count": 1,
   "outputs": [],
   "source": [
    "#Чтение данных\n",
    "def loadMovieLens1M(path='./ml-1m'):\n",
    "    # Получить названия фильмов\n",
    "    movies={}\n",
    "    for line in open(path+'/movies.dat'):\n",
    "        (id,title)=line.split('::')[0:2] #при желании тут можно добавить чтение жанров.\n",
    "        movies[id]=title\n",
    "    # Загрузить данные\n",
    "    prefs={}\n",
    "    for line in open(path+'/ratings.dat'):\n",
    "        (user,movieid,rating,ts)=line.split('::')\n",
    "        prefs.setdefault(user,{})\n",
    "        prefs[user][movies[movieid]]=float(rating)\n",
    "    return prefs"
   ],
   "metadata": {
    "collapsed": false,
    "pycharm": {
     "name": "#%%\n"
    }
   }
  },
  {
   "cell_type": "code",
   "execution_count": 21,
   "outputs": [
    {
     "data": {
      "text/plain": "                                          1    2    3   4    5    6   7   8  \\\nOne Flew Over the Cuckoo's Nest (1975)  5.0  5.0  NaN NaN  NaN  NaN NaN NaN   \nJames and the Giant Peach (1996)        3.0  NaN  NaN NaN  NaN  NaN NaN NaN   \nMy Fair Lady (1964)                     3.0  NaN  NaN NaN  NaN  5.0 NaN NaN   \nErin Brockovich (2000)                  4.0  NaN  NaN NaN  3.0  5.0 NaN NaN   \nBug's Life, A (1998)                    5.0  NaN  5.0 NaN  5.0  NaN NaN NaN   \n\n                                          9   10  ...  6031  6032  6033  6034  \\\nOne Flew Over the Cuckoo's Nest (1975)  NaN  NaN  ...   NaN   5.0   5.0   NaN   \nJames and the Giant Peach (1996)        NaN  NaN  ...   NaN   NaN   NaN   NaN   \nMy Fair Lady (1964)                     NaN  5.0  ...   NaN   NaN   NaN   NaN   \nErin Brockovich (2000)                  4.0  4.0  ...   NaN   NaN   NaN   NaN   \nBug's Life, A (1998)                    4.0  4.0  ...   NaN   NaN   NaN   NaN   \n\n                                        6035  6036  6037  6038  6039  6040  \nOne Flew Over the Cuckoo's Nest (1975)   5.0   5.0   4.0   NaN   NaN   4.0  \nJames and the Giant Peach (1996)         NaN   NaN   NaN   NaN   3.0   NaN  \nMy Fair Lady (1964)                      NaN   3.0   NaN   NaN   4.0   NaN  \nErin Brockovich (2000)                   NaN   4.0   NaN   NaN   NaN   NaN  \nBug's Life, A (1998)                     5.0   4.0   NaN   NaN   NaN   NaN  \n\n[5 rows x 6040 columns]",
      "text/html": "<div>\n<style scoped>\n    .dataframe tbody tr th:only-of-type {\n        vertical-align: middle;\n    }\n\n    .dataframe tbody tr th {\n        vertical-align: top;\n    }\n\n    .dataframe thead th {\n        text-align: right;\n    }\n</style>\n<table border=\"1\" class=\"dataframe\">\n  <thead>\n    <tr style=\"text-align: right;\">\n      <th></th>\n      <th>1</th>\n      <th>2</th>\n      <th>3</th>\n      <th>4</th>\n      <th>5</th>\n      <th>6</th>\n      <th>7</th>\n      <th>8</th>\n      <th>9</th>\n      <th>10</th>\n      <th>...</th>\n      <th>6031</th>\n      <th>6032</th>\n      <th>6033</th>\n      <th>6034</th>\n      <th>6035</th>\n      <th>6036</th>\n      <th>6037</th>\n      <th>6038</th>\n      <th>6039</th>\n      <th>6040</th>\n    </tr>\n  </thead>\n  <tbody>\n    <tr>\n      <th>One Flew Over the Cuckoo's Nest (1975)</th>\n      <td>5.0</td>\n      <td>5.0</td>\n      <td>NaN</td>\n      <td>NaN</td>\n      <td>NaN</td>\n      <td>NaN</td>\n      <td>NaN</td>\n      <td>NaN</td>\n      <td>NaN</td>\n      <td>NaN</td>\n      <td>...</td>\n      <td>NaN</td>\n      <td>5.0</td>\n      <td>5.0</td>\n      <td>NaN</td>\n      <td>5.0</td>\n      <td>5.0</td>\n      <td>4.0</td>\n      <td>NaN</td>\n      <td>NaN</td>\n      <td>4.0</td>\n    </tr>\n    <tr>\n      <th>James and the Giant Peach (1996)</th>\n      <td>3.0</td>\n      <td>NaN</td>\n      <td>NaN</td>\n      <td>NaN</td>\n      <td>NaN</td>\n      <td>NaN</td>\n      <td>NaN</td>\n      <td>NaN</td>\n      <td>NaN</td>\n      <td>NaN</td>\n      <td>...</td>\n      <td>NaN</td>\n      <td>NaN</td>\n      <td>NaN</td>\n      <td>NaN</td>\n      <td>NaN</td>\n      <td>NaN</td>\n      <td>NaN</td>\n      <td>NaN</td>\n      <td>3.0</td>\n      <td>NaN</td>\n    </tr>\n    <tr>\n      <th>My Fair Lady (1964)</th>\n      <td>3.0</td>\n      <td>NaN</td>\n      <td>NaN</td>\n      <td>NaN</td>\n      <td>NaN</td>\n      <td>5.0</td>\n      <td>NaN</td>\n      <td>NaN</td>\n      <td>NaN</td>\n      <td>5.0</td>\n      <td>...</td>\n      <td>NaN</td>\n      <td>NaN</td>\n      <td>NaN</td>\n      <td>NaN</td>\n      <td>NaN</td>\n      <td>3.0</td>\n      <td>NaN</td>\n      <td>NaN</td>\n      <td>4.0</td>\n      <td>NaN</td>\n    </tr>\n    <tr>\n      <th>Erin Brockovich (2000)</th>\n      <td>4.0</td>\n      <td>NaN</td>\n      <td>NaN</td>\n      <td>NaN</td>\n      <td>3.0</td>\n      <td>5.0</td>\n      <td>NaN</td>\n      <td>NaN</td>\n      <td>4.0</td>\n      <td>4.0</td>\n      <td>...</td>\n      <td>NaN</td>\n      <td>NaN</td>\n      <td>NaN</td>\n      <td>NaN</td>\n      <td>NaN</td>\n      <td>4.0</td>\n      <td>NaN</td>\n      <td>NaN</td>\n      <td>NaN</td>\n      <td>NaN</td>\n    </tr>\n    <tr>\n      <th>Bug's Life, A (1998)</th>\n      <td>5.0</td>\n      <td>NaN</td>\n      <td>5.0</td>\n      <td>NaN</td>\n      <td>5.0</td>\n      <td>NaN</td>\n      <td>NaN</td>\n      <td>NaN</td>\n      <td>4.0</td>\n      <td>4.0</td>\n      <td>...</td>\n      <td>NaN</td>\n      <td>NaN</td>\n      <td>NaN</td>\n      <td>NaN</td>\n      <td>5.0</td>\n      <td>4.0</td>\n      <td>NaN</td>\n      <td>NaN</td>\n      <td>NaN</td>\n      <td>NaN</td>\n    </tr>\n  </tbody>\n</table>\n<p>5 rows × 6040 columns</p>\n</div>"
     },
     "execution_count": 21,
     "metadata": {},
     "output_type": "execute_result"
    }
   ],
   "source": [
    "critics = loadMovieLens1M()\n",
    "pd.DataFrame.from_dict(critics).head()"
   ],
   "metadata": {
    "collapsed": false,
    "pycharm": {
     "name": "#%%\n"
    }
   }
  },
  {
   "cell_type": "markdown",
   "source": [
    "## test train split\n",
    "\n",
    "### Вариант 1:\n",
    "Тестовые пользователи – это те, у кого ID делется на 5 без остатка. Для каждого тестового пользователя скройте каждый десятый фильм по возрастанию ID"
   ],
   "metadata": {
    "collapsed": false,
    "pycharm": {
     "name": "#%% md\n"
    }
   }
  },
  {
   "cell_type": "code",
   "execution_count": 16,
   "outputs": [
    {
     "data": {
      "text/plain": "6040"
     },
     "execution_count": 16,
     "metadata": {},
     "output_type": "execute_result"
    }
   ],
   "source": [
    "all_users = [u for u in critics]\n",
    "len(all_users)"
   ],
   "metadata": {
    "collapsed": false,
    "pycharm": {
     "name": "#%%\n"
    }
   }
  },
  {
   "cell_type": "code",
   "execution_count": 22,
   "outputs": [
    {
     "data": {
      "text/plain": "1208"
     },
     "execution_count": 22,
     "metadata": {},
     "output_type": "execute_result"
    }
   ],
   "source": [
    "users_test_list = [u for u in critics if int(u) % 5 == 0]\n",
    "len(users_test_list)"
   ],
   "metadata": {
    "collapsed": false,
    "pycharm": {
     "name": "#%%\n"
    }
   }
  },
  {
   "cell_type": "code",
   "execution_count": 34,
   "outputs": [
    {
     "data": {
      "text/plain": "                              5  10   15  20  25   30  35  40  45  50  ...  \\\nDonnie Brasco (1997)        3.0 NaN  4.0 NaN NaN  NaN NaN NaN NaN NaN  ...   \nGladiator (2000)            2.0 NaN  NaN NaN NaN  NaN NaN NaN NaN NaN  ...   \nSeven (Se7en) (1995)        3.0 NaN  NaN NaN NaN  NaN NaN NaN NaN NaN  ...   \nApollo 13 (1995)            2.0 NaN  NaN NaN NaN  NaN NaN NaN NaN NaN  ...   \nUsual Suspects, The (1995)  5.0 NaN  4.0 NaN NaN  5.0 NaN NaN NaN NaN  ...   \n\n                            5995  6000  6005  6010  6015  6020  6025  6030  \\\nDonnie Brasco (1997)         NaN   NaN   NaN   NaN   NaN   NaN   NaN   NaN   \nGladiator (2000)             NaN   NaN   NaN   NaN   NaN   NaN   NaN   NaN   \nSeven (Se7en) (1995)         NaN   NaN   NaN   NaN   NaN   NaN   NaN   NaN   \nApollo 13 (1995)             NaN   NaN   NaN   NaN   NaN   NaN   NaN   NaN   \nUsual Suspects, The (1995)   4.0   NaN   NaN   NaN   NaN   NaN   NaN   NaN   \n\n                            6035  6040  \nDonnie Brasco (1997)         NaN   NaN  \nGladiator (2000)             NaN   NaN  \nSeven (Se7en) (1995)         NaN   NaN  \nApollo 13 (1995)             NaN   NaN  \nUsual Suspects, The (1995)   NaN   NaN  \n\n[5 rows x 1208 columns]",
      "text/html": "<div>\n<style scoped>\n    .dataframe tbody tr th:only-of-type {\n        vertical-align: middle;\n    }\n\n    .dataframe tbody tr th {\n        vertical-align: top;\n    }\n\n    .dataframe thead th {\n        text-align: right;\n    }\n</style>\n<table border=\"1\" class=\"dataframe\">\n  <thead>\n    <tr style=\"text-align: right;\">\n      <th></th>\n      <th>5</th>\n      <th>10</th>\n      <th>15</th>\n      <th>20</th>\n      <th>25</th>\n      <th>30</th>\n      <th>35</th>\n      <th>40</th>\n      <th>45</th>\n      <th>50</th>\n      <th>...</th>\n      <th>5995</th>\n      <th>6000</th>\n      <th>6005</th>\n      <th>6010</th>\n      <th>6015</th>\n      <th>6020</th>\n      <th>6025</th>\n      <th>6030</th>\n      <th>6035</th>\n      <th>6040</th>\n    </tr>\n  </thead>\n  <tbody>\n    <tr>\n      <th>Donnie Brasco (1997)</th>\n      <td>3.0</td>\n      <td>NaN</td>\n      <td>4.0</td>\n      <td>NaN</td>\n      <td>NaN</td>\n      <td>NaN</td>\n      <td>NaN</td>\n      <td>NaN</td>\n      <td>NaN</td>\n      <td>NaN</td>\n      <td>...</td>\n      <td>NaN</td>\n      <td>NaN</td>\n      <td>NaN</td>\n      <td>NaN</td>\n      <td>NaN</td>\n      <td>NaN</td>\n      <td>NaN</td>\n      <td>NaN</td>\n      <td>NaN</td>\n      <td>NaN</td>\n    </tr>\n    <tr>\n      <th>Gladiator (2000)</th>\n      <td>2.0</td>\n      <td>NaN</td>\n      <td>NaN</td>\n      <td>NaN</td>\n      <td>NaN</td>\n      <td>NaN</td>\n      <td>NaN</td>\n      <td>NaN</td>\n      <td>NaN</td>\n      <td>NaN</td>\n      <td>...</td>\n      <td>NaN</td>\n      <td>NaN</td>\n      <td>NaN</td>\n      <td>NaN</td>\n      <td>NaN</td>\n      <td>NaN</td>\n      <td>NaN</td>\n      <td>NaN</td>\n      <td>NaN</td>\n      <td>NaN</td>\n    </tr>\n    <tr>\n      <th>Seven (Se7en) (1995)</th>\n      <td>3.0</td>\n      <td>NaN</td>\n      <td>NaN</td>\n      <td>NaN</td>\n      <td>NaN</td>\n      <td>NaN</td>\n      <td>NaN</td>\n      <td>NaN</td>\n      <td>NaN</td>\n      <td>NaN</td>\n      <td>...</td>\n      <td>NaN</td>\n      <td>NaN</td>\n      <td>NaN</td>\n      <td>NaN</td>\n      <td>NaN</td>\n      <td>NaN</td>\n      <td>NaN</td>\n      <td>NaN</td>\n      <td>NaN</td>\n      <td>NaN</td>\n    </tr>\n    <tr>\n      <th>Apollo 13 (1995)</th>\n      <td>2.0</td>\n      <td>NaN</td>\n      <td>NaN</td>\n      <td>NaN</td>\n      <td>NaN</td>\n      <td>NaN</td>\n      <td>NaN</td>\n      <td>NaN</td>\n      <td>NaN</td>\n      <td>NaN</td>\n      <td>...</td>\n      <td>NaN</td>\n      <td>NaN</td>\n      <td>NaN</td>\n      <td>NaN</td>\n      <td>NaN</td>\n      <td>NaN</td>\n      <td>NaN</td>\n      <td>NaN</td>\n      <td>NaN</td>\n      <td>NaN</td>\n    </tr>\n    <tr>\n      <th>Usual Suspects, The (1995)</th>\n      <td>5.0</td>\n      <td>NaN</td>\n      <td>4.0</td>\n      <td>NaN</td>\n      <td>NaN</td>\n      <td>5.0</td>\n      <td>NaN</td>\n      <td>NaN</td>\n      <td>NaN</td>\n      <td>NaN</td>\n      <td>...</td>\n      <td>4.0</td>\n      <td>NaN</td>\n      <td>NaN</td>\n      <td>NaN</td>\n      <td>NaN</td>\n      <td>NaN</td>\n      <td>NaN</td>\n      <td>NaN</td>\n      <td>NaN</td>\n      <td>NaN</td>\n    </tr>\n  </tbody>\n</table>\n<p>5 rows × 1208 columns</p>\n</div>"
     },
     "execution_count": 34,
     "metadata": {},
     "output_type": "execute_result"
    }
   ],
   "source": [
    "critics_test = {}\n",
    "# critics_train = {}\n",
    "for u in users_test_list:\n",
    "    critics_test[u] = {}\n",
    "    # critics_train[u] = {}\n",
    "    m_id = 0\n",
    "    for m in critics[u]:\n",
    "        m_id += 1\n",
    "        if m_id % 10 == 0:\n",
    "            critics_test[u][m] = critics[u][m]\n",
    "        # else:\n",
    "        #     critics_train[u][m] = critics[u][m]\n",
    "pd.DataFrame.from_dict(critics_test).head()"
   ],
   "metadata": {
    "collapsed": false,
    "pycharm": {
     "name": "#%%\n"
    }
   }
  },
  {
   "cell_type": "code",
   "execution_count": 37,
   "outputs": [
    {
     "data": {
      "text/plain": "6040"
     },
     "execution_count": 37,
     "metadata": {},
     "output_type": "execute_result"
    }
   ],
   "source": [
    "len(critics_train)"
   ],
   "metadata": {
    "collapsed": false,
    "pycharm": {
     "name": "#%%\n"
    }
   }
  },
  {
   "cell_type": "code",
   "execution_count": 36,
   "outputs": [
    {
     "data": {
      "text/plain": "                                          1    2    3   4   5    6   7   8  \\\nOne Flew Over the Cuckoo's Nest (1975)  5.0  5.0  NaN NaN NaN  NaN NaN NaN   \nJames and the Giant Peach (1996)        3.0  NaN  NaN NaN NaN  NaN NaN NaN   \nMy Fair Lady (1964)                     3.0  NaN  NaN NaN NaN  5.0 NaN NaN   \nErin Brockovich (2000)                  4.0  NaN  NaN NaN NaN  5.0 NaN NaN   \nBug's Life, A (1998)                    5.0  NaN  5.0 NaN NaN  NaN NaN NaN   \n\n                                          9  10  ...  6031  6032  6033  6034  \\\nOne Flew Over the Cuckoo's Nest (1975)  NaN NaN  ...   NaN   5.0   5.0   NaN   \nJames and the Giant Peach (1996)        NaN NaN  ...   NaN   NaN   NaN   NaN   \nMy Fair Lady (1964)                     NaN NaN  ...   NaN   NaN   NaN   NaN   \nErin Brockovich (2000)                  4.0 NaN  ...   NaN   NaN   NaN   NaN   \nBug's Life, A (1998)                    4.0 NaN  ...   NaN   NaN   NaN   NaN   \n\n                                        6035  6036  6037  6038  6039  6040  \nOne Flew Over the Cuckoo's Nest (1975)   NaN   5.0   4.0   NaN   NaN   NaN  \nJames and the Giant Peach (1996)         NaN   NaN   NaN   NaN   3.0   NaN  \nMy Fair Lady (1964)                      NaN   3.0   NaN   NaN   4.0   NaN  \nErin Brockovich (2000)                   NaN   4.0   NaN   NaN   NaN   NaN  \nBug's Life, A (1998)                     NaN   4.0   NaN   NaN   NaN   NaN  \n\n[5 rows x 6040 columns]",
      "text/html": "<div>\n<style scoped>\n    .dataframe tbody tr th:only-of-type {\n        vertical-align: middle;\n    }\n\n    .dataframe tbody tr th {\n        vertical-align: top;\n    }\n\n    .dataframe thead th {\n        text-align: right;\n    }\n</style>\n<table border=\"1\" class=\"dataframe\">\n  <thead>\n    <tr style=\"text-align: right;\">\n      <th></th>\n      <th>1</th>\n      <th>2</th>\n      <th>3</th>\n      <th>4</th>\n      <th>5</th>\n      <th>6</th>\n      <th>7</th>\n      <th>8</th>\n      <th>9</th>\n      <th>10</th>\n      <th>...</th>\n      <th>6031</th>\n      <th>6032</th>\n      <th>6033</th>\n      <th>6034</th>\n      <th>6035</th>\n      <th>6036</th>\n      <th>6037</th>\n      <th>6038</th>\n      <th>6039</th>\n      <th>6040</th>\n    </tr>\n  </thead>\n  <tbody>\n    <tr>\n      <th>One Flew Over the Cuckoo's Nest (1975)</th>\n      <td>5.0</td>\n      <td>5.0</td>\n      <td>NaN</td>\n      <td>NaN</td>\n      <td>NaN</td>\n      <td>NaN</td>\n      <td>NaN</td>\n      <td>NaN</td>\n      <td>NaN</td>\n      <td>NaN</td>\n      <td>...</td>\n      <td>NaN</td>\n      <td>5.0</td>\n      <td>5.0</td>\n      <td>NaN</td>\n      <td>NaN</td>\n      <td>5.0</td>\n      <td>4.0</td>\n      <td>NaN</td>\n      <td>NaN</td>\n      <td>NaN</td>\n    </tr>\n    <tr>\n      <th>James and the Giant Peach (1996)</th>\n      <td>3.0</td>\n      <td>NaN</td>\n      <td>NaN</td>\n      <td>NaN</td>\n      <td>NaN</td>\n      <td>NaN</td>\n      <td>NaN</td>\n      <td>NaN</td>\n      <td>NaN</td>\n      <td>NaN</td>\n      <td>...</td>\n      <td>NaN</td>\n      <td>NaN</td>\n      <td>NaN</td>\n      <td>NaN</td>\n      <td>NaN</td>\n      <td>NaN</td>\n      <td>NaN</td>\n      <td>NaN</td>\n      <td>3.0</td>\n      <td>NaN</td>\n    </tr>\n    <tr>\n      <th>My Fair Lady (1964)</th>\n      <td>3.0</td>\n      <td>NaN</td>\n      <td>NaN</td>\n      <td>NaN</td>\n      <td>NaN</td>\n      <td>5.0</td>\n      <td>NaN</td>\n      <td>NaN</td>\n      <td>NaN</td>\n      <td>NaN</td>\n      <td>...</td>\n      <td>NaN</td>\n      <td>NaN</td>\n      <td>NaN</td>\n      <td>NaN</td>\n      <td>NaN</td>\n      <td>3.0</td>\n      <td>NaN</td>\n      <td>NaN</td>\n      <td>4.0</td>\n      <td>NaN</td>\n    </tr>\n    <tr>\n      <th>Erin Brockovich (2000)</th>\n      <td>4.0</td>\n      <td>NaN</td>\n      <td>NaN</td>\n      <td>NaN</td>\n      <td>NaN</td>\n      <td>5.0</td>\n      <td>NaN</td>\n      <td>NaN</td>\n      <td>4.0</td>\n      <td>NaN</td>\n      <td>...</td>\n      <td>NaN</td>\n      <td>NaN</td>\n      <td>NaN</td>\n      <td>NaN</td>\n      <td>NaN</td>\n      <td>4.0</td>\n      <td>NaN</td>\n      <td>NaN</td>\n      <td>NaN</td>\n      <td>NaN</td>\n    </tr>\n    <tr>\n      <th>Bug's Life, A (1998)</th>\n      <td>5.0</td>\n      <td>NaN</td>\n      <td>5.0</td>\n      <td>NaN</td>\n      <td>NaN</td>\n      <td>NaN</td>\n      <td>NaN</td>\n      <td>NaN</td>\n      <td>4.0</td>\n      <td>NaN</td>\n      <td>...</td>\n      <td>NaN</td>\n      <td>NaN</td>\n      <td>NaN</td>\n      <td>NaN</td>\n      <td>NaN</td>\n      <td>4.0</td>\n      <td>NaN</td>\n      <td>NaN</td>\n      <td>NaN</td>\n      <td>NaN</td>\n    </tr>\n  </tbody>\n</table>\n<p>5 rows × 6040 columns</p>\n</div>"
     },
     "execution_count": 36,
     "metadata": {},
     "output_type": "execute_result"
    }
   ],
   "source": [
    "critics_train = {}\n",
    "for u in all_users:\n",
    "    if u not in users_test_list:\n",
    "        critics_train[u] = {}\n",
    "        for m in critics[u]:\n",
    "            critics_train[u][m] = critics[u][m]\n",
    "    else:\n",
    "        critics_train[u] = {}\n",
    "        m_id = 0\n",
    "        for m in critics[u]:\n",
    "            m_id += 1\n",
    "            if m_id % 10 == 0:\n",
    "                critics_train[u][m] = critics[u][m]\n",
    "\n",
    "pd.DataFrame.from_dict(critics_train).head()"
   ],
   "metadata": {
    "collapsed": false,
    "pycharm": {
     "name": "#%%\n"
    }
   }
  },
  {
   "cell_type": "markdown",
   "source": [
    "### Вариант 2:\n",
    "Тестовые пользователи – это случайно выбранные 20% сохраните их список для воспроизводимости. Для каждого тестового пользователя скройте каждый фильм с вероятностью 1/10, сохраните список скрытых фильмов."
   ],
   "metadata": {
    "collapsed": false,
    "pycharm": {
     "name": "#%% md\n"
    }
   }
  },
  {
   "cell_type": "code",
   "execution_count": 45,
   "outputs": [
    {
     "data": {
      "text/plain": "1175"
     },
     "execution_count": 45,
     "metadata": {},
     "output_type": "execute_result"
    }
   ],
   "source": [
    "seed(2)\n",
    "users_test_list_2 = [u for u in critics if random()<=0.2]\n",
    "len(users_test_list_2)"
   ],
   "metadata": {
    "collapsed": false,
    "pycharm": {
     "name": "#%%\n"
    }
   }
  },
  {
   "cell_type": "code",
   "execution_count": 48,
   "outputs": [
    {
     "data": {
      "text/plain": "                               3   4  12  21   22  30   32   36  46  66  ...  \\\nMission: Impossible (1996)   3.0 NaN NaN NaN  2.0 NaN  NaN  NaN NaN NaN  ...   \nRaising Arizona (1987)       4.0 NaN NaN NaN  5.0 NaN  NaN  NaN NaN NaN  ...   \nBeing John Malkovich (1999)  3.0 NaN NaN NaN  NaN NaN  NaN  NaN NaN NaN  ...   \nAmerican Beauty (1999)       4.0 NaN NaN NaN  NaN NaN  4.0  4.0 NaN NaN  ...   \nToy Story 2 (1999)           3.0 NaN NaN NaN  NaN NaN  NaN  NaN NaN NaN  ...   \n\n                             6000  6006  6008  6018  6021  6025  6028  6031  \\\nMission: Impossible (1996)    NaN   NaN   NaN   NaN   NaN   NaN   NaN   NaN   \nRaising Arizona (1987)        NaN   NaN   NaN   NaN   NaN   NaN   NaN   2.0   \nBeing John Malkovich (1999)   NaN   NaN   NaN   NaN   NaN   5.0   NaN   NaN   \nAmerican Beauty (1999)        NaN   NaN   NaN   NaN   NaN   NaN   NaN   NaN   \nToy Story 2 (1999)            NaN   NaN   NaN   NaN   NaN   NaN   NaN   NaN   \n\n                             6032  6037  \nMission: Impossible (1996)    NaN   NaN  \nRaising Arizona (1987)        NaN   NaN  \nBeing John Malkovich (1999)   NaN   4.0  \nAmerican Beauty (1999)        NaN   NaN  \nToy Story 2 (1999)            NaN   NaN  \n\n[5 rows x 1175 columns]",
      "text/html": "<div>\n<style scoped>\n    .dataframe tbody tr th:only-of-type {\n        vertical-align: middle;\n    }\n\n    .dataframe tbody tr th {\n        vertical-align: top;\n    }\n\n    .dataframe thead th {\n        text-align: right;\n    }\n</style>\n<table border=\"1\" class=\"dataframe\">\n  <thead>\n    <tr style=\"text-align: right;\">\n      <th></th>\n      <th>3</th>\n      <th>4</th>\n      <th>12</th>\n      <th>21</th>\n      <th>22</th>\n      <th>30</th>\n      <th>32</th>\n      <th>36</th>\n      <th>46</th>\n      <th>66</th>\n      <th>...</th>\n      <th>6000</th>\n      <th>6006</th>\n      <th>6008</th>\n      <th>6018</th>\n      <th>6021</th>\n      <th>6025</th>\n      <th>6028</th>\n      <th>6031</th>\n      <th>6032</th>\n      <th>6037</th>\n    </tr>\n  </thead>\n  <tbody>\n    <tr>\n      <th>Mission: Impossible (1996)</th>\n      <td>3.0</td>\n      <td>NaN</td>\n      <td>NaN</td>\n      <td>NaN</td>\n      <td>2.0</td>\n      <td>NaN</td>\n      <td>NaN</td>\n      <td>NaN</td>\n      <td>NaN</td>\n      <td>NaN</td>\n      <td>...</td>\n      <td>NaN</td>\n      <td>NaN</td>\n      <td>NaN</td>\n      <td>NaN</td>\n      <td>NaN</td>\n      <td>NaN</td>\n      <td>NaN</td>\n      <td>NaN</td>\n      <td>NaN</td>\n      <td>NaN</td>\n    </tr>\n    <tr>\n      <th>Raising Arizona (1987)</th>\n      <td>4.0</td>\n      <td>NaN</td>\n      <td>NaN</td>\n      <td>NaN</td>\n      <td>5.0</td>\n      <td>NaN</td>\n      <td>NaN</td>\n      <td>NaN</td>\n      <td>NaN</td>\n      <td>NaN</td>\n      <td>...</td>\n      <td>NaN</td>\n      <td>NaN</td>\n      <td>NaN</td>\n      <td>NaN</td>\n      <td>NaN</td>\n      <td>NaN</td>\n      <td>NaN</td>\n      <td>2.0</td>\n      <td>NaN</td>\n      <td>NaN</td>\n    </tr>\n    <tr>\n      <th>Being John Malkovich (1999)</th>\n      <td>3.0</td>\n      <td>NaN</td>\n      <td>NaN</td>\n      <td>NaN</td>\n      <td>NaN</td>\n      <td>NaN</td>\n      <td>NaN</td>\n      <td>NaN</td>\n      <td>NaN</td>\n      <td>NaN</td>\n      <td>...</td>\n      <td>NaN</td>\n      <td>NaN</td>\n      <td>NaN</td>\n      <td>NaN</td>\n      <td>NaN</td>\n      <td>5.0</td>\n      <td>NaN</td>\n      <td>NaN</td>\n      <td>NaN</td>\n      <td>4.0</td>\n    </tr>\n    <tr>\n      <th>American Beauty (1999)</th>\n      <td>4.0</td>\n      <td>NaN</td>\n      <td>NaN</td>\n      <td>NaN</td>\n      <td>NaN</td>\n      <td>NaN</td>\n      <td>4.0</td>\n      <td>4.0</td>\n      <td>NaN</td>\n      <td>NaN</td>\n      <td>...</td>\n      <td>NaN</td>\n      <td>NaN</td>\n      <td>NaN</td>\n      <td>NaN</td>\n      <td>NaN</td>\n      <td>NaN</td>\n      <td>NaN</td>\n      <td>NaN</td>\n      <td>NaN</td>\n      <td>NaN</td>\n    </tr>\n    <tr>\n      <th>Toy Story 2 (1999)</th>\n      <td>3.0</td>\n      <td>NaN</td>\n      <td>NaN</td>\n      <td>NaN</td>\n      <td>NaN</td>\n      <td>NaN</td>\n      <td>NaN</td>\n      <td>NaN</td>\n      <td>NaN</td>\n      <td>NaN</td>\n      <td>...</td>\n      <td>NaN</td>\n      <td>NaN</td>\n      <td>NaN</td>\n      <td>NaN</td>\n      <td>NaN</td>\n      <td>NaN</td>\n      <td>NaN</td>\n      <td>NaN</td>\n      <td>NaN</td>\n      <td>NaN</td>\n    </tr>\n  </tbody>\n</table>\n<p>5 rows × 1175 columns</p>\n</div>"
     },
     "execution_count": 48,
     "metadata": {},
     "output_type": "execute_result"
    }
   ],
   "source": [
    "seed(2)\n",
    "critics_test_2 = {}\n",
    "critics_train_2_ = {}\n",
    "for u in users_test_list_2:\n",
    "    critics_test_2[u] = {}\n",
    "    critics_train_2_[u] = {}\n",
    "    for m in critics[u]:\n",
    "        if random()<=0.2:\n",
    "            critics_test_2[u][m] = critics[u][m]\n",
    "        else:\n",
    "            critics_train_2_[u][m] = critics[u][m]\n",
    "pd.DataFrame.from_dict(critics_test_2).head()"
   ],
   "metadata": {
    "collapsed": false,
    "pycharm": {
     "name": "#%%\n"
    }
   }
  },
  {
   "cell_type": "code",
   "execution_count": 49,
   "outputs": [
    {
     "data": {
      "text/plain": "                            3   4  12  21   22  30  32  36  46  66  ...  6000  \\\nAnimal House (1978)       4.0 NaN NaN NaN  NaN NaN NaN NaN NaN NaN  ...   4.0   \nFull Monty, The (1997)    2.0 NaN NaN NaN  NaN NaN NaN NaN NaN NaN  ...   3.0   \n28 Days (2000)            3.0 NaN NaN NaN  NaN NaN NaN NaN NaN NaN  ...   NaN   \nHappy Gilmore (1996)      4.0 NaN NaN NaN  3.0 NaN NaN NaN NaN NaN  ...   NaN   \nGolden Child, The (1986)  4.0 NaN NaN NaN  NaN NaN NaN NaN NaN NaN  ...   NaN   \n\n                          6006  6008  6018  6021  6025  6028  6031  6032  6037  \nAnimal House (1978)        NaN   NaN   NaN   NaN   NaN   NaN   NaN   4.0   NaN  \nFull Monty, The (1997)     NaN   NaN   NaN   NaN   NaN   NaN   NaN   NaN   NaN  \n28 Days (2000)             NaN   NaN   NaN   NaN   NaN   NaN   NaN   NaN   NaN  \nHappy Gilmore (1996)       NaN   NaN   NaN   NaN   1.0   NaN   NaN   NaN   NaN  \nGolden Child, The (1986)   NaN   NaN   NaN   NaN   NaN   NaN   NaN   NaN   NaN  \n\n[5 rows x 1175 columns]",
      "text/html": "<div>\n<style scoped>\n    .dataframe tbody tr th:only-of-type {\n        vertical-align: middle;\n    }\n\n    .dataframe tbody tr th {\n        vertical-align: top;\n    }\n\n    .dataframe thead th {\n        text-align: right;\n    }\n</style>\n<table border=\"1\" class=\"dataframe\">\n  <thead>\n    <tr style=\"text-align: right;\">\n      <th></th>\n      <th>3</th>\n      <th>4</th>\n      <th>12</th>\n      <th>21</th>\n      <th>22</th>\n      <th>30</th>\n      <th>32</th>\n      <th>36</th>\n      <th>46</th>\n      <th>66</th>\n      <th>...</th>\n      <th>6000</th>\n      <th>6006</th>\n      <th>6008</th>\n      <th>6018</th>\n      <th>6021</th>\n      <th>6025</th>\n      <th>6028</th>\n      <th>6031</th>\n      <th>6032</th>\n      <th>6037</th>\n    </tr>\n  </thead>\n  <tbody>\n    <tr>\n      <th>Animal House (1978)</th>\n      <td>4.0</td>\n      <td>NaN</td>\n      <td>NaN</td>\n      <td>NaN</td>\n      <td>NaN</td>\n      <td>NaN</td>\n      <td>NaN</td>\n      <td>NaN</td>\n      <td>NaN</td>\n      <td>NaN</td>\n      <td>...</td>\n      <td>4.0</td>\n      <td>NaN</td>\n      <td>NaN</td>\n      <td>NaN</td>\n      <td>NaN</td>\n      <td>NaN</td>\n      <td>NaN</td>\n      <td>NaN</td>\n      <td>4.0</td>\n      <td>NaN</td>\n    </tr>\n    <tr>\n      <th>Full Monty, The (1997)</th>\n      <td>2.0</td>\n      <td>NaN</td>\n      <td>NaN</td>\n      <td>NaN</td>\n      <td>NaN</td>\n      <td>NaN</td>\n      <td>NaN</td>\n      <td>NaN</td>\n      <td>NaN</td>\n      <td>NaN</td>\n      <td>...</td>\n      <td>3.0</td>\n      <td>NaN</td>\n      <td>NaN</td>\n      <td>NaN</td>\n      <td>NaN</td>\n      <td>NaN</td>\n      <td>NaN</td>\n      <td>NaN</td>\n      <td>NaN</td>\n      <td>NaN</td>\n    </tr>\n    <tr>\n      <th>28 Days (2000)</th>\n      <td>3.0</td>\n      <td>NaN</td>\n      <td>NaN</td>\n      <td>NaN</td>\n      <td>NaN</td>\n      <td>NaN</td>\n      <td>NaN</td>\n      <td>NaN</td>\n      <td>NaN</td>\n      <td>NaN</td>\n      <td>...</td>\n      <td>NaN</td>\n      <td>NaN</td>\n      <td>NaN</td>\n      <td>NaN</td>\n      <td>NaN</td>\n      <td>NaN</td>\n      <td>NaN</td>\n      <td>NaN</td>\n      <td>NaN</td>\n      <td>NaN</td>\n    </tr>\n    <tr>\n      <th>Happy Gilmore (1996)</th>\n      <td>4.0</td>\n      <td>NaN</td>\n      <td>NaN</td>\n      <td>NaN</td>\n      <td>3.0</td>\n      <td>NaN</td>\n      <td>NaN</td>\n      <td>NaN</td>\n      <td>NaN</td>\n      <td>NaN</td>\n      <td>...</td>\n      <td>NaN</td>\n      <td>NaN</td>\n      <td>NaN</td>\n      <td>NaN</td>\n      <td>NaN</td>\n      <td>1.0</td>\n      <td>NaN</td>\n      <td>NaN</td>\n      <td>NaN</td>\n      <td>NaN</td>\n    </tr>\n    <tr>\n      <th>Golden Child, The (1986)</th>\n      <td>4.0</td>\n      <td>NaN</td>\n      <td>NaN</td>\n      <td>NaN</td>\n      <td>NaN</td>\n      <td>NaN</td>\n      <td>NaN</td>\n      <td>NaN</td>\n      <td>NaN</td>\n      <td>NaN</td>\n      <td>...</td>\n      <td>NaN</td>\n      <td>NaN</td>\n      <td>NaN</td>\n      <td>NaN</td>\n      <td>NaN</td>\n      <td>NaN</td>\n      <td>NaN</td>\n      <td>NaN</td>\n      <td>NaN</td>\n      <td>NaN</td>\n    </tr>\n  </tbody>\n</table>\n<p>5 rows × 1175 columns</p>\n</div>"
     },
     "execution_count": 49,
     "metadata": {},
     "output_type": "execute_result"
    }
   ],
   "source": [
    "pd.DataFrame.from_dict(critics_train_2_).head()"
   ],
   "metadata": {
    "collapsed": false,
    "pycharm": {
     "name": "#%%\n"
    }
   }
  },
  {
   "cell_type": "code",
   "execution_count": 76,
   "outputs": [
    {
     "data": {
      "text/plain": "                                          1    2    3   4    5    6   7   8  \\\nOne Flew Over the Cuckoo's Nest (1975)  5.0  5.0  NaN NaN  NaN  NaN NaN NaN   \nJames and the Giant Peach (1996)        3.0  NaN  NaN NaN  NaN  NaN NaN NaN   \nMy Fair Lady (1964)                     3.0  NaN  NaN NaN  NaN  5.0 NaN NaN   \nErin Brockovich (2000)                  4.0  NaN  NaN NaN  3.0  5.0 NaN NaN   \nBug's Life, A (1998)                    5.0  NaN  5.0 NaN  5.0  NaN NaN NaN   \n\n                                          9   10  ...  6031  6032  6033  6034  \\\nOne Flew Over the Cuckoo's Nest (1975)  NaN  NaN  ...   NaN   NaN   5.0   NaN   \nJames and the Giant Peach (1996)        NaN  NaN  ...   NaN   NaN   NaN   NaN   \nMy Fair Lady (1964)                     NaN  5.0  ...   NaN   NaN   NaN   NaN   \nErin Brockovich (2000)                  4.0  4.0  ...   NaN   NaN   NaN   NaN   \nBug's Life, A (1998)                    4.0  4.0  ...   NaN   NaN   NaN   NaN   \n\n                                        6035  6036  6037  6038  6039  6040  \nOne Flew Over the Cuckoo's Nest (1975)   5.0   5.0   NaN   NaN   NaN   4.0  \nJames and the Giant Peach (1996)         NaN   NaN   NaN   NaN   3.0   NaN  \nMy Fair Lady (1964)                      NaN   3.0   NaN   NaN   4.0   NaN  \nErin Brockovich (2000)                   NaN   4.0   NaN   NaN   NaN   NaN  \nBug's Life, A (1998)                     5.0   4.0   NaN   NaN   NaN   NaN  \n\n[5 rows x 6040 columns]",
      "text/html": "<div>\n<style scoped>\n    .dataframe tbody tr th:only-of-type {\n        vertical-align: middle;\n    }\n\n    .dataframe tbody tr th {\n        vertical-align: top;\n    }\n\n    .dataframe thead th {\n        text-align: right;\n    }\n</style>\n<table border=\"1\" class=\"dataframe\">\n  <thead>\n    <tr style=\"text-align: right;\">\n      <th></th>\n      <th>1</th>\n      <th>2</th>\n      <th>3</th>\n      <th>4</th>\n      <th>5</th>\n      <th>6</th>\n      <th>7</th>\n      <th>8</th>\n      <th>9</th>\n      <th>10</th>\n      <th>...</th>\n      <th>6031</th>\n      <th>6032</th>\n      <th>6033</th>\n      <th>6034</th>\n      <th>6035</th>\n      <th>6036</th>\n      <th>6037</th>\n      <th>6038</th>\n      <th>6039</th>\n      <th>6040</th>\n    </tr>\n  </thead>\n  <tbody>\n    <tr>\n      <th>One Flew Over the Cuckoo's Nest (1975)</th>\n      <td>5.0</td>\n      <td>5.0</td>\n      <td>NaN</td>\n      <td>NaN</td>\n      <td>NaN</td>\n      <td>NaN</td>\n      <td>NaN</td>\n      <td>NaN</td>\n      <td>NaN</td>\n      <td>NaN</td>\n      <td>...</td>\n      <td>NaN</td>\n      <td>NaN</td>\n      <td>5.0</td>\n      <td>NaN</td>\n      <td>5.0</td>\n      <td>5.0</td>\n      <td>NaN</td>\n      <td>NaN</td>\n      <td>NaN</td>\n      <td>4.0</td>\n    </tr>\n    <tr>\n      <th>James and the Giant Peach (1996)</th>\n      <td>3.0</td>\n      <td>NaN</td>\n      <td>NaN</td>\n      <td>NaN</td>\n      <td>NaN</td>\n      <td>NaN</td>\n      <td>NaN</td>\n      <td>NaN</td>\n      <td>NaN</td>\n      <td>NaN</td>\n      <td>...</td>\n      <td>NaN</td>\n      <td>NaN</td>\n      <td>NaN</td>\n      <td>NaN</td>\n      <td>NaN</td>\n      <td>NaN</td>\n      <td>NaN</td>\n      <td>NaN</td>\n      <td>3.0</td>\n      <td>NaN</td>\n    </tr>\n    <tr>\n      <th>My Fair Lady (1964)</th>\n      <td>3.0</td>\n      <td>NaN</td>\n      <td>NaN</td>\n      <td>NaN</td>\n      <td>NaN</td>\n      <td>5.0</td>\n      <td>NaN</td>\n      <td>NaN</td>\n      <td>NaN</td>\n      <td>5.0</td>\n      <td>...</td>\n      <td>NaN</td>\n      <td>NaN</td>\n      <td>NaN</td>\n      <td>NaN</td>\n      <td>NaN</td>\n      <td>3.0</td>\n      <td>NaN</td>\n      <td>NaN</td>\n      <td>4.0</td>\n      <td>NaN</td>\n    </tr>\n    <tr>\n      <th>Erin Brockovich (2000)</th>\n      <td>4.0</td>\n      <td>NaN</td>\n      <td>NaN</td>\n      <td>NaN</td>\n      <td>3.0</td>\n      <td>5.0</td>\n      <td>NaN</td>\n      <td>NaN</td>\n      <td>4.0</td>\n      <td>4.0</td>\n      <td>...</td>\n      <td>NaN</td>\n      <td>NaN</td>\n      <td>NaN</td>\n      <td>NaN</td>\n      <td>NaN</td>\n      <td>4.0</td>\n      <td>NaN</td>\n      <td>NaN</td>\n      <td>NaN</td>\n      <td>NaN</td>\n    </tr>\n    <tr>\n      <th>Bug's Life, A (1998)</th>\n      <td>5.0</td>\n      <td>NaN</td>\n      <td>5.0</td>\n      <td>NaN</td>\n      <td>5.0</td>\n      <td>NaN</td>\n      <td>NaN</td>\n      <td>NaN</td>\n      <td>4.0</td>\n      <td>4.0</td>\n      <td>...</td>\n      <td>NaN</td>\n      <td>NaN</td>\n      <td>NaN</td>\n      <td>NaN</td>\n      <td>5.0</td>\n      <td>4.0</td>\n      <td>NaN</td>\n      <td>NaN</td>\n      <td>NaN</td>\n      <td>NaN</td>\n    </tr>\n  </tbody>\n</table>\n<p>5 rows × 6040 columns</p>\n</div>"
     },
     "execution_count": 76,
     "metadata": {},
     "output_type": "execute_result"
    }
   ],
   "source": [
    "critics_train_2 = {}\n",
    "for u in all_users:\n",
    "    if u not in users_test_list_2:\n",
    "        critics_train_2[u] = {}\n",
    "        for m in critics[u]:\n",
    "            critics_train_2[u][m] = critics[u][m]\n",
    "    else:\n",
    "        critics_train_2[u] = {}\n",
    "        for m in critics[u]:\n",
    "            if m not in [m for m in critics_train_2_[u]]:\n",
    "                critics_train_2[u][m] = critics[u][m]\n",
    "pd.DataFrame.from_dict(critics_train_2).head()"
   ],
   "metadata": {
    "collapsed": false,
    "pycharm": {
     "name": "#%%\n"
    }
   }
  },
  {
   "cell_type": "markdown",
   "source": [
    "Выберите любые две меры похожести и реализуйте на их основе две модели рекомендаций на основе пользователей. Для этих моделей посчитайте MAE и RMSE на всех скрытых оценках варианта 1. Какая модель оказалась лучше?"
   ],
   "metadata": {
    "collapsed": false,
    "pycharm": {
     "name": "#%% md\n"
    }
   }
  },
  {
   "cell_type": "code",
   "execution_count": null,
   "outputs": [],
   "source": [],
   "metadata": {
    "collapsed": false,
    "pycharm": {
     "name": "#%%\n"
    }
   }
  }
 ],
 "metadata": {
  "kernelspec": {
   "display_name": "Python 3",
   "language": "python",
   "name": "python3"
  },
  "language_info": {
   "codemirror_mode": {
    "name": "ipython",
    "version": 3
   },
   "file_extension": ".py",
   "mimetype": "text/x-python",
   "name": "python",
   "nbconvert_exporter": "python",
   "pygments_lexer": "ipython3",
   "version": "3.7.4"
  }
 },
 "nbformat": 4,
 "nbformat_minor": 2
}