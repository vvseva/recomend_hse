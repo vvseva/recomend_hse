{
 "cells": [
  {
   "cell_type": "markdown",
   "metadata": {},
   "source": [
    "# Реализация базовых метрик\n",
    "\n",
    "Ваша задача реализовать основные метрики которые мы сегодня обсудили и сравнить их на игрушечном примере."
   ]
  },
  {
   "cell_type": "code",
   "execution_count": 4,
   "metadata": {},
   "outputs": [
    {
     "data": {
      "text/plain": "{'User1': [5, 3, 5, 2, 1, 5, 1, 5, 4, 4],\n 'User2': [3, 3, 3, 2, 2, 3, 3, 5, 4, 5],\n 'User3': [1, 5, 5, 1, 1, 3, 3, 3, 4, 5]}"
     },
     "execution_count": 4,
     "metadata": {},
     "output_type": "execute_result"
    }
   ],
   "source": [
    "UserRatings = {\\\n",
    "               \"User1\": [5,3,5,2,1,5,1,5,4,4],\\\n",
    "               \"User2\": [3,3,3,2,2,3,3,5,4,5],\\\n",
    "               \"User3\": [1,5,5,1,1,3,3,3,4,5]\\\n",
    "              }\n",
    "UserRatings"
   ]
  },
  {
   "cell_type": "code",
   "execution_count": 33,
   "metadata": {},
   "outputs": [],
   "source": [
    "Model1Ratings = {\\\n",
    "               \"User1\": [1,3,4,2,2,4,3,4,4,4],\\\n",
    "               \"User2\": [1,3,4,2,1,3,2,5,5,5],\\\n",
    "               \"User3\": [1,3,5,1,3,4,4,5,4,3]\\\n",
    "              }"
   ]
  },
  {
   "cell_type": "code",
   "execution_count": 3,
   "metadata": {},
   "outputs": [],
   "source": [
    "Model2Ratings = {\\\n",
    "               \"User1\": [5,4,5,4,2,3,2,5,5,5],\\\n",
    "               \"User2\": [4,4,3,3,1,2,2,3,3,5],\\\n",
    "               \"User3\": [3,5,5,2,4,2,2,4,4,4]\\\n",
    "              }"
   ]
  },
  {
   "cell_type": "markdown",
   "metadata": {},
   "source": [
    "Выше вам даны оценки которые пользователи поставили фильмам и оценки которые предложили две модели. \n",
    "\n",
    "*Задача 1:* Вычислите MAE, MSE и RMSE для этих моделей. Какая модель лучше?\n",
    "\n",
    "*Задача 2:* Реализуйте функцию Recomend(MarkList, N) которая по списку оценок выводит лист из N id фильмов, соответствующих лучшим оценкам. При равенстве оценок лучше считается вильм с меньшим id. id фильма соответствует индекcу в MarkList. \n",
    "\n",
    "*Задача 3:* Для каждого пользователя и для каждой модели постройте рекомендацию 5 лучших фильмов, используя функцию  Recomend(MarkList, N). Считая настоящие(UserRatings) оценки положительными в случае 5 или 4 и отрицательными во всех других случаях, посчитайте precision, recall и roc_auc.\n",
    "\n",
    "*Задача 4:* Посчитайте NDCG для построенной выше рекомендации с бинарными оценками.\n",
    "\n",
    "*Задача 5:* Посчитайте NDCG для построенной выше рекомендации, считая что $r_i=2$, при оценке 5, $r_i=1$, при оценке 4, $r_i=0$, в остальных случаях.  \n",
    "\n",
    "*Задача 6:* Сравните модели по всем метрикам.\n",
    "\n",
    "# Задача 1: Вычислите MAE, MSE и RMSE для этих моделей. Какая модель лучше?"
   ]
  },
  {
   "cell_type": "code",
   "execution_count": 16,
   "outputs": [],
   "source": [
    "import pandas as pd\n",
    "tr_df = pd.DataFrame.from_dict(UserRatings)\n",
    "pr_df = pd.DataFrame.from_dict(Mode1Ratings)"
   ],
   "metadata": {
    "collapsed": false,
    "pycharm": {
     "name": "#%%\n"
    }
   }
  },
  {
   "cell_type": "code",
   "execution_count": 25,
   "outputs": [
    {
     "data": {
      "text/plain": "0.13333333333333333"
     },
     "execution_count": 25,
     "metadata": {},
     "output_type": "execute_result"
    }
   ],
   "source": [
    "error_df = pd.wide_to_long((tr_df - pr_df).reset_index(),\n",
    "                stubnames='User', i = \"index\", j = \"id\").reset_index()\n",
    "error_df.User.mean()"
   ],
   "metadata": {
    "collapsed": false,
    "pycharm": {
     "name": "#%%\n"
    }
   }
  },
  {
   "cell_type": "markdown",
   "source": [
    "## MAE"
   ],
   "metadata": {
    "collapsed": false,
    "pycharm": {
     "name": "#%% md\n"
    }
   }
  },
  {
   "cell_type": "code",
   "execution_count": 29,
   "metadata": {},
   "outputs": [],
   "source": [
    "def my_mae(true, predicted):\n",
    "    '''\n",
    "    :param true: real rating, dictionary\n",
    "    :param predicted: model result, dictionaru\n",
    "    :return: int, mean error\n",
    "    '''\n",
    "    tr_df = pd.DataFrame.from_dict(true)\n",
    "    pr_df = pd.DataFrame.from_dict(predicted)\n",
    "    error_df = pd.wide_to_long((tr_df - pr_df).reset_index(),\n",
    "                               stubnames='User', i = \"index\", j = \"id\").reset_index()\n",
    "    return(error_df.User.mean())"
   ]
  },
  {
   "cell_type": "code",
   "execution_count": 34,
   "metadata": {},
   "outputs": [
    {
     "name": "stdout",
     "output_type": "stream",
     "text": [
      "Model 1, MAE:\n",
      "0.13333333333333333\n"
     ]
    }
   ],
   "source": [
    "print(\"Model 1, MAE:\")\n",
    "print(my_mae(UserRatings, Model1Ratings))"
   ]
  },
  {
   "cell_type": "code",
   "execution_count": 35,
   "metadata": {},
   "outputs": [
    {
     "name": "stdout",
     "output_type": "stream",
     "text": [
      "Model 2, MAE:\n",
      "-0.2\n"
     ]
    }
   ],
   "source": [
    "print(\"Model 2, MAE:\")\n",
    "print(my_mae(UserRatings, Model2Ratings))"
   ]
  },
  {
   "cell_type": "markdown",
   "source": [
    "## MSE"
   ],
   "metadata": {
    "collapsed": false,
    "pycharm": {
     "name": "#%% md\n"
    }
   }
  },
  {
   "cell_type": "code",
   "execution_count": 38,
   "outputs": [],
   "source": [
    "def my_mse(true, predicted):\n",
    "    '''\n",
    "    :param true: real rating, dictionary\n",
    "    :param predicted: model result, dictionaru\n",
    "    :return: int, mean square error\n",
    "    '''\n",
    "    tr_df = pd.DataFrame.from_dict(true)\n",
    "    pr_df = pd.DataFrame.from_dict(predicted)\n",
    "    error_df = pd.wide_to_long((tr_df - pr_df).reset_index(),\n",
    "                               stubnames='User', i = \"index\", j = \"id\").reset_index()\n",
    "    print(\"MSE\")\n",
    "    return(error_df.User.pow(2).mean())"
   ],
   "metadata": {
    "collapsed": false,
    "pycharm": {
     "name": "#%%\n"
    }
   }
  },
  {
   "cell_type": "code",
   "execution_count": null,
   "outputs": [],
   "source": [
    "print(\"Model 1\")\n",
    "print(my_mse(UserRatings, Model1Ratings))"
   ],
   "metadata": {
    "collapsed": false,
    "pycharm": {
     "name": "#%%\n"
    }
   }
  },
  {
   "cell_type": "code",
   "execution_count": null,
   "outputs": [],
   "source": [
    "print(\"Model 2\")\n",
    "print(my_mse(UserRatings, Model2Ratings))"
   ],
   "metadata": {
    "collapsed": false,
    "pycharm": {
     "name": "#%%\n"
    }
   }
  },
  {
   "cell_type": "markdown",
   "source": [
    "## RMSE"
   ],
   "metadata": {
    "collapsed": false,
    "pycharm": {
     "name": "#%% md\n"
    }
   }
  },
  {
   "cell_type": "code",
   "execution_count": 43,
   "outputs": [],
   "source": [
    "def my_rmse(true, predicted):\n",
    "    '''\n",
    "    :param true: real rating, dictionary\n",
    "    :param predicted: model result, dictionaru\n",
    "    :return: int, mean square error\n",
    "    '''\n",
    "    tr_df = pd.DataFrame.from_dict(true)\n",
    "    pr_df = pd.DataFrame.from_dict(predicted)\n",
    "    error_df = pd.wide_to_long((tr_df - pr_df).reset_index(),\n",
    "                               stubnames='User', i = \"index\", j = \"id\").reset_index()\n",
    "    print(\"RMSE\")\n",
    "    return(error_df.User.pow(2).pow(1./2).mean())"
   ],
   "metadata": {
    "collapsed": false,
    "pycharm": {
     "name": "#%%\n"
    }
   }
  },
  {
   "cell_type": "code",
   "execution_count": 44,
   "outputs": [
    {
     "name": "stdout",
     "output_type": "stream",
     "text": [
      "Model 1\n",
      "RMSE\n",
      "0.8666666666666667\n"
     ]
    }
   ],
   "source": [
    "print(\"Model 1\")\n",
    "print(my_rmse(UserRatings, Model1Ratings))"
   ],
   "metadata": {
    "collapsed": false,
    "pycharm": {
     "name": "#%%\n"
    }
   }
  },
  {
   "cell_type": "code",
   "execution_count": 45,
   "outputs": [
    {
     "name": "stdout",
     "output_type": "stream",
     "text": [
      "Model 2\n",
      "RMSE\n",
      "0.9333333333333333\n"
     ]
    }
   ],
   "source": [
    "print(\"Model 2\")\n",
    "print(my_rmse(UserRatings, Model2Ratings))"
   ],
   "metadata": {
    "collapsed": false,
    "pycharm": {
     "name": "#%%\n"
    }
   }
  },
  {
   "cell_type": "markdown",
   "source": [
    "# *Задача 2:* Реализуйте функцию Recomend(MarkList, N) которая по списку оценок выводит лист из N id фильмов, соответствующих лучшим оценкам. При равенстве оценок лучше считается вильм с меньшим id. id фильма соответствует индекcу в MarkList."
   ],
   "metadata": {
    "collapsed": false,
    "pycharm": {
     "name": "#%% md\n"
    }
   }
  },
  {
   "cell_type": "code",
   "execution_count": 47,
   "outputs": [],
   "source": [
    "import numpy as np"
   ],
   "metadata": {
    "collapsed": false,
    "pycharm": {
     "name": "#%%\n"
    }
   }
  },
  {
   "cell_type": "code",
   "execution_count": 80,
   "outputs": [
    {
     "data": {
      "text/plain": "0    0\n1    2\n2    5\n3    7\n4    8\n5    9\n6    1\n7    3\n8    4\n9    6\nName: index, dtype: int64"
     },
     "execution_count": 80,
     "metadata": {},
     "output_type": "execute_result"
    }
   ],
   "source": [
    "# arr = np.array(UserRatings[\"User1\"])\n",
    "df = pd.DataFrame(UserRatings[\"User1\"], columns =['rating'])\n",
    "df.sort_values(by = [\"rating\"], ascending=False).reset_index()['index'].head(100)"
   ],
   "metadata": {
    "collapsed": false,
    "pycharm": {
     "name": "#%%\n"
    }
   }
  },
  {
   "cell_type": "code",
   "execution_count": 86,
   "metadata": {},
   "outputs": [],
   "source": [
    "def Recomend(MarkList, N):\n",
    "    df = pd.DataFrame(MarkList, columns =['rating'])\n",
    "    return(df.sort_values(by = [\"rating\"], ascending=False)\\\n",
    "        .reset_index()['index']\\\n",
    "        .head(100))"
   ]
  },
  {
   "cell_type": "markdown",
   "source": [],
   "metadata": {
    "collapsed": false,
    "pycharm": {
     "name": "#%% md\n"
    }
   }
  },
  {
   "cell_type": "code",
   "execution_count": 88,
   "outputs": [
    {
     "data": {
      "text/plain": "0    0\n1    2\n2    5\n3    7\n4    8\n5    9\n6    1\n7    3\n8    4\n9    6\nName: index, dtype: int64"
     },
     "execution_count": 88,
     "metadata": {},
     "output_type": "execute_result"
    }
   ],
   "source": [
    "Recomend(UserRatings[\"User1\"], 100)"
   ],
   "metadata": {
    "collapsed": false,
    "pycharm": {
     "name": "#%%\n"
    }
   }
  },
  {
   "cell_type": "markdown",
   "source": [
    "# *Задача 3:* Для каждого пользователя и для каждой модели постройте рекомендацию 5 лучших фильмов, используя функцию  Recomend(MarkList, N). Считая настоящие(UserRatings) оценки положительными в случае 5 или 4 и отрицательными во всех других случаях, посчитайте precision, recall и roc_auc."
   ],
   "metadata": {
    "collapsed": false,
    "pycharm": {
     "name": "#%% md\n"
    }
   }
  },
  {
   "cell_type": "code",
   "execution_count": null,
   "metadata": {},
   "outputs": [],
   "source": []
  },
  {
   "cell_type": "code",
   "execution_count": null,
   "metadata": {},
   "outputs": [],
   "source": []
  },
  {
   "cell_type": "code",
   "execution_count": null,
   "metadata": {},
   "outputs": [],
   "source": []
  }
 ],
 "metadata": {
  "kernelspec": {
   "display_name": "Python 3",
   "language": "python",
   "name": "python3"
  },
  "language_info": {
   "codemirror_mode": {
    "name": "ipython",
    "version": 3
   },
   "file_extension": ".py",
   "mimetype": "text/x-python",
   "name": "python",
   "nbconvert_exporter": "python",
   "pygments_lexer": "ipython3",
   "version": "3.7.4"
  }
 },
 "nbformat": 4,
 "nbformat_minor": 2
}